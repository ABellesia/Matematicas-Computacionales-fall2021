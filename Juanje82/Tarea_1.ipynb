{
 "cells": [
  {
   "cell_type": "markdown",
   "metadata": {},
   "source": [
    "# Tarea 1"
   ]
  },
  {
   "cell_type": "code",
   "execution_count": 205,
   "metadata": {},
   "outputs": [],
   "source": [
    "from sympy import *\n",
    "from sympy import Indexed\n",
    "init_printing(use_unicode=True)\n",
    "import numpy as np\n",
    "import matplotlib.pyplot as plt\n",
    "import math"
   ]
  },
  {
   "cell_type": "markdown",
   "metadata": {},
   "source": [
    "## Problema 1"
   ]
  },
  {
   "cell_type": "markdown",
   "metadata": {},
   "source": [
    "**(a)** Usando **SimPy** demostrar que \n",
    "\n",
    "$$\n",
    "\\frac{\\partial}{\\partial \\beta_j} \\textbf{J}(\\beta) = \\frac{1}{m}\\sum_{i=1}^{m}\\left(\\hat{y}(x^{(i)}) - y(x^{(i)})\\right) \\cdot x^{(i)}_j\n",
    "$$\n",
    "Para el caso de $\\beta_0, \\beta_1$ en $J(\\beta_0,\\beta_1)$."
   ]
  },
  {
   "cell_type": "markdown",
   "metadata": {},
   "source": [
    "Dada la función de costos J\n",
    "$$\\textbf{J}(\\beta_0, \\beta_1) = \\frac{1}{2n}\\sum_{(x^{(i)}, y^{(i)}) \\in X \\times Y} (y^{(i)} - \\hat{y}^{(i)}(x^{(i)}))^2 = \\frac{1}{2n}\\sum_{(x^{(i)}, y^{(i)}) \\in X \\times Y} (y^{(i)} - \\beta_0 - \\beta_1 x^{(i)})^2$$"
   ]
  },
  {
   "cell_type": "code",
   "execution_count": 227,
   "metadata": {},
   "outputs": [],
   "source": [
    "#Asignamos los nombres de la función y las variables, y les damos forma rebonita\n",
    "B0=sympy.Symbol(\"B0\")\n",
    "B1=sympy.Symbol(\"B1\")\n",
    "x=sympy.Symbol(\"x\")\n",
    "y=sympy.Symbol(\"y\")\n",
    "m=sympy.Symbol(\"m\")\n",
    "i=sympy.Symbol(\"i\")"
   ]
  },
  {
   "cell_type": "code",
   "execution_count": 228,
   "metadata": {},
   "outputs": [
    {
     "data": {
      "image/png": "[encoded data removed]",
      "text/latex": [
       "$\\displaystyle \\frac{\\sum_{i=1}^{m} \\left(- B_{0} - B_{1} {x}_{i} + {y}_{i}\\right)^{2}}{2 m}$"
      ],
      "text/plain": [
       "  m                          \n",
       " ___                         \n",
       " ╲                           \n",
       "  ╲                         2\n",
       "  ╱   (-B₀ - B₁⋅x[i] + y[i]) \n",
       " ╱                           \n",
       " ‾‾‾                         \n",
       "i = 1                        \n",
       "─────────────────────────────\n",
       "             2⋅m             "
      ]
     },
     "execution_count": 228,
     "metadata": {},
     "output_type": "execute_result"
    }
   ],
   "source": [
    "#Definimos la función de costos J\n",
    "J=(1/(2*m))*sympy.Sum((Indexed(y,i)-B0-B1*Indexed(x,i))**2,(i,1,m))\n",
    "J"
   ]
  },
  {
   "cell_type": "code",
   "execution_count": 229,
   "metadata": {},
   "outputs": [
    {
     "data": {
      "image/png": "[encoded data removed]",
      "text/latex": [
       "$\\displaystyle \\frac{\\sum_{i=1}^{m} \\left(B_{0} + B_{1} {x}_{i} - {y}_{i}\\right)}{m}$"
      ],
      "text/plain": [
       "  m                        \n",
       " ___                       \n",
       " ╲                         \n",
       "  ╲                        \n",
       "  ╱   (B₀ + B₁⋅x[i] - y[i])\n",
       " ╱                         \n",
       " ‾‾‾                       \n",
       "i = 1                      \n",
       "───────────────────────────\n",
       "             m             "
      ]
     },
     "execution_count": 229,
     "metadata": {},
     "output_type": "execute_result"
    }
   ],
   "source": [
    "#Derivamos y simplificamos el resultado respecto a B0\n",
    "DJ0=simplify(sympy.diff(J,B0))\n",
    "DJ0"
   ]
  },
  {
   "cell_type": "code",
   "execution_count": 230,
   "metadata": {},
   "outputs": [
    {
     "data": {
      "image/png": "[encoded data removed]",
      "text/latex": [
       "$\\displaystyle \\frac{\\sum_{i=1}^{m} \\left(B_{0} + B_{1} {x}_{i} - {y}_{i}\\right) {x}_{i}}{m}$"
      ],
      "text/plain": [
       "  m                             \n",
       " ___                            \n",
       " ╲                              \n",
       "  ╲                             \n",
       "  ╱   (B₀ + B₁⋅x[i] - y[i])⋅x[i]\n",
       " ╱                              \n",
       " ‾‾‾                            \n",
       "i = 1                           \n",
       "────────────────────────────────\n",
       "               m                "
      ]
     },
     "execution_count": 230,
     "metadata": {},
     "output_type": "execute_result"
    }
   ],
   "source": [
    "#Derivamos y simplificamos el resultado respecto a B1\n",
    "DJ1=simplify(sympy.diff(J,B1))\n",
    "DJ1"
   ]
  },
  {
   "cell_type": "code",
   "execution_count": 248,
   "metadata": {},
   "outputs": [
    {
     "name": "stdout",
     "output_type": "stream",
     "text": [
      "QED\n"
     ]
    }
   ],
   "source": [
    "print(\"QED\")"
   ]
  },
  {
   "cell_type": "markdown",
   "metadata": {},
   "source": [
    "## Problema 2"
   ]
  },
  {
   "cell_type": "markdown",
   "metadata": {},
   "source": [
    "Usando el ejemplo de la clase ( i.e. Los archivos `edad.dat` y `altura.dat` contienen las mediciones de las estaturas (en metros) de varios niños entre las edad de 2 y 8 años. Cada _tupla_ de altura y edad, constituyen un ejemplo de entrenamiento $(x^{(i)}, y^{(i)})$ de nuestros datos. Hay $m = 50$ datos para entrenar que usaremos para realizar un modelo de regresión lineal. ) :"
   ]
  },
  {
   "cell_type": "markdown",
   "metadata": {},
   "source": [
    "**(a)** Grafique $\\textbf{J}(\\beta)$ del ejercicio en $3D$ y en una gráfica de contorno. \n",
    "\n",
    "**(b)** Indique con un punto el valor de $\\textbf{J}(\\beta)$ en la última iteración.\n",
    "\n",
    "**(c)** Modifique el _widget_ para mostrar conforme pasan las iteraciones como el valor de $\\textbf{J}(\\beta)$ se acerca al mínimo en la gráfica de contorno.\n",
    "\n",
    "**(d)** Agrega al _widget_ un control para modificar $\\alpha$ (habrá que agregar el entrenamiento del modelo a la función que estás realizando para este _widget_)"
   ]
  },
  {
   "cell_type": "code",
   "execution_count": 106,
   "metadata": {},
   "outputs": [],
   "source": [
    "edad = np.loadtxt('data/edad.dat')\n",
    "altura = np.loadtxt('data/altura.dat')"
   ]
  },
  {
   "cell_type": "markdown",
   "metadata": {},
   "source": [
    "## Problema 3"
   ]
  },
  {
   "cell_type": "markdown",
   "metadata": {},
   "source": [
    "**(a)**  Usando los datos de `chirps.txt`"
   ]
  },
  {
   "cell_type": "code",
   "execution_count": 122,
   "metadata": {},
   "outputs": [
    {
     "name": "stdout",
     "output_type": "stream",
     "text": [
      "#Chirps/Second \tTemperature (º F)\r\n",
      "20.0 \t88.6\r\n",
      "16.0 \t71.6\r\n",
      "19.8 \t93.3\r\n",
      "18.4 \t84.3\r\n",
      "17.1 \t80.6\r\n",
      "15.5 \t75.2\r\n",
      "14.7 \t69.7\r\n",
      "15.7 \t71.6\r\n",
      "15.4 \t69.4\r\n",
      "16.3 \t83.3\r\n",
      "15.0 \t79.6\r\n",
      "17.2 \t82.6\r\n",
      "16.0 \t80.6\r\n",
      "17.0 \t83.5\r\n",
      "14.4 \t76.3\r\n"
     ]
    }
   ],
   "source": [
    "%cat data/chirps.txt"
   ]
  },
  {
   "cell_type": "markdown",
   "metadata": {},
   "source": [
    "Entrenar una regresión lineal. Grafique los datos y el mejor modelo. Explique como llegó a los valores de $\\alpha$. ¿Coinciden con los mostrados en la página web?"
   ]
  },
  {
   "cell_type": "markdown",
   "metadata": {},
   "source": [
    "\n",
    "**NOTA**: Datos obtenidos de [aquí](http://mathbits.com/MathBits/TISection/Statistics2/linearREAL.htm)\n"
   ]
  },
  {
   "cell_type": "code",
   "execution_count": 231,
   "metadata": {},
   "outputs": [],
   "source": [
    "#Definimos la clase Regresión lineal con ayuda del profe :)\n",
    "class RegresionLineal:\n",
    "    def __init__(self, alpha=0.03, max_iters=10000, tols=0.00001):\n",
    "        \"\"\"\n",
    "        Parámetros.\n",
    "        ---------------\n",
    "        alpha = Learning rate\n",
    "        max_iters = Número máximo de iteraciones\n",
    "        tols = definición de convergencia\n",
    "        \"\"\"\n",
    "        self.alpha = alpha\n",
    "        self.max_iters = max_iters\n",
    "        self.tols = tols\n",
    "        self.breaking_iteration = None\n",
    "        self.historia = {'costo':[], 'beta':[]}  # Con fines de graficación\n",
    "        \n",
    "    def gradientDescent(self, x, y):\n",
    "        \"\"\"\n",
    "        Parámetros:\n",
    "        ---------------\n",
    "        x = vector de entrenamiento de features\n",
    "        y = vector de entrenamiento de variable a predecir (target)\n",
    "        \"\"\"    \n",
    "        \n",
    "        # ajustamos el vector de features\n",
    "        unos = np.ones((x.shape[0], 1))\n",
    "        Xt = x.reshape(x.shape[0], 1)\n",
    "        Xt = np.concatenate((unos, Xt), axis=1)\n",
    "        \n",
    "        i = 0\n",
    "        prep_J = 0\n",
    "        m, n = Xt.shape\n",
    "        self.beta = np.zeros(n) \n",
    "        \n",
    "        while i < self.max_iters:     \n",
    "            # Actualizamos beta\n",
    "            self.beta = self.beta - self.alpha * self.gradiente(Xt, y)\n",
    "            \n",
    "            J = self.costo(Xt, y)\n",
    "            \n",
    "            if abs(J - prep_J) <= self.tols:\n",
    "                print('La función convergió con beta: %s en la iteración %i' % ( str(self.beta), i ))\n",
    "                self.breaking_iteration = i\n",
    "                break\n",
    "            else:\n",
    "                prep_J = J\n",
    "            \n",
    "            self.historia['costo'].append(J)\n",
    "            self.historia['beta'].append(self.beta)                \n",
    "            i += 1\n",
    "    \n",
    "    def hipotesis(self, x):\n",
    "        return np.dot(x, self.beta)\n",
    "    \n",
    "    def costo(self, x, y):\n",
    "        m = x.shape[0]\n",
    "        error = self.hipotesis(x) - y\n",
    "        return np.dot(error.T, error) / (2 * m) \n",
    "    \n",
    "    def gradiente(self, x, y):\n",
    "        m = x.shape[0]\n",
    "        error = self.hipotesis(x) - y        \n",
    "        return np.dot(x.T, error) / m"
   ]
  },
  {
   "cell_type": "code",
   "execution_count": 232,
   "metadata": {},
   "outputs": [],
   "source": [
    "#Cargamos los datos desde el archivo chirps.txt\n",
    "CT=np.loadtxt('data/chirps.txt')\n",
    "#Separamos los datos en dos arrays, uno de chirps y otro de temperatura\n",
    "chirps=CT.transpose()[0]\n",
    "temp=CT.transpose()[1]"
   ]
  },
  {
   "cell_type": "code",
   "execution_count": 233,
   "metadata": {},
   "outputs": [
    {
     "name": "stdout",
     "output_type": "stream",
     "text": [
      "La función convergió con beta: [22.26350136  3.44531603] en la iteración 123659\n"
     ]
    }
   ],
   "source": [
    "#Aplicamos la regresión lineal a los datos\n",
    "r = RegresionLineal(alpha=0.003, max_iters=1000000, tols=0.0000001)\n",
    "r.gradientDescent(chirps, temp)"
   ]
  },
  {
   "cell_type": "markdown",
   "metadata": {},
   "source": [
    "Esto significa que tenemos una recta con pendiente 3.44 y ordenada al origen de 22.26 aproximadamente"
   ]
  },
  {
   "cell_type": "code",
   "execution_count": 234,
   "metadata": {},
   "outputs": [],
   "source": [
    "#Definimos la función graficadora\n",
    "def plotModelo(x,y,rl,iteracion):\n",
    "    modelo = lambda x,b,m: b + m*x # función para graficar el modelo\n",
    "    \n",
    "    _beta = rl.historia['beta'][iteracion]\n",
    "\n",
    "\n",
    "    plt.scatter(x,y, label=\"datos\")\n",
    "    plt.plot(x, modelo(x, _beta[0], _beta[1]), label=\"int: %1.2f, pen: %1.2f\" % (_beta[0], _beta[1]))\n",
    "    plt.xlabel('Chirps/sec')\n",
    "    plt.ylabel('Temperatura')\n",
    "    plt.legend(loc=\"best\")"
   ]
  },
  {
   "cell_type": "code",
   "execution_count": 235,
   "metadata": {},
   "outputs": [
    {
     "data": {
      "image/png": "[encoded data removed]",
      "text/plain": [
       "<Figure size 432x288 with 1 Axes>"
      ]
     },
     "metadata": {
      "needs_background": "light"
     },
     "output_type": "display_data"
    }
   ],
   "source": [
    "plotModelo(chirps,temp,r,123658)"
   ]
  },
  {
   "cell_type": "markdown",
   "metadata": {},
   "source": [
    "## Problema 4"
   ]
  },
  {
   "cell_type": "markdown",
   "metadata": {},
   "source": [
    "**(a)** Usando los datos del [cuarteto de Anscombe](http://en.wikipedia.org/wiki/Anscombe%27s_quartet) Calcule la regresión lineal ¿Qué sucede?"
   ]
  },
  {
   "cell_type": "code",
   "execution_count": 236,
   "metadata": {},
   "outputs": [],
   "source": [
    "#Definimos los conjuntos a mano porque somos bien trabajadores\n",
    "X=np.array([10.0,8.0,13.0,9.0,11.0,14.0,6.0,4.0,12.0,7.0,5.0])\n",
    "X4=np.array([8.0,8.0,8.0,8.0,8.0,8.0,8.0,19.0,8.0,8.0,8.0])\n",
    "Y1=np.array([8.04,6.95,7.58,8.81,8.33,9.96,7.24,4.26,10.84,4.82,5.68])\n",
    "Y2=np.array([9.14,8.14,8.74,8.77,9.26,8.10,6.13,3.10,9.13,7.26,4.74])\n",
    "Y3=np.array([7.46,6.77,12.74,7.11,7.81,8.84,6.08,5.39,8.15,6.42,5.73])\n",
    "Y4=np.array([6.58,5.76,7.71,8.84,8.47,7.04,5.25,12.50,5.56,7.91,6.89])"
   ]
  },
  {
   "cell_type": "code",
   "execution_count": 237,
   "metadata": {},
   "outputs": [
    {
     "name": "stdout",
     "output_type": "stream",
     "text": [
      "La función convergió con beta: [2.94731748 0.50531651] en la iteración 12292\n",
      "La función convergió con beta: [2.9481381  0.50522536] en la iteración 12293\n",
      "La función convergió con beta: [2.94967268 0.50495371] en la iteración 12294\n",
      "La función convergió con beta: [2.94895873 0.50513421] en la iteración 12294\n"
     ]
    }
   ],
   "source": [
    "#Aplicamos la regresión lineal\n",
    "r1= RegresionLineal(alpha=0.003, max_iters=1000000, tols=0.0000001)\n",
    "r2= RegresionLineal(alpha=0.003, max_iters=1000000, tols=0.0000001)\n",
    "r3= RegresionLineal(alpha=0.003, max_iters=1000000, tols=0.0000001)\n",
    "r4= RegresionLineal(alpha=0.003, max_iters=1000000, tols=0.0000001)\n",
    "r1.gradientDescent(X,Y1)\n",
    "r2.gradientDescent(X,Y2)\n",
    "r3.gradientDescent(X,Y3)\n",
    "r4.gradientDescent(X4,Y4)"
   ]
  },
  {
   "cell_type": "markdown",
   "metadata": {},
   "source": [
    "Podemos ver que la pendiente y la ordenada al origen de los cuatro grupos de datos son muy similares"
   ]
  },
  {
   "cell_type": "markdown",
   "metadata": {},
   "source": [
    "Graficamos para ver lo que pasa"
   ]
  },
  {
   "cell_type": "code",
   "execution_count": 238,
   "metadata": {},
   "outputs": [
    {
     "data": {
      "image/png": "[encoded data removed]",
      "text/latex": [
       "$\\displaystyle \\left[ \\left( 7.75, \\  19.5\\right), \\  \\left( 5.0, \\  13.0\\right)\\right]$"
      ],
      "text/plain": [
       "[(7.75, 19.5), (5.0, 13.0)]"
      ]
     },
     "execution_count": 238,
     "metadata": {},
     "output_type": "execute_result"
    },
    {
     "data": {
      "image/png": "[encoded data removed]",
      "text/plain": [
       "<Figure size 864x576 with 4 Axes>"
      ]
     },
     "metadata": {
      "needs_background": "light"
     },
     "output_type": "display_data"
    }
   ],
   "source": [
    "#Creamos un espacio para cuatro gráficas\n",
    "fig, ax = plt.subplots(2,2, figsize=(12,8))\n",
    "#Definimos la función de la recta con pendiente \"m\" y ordenada al origen \"b\"\n",
    "modelo = lambda x,b,m: b + m*x\n",
    "#Llamamos al historial de las distintas regresiones lineales para graficar la recta\n",
    "_beta1 = r1.historia['beta'][12291]\n",
    "_beta2 = r2.historia['beta'][12292]\n",
    "_beta3 = r3.historia['beta'][12293]\n",
    "_beta4 = r4.historia['beta'][12293]\n",
    "#Graficamos los datos con scatter y graficamos las lineas con plot\n",
    "#Ponemos un límite en los ejes para que se haga clara la similitud entre las rectas \n",
    "ax[0,0].scatter(X,Y1)\n",
    "ax[0,0].plot(X, modelo(X, _beta1[0], _beta1[1]))\n",
    "ax[0,0].set(xlim=(4,14),ylim=(4,12))\n",
    "ax[0,1].scatter(X,Y2)\n",
    "ax[0,1].plot(X, modelo(X, _beta2[0], _beta2[1]))\n",
    "ax[0,1].set(xlim=(4,14),ylim=(4,12))\n",
    "ax[1,0].scatter(X,Y3)\n",
    "ax[1,0].plot(X, modelo(X, _beta3[0], _beta3[1]))\n",
    "ax[1,0].set(xlim=(4,14),ylim=(4,12))\n",
    "#En la 4 no seguimos el mismo límite porque es muy grande, pero la gráfica tiene la misma pendiente y ordenada al origen\n",
    "ax[1,1].scatter(X4,Y4)\n",
    "ax[1,1].plot(X4, modelo(X4, _beta4[0], _beta4[1]))\n",
    "ax[1,1].set(xlim=(7.75,19.5),ylim=(5,13))"
   ]
  },
  {
   "cell_type": "markdown",
   "metadata": {},
   "source": [
    "El cuarteto de Anscombe contiene pares ordenados tales que, al buscar una regresión lineal, arrojan la misma recta para estos puntos, a pesar de que entre ellos no parece haber una relación. Esto demuestra la importancia de graficar los datos antes de intentar analizarlos"
   ]
  },
  {
   "cell_type": "markdown",
   "metadata": {},
   "source": [
    "## Problema 5"
   ]
  },
  {
   "cell_type": "markdown",
   "metadata": {},
   "source": [
    "Use el archivo `radioactive_decay.dat`"
   ]
  },
  {
   "cell_type": "code",
   "execution_count": 5,
   "metadata": {},
   "outputs": [
    {
     "name": "stdout",
     "output_type": "stream",
     "text": [
      "#time   N_(remaining)\r\n",
      "0.0\t10.48\r\n",
      "1.0\t7.54\r\n",
      "2.0\t5.49\r\n",
      "3.0\t4.02\r\n",
      "4.0\t2.74\r\n",
      "5.0\t2.02\r\n",
      "6.0\t1.50\r\n",
      "7.0\t1.09\r\n",
      "8.0\t0.68\r\n",
      "9.0\t0.57\r\n",
      "10.0\t0.37\r\n",
      "11.0\t0.31\r\n",
      "12.0\t0.19\r\n",
      "13.0\t0.15\r\n",
      "14.0\t0.13\r\n",
      "15.0\t0.11\r\n"
     ]
    }
   ],
   "source": [
    "%cat dat a/radioactive_decay.txt"
   ]
  },
  {
   "cell_type": "markdown",
   "metadata": {},
   "source": [
    "**(a)** Grafique los datos ¿Qué forma tienen?"
   ]
  },
  {
   "cell_type": "code",
   "execution_count": 239,
   "metadata": {},
   "outputs": [],
   "source": [
    "datos=np.loadtxt('data/radioactive_decay.txt')\n",
    "time=datos.transpose()[0]\n",
    "remaining=datos.transpose()[1]"
   ]
  },
  {
   "cell_type": "code",
   "execution_count": 240,
   "metadata": {},
   "outputs": [
    {
     "data": {
      "text/plain": [
       "Text(0, 0.5, 'Radioactividad')"
      ]
     },
     "execution_count": 240,
     "metadata": {},
     "output_type": "execute_result"
    },
    {
     "data": {
      "image/png": "[encoded data removed]",
      "text/plain": [
       "<Figure size 432x288 with 1 Axes>"
      ]
     },
     "metadata": {
      "needs_background": "light"
     },
     "output_type": "display_data"
    }
   ],
   "source": [
    "plt.scatter(time,remaining)\n",
    "plt.title(\"Decaimiento radioactivo\")\n",
    "plt.xlabel(\"Tiempo\")\n",
    "plt.ylabel(\"Radioactividad\")"
   ]
  },
  {
   "cell_type": "markdown",
   "metadata": {},
   "source": [
    "**(b)** ¿Qué transformación se le ocurre para linearizarlos? Explique y grafique de nuevo. Guarde los datos transformados en un archivo llamado `transform_radioactive_decay.txt`"
   ]
  },
  {
   "cell_type": "code",
   "execution_count": 241,
   "metadata": {},
   "outputs": [
    {
     "data": {
      "text/plain": [
       "<matplotlib.collections.PathCollection at 0x7f5903e18a30>"
      ]
     },
     "execution_count": 241,
     "metadata": {},
     "output_type": "execute_result"
    },
    {
     "data": {
      "image/png": "[encoded data removed]",
      "text/plain": [
       "<Figure size 432x288 with 1 Axes>"
      ]
     },
     "metadata": {
      "needs_background": "light"
     },
     "output_type": "display_data"
    }
   ],
   "source": [
    "#Intentaremos linealizar los datos con la función de logaritmo natural\n",
    "logr=np.array([math.log(i) for i in remaining])\n",
    "plt.scatter(time,logr)"
   ]
  },
  {
   "cell_type": "code",
   "execution_count": 242,
   "metadata": {},
   "outputs": [],
   "source": [
    "#Juntamos el array de tiempo con el transformado y lo guardamos\n",
    "datos_decay=np.array([time,logr])\n",
    "np.savetxt(\"datos_decay\",datos_decay)"
   ]
  },
  {
   "cell_type": "markdown",
   "metadata": {},
   "source": [
    "**(c)** Aplique la regresión lineal a este conjunto de datos transformado, leyendo los datos del archivo recién creado."
   ]
  },
  {
   "cell_type": "code",
   "execution_count": 243,
   "metadata": {},
   "outputs": [],
   "source": [
    "datos=np.loadtxt(\"datos_decay\")\n",
    "tiempo=datos[0]\n",
    "transformados=datos[1]"
   ]
  },
  {
   "cell_type": "code",
   "execution_count": 244,
   "metadata": {},
   "outputs": [
    {
     "name": "stdout",
     "output_type": "stream",
     "text": [
      "La función convergió con beta: [ 2.27548901 -0.31459673] en la iteración 5755\n"
     ]
    }
   ],
   "source": [
    "#Aplicamos la regresión lineal para saber en cuantas iteraciones se alcanzó el resultado buscado\n",
    "R=RegresionLineal(alpha=0.003, max_iters=100000, tols=0.0000001)\n",
    "R.gradientDescent(tiempo, transformados)"
   ]
  },
  {
   "cell_type": "code",
   "execution_count": 245,
   "metadata": {},
   "outputs": [
    {
     "data": {
      "text/plain": [
       "[<matplotlib.lines.Line2D at 0x7f5903a887f0>]"
      ]
     },
     "execution_count": 245,
     "metadata": {},
     "output_type": "execute_result"
    },
    {
     "data": {
      "image/png": "[encoded data removed]",
      "text/plain": [
       "<Figure size 432x288 with 1 Axes>"
      ]
     },
     "metadata": {
      "needs_background": "light"
     },
     "output_type": "display_data"
    }
   ],
   "source": [
    "#Graficamos los datos y la aproximación lineal\n",
    "_beta=R.historia['beta'][5754]\n",
    "plt.scatter(tiempo,transformados)\n",
    "plt.plot(tiempo, modelo(tiempo, _beta[0], _beta[1]))"
   ]
  },
  {
   "cell_type": "markdown",
   "metadata": {},
   "source": [
    "**(d)** ¿Cuáles son los valores de $\\beta$ que mejor ajustan? ¿Cuáles son el espacio sin transformar? Explique."
   ]
  },
  {
   "cell_type": "markdown",
   "metadata": {},
   "source": [
    "Para los datos transformados, tenemos $\\beta_0$ = 2.27 y $\\beta_1$ = -0.314"
   ]
  },
  {
   "cell_type": "code",
   "execution_count": 246,
   "metadata": {},
   "outputs": [
    {
     "name": "stdout",
     "output_type": "stream",
     "text": [
      "La función convergió con beta: [ 6.43577297 -0.54728535] en la iteración 7016\n"
     ]
    }
   ],
   "source": [
    "#Aplicamos la regresión a los datos sin transformar\n",
    "R1=RegresionLineal(alpha=0.003, max_iters=100000, tols=0.0000001)\n",
    "R1.gradientDescent(time,remaining)"
   ]
  },
  {
   "cell_type": "markdown",
   "metadata": {},
   "source": [
    "Esto indica que para los datos sin transformar tenemos $\\beta_0$ = 6.43 y $\\beta_1$ = -0.54"
   ]
  },
  {
   "cell_type": "markdown",
   "metadata": {},
   "source": [
    "Cuando intentamos linealizar los datos, obtuvimos una linea completamente nueva"
   ]
  }
 ],
 "metadata": {
  "kernelspec": {
   "display_name": "Python 3 (ipykernel)",
   "language": "python",
   "name": "python3"
  },
  "language_info": {
   "codemirror_mode": {
    "name": "ipython",
    "version": 3
   },
   "file_extension": ".py",
   "mimetype": "text/x-python",
   "name": "python",
   "nbconvert_exporter": "python",
   "pygments_lexer": "ipython3",
   "version": "3.9.6"
  }
 },
 "nbformat": 4,
 "nbformat_minor": 1
}
