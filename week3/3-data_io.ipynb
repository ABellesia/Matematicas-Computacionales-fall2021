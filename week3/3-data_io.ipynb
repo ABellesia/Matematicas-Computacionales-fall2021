{
 "cells": [
  {
   "cell_type": "markdown",
   "metadata": {},
   "source": [
    "## Introducción"
   ]
  },
  {
   "cell_type": "markdown",
   "metadata": {},
   "source": [
    "- **I/O** significa _input/output_. \n",
    "- Escribir y leer datos desde archivos u otras fuentes, es fundamental en la programación, y más aún en programación científica.\n"
   ]
  },
  {
   "cell_type": "markdown",
   "metadata": {},
   "source": [
    "## Leer archivos"
   ]
  },
  {
   "cell_type": "code",
   "execution_count": 1,
   "metadata": {},
   "outputs": [
    {
     "name": "stdout",
     "output_type": "stream",
     "text": [
      "Writing inout.dat\n"
     ]
    }
   ],
   "source": [
    "%%file inout.dat\n",
    "Hola, desde el archivo\n",
    "Este es un archivo de texto\n",
    "Escrito en ASCII"
   ]
  },
  {
   "cell_type": "markdown",
   "metadata": {},
   "source": [
    "Lee el archivo de una sola pasada"
   ]
  },
  {
   "cell_type": "code",
   "execution_count": 2,
   "metadata": {},
   "outputs": [
    {
     "name": "stdout",
     "output_type": "stream",
     "text": [
      "Hola, desde el archivo\n",
      "Este es un archivo de texto\n",
      "Escrito en ASCII\n",
      "\n"
     ]
    }
   ],
   "source": [
    "archivo = open('inout.dat')\n",
    "print (archivo.read())\n",
    "archivo.close()"
   ]
  },
  {
   "cell_type": "markdown",
   "metadata": {},
   "source": [
    "Línea por línea"
   ]
  },
  {
   "cell_type": "code",
   "execution_count": 3,
   "metadata": {},
   "outputs": [
    {
     "name": "stdout",
     "output_type": "stream",
     "text": [
      "['Hola, desde el archivo\\n', 'Este es un archivo de texto\\n', 'Escrito en ASCII\\n']\n"
     ]
    }
   ],
   "source": [
    "archivo = open('inout.dat')\n",
    "print(archivo.readlines())\n",
    "archivo.close()"
   ]
  },
  {
   "cell_type": "markdown",
   "metadata": {},
   "source": [
    "Otra manera"
   ]
  },
  {
   "cell_type": "code",
   "execution_count": 4,
   "metadata": {},
   "outputs": [
    {
     "name": "stdout",
     "output_type": "stream",
     "text": [
      "['Hola,', 'desde', 'el', 'archivo']\n",
      "['Este', 'es', 'un', 'archivo', 'de', 'texto']\n",
      "['Escrito', 'en', 'ASCII']\n"
     ]
    }
   ],
   "source": [
    "for line in open('inout.dat'):\n",
    "    print (line.split())"
   ]
  },
  {
   "cell_type": "markdown",
   "metadata": {},
   "source": [
    "## Escribir archivos"
   ]
  },
  {
   "cell_type": "markdown",
   "metadata": {},
   "source": [
    "`write()` es lo contrario a `read()` (¡Vaya sorpresa!)"
   ]
  },
  {
   "cell_type": "code",
   "execution_count": 5,
   "metadata": {},
   "outputs": [],
   "source": [
    "contents = open('inout.dat').read()\n",
    "out = open('my_output.dat', 'w')\n",
    "out.write(contents.replace(' ', '_'))\n",
    "out.close()"
   ]
  },
  {
   "cell_type": "code",
   "execution_count": 6,
   "metadata": {},
   "outputs": [
    {
     "name": "stdout",
     "output_type": "stream",
     "text": [
      "Hola,_desde_el_archivo\r\n",
      "Este_es_un_archivo_de_texto\r\n",
      "Escrito_en_ASCII\r\n"
     ]
    }
   ],
   "source": [
    "!cat my_output.dat"
   ]
  },
  {
   "cell_type": "markdown",
   "metadata": {},
   "source": [
    "<div class=\"alert alert-info\">\n",
    "**Ejercicio** Cambia la segunda línea del archivo a _¿Cómo has estado?_ ¿Qué sucede?\n",
    "</div>"
   ]
  },
  {
   "cell_type": "code",
   "execution_count": 9,
   "metadata": {},
   "outputs": [
    {
     "name": "stdout",
     "output_type": "stream",
     "text": [
      "Hola, desde el archivo\n",
      "Este es un archivo de texto\n",
      "Escrito en ASCII\n",
      "\n"
     ]
    }
   ],
   "source": [
    "archivo = open('inout.dat')\n",
    "print (archivo.read())\n",
    "archivo.close()"
   ]
  },
  {
   "cell_type": "code",
   "execution_count": 10,
   "metadata": {},
   "outputs": [
    {
     "name": "stdout",
     "output_type": "stream",
     "text": [
      "['Hola,', 'desde', 'el', 'archivo']\n",
      "['Este', 'es', 'un', 'archivo', 'de', 'texto']\n",
      "['Escrito', 'en', 'ASCII']\n"
     ]
    }
   ],
   "source": [
    "for line in open('inout.dat'):\n",
    "    print (line.split())\n"
   ]
  },
  {
   "cell_type": "code",
   "execution_count": 29,
   "metadata": {},
   "outputs": [],
   "source": [
    "contents = open('inout.dat').read()\n",
    "lista=contents.split('\\n')\n",
    "out = open('inout.dat', 'w')\n",
    "out.write(contents.replace(lista[1], '¿Cómo has estado?_¿Qué sucede?'))\n",
    "out.close()"
   ]
  },
  {
   "cell_type": "code",
   "execution_count": 30,
   "metadata": {},
   "outputs": [
    {
     "name": "stdout",
     "output_type": "stream",
     "text": [
      "Hola, desde el archivo\r\n",
      "¿Cómo has estado?_¿Qué sucede?\r\n",
      "Escrito en ASCII\r\n",
      "Hola, desde el archivo\r\n",
      "¿Cómo has estado?_¿Qué sucede?\r\n",
      "Escrito en ASCII\r\n",
      "Hola, desde el archivo\r\n",
      "¿Cómo has estado?_¿Qué sucede?\r\n",
      "Escrito en ASCII\r\n",
      "Hola, desde el archivo\r\n",
      "¿Cómo has estado?_¿Qué sucede?\r\n",
      "Escrito en ASCII\r\n"
     ]
    }
   ],
   "source": [
    "!cat my_output.dat"
   ]
  },
  {
   "cell_type": "markdown",
   "metadata": {},
   "source": [
    "<div class=\"alert alert-info\">\n",
    "**Ejercicio** Escribe un archivo `CSV`. Calcula $y(x) = x^2 \\cos x$ para los valores del $x \\in {1..100}$. En la primera columna guarda $x$ y en la segunda $y(x)$.\n",
    "</div>"
   ]
  },
  {
   "cell_type": "code",
   "execution_count": 31,
   "metadata": {},
   "outputs": [
    {
     "name": "stdout",
     "output_type": "stream",
     "text": [
      "1,0.5403023058681398,0.8414709848078965,0.8414709848078965\r\n",
      "2,-1.6645873461885696,7.274379414605454,7.274379414605454\r\n",
      "3,-8.909932469404009,3.810240217616415,3.810240217616415\r\n",
      "4,-10.458297933817791,-48.435359699707405,-48.435359699707405\r\n",
      "5,7.091554636580656,-119.86553433289231,-119.86553433289231\r\n",
      "6,34.566130319413176,-60.353747610967986,-60.353747610967986\r\n",
      "7,36.94121046282193,225.34640336054466,225.34640336054466\r\n",
      "8,-9.312002163751266,506.5514222711715,506.5514222711715\r\n",
      "9,-73.80155121265884,300.43437574124056,300.43437574124056\r\n",
      "10,-83.90715290764524,-544.0211108893698,-544.0211108893698\r\n",
      "11,0.5355094565541451,-1330.9869649189864,-1330.9869649189864\r\n",
      "12,121.51497005747886,-927.1980023047515,-927.1980023047515\r\n",
      "13,153.35850606508316,923.1069799081301,923.1069799081301\r\n",
      "14,26.800494768735387,2718.226584026724,2718.226584026724\r\n",
      "15,-170.9297803932348,2194.7214605302693,2194.7214605302693\r\n",
      "16,-245.16082696278647,-1179.2519850601075,-1179.2519850601075\r\n",
      "17,-79.52220469691152,-4723.345877604263,-4723.345877604263\r\n",
      "18,213.94261347108198,-4379.757623172415,-4379.757623172415\r\n",
      "19,356.9223671653876,1028.0077810781902,1028.0077810781902\r\n",
      "20,163.23282472535678,7303.562005821022,7303.562005821022\r\n",
      "21,-241.54860375890235,7748.267868482415,7748.267868482415\r\n",
      "22,-483.98103997500436,-94.24874132422048,-94.24874132422048\r\n",
      "23,-281.8686677563673,-10295.9636575993,-10295.9636575993\r\n",
      "24,244.32710822611025,-12518.71527637957,-12518.71527637957\r\n",
      "25,619.501757414671,-2067.9960952777037,-2067.9960952777037\r\n",
      "26,437.3174618941609,13402.727325629497,13402.727325629497\r\n",
      "27,-212.96919156696657,18824.347398785834,18824.347398785834\r\n",
      "28,-754.6829991898362,5946.9238649343415,5946.9238649343415\r\n",
      "29,-629.1163824684493,-16185.366802070066,-16185.366802070066\r\n",
      "30,138.82630489882564,-26676.85385050727,-26676.85385050727\r\n",
      "31,879.0674058501546,-12036.68549181943,-12036.68549181943\r\n",
      "32,854.2447211586665,18069.149490927717,18069.149490927717\r\n",
      "33,-14.458377725911772,35933.83251667486,35933.83251667486\r\n",
      "34,-980.9472376510037,20795.065895261418,20795.065895261418\r\n",
      "35,-1107.0229512370956,-18358.331954647474,-18358.331954647474\r\n",
      "36,-165.84094175711647,-46272.43418624201,-46272.43418624201\r\n",
      "37,1047.8518371131752,-32597.137068932094,-32597.137068932094\r\n",
      "38,1379.1263420042937,16262.336650941392,16262.336650941392\r\n",
      "39,405.56390011946456,57171.3785189858,57171.3785189858\r\n",
      "40,-1067.100898643619,47687.242270678325,47687.242270678325\r\n",
      "41,-1659.7173255175524,-10932.432956689348,-10932.432956689348\r\n",
      "42,-705.5740956394517,-67903.24844197348,-67903.24844197348\r\n",
      "43,1026.4044945116368,-66131.91446217196,-66131.91446217196\r\n",
      "44,1935.6966455419301,1507.92078817955,1507.92078817955\r\n",
      "45,1063.7770273559026,77538.58367317154,77538.58367317154\r\n",
      "46,-914.4885313761908,87776.4706067445,87776.4706067445\r\n",
      "47,-2192.0690513544014,12829.732322777392,12829.732322777392\r\n",
      "48,-1474.892558137036,-84962.81950510696,-84962.81950510696\r\n",
      "49,721.7226975284726,-112208.04584449911,-112208.04584449911\r\n",
      "50,2412.4150712302835,-32796.856712991095,-32796.856712991095\r\n",
      "51,1930.3430659126484,88906.5704047995,88906.5704047995\r\n",
      "52,-440.7270712715876,138727.73246162856,138727.73246162856\r\n",
      "53,-2579.456346469842,58944.148583620925,58944.148583620925\r\n",
      "54,-2418.267472628946,-87989.15878837091,-87989.15878837091\r\n",
      "55,66.9334376924161,-166334.26696754037,-166334.26696754037\r\n",
      "56,2675.698257818024,-91592.70078249511,-91592.70078249511\r\n",
      "57,2923.6673208229104,80774.65951861044,80774.65951861044\r\n",
      "58,400.9219756498281,193721.3681130702,193721.3681130702\r\n",
      "59,-2684.130256178917,130772.615168229,130772.615168229\r\n",
      "60,-3428.6867294945628,-65839.0941580788,-65839.0941580788\r\n",
      "61,-960.3961873262932,-219290.37755427504,-219290.37755427504\r\n",
      "62,2588.9615319718655,-176167.45707101596,-176167.45707101596\r\n",
      "63,3913.0235323011398,41846.79079361596,41846.79079361596\r\n",
      "64,1605.0472158394368,241179.30575705948,241179.30575705948\r\n",
      "65,-2376.367521481277,227067.82610496966,227067.82610496966\r\n",
      "66,-4354.464318189421,-7633.350577274357,-7633.350577274357\r\n",
      "67,-2324.2686312550886,-257308.75543655484,-257308.75543655484\r\n",
      "68,2035.2213360216922,-282337.19649449526,-282337.19649449526\r\n",
      "69,4729.5315978577355,-37707.844391101054,-37707.844391101054\r\n",
      "70,3103.264095122869,265444.503774356,265444.503774356\r\n",
      "71,-1557.7835726851622,340392.9220009265,340392.9220009265\r\n",
      "72,-5014.227049611806,94739.06250420451,94739.06250420451\r\n",
      "73,-3923.1709954333664,-263275.7963524297,-263275.7963524297\r\n",
      "74,940.3241638653379,-399204.9082519851,-399204.9082519851\r\n",
      "75,5184.8508922017145,-163595.37743835346,-163595.37743835346\r\n",
      "76,4761.337768477253,248507.66601501562,248507.66601501562\r\n",
      "77,-183.65096313438238,456313.936557337,456313.936557337\r\n",
      "78,-5218.874019302506,243909.50424579682,243909.50424579682\r\n",
      "79,-5591.754678922401,-218964.86606688122,-218964.86606688122\r\n",
      "80,-706.4783605699045,-508870.99080876814,-508870.99080876814\r\n",
      "81,5095.836728043922,-334748.30556521006,-334748.30556521006\r\n",
      "82,6385.632840562221,172704.3273125653,172704.3273125653\r\n",
      "83,1719.0818727183264,553698.2101190917,553698.2101190917\r\n",
      "84,-4798.2457848642625,434564.8354687206,434564.8354687206\r\n",
      "85,-7112.121248521952,-108132.44010092605,-108132.44010092605\r\n",
      "86,-2837.833698848291,-587371.2859676143,-587371.2859676143\r\n",
      "87,4312.440280054147,-541169.5108749066,-541169.5108749066\r\n",
      "88,7739.146708935045,24122.95216051321,24122.95216051321\r\n",
      "89,4041.1123729829596,606322.2689461993,606322.2689461993\r\n",
      "90,-3629.396290646278,651723.5677648067,651723.5677648067\r\n",
      "91,-8234.356943946437,79869.11521783101,79869.11521783101\r\n",
      "92,-5302.22580711311,-606960.8748169917,-606960.8748169917\r\n",
      "93,2745.4408394438997,-762757.3783054709,-762757.3783054709\r\n",
      "94,8566.14296389601,-203702.3750976662,-203702.3750976662\r\n",
      "95,6589.816387978248,585811.5126718817,585811.5126718817\r\n",
      "96,-1662.8470206666298,870215.4875446006,870215.4875446006\r\n",
      "97,-8704.713171835658,346457.7340014653,346457.7340014653\r\n",
      "98,-7868.444307779175,-539662.4308624101,-539662.4308624101\r\n",
      "99,390.28444873315436,-969529.3920041848,-969529.3920041848\r\n",
      "100,8623.18872287684,-506365.6411097588,-506365.6411097588\r\n"
     ]
    }
   ],
   "source": [
    "import math\n",
    "out = open('archivo.csv', 'w')\n",
    "for x in range(1,101):\n",
    "    #out.write('{},{}\\n'.format(x, x**2*math.cos(x)))\\\n",
    "    out.write( str(x) + ',' + str(x**2*math.cos(x)) +','+str(x**3 * math.sin(x))+ '\\n')\n",
    "out.close()\n",
    "\n",
    "contents=open('archivo.csv').readlines()\n",
    "contents\n",
    "out = open('2.csv','w')\n",
    "for line in contents:\n",
    "    x = int(line.split(',')[0])\n",
    "    out.write(line.replace('\\n','')+','+str(x**3*math.sin(x))+'\\n')\n",
    "out.close()\n",
    "!cat 2.csv"
   ]
  },
  {
   "cell_type": "markdown",
   "metadata": {},
   "source": [
    "## Numpy I/O"
   ]
  },
  {
   "cell_type": "code",
   "execution_count": null,
   "metadata": {},
   "outputs": [],
   "source": [
    "%pylab inline\n",
    "import numpy as np\n",
    "import matplotlib.pyplot as plt"
   ]
  },
  {
   "cell_type": "markdown",
   "metadata": {},
   "source": [
    "- `NumPy` permite escribir y leer los arreglos a archivo de varias maneras, como **texto** o en **binario**.\n",
    "- Si escribes a un archivo usando el modo de **texto**, el número $\\pi$, se escribirá como $3.141592653589793$. Algo que un humano puede leer (bajo ciertas condiciones, obvio), es decir, una cadena de texto. El modo de texto, ocupa más espacio, la precisión se puede perder (no todos los dígitos se escribirán al disco), pero puede ser editada a mano. Si guardas un arreglo, sólo se pueden guardar arreglos bidimensionales.\n",
    "- En cambio, si usas el modo **binario** para escribir a archivo, se escribirá como una cadena de 8 bytes que será idéntica a como se guarda en la memoria de la computadora. Sus únicas desventaja es que no puede ser editado a mano y que es dependiente de `NumPy` (no puede ser leído por otro programa, sin un convertidor)."
   ]
  },
  {
   "cell_type": "markdown",
   "metadata": {},
   "source": [
    "## Modo Texto"
   ]
  },
  {
   "cell_type": "code",
   "execution_count": null,
   "metadata": {},
   "outputs": [],
   "source": [
    "arr = np.arange(100).reshape(10, 10)\n",
    "np.savetxt('test.out', arr, fmt='%.2e', header=\"My dataset\")\n",
    "!cat test.out"
   ]
  },
  {
   "cell_type": "code",
   "execution_count": null,
   "metadata": {},
   "outputs": [],
   "source": [
    "DataIn = np.loadtxt('test.out')\n",
    "print (DataIn.shape)\n",
    "print (DataIn)"
   ]
  },
  {
   "cell_type": "code",
   "execution_count": null,
   "metadata": {},
   "outputs": [],
   "source": [
    "print (DataIn[1,:])"
   ]
  },
  {
   "cell_type": "markdown",
   "metadata": {},
   "source": [
    "#### Leyendo archivos CSV"
   ]
  },
  {
   "cell_type": "code",
   "execution_count": null,
   "metadata": {},
   "outputs": [],
   "source": [
    "%%file input.csv\n",
    "# Mis datos de ejemplo\n",
    "    0.0,  1.1,  0.1\n",
    "    2.0,  1.9,  0.2\n",
    "    4.0,  3.2,  0.1\n",
    "    6.0,  4.0,  0.3\n",
    "    8.0,  5.9,  0.3"
   ]
  },
  {
   "cell_type": "code",
   "execution_count": null,
   "metadata": {},
   "outputs": [],
   "source": [
    "!cat input.csv"
   ]
  },
  {
   "cell_type": "code",
   "execution_count": null,
   "metadata": {},
   "outputs": [],
   "source": [
    "x, y = np.loadtxt('input.csv', unpack=True, delimiter=',', usecols=[0,1])\n",
    "print(x,y)"
   ]
  },
  {
   "cell_type": "markdown",
   "metadata": {},
   "source": [
    "## Modo Binario"
   ]
  },
  {
   "cell_type": "markdown",
   "metadata": {},
   "source": [
    "Para guardar datos binarios, `NumPy` provee los métodos `np.save` y `np.savez`. El primero sólo guarda un arreglo y el archivo tendrá la extensión `.npy`, mientras que el segundo se puede utilizar para guardar varios arreglos a la vez con una extensión `.npz`."
   ]
  },
  {
   "cell_type": "code",
   "execution_count": null,
   "metadata": {},
   "outputs": [],
   "source": [
    "arr2 = DataIn \n",
    "np.save('test.npy', arr2)\n",
    "# Lo leemos de nuevo\n",
    "arr2n = np.load('test.npy')\n",
    "# Veamos si hay una diferencia...\n",
    "print( 'Any differences?', np.any(arr2-arr2n))"
   ]
  },
  {
   "cell_type": "code",
   "execution_count": null,
   "metadata": {},
   "outputs": [],
   "source": [
    "np.savez('test.npz', arr, arr2)\n",
    "arrays = np.load('test.npz')\n",
    "arrays.files"
   ]
  },
  {
   "cell_type": "code",
   "execution_count": null,
   "metadata": {},
   "outputs": [],
   "source": [
    "np.savez('test.npz', array1=arr, array2=arr2)\n",
    "arrays = np.load('test.npz')\n",
    "arrays.files"
   ]
  },
  {
   "cell_type": "code",
   "execution_count": null,
   "metadata": {},
   "outputs": [],
   "source": [
    "print( 'First row of first array:', arrays['array1'][0])\n",
    "# Este es una manera equivalente de obtener el primer elemento\n",
    "print ('First row of first array:', arrays.f.array1[0])"
   ]
  },
  {
   "cell_type": "markdown",
   "metadata": {},
   "source": [
    "<div class=\"alert alert-info\">\n",
    "**Ejercicio**: <br/>\n",
    "- Crea un arreglo bidimensional con 100 elementos flotantes al azar y guárdalos en formato de texto. <br/>\n",
    "\n",
    "- Guárdalos también en formato binario. ¿Hay alguna diferencia entre ellos? <br/>\n",
    "\n",
    "- Ahora crea un arreglo tridimensional con los elementos del 1 al 50 y guárdalos en formato binario ¿Qué pasa si los quieres guardar en formato de texto?\n",
    "</div>"
   ]
  }
 ],
 "metadata": {
  "kernelspec": {
   "display_name": "Python 3 (ipykernel)",
   "language": "python",
   "name": "python3"
  },
  "language_info": {
   "codemirror_mode": {
    "name": "ipython",
    "version": 3
   },
   "file_extension": ".py",
   "mimetype": "text/x-python",
   "name": "python",
   "nbconvert_exporter": "python",
   "pygments_lexer": "ipython3",
   "version": "3.9.6"
  }
 },
 "nbformat": 4,
 "nbformat_minor": 1
}
