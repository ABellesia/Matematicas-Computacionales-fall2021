{
 "cells": [
  {
   "cell_type": "markdown",
   "id": "dc16cad8",
   "metadata": {},
   "source": [
    "# Múltiplos de 3 y 5"
   ]
  },
  {
   "cell_type": "markdown",
   "id": "0f8df289",
   "metadata": {},
   "source": [
    "### Si enumeramos todos los números naturales por debajo de 10 que son múltiplos de 3 o 5, obtenemos 3, 5, 6 y 9. La suma de estos múltiplos es 23. \n",
    "### Encuentra la suma de todos los múltiplos de 3 o 5 por debajo de 1000."
   ]
  },
  {
   "cell_type": "code",
   "execution_count": 1,
   "id": "638c0a40",
   "metadata": {},
   "outputs": [
    {
     "name": "stdout",
     "output_type": "stream",
     "text": [
      "Ingrese el número hasta el cual (por debajo) quiere calcular la suma de los múltiplos de 3 y 5:\n",
      "1000\n",
      "La suma de los múltiplos de 3 y 5 por debajo de 1000 es: 233168\n"
     ]
    }
   ],
   "source": [
    "mul=int(input(\"Ingrese el número hasta el cual (por debajo) quiere calcular la suma de los múltiplos de 3 y 5:\\n\"))\n",
    "m2=sum({n for n in range(1,mul) if n%3==0 or n%5==0})\n",
    "print(\"La suma de los múltiplos de 3 y 5 por debajo de\", mul, \"es:\", m2)"
   ]
  },
  {
   "cell_type": "code",
   "execution_count": 2,
   "id": "815346cc",
   "metadata": {},
   "outputs": [
    {
     "name": "stdout",
     "output_type": "stream",
     "text": [
      "¿Desea saber los múltiplos de algún número en la lista?\n",
      "si\n",
      "Elija entre los números 3 o 5:\n",
      "3\n",
      "3\n",
      "{3, 6, 9, 12, 15, 18, 21, 24, 27, 30, 33, 36, 39, 42, 45, 48, 51, 54, 57, 60, 63, 66, 69, 72, 75, 78, 81, 84, 87, 90, 93, 96, 99, 102, 105, 108, 111, 114, 117, 120, 123, 126, 129, 132, 135, 138, 141, 144, 147, 150, 153, 156, 159, 162, 165, 168, 171, 174, 177, 180, 183, 186, 189, 192, 195, 198, 201, 204, 207, 210, 213, 216, 219, 222, 225, 228, 231, 234, 237, 240, 243, 246, 249, 252, 255, 258, 261, 264, 267, 270, 273, 276, 279, 282, 285, 288, 291, 294, 297, 300, 303, 306, 309, 312, 315, 318, 321, 324, 327, 330, 333, 336, 339, 342, 345, 348, 351, 354, 357, 360, 363, 366, 369, 372, 375, 378, 381, 384, 387, 390, 393, 396, 399, 402, 405, 408, 411, 414, 417, 420, 423, 426, 429, 432, 435, 438, 441, 444, 447, 450, 453, 456, 459, 462, 465, 468, 471, 474, 477, 480, 483, 486, 489, 492, 495, 498, 501, 504, 507, 510, 513, 516, 519, 522, 525, 528, 531, 534, 537, 540, 543, 546, 549, 552, 555, 558, 561, 564, 567, 570, 573, 576, 579, 582, 585, 588, 591, 594, 597, 600, 603, 606, 609, 612, 615, 618, 621, 624, 627, 630, 633, 636, 639, 642, 645, 648, 651, 654, 657, 660, 663, 666, 669, 672, 675, 678, 681, 684, 687, 690, 693, 696, 699, 702, 705, 708, 711, 714, 717, 720, 723, 726, 729, 732, 735, 738, 741, 744, 747, 750, 753, 756, 759, 762, 765, 768, 771, 774, 777, 780, 783, 786, 789, 792, 795, 798, 801, 804, 807, 810, 813, 816, 819, 822, 825, 828, 831, 834, 837, 840, 843, 846, 849, 852, 855, 858, 861, 864, 867, 870, 873, 876, 879, 882, 885, 888, 891, 894, 897, 900, 903, 906, 909, 912, 915, 918, 921, 924, 927, 930, 933, 936, 939, 942, 945, 948, 951, 954, 957, 960, 963, 966, 969, 972, 975, 978, 981, 984, 987, 990, 993, 996, 999}\n",
      "¿Desea saber los múltiplos de algún número en la lista?\n",
      "si\n",
      "Elija entre los números 3 o 5:\n",
      "5\n",
      "5\n",
      "{515, 5, 520, 10, 525, 15, 530, 20, 535, 25, 540, 30, 545, 35, 550, 40, 555, 45, 560, 50, 565, 55, 570, 60, 575, 65, 580, 70, 585, 75, 590, 80, 595, 85, 600, 90, 605, 95, 610, 100, 615, 105, 620, 110, 625, 115, 630, 120, 635, 125, 640, 130, 645, 135, 650, 140, 655, 145, 660, 150, 665, 155, 670, 160, 675, 165, 680, 170, 685, 175, 690, 180, 695, 185, 700, 190, 705, 195, 710, 200, 715, 205, 720, 210, 725, 215, 730, 220, 735, 225, 740, 230, 745, 235, 750, 240, 755, 245, 760, 250, 765, 255, 770, 260, 775, 265, 780, 270, 785, 275, 790, 280, 795, 285, 800, 290, 805, 295, 810, 300, 815, 305, 820, 310, 825, 315, 830, 320, 835, 325, 840, 330, 845, 335, 850, 340, 855, 345, 860, 350, 865, 355, 870, 360, 875, 365, 880, 370, 885, 375, 890, 380, 895, 385, 900, 390, 905, 395, 910, 400, 915, 405, 920, 410, 925, 415, 930, 420, 935, 425, 940, 430, 945, 435, 950, 440, 955, 445, 960, 450, 965, 455, 970, 460, 975, 465, 980, 470, 985, 475, 990, 480, 995, 485, 490, 495, 500, 505, 510}\n",
      "¿Desea saber los múltiplos de algún número en la lista?\n",
      "no\n",
      "Que tenga buen día\n"
     ]
    }
   ],
   "source": [
    "respuesta=False\n",
    "while respuesta == False:\n",
    "    pre=input(\"¿Desea saber los múltiplos de algún número en la lista?\\n\")\n",
    "    if pre == \"si\":\n",
    "        ele = input(\"Elija entre los números 3 o 5:\\n\")\n",
    "        print (ele)\n",
    "        if ele == \"3\":\n",
    "            print ({n for n in range(1,mul) if n%3==0})\n",
    "        elif ele == \"5\":\n",
    "            print ({n for n in range(1,mul) if n%5==0})\n",
    "        else:\n",
    "            print (\"Su respueta no es válida\")\n",
    "    elif pre == \"no\":\n",
    "        print (\"Que tenga buen día\")\n",
    "        respuesta=True\n",
    "    else:\n",
    "        print (\"No puedo interpretar esa respuesta\")"
   ]
  },
  {
   "cell_type": "code",
   "execution_count": null,
   "id": "d1ec902c",
   "metadata": {},
   "outputs": [],
   "source": []
  }
 ],
 "metadata": {
  "kernelspec": {
   "display_name": "Python 3 (ipykernel)",
   "language": "python",
   "name": "python3"
  },
  "language_info": {
   "codemirror_mode": {
    "name": "ipython",
    "version": 3
   },
   "file_extension": ".py",
   "mimetype": "text/x-python",
   "name": "python",
   "nbconvert_exporter": "python",
   "pygments_lexer": "ipython3",
   "version": "3.9.6"
  }
 },
 "nbformat": 4,
 "nbformat_minor": 5
}
