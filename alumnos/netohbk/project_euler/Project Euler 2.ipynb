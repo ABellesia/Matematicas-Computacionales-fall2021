{
 "cells": [
  {
   "cell_type": "markdown",
   "id": "d78660f6",
   "metadata": {},
   "source": [
    "# Incluso los números de Fibonacci"
   ]
  },
  {
   "cell_type": "markdown",
   "id": "49393b95",
   "metadata": {},
   "source": [
    "### Cada nuevo término en la secuencia de Fibonacci se genera sumando los dos términos anteriores. Al comenzar con 1 y 2, los primeros 10 términos serán:\n",
    "\n",
    "### 1, 2, 3, 5, 8, 13, 21, 34, 55, 89, ...\n",
    "\n",
    "### Al considerar los términos en la secuencia de Fibonacci cuyos valores no exceden los cuatro millones, encuentre la suma de los términos pares."
   ]
  },
  {
   "cell_type": "code",
   "execution_count": 91,
   "id": "9fed87cf",
   "metadata": {},
   "outputs": [
    {
     "name": "stdout",
     "output_type": "stream",
     "text": [
      "¿Hasta qué término quieres calcular la sucesión de Fibonacci?\n",
      "10\n"
     ]
    }
   ],
   "source": [
    "def numfibo(n):\n",
    "    resul1=0\n",
    "    resul2=1\n",
    "    for i in range(1,n+1):\n",
    "        resul= resul1 + resul2\n",
    "        resul1=resul2\n",
    "        resul2=resul\n",
    "    return resul\n",
    "variable=int(input(\"¿Hasta qué término quieres calcular la sucesión de Fibonacci?\\n\"))\n",
    "listafib=map(lambda c: numfibo(c),range(variable+1))"
   ]
  },
  {
   "cell_type": "code",
   "execution_count": 93,
   "id": "37377547",
   "metadata": {},
   "outputs": [
    {
     "name": "stdout",
     "output_type": "stream",
     "text": [
      "La suma de los números pares hasta el término 10 de la secuencia de Fibonacci es:\n",
      " 44\n"
     ]
    }
   ],
   "source": [
    "numer=list(listafib)\n",
    "fibo=sum({n for n in numer if n%2==0})\n",
    "print(\"La suma de los números pares hasta el término\", variable, \"de la secuencia de Fibonacci es:\\n\", fibo)"
   ]
  },
  {
   "cell_type": "markdown",
   "id": "efc22cb4",
   "metadata": {},
   "source": [
    "* Se hizo el problema en 2 partes porque por alguna razón no corría en un mismo renglón todos los códigos, por eso se deja y se intentó de otra manera"
   ]
  },
  {
   "cell_type": "code",
   "execution_count": 89,
   "id": "d25a8f35",
   "metadata": {},
   "outputs": [
    {
     "name": "stdout",
     "output_type": "stream",
     "text": [
      "¿Hasta qué término quieres calcular la sucesión de Fibonacci?\n",
      "32\n",
      "Hasta el término 32 de la secuencia de Fibonacci, la suma de sus números pares es: 4613732\n"
     ]
    }
   ],
   "source": [
    "fibo1=lambda n:1 if n<2 else fibo1(n-1)+fibo1(n-2)\n",
    "varia=int(input(\"¿Hasta qué término quieres calcular la sucesión de Fibonacci?\\n\"))\n",
    "lim=tuple(range(varia+1))\n",
    "lista=tuple(map(fibo1,lim))\n",
    "fibo2=sum({n for n in lista if n%2==0})\n",
    "print(\"Hasta el término\", varia, \"de la secuencia de Fibonacci, la suma de sus números pares es:\", fibo2)"
   ]
  },
  {
   "cell_type": "code",
   "execution_count": 90,
   "id": "b200d881",
   "metadata": {},
   "outputs": [
    {
     "name": "stdout",
     "output_type": "stream",
     "text": [
      "¿Quieres ver cada término de la secuencia?\n",
      "si\n",
      "(1, 1, 2, 3, 5, 8, 13, 21, 34, 55, 89, 144, 233, 377, 610, 987, 1597, 2584, 4181, 6765, 10946, 17711, 28657, 46368, 75025, 121393, 196418, 317811, 514229, 832040, 1346269, 2178309, 3524578)\n"
     ]
    }
   ],
   "source": [
    "resp=False\n",
    "while resp==False:\n",
    "    ques=input(\"¿Quieres ver cada término de la secuencia?\\n\")\n",
    "    if ques==\"si\":\n",
    "        print (lista)\n",
    "        resp=True\n",
    "    elif ques == \"no\":\n",
    "        print(\"OK, el ejercicio ha terminado Miguel\")\n",
    "        resp=True\n",
    "    else:\n",
    "        print(\"Solo se acepta un si o no como respuesta :(\")"
   ]
  },
  {
   "cell_type": "markdown",
   "id": "5c93233b",
   "metadata": {},
   "source": [
    "+ Se escoge el término 32 porque hasta ese número no se exceden los 4 millones"
   ]
  },
  {
   "cell_type": "code",
   "execution_count": null,
   "id": "40db2686",
   "metadata": {},
   "outputs": [],
   "source": []
  }
 ],
 "metadata": {
  "kernelspec": {
   "display_name": "Python 3 (ipykernel)",
   "language": "python",
   "name": "python3"
  },
  "language_info": {
   "codemirror_mode": {
    "name": "ipython",
    "version": 3
   },
   "file_extension": ".py",
   "mimetype": "text/x-python",
   "name": "python",
   "nbconvert_exporter": "python",
   "pygments_lexer": "ipython3",
   "version": "3.9.6"
  }
 },
 "nbformat": 4,
 "nbformat_minor": 5
}
