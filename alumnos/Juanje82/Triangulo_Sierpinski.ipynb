{
 "cells": [
  {
   "cell_type": "markdown",
   "id": "b92e084d",
   "metadata": {},
   "source": [
    "# Triángulo de Sierpinski"
   ]
  },
  {
   "cell_type": "code",
   "execution_count": null,
   "id": "fd98797e",
   "metadata": {},
   "outputs": [],
   "source": [
    "class Sierpinski:\n",
    "    def __init__(self, x1, y1, x2, y2, x3, y3, iteracion):\n",
    "        self.x1 = x1\n",
    "        self.y1 = y1\n",
    "        self.x2 = x2\n",
    "        self.y2 = y2\n",
    "        self.x3 = x3\n",
    "        self.y3 = y3\n",
    "    \n",
    "    def _generar(self, x1, y1, x2, y2, x3, y3, iteracion):\n",
    "        \n",
    "        if iteracion == 0:\n",
    "            self.dibujar(x1, y1, x2, y2, x3, y3)\n",
    "            \n",
    "        elif iteracion >= 0:\n",
    "            x1 = xi + (xf - xi) / 3.0\n",
    "            y1 = yi + (yf - yi) / 3.0\n",
    "            \n",
    "            x2 = xi + (xf - xi) / 3.0\n",
    "            y2 = yi + (yf - yi) / 3.0\n",
    "            \n",
    "            x3 = xf - (xf - xi) / 3.0\n",
    "            y3 = yf - (yf - yi) / 3.0\n",
    "            \n",
    "\n",
    "            x2 = x1 + r*np.cos(alpha)\n",
    "            y2 = y1 + r*np.sin(alpha)\n",
    "            \n",
    "            \n",
    "            self._generar(xi, yi, x1, y1, iteracion - 1)\n",
    "            self._generar(x1, y1, x2, y2, iteracion - 1)\n",
    "            self._generar(x2, y2, x3, y3, iteracion - 1)\n",
    "            self._generar(x3, y3, xf, yf, iteracion - 1)\n",
    "            \n",
    "    def dibujar(self, xi, yi, xf, yf):\n",
    "        plot([xi, xf], [yi, yf], lw=1.0, color='black')\n",
    "        \n",
    "    def generar(self, iteraciones=0):\n",
    "        return self._generar(self.xi, self.yi, self.xf, self.yf, iteraciones)       "
   ]
  }
 ],
 "metadata": {
  "kernelspec": {
   "display_name": "Python 3 (ipykernel)",
   "language": "python",
   "name": "python3"
  },
  "language_info": {
   "codemirror_mode": {
    "name": "ipython",
    "version": 3
   },
   "file_extension": ".py",
   "mimetype": "text/x-python",
   "name": "python",
   "nbconvert_exporter": "python",
   "pygments_lexer": "ipython3",
   "version": "3.9.6"
  }
 },
 "nbformat": 4,
 "nbformat_minor": 5
}
