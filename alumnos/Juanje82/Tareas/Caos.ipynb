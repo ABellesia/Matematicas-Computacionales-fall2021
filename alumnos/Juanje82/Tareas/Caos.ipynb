{
 "cells": [
  {
   "cell_type": "markdown",
   "id": "4e8ab561",
   "metadata": {},
   "source": [
    "# Tarea del caos"
   ]
  },
  {
   "cell_type": "code",
   "execution_count": 107,
   "id": "7676f412",
   "metadata": {},
   "outputs": [],
   "source": [
    "from sympy import *\n",
    "import matplotlib.pyplot as plt\n",
    "from ipywidgets import interact, fixed"
   ]
  },
  {
   "cell_type": "markdown",
   "id": "c3bcaffe",
   "metadata": {},
   "source": [
    "<div class=\"alert alert-info\">\n",
    "    \n",
    "**Ejercicio**  Define la función `logistic_map` que recibe como parámetros $x$ y $r$ regresa $rx(1−x)$. \n",
    "</div>"
   ]
  },
  {
   "cell_type": "code",
   "execution_count": 2,
   "id": "00b66957",
   "metadata": {},
   "outputs": [],
   "source": [
    "def logistic_map(x,r):\n",
    "    return r*x*(1-x)"
   ]
  },
  {
   "cell_type": "markdown",
   "id": "0b1770e5",
   "metadata": {},
   "source": [
    "<div class=\"alert alert-info\">\n",
    "    \n",
    "**Ejercicio** Calcule el punto fijo para $r = 2$ usando SymPy\n",
    "</div>"
   ]
  },
  {
   "cell_type": "code",
   "execution_count": 20,
   "id": "3fc80971",
   "metadata": {},
   "outputs": [],
   "source": [
    "x=Symbol('x')\n",
    "r=Symbol('r')"
   ]
  },
  {
   "cell_type": "code",
   "execution_count": 15,
   "id": "b0f2eb00",
   "metadata": {},
   "outputs": [
    {
     "data": {
      "text/plain": [
       "[0, 1/2]"
      ]
     },
     "execution_count": 15,
     "metadata": {},
     "output_type": "execute_result"
    }
   ],
   "source": [
    "solve(Eq(logistic_map(x,2),x))"
   ]
  },
  {
   "cell_type": "markdown",
   "id": "dad6c280",
   "metadata": {},
   "source": [
    "<div class=\"alert alert-info\">\n",
    "    \n",
    "**Ejercicio** ¿Cuáles son las condiciones de estabilidad para el parámetro $r$? Los valores de $r$ para cuales cambia de estable a inestable y viceversa, se llaman _puntos de bifurcación_.\n",
    "</div>"
   ]
  },
  {
   "cell_type": "code",
   "execution_count": 31,
   "id": "7ae0934a",
   "metadata": {},
   "outputs": [
    {
     "data": {
      "text/latex": [
       "$\\displaystyle 1 < r \\wedge r < 3$"
      ],
      "text/plain": [
       "(1 < r) & (r < 3)"
      ]
     },
     "execution_count": 31,
     "metadata": {},
     "output_type": "execute_result"
    }
   ],
   "source": [
    "solve(abs(diff(logistic_map(x,r),x).replace(x,1-1/r))<1)"
   ]
  },
  {
   "cell_type": "markdown",
   "id": "b816b3e8",
   "metadata": {},
   "source": [
    "<div class=\"alert alert-info\">\n",
    "    \n",
    "**Ejercicio** Define una función `iterar` que reciba una función `g`, un punto inicial `x0`, un entero `N` y el parámetro `r` regrese $g(g( \\ldots(g(x_0, r),r) \\ldots)$. En otras palabras que itere `g`, `N` veces a partir del punto `x0`.\n",
    "</div>"
   ]
  },
  {
   "cell_type": "code",
   "execution_count": 40,
   "id": "c2dd9380",
   "metadata": {},
   "outputs": [],
   "source": [
    "def iterar(g,x0,N,r):\n",
    "    if N==1:\n",
    "        return g(x0,r)\n",
    "    else:\n",
    "        x0=g(x0,r)\n",
    "        return iterar(g,x0,N-1,r)"
   ]
  },
  {
   "cell_type": "markdown",
   "id": "684a56cb",
   "metadata": {},
   "source": [
    "<div class=\"alert alert-info\">\n",
    "    \n",
    "**Ejercicio** Define una función `iterarLista` que reciba una función `g`, un punto inicial `x0`, un entero `N` y el parámetro $r$ regrese la lista $[x_0, g(x), g(g(x)), \\ldots g(g(\\ldots(g(x))\\ldots))]$ En otras palabras que itere `g`, `N-1` veces a partir del punto `x0` y devuelva la órbita completa empezando desde `x0`.\n",
    "</div>"
   ]
  },
  {
   "cell_type": "code",
   "execution_count": 59,
   "id": "6067b1b5",
   "metadata": {},
   "outputs": [],
   "source": [
    "def iterarLista(g,x0,N,r):\n",
    "    list_iter=[x0]\n",
    "    for i in range(N-1):\n",
    "        list_iter.append(iterar(g,x0,i+1,r))\n",
    "    return list_iter"
   ]
  },
  {
   "cell_type": "markdown",
   "id": "1737c4a3",
   "metadata": {},
   "source": [
    "<div class=\"alert alert-info\">\n",
    "    \n",
    "**Ejercicio** Usa las funciones recién definidas para calcular iteraciones para $r = \\{ 0.8, 1.2, 2.8, 3.2\\}$,\n",
    "</div>"
   ]
  },
  {
   "cell_type": "code",
   "execution_count": 84,
   "id": "ef5e8824",
   "metadata": {},
   "outputs": [
    {
     "data": {
      "text/latex": [
       "$\\displaystyle 0.512 x \\left(1 - x\\right) \\left(- 0.8 x \\left(1 - x\\right) + 1\\right) \\left(- 0.64 x \\left(1 - x\\right) \\left(- 0.8 x \\left(1 - x\\right) + 1\\right) + 1\\right)$"
      ],
      "text/plain": [
       "0.512*x*(1 - x)*(-0.8*x*(1 - x) + 1)*(-0.64*x*(1 - x)*(-0.8*x*(1 - x) + 1) + 1)"
      ]
     },
     "execution_count": 84,
     "metadata": {},
     "output_type": "execute_result"
    }
   ],
   "source": [
    "iterar(logistic_map,x,3,0.8)"
   ]
  },
  {
   "cell_type": "code",
   "execution_count": 85,
   "id": "7d9aed39",
   "metadata": {},
   "outputs": [
    {
     "data": {
      "text/plain": [
       "[x, 0.8*x*(1 - x), 0.64*x*(1 - x)*(-0.8*x*(1 - x) + 1)]"
      ]
     },
     "execution_count": 85,
     "metadata": {},
     "output_type": "execute_result"
    }
   ],
   "source": [
    "iterarLista(logistic_map,x,3,0.8)"
   ]
  },
  {
   "cell_type": "code",
   "execution_count": 86,
   "id": "6b18ebbd",
   "metadata": {},
   "outputs": [
    {
     "data": {
      "text/latex": [
       "$\\displaystyle 1.728 x \\left(1 - x\\right) \\left(- 1.2 x \\left(1 - x\\right) + 1\\right) \\left(- 1.44 x \\left(1 - x\\right) \\left(- 1.2 x \\left(1 - x\\right) + 1\\right) + 1\\right)$"
      ],
      "text/plain": [
       "1.728*x*(1 - x)*(-1.2*x*(1 - x) + 1)*(-1.44*x*(1 - x)*(-1.2*x*(1 - x) + 1) + 1)"
      ]
     },
     "execution_count": 86,
     "metadata": {},
     "output_type": "execute_result"
    }
   ],
   "source": [
    "iterar(logistic_map,x,3,1.2)"
   ]
  },
  {
   "cell_type": "code",
   "execution_count": 87,
   "id": "1a22746d",
   "metadata": {},
   "outputs": [
    {
     "data": {
      "text/plain": [
       "[x, 1.2*x*(1 - x), 1.44*x*(1 - x)*(-1.2*x*(1 - x) + 1)]"
      ]
     },
     "execution_count": 87,
     "metadata": {},
     "output_type": "execute_result"
    }
   ],
   "source": [
    "iterarLista(logistic_map,x,3,1.2)"
   ]
  },
  {
   "cell_type": "code",
   "execution_count": 89,
   "id": "b389dd50",
   "metadata": {},
   "outputs": [
    {
     "data": {
      "text/latex": [
       "$\\displaystyle 21.952 x \\left(1 - x\\right) \\left(- 2.8 x \\left(1 - x\\right) + 1\\right) \\left(- 7.84 x \\left(1 - x\\right) \\left(- 2.8 x \\left(1 - x\\right) + 1\\right) + 1\\right)$"
      ],
      "text/plain": [
       "21.952*x*(1 - x)*(-2.8*x*(1 - x) + 1)*(-7.84*x*(1 - x)*(-2.8*x*(1 - x) + 1) + 1)"
      ]
     },
     "execution_count": 89,
     "metadata": {},
     "output_type": "execute_result"
    }
   ],
   "source": [
    "iterar(logistic_map,x,3,2.8)"
   ]
  },
  {
   "cell_type": "code",
   "execution_count": 88,
   "id": "ad3c891c",
   "metadata": {},
   "outputs": [
    {
     "data": {
      "text/plain": [
       "[x, 2.8*x*(1 - x), 7.84*x*(1 - x)*(-2.8*x*(1 - x) + 1)]"
      ]
     },
     "execution_count": 88,
     "metadata": {},
     "output_type": "execute_result"
    }
   ],
   "source": [
    "iterarLista(logistic_map,x,3,2.8)"
   ]
  },
  {
   "cell_type": "code",
   "execution_count": 90,
   "id": "e1b132fb",
   "metadata": {},
   "outputs": [
    {
     "data": {
      "text/latex": [
       "$\\displaystyle 32.768 x \\left(1 - x\\right) \\left(- 3.2 x \\left(1 - x\\right) + 1\\right) \\left(- 10.24 x \\left(1 - x\\right) \\left(- 3.2 x \\left(1 - x\\right) + 1\\right) + 1\\right)$"
      ],
      "text/plain": [
       "32.768*x*(1 - x)*(-3.2*x*(1 - x) + 1)*(-10.24*x*(1 - x)*(-3.2*x*(1 - x) + 1) + 1)"
      ]
     },
     "execution_count": 90,
     "metadata": {},
     "output_type": "execute_result"
    }
   ],
   "source": [
    "iterar(logistic_map,x,3,3.2)"
   ]
  },
  {
   "cell_type": "code",
   "execution_count": 91,
   "id": "e7a16184",
   "metadata": {},
   "outputs": [
    {
     "data": {
      "text/plain": [
       "[x, 3.2*x*(1 - x), 10.24*x*(1 - x)*(-3.2*x*(1 - x) + 1)]"
      ]
     },
     "execution_count": 91,
     "metadata": {},
     "output_type": "execute_result"
    }
   ],
   "source": [
    "iterarLista(logistic_map,x,3,3.2)"
   ]
  },
  {
   "cell_type": "markdown",
   "id": "10196b9c",
   "metadata": {},
   "source": [
    "<div class=\"alert alert-info\">\n",
    "    \n",
    "**Ejercicio** Programa un control para cambiar $r$ entre $0$ y $4$ (con un slider) y otro para definid $x_0$. Grafica `logistic_map` respecto al número de iteraciones $N$. ¿Qué observas? ¿Puedes ver algún _periodo_?¿Está cerca de los puntos fijos?\n",
    "</div>"
   ]
  },
  {
   "cell_type": "code",
   "execution_count": 120,
   "id": "36647d8a",
   "metadata": {},
   "outputs": [
    {
     "data": {
      "text/plain": [
       "[<matplotlib.lines.Line2D at 0x7fc46c48bbe0>]"
      ]
     },
     "execution_count": 120,
     "metadata": {},
     "output_type": "execute_result"
    },
    {
     "data": {
      "image/png": "[encoded data removed]",
      "text/plain": [
       "<Figure size 432x288 with 1 Axes>"
      ]
     },
     "metadata": {
      "needs_background": "light"
     },
     "output_type": "display_data"
    }
   ],
   "source": [
    "plt.plot(iterarLista(logistic_map,1/4,100,3)[1:])"
   ]
  },
  {
   "cell_type": "code",
   "execution_count": null,
   "id": "8faf7dc3",
   "metadata": {},
   "outputs": [],
   "source": []
  },
  {
   "cell_type": "markdown",
   "id": "93685217",
   "metadata": {},
   "source": [
    "<div class=\"alert alert-info\">\n",
    "    \n",
    "**Ejercicio** ¿Qué sucede para (a) $x_0 = 0.35$ en $r = 2.8$ y (b) para $x_0 = 0.35$ en $r=3.1$. ¿Porqué escogí estos valores?\n",
    "</div>"
   ]
  },
  {
   "cell_type": "code",
   "execution_count": 96,
   "id": "d20671f6",
   "metadata": {},
   "outputs": [
    {
     "data": {
      "text/plain": [
       "[<matplotlib.lines.Line2D at 0x7fc493e2a520>]"
      ]
     },
     "execution_count": 96,
     "metadata": {},
     "output_type": "execute_result"
    },
    {
     "data": {
      "image/png": "[encoded data removed]",
      "text/plain": [
       "<Figure size 432x288 with 1 Axes>"
      ]
     },
     "metadata": {
      "needs_background": "light"
     },
     "output_type": "display_data"
    }
   ],
   "source": [
    "plt.plot(iterarLista(logistic_map,0.35,100,2.8)[1:])"
   ]
  },
  {
   "cell_type": "code",
   "execution_count": 97,
   "id": "28484399",
   "metadata": {},
   "outputs": [
    {
     "data": {
      "text/plain": [
       "[<matplotlib.lines.Line2D at 0x7fc493ea7580>]"
      ]
     },
     "execution_count": 97,
     "metadata": {},
     "output_type": "execute_result"
    },
    {
     "data": {
      "image/png": "[encoded data removed]",
      "text/plain": [
       "<Figure size 432x288 with 1 Axes>"
      ]
     },
     "metadata": {
      "needs_background": "light"
     },
     "output_type": "display_data"
    }
   ],
   "source": [
    "plt.plot(iterarLista(logistic_map,0.35,100,3.1)[1:])"
   ]
  },
  {
   "cell_type": "markdown",
   "id": "90c498f1",
   "metadata": {},
   "source": [
    "# Diagrama de Cobweb"
   ]
  },
  {
   "cell_type": "markdown",
   "id": "1a4a4644",
   "metadata": {},
   "source": [
    "<div class=\"alert alert-info\">\n",
    "    \n",
    "**Ejercicio** Dibuja en una gráfica `logistic_map`, como ejes usa $N_{n+1}$ y $N_n$, además agrega la línea $y = x$ en la misma gráfica. ¿Qué observas para los distintos valores de $r$? Grafícala junto a la gráfica anterior.\n",
    "</div>"
   ]
  },
  {
   "cell_type": "markdown",
   "id": "c5c7ed6e",
   "metadata": {},
   "source": [
    "<div class=\"alert alert-info\">\n",
    "    \n",
    "**Ejercicio** Agrega los segmentos de línea $(x_0, x_0), (x_0. f(x_0)), (f(x_0), f(x_0)), (f(x_0), f(f(x_0))), \\ldots$\n",
    "</div>"
   ]
  },
  {
   "cell_type": "markdown",
   "id": "7d18816b",
   "metadata": {},
   "source": [
    "# Diagrama de bifurcación"
   ]
  },
  {
   "cell_type": "code",
   "execution_count": null,
   "id": "348af9f8",
   "metadata": {},
   "outputs": [],
   "source": []
  }
 ],
 "metadata": {
  "kernelspec": {
   "display_name": "Python 3 (ipykernel)",
   "language": "python",
   "name": "python3"
  },
  "language_info": {
   "codemirror_mode": {
    "name": "ipython",
    "version": 3
   },
   "file_extension": ".py",
   "mimetype": "text/x-python",
   "name": "python",
   "nbconvert_exporter": "python",
   "pygments_lexer": "ipython3",
   "version": "3.9.6"
  }
 },
 "nbformat": 4,
 "nbformat_minor": 5
}
