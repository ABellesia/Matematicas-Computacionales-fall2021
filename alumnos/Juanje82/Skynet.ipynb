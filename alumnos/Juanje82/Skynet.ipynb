{
 "cells": [
  {
   "cell_type": "markdown",
   "id": "7b4f3539",
   "metadata": {},
   "source": [
    "# Algoritmos genéticos"
   ]
  },
  {
   "cell_type": "code",
   "execution_count": 4,
   "id": "f0496616",
   "metadata": {},
   "outputs": [],
   "source": [
    "class GA:\n",
    "    \n",
    "    def __init__(self,tamaño_poblacion,tasa_mutacion, tasa_crossover, max_generaciones, fitness):\n",
    "        self.tp=tamaño_poblacion\n",
    "        self.tm=tasa_mutacion\n",
    "        self.tc=tasa_crossover\n",
    "        self.mc=max_generaciones\n",
    "        self.fitness=fitness\n",
    "        self.poblacion=[]\n",
    "        self.generacion=0\n",
    "        self.mejor_solucion_historica=[]\n",
    "        self.mejor_solucion_actual=[]\n",
    "        \n",
    "    def __str__(self):\n",
    "        for chromosma in self.poblacion:\n",
    "            print(chromosoma)\n",
    "        print(self.generacion)\n",
    "        print(self.)\n",
    "    \n",
    "    def poblar(self,n):\n",
    "        self.poblacion=[BitChromosoma(10) for i in range(self.tp)]\n",
    "        "
   ]
  },
  {
   "cell_type": "code",
   "execution_count": 2,
   "id": "886860e1",
   "metadata": {},
   "outputs": [],
   "source": [
    "from abc import ABC, abstractmethod\n",
    "\n",
    "class Chromosoma(ABC):\n",
    "    pass\n",
    "a=Chromosoma()"
   ]
  },
  {
   "cell_type": "code",
   "execution_count": 3,
   "id": "e33d46d1",
   "metadata": {},
   "outputs": [],
   "source": [
    "import random\n",
    "class bitChromosoma(Chromosoma):\n",
    "    def __init__(self,n,cadena=''):\n",
    "        if cadena!='':\n",
    "            self.cadena=cadena\n",
    "        else:\n",
    "            self.cadena= ''.join([str(random.randint(0,1)) for x in range(n)])"
   ]
  },
  {
   "cell_type": "code",
   "execution_count": null,
   "id": "f07514eb",
   "metadata": {},
   "outputs": [],
   "source": []
  }
 ],
 "metadata": {
  "kernelspec": {
   "display_name": "Python 3 (ipykernel)",
   "language": "python",
   "name": "python3"
  },
  "language_info": {
   "codemirror_mode": {
    "name": "ipython",
    "version": 3
   },
   "file_extension": ".py",
   "mimetype": "text/x-python",
   "name": "python",
   "nbconvert_exporter": "python",
   "pygments_lexer": "ipython3",
   "version": "3.9.6"
  }
 },
 "nbformat": 4,
 "nbformat_minor": 5
}
