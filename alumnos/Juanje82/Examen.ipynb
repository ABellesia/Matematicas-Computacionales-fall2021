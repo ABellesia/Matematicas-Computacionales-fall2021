{
 "cells": [
  {
   "cell_type": "markdown",
   "id": "1ad4894b",
   "metadata": {},
   "source": [
    "# Examen"
   ]
  },
  {
   "cell_type": "markdown",
   "id": "8cae27ef",
   "metadata": {},
   "source": [
    "## Juan Jesús Rodríguez Martínez"
   ]
  },
  {
   "cell_type": "code",
   "execution_count": 87,
   "id": "3dc421e1",
   "metadata": {},
   "outputs": [],
   "source": [
    "import sympy as sym\n",
    "import numpy as np\n",
    "import matplotlib.pyplot as plt\n",
    "from scipy.integrate import odeint"
   ]
  },
  {
   "cell_type": "markdown",
   "id": "2cacaf48",
   "metadata": {},
   "source": [
    "### Problema 1"
   ]
  },
  {
   "cell_type": "markdown",
   "id": "bd80f48b",
   "metadata": {},
   "source": [
    "(a) Usando `Simpy`, declara las funciones:\n",
    "$$\n",
    "y(x) = \\cos(x)\n",
    "$$\n",
    "\n",
    "$$\n",
    "z(x) = \\sin(x)\n",
    "$$\n",
    "\n",
    "$$\n",
    "w(x) = \\frac{1}{\\sin(x) + \\cos(2x)}\n",
    "$$"
   ]
  },
  {
   "cell_type": "code",
   "execution_count": 2,
   "id": "0d3dbfcd",
   "metadata": {},
   "outputs": [],
   "source": [
    "x= sym.Symbol('x')"
   ]
  },
  {
   "cell_type": "code",
   "execution_count": 89,
   "id": "e6a7576b",
   "metadata": {},
   "outputs": [
    {
     "data": {
      "text/latex": [
       "$\\displaystyle \\cos{\\left(x \\right)}$"
      ],
      "text/plain": [
       "cos(x)"
      ]
     },
     "execution_count": 89,
     "metadata": {},
     "output_type": "execute_result"
    }
   ],
   "source": [
    "y=sym.cos(x)\n",
    "y"
   ]
  },
  {
   "cell_type": "code",
   "execution_count": 4,
   "id": "06263dd1",
   "metadata": {},
   "outputs": [
    {
     "data": {
      "text/latex": [
       "$\\displaystyle \\sin{\\left(x \\right)}$"
      ],
      "text/plain": [
       "sin(x)"
      ]
     },
     "execution_count": 4,
     "metadata": {},
     "output_type": "execute_result"
    }
   ],
   "source": [
    "z=sym.sin(x)\n",
    "z"
   ]
  },
  {
   "cell_type": "code",
   "execution_count": 5,
   "id": "5c973c78",
   "metadata": {},
   "outputs": [
    {
     "data": {
      "text/latex": [
       "$\\displaystyle \\frac{1}{\\sin{\\left(x \\right)} + \\cos{\\left(2 x \\right)}}$"
      ],
      "text/plain": [
       "1/(sin(x) + cos(2*x))"
      ]
     },
     "execution_count": 5,
     "metadata": {},
     "output_type": "execute_result"
    }
   ],
   "source": [
    "w=1/(sym.sin(x)+sym.cos(2*x))\n",
    "w"
   ]
  },
  {
   "cell_type": "markdown",
   "id": "8c64cd24",
   "metadata": {},
   "source": [
    "(b) Obtén la derivada de $g(x)$\n",
    "\n",
    "$$\n",
    "g(x) = y(x)*z(x)\n",
    "$$\n"
   ]
  },
  {
   "cell_type": "code",
   "execution_count": 51,
   "id": "9fd79ca4",
   "metadata": {},
   "outputs": [
    {
     "name": "stdout",
     "output_type": "stream",
     "text": [
      "La derivada de g(x) es \n"
     ]
    },
    {
     "data": {
      "text/latex": [
       "$\\displaystyle - \\sin^{2}{\\left(x \\right)} + \\cos^{2}{\\left(x \\right)}$"
      ],
      "text/plain": [
       "-sin(x)**2 + cos(x)**2"
      ]
     },
     "execution_count": 51,
     "metadata": {},
     "output_type": "execute_result"
    }
   ],
   "source": [
    "g=y*z\n",
    "print(\"La derivada de g(x) es \")\n",
    "sym.diff(g)"
   ]
  },
  {
   "cell_type": "markdown",
   "id": "6d6a75d4",
   "metadata": {},
   "source": [
    "(c) Grafica $w(x)$ en el rango $[0,1]$\n"
   ]
  },
  {
   "cell_type": "code",
   "execution_count": 83,
   "id": "82825f47",
   "metadata": {},
   "outputs": [
    {
     "data": {
      "image/png": "[encoded data removed]",
      "text/plain": [
       "<Figure size 432x288 with 1 Axes>"
      ]
     },
     "metadata": {
      "needs_background": "light"
     },
     "output_type": "display_data"
    },
    {
     "data": {
      "text/plain": [
       "<sympy.plotting.plot.Plot at 0x7f30cad0c790>"
      ]
     },
     "execution_count": 83,
     "metadata": {},
     "output_type": "execute_result"
    }
   ],
   "source": [
    "sym.plot(w,xlim=(0,1),ylim=(0,2),title='Gráfica de W',ylabel=\"w(x)\")"
   ]
  },
  {
   "cell_type": "markdown",
   "id": "e358d39b",
   "metadata": {},
   "source": [
    "(d) Integra de manera indefinida $g(x)$ y luego evalúala desde $0$ a $1$."
   ]
  },
  {
   "cell_type": "code",
   "execution_count": 62,
   "id": "76f8125f",
   "metadata": {},
   "outputs": [
    {
     "name": "stdout",
     "output_type": "stream",
     "text": [
      "La integral de g(x) es \n"
     ]
    },
    {
     "data": {
      "text/latex": [
       "$\\displaystyle \\frac{\\sin^{2}{\\left(x \\right)}}{2}$"
      ],
      "text/plain": [
       "sin(x)**2/2"
      ]
     },
     "execution_count": 62,
     "metadata": {},
     "output_type": "execute_result"
    }
   ],
   "source": [
    "print(\"La integral de g(x) es \")\n",
    "sym.integrate(g)"
   ]
  },
  {
   "cell_type": "code",
   "execution_count": 68,
   "id": "ff4d1fec",
   "metadata": {},
   "outputs": [
    {
     "name": "stdout",
     "output_type": "stream",
     "text": [
      "La integral definida de g(x) en el intervalo de 0 a 1 es \n"
     ]
    },
    {
     "data": {
      "text/latex": [
       "$\\displaystyle \\frac{\\sin^{2}{\\left(1 \\right)}}{2}$"
      ],
      "text/plain": [
       "sin(1)**2/2"
      ]
     },
     "execution_count": 68,
     "metadata": {},
     "output_type": "execute_result"
    }
   ],
   "source": [
    "print(\"La integral definida de g(x) en el intervalo de 0 a 1 es \")\n",
    "sym.integrate(g,(x,0,1))"
   ]
  },
  {
   "cell_type": "markdown",
   "id": "a3293386",
   "metadata": {},
   "source": [
    "(e) ¿Cuál es el límite de $y(x), z(x), g(x)$ y $w(x)$ cuando $x \\to 0$.?"
   ]
  },
  {
   "cell_type": "code",
   "execution_count": 43,
   "id": "49c87085",
   "metadata": {},
   "outputs": [
    {
     "name": "stdout",
     "output_type": "stream",
     "text": [
      "El límite de y(x) cuando x tiende a 0 es  1\n"
     ]
    }
   ],
   "source": [
    "print(\"El límite de y(x) cuando x tiende a 0 es: \",sym.limit(y,x,0))"
   ]
  },
  {
   "cell_type": "code",
   "execution_count": 44,
   "id": "182b6fae",
   "metadata": {},
   "outputs": [
    {
     "name": "stdout",
     "output_type": "stream",
     "text": [
      "El límite de z(x) cuando x tiende a 0 es  0\n"
     ]
    }
   ],
   "source": [
    "print(\"El límite de z(x) cuando x tiende a 0 es: \",sym.limit(z,x,0))"
   ]
  },
  {
   "cell_type": "code",
   "execution_count": 45,
   "id": "bdedc6e4",
   "metadata": {},
   "outputs": [
    {
     "name": "stdout",
     "output_type": "stream",
     "text": [
      "El límite de g(x) cuando x tiende a 0 es  0\n"
     ]
    }
   ],
   "source": [
    "print(\"El límite de g(x) cuando x tiende a 0 es: \",sym.limit(g,x,0))"
   ]
  },
  {
   "cell_type": "code",
   "execution_count": 46,
   "id": "e7dd9272",
   "metadata": {},
   "outputs": [
    {
     "name": "stdout",
     "output_type": "stream",
     "text": [
      "El límite de w(x) cuando x tiende a 0 es  1\n"
     ]
    }
   ],
   "source": [
    "print(\"El límite de w(x) cuando x tiende a 0 es: \",sym.limit(w,x,0))"
   ]
  },
  {
   "cell_type": "markdown",
   "id": "51240446",
   "metadata": {},
   "source": [
    "(f) Expanda $y(x)$ y $z(x)$ hasta 3 orden en serie de Taylor."
   ]
  },
  {
   "cell_type": "code",
   "execution_count": 93,
   "id": "f31c9f9c",
   "metadata": {},
   "outputs": [
    {
     "data": {
      "text/latex": [
       "$\\displaystyle 1 - \\frac{x^{2}}{2} + \\frac{x^{4}}{24} + O\\left(x^{6}\\right)$"
      ],
      "text/plain": [
       "1 - x**2/2 + x**4/24 + O(x**6)"
      ]
     },
     "execution_count": 93,
     "metadata": {},
     "output_type": "execute_result"
    }
   ],
   "source": [
    "sym.series(y,x)"
   ]
  },
  {
   "cell_type": "code",
   "execution_count": 91,
   "id": "03922f3f",
   "metadata": {},
   "outputs": [
    {
     "data": {
      "text/latex": [
       "$\\displaystyle x - \\frac{x^{3}}{6} + \\frac{x^{5}}{120} + O\\left(x^{6}\\right)$"
      ],
      "text/plain": [
       "x - x**3/6 + x**5/120 + O(x**6)"
      ]
     },
     "execution_count": 91,
     "metadata": {},
     "output_type": "execute_result"
    }
   ],
   "source": [
    "sym.series(z,x)"
   ]
  },
  {
   "cell_type": "markdown",
   "id": "bfcb9504",
   "metadata": {},
   "source": [
    "### Problema 2"
   ]
  },
  {
   "cell_type": "markdown",
   "id": "88df5cc8",
   "metadata": {},
   "source": [
    "El [**atractor de Rössler**](http://en.wikipedia.org/wiki/R%C3%B6ssler_attractor) esta descrito por el siguiente conjunto de ecuaciones:"
   ]
  },
  {
   "cell_type": "markdown",
   "id": "9e35567a",
   "metadata": {},
   "source": [
    "$$\n",
    "\\frac{dx}{dt} = -y -z\n",
    "$$\n",
    "\n",
    "$$\n",
    "\\frac{dy}{dt} = x + ay\n",
    "$$\n",
    "\n",
    "$$\n",
    "\\frac{dz}{dt} = b + z(x-c)\n",
    "$$"
   ]
  },
  {
   "cell_type": "markdown",
   "id": "f4207d1a",
   "metadata": {},
   "source": [
    "(a) Resuelva las ecuaciones numéricamente para \n",
    "\n",
    "$$\n",
    "a=0.13 \\quad b=0.2 \\quad c=6.5 \n",
    "$$\n",
    "\n",
    "y condiciones iniciales\n",
    "\n",
    "$$\n",
    "x(0)=0 \\quad y(0)=0 \\quad z(0)=0 \n",
    "$$\n",
    "\n",
    "use el método de Runge-Kutta de 2do orden."
   ]
  },
  {
   "cell_type": "code",
   "execution_count": 111,
   "id": "94ab8c9e",
   "metadata": {},
   "outputs": [],
   "source": [
    "#constantes\n",
    "a=0.13\n",
    "b=0.2\n",
    "c=6.5"
   ]
  },
  {
   "cell_type": "code",
   "execution_count": null,
   "id": "2c834c96",
   "metadata": {},
   "outputs": [],
   "source": [
    "def RK2(y, t, dt, derivadas):\n",
    "    k0 = dt*derivadas(y, t)\n",
    "    k1 = dt*derivadas(y + k0, t + dt)\n",
    "    y_next = y + 0.5*(k0 + k1)\n",
    "    \n",
    "    return y_next"
   ]
  },
  {
   "cell_type": "markdown",
   "id": "e2d63ef7",
   "metadata": {},
   "source": [
    "(b) Muestra en una gráfica el comportamiento de las soluciones en el tiempo (i.e. grafica $x(t)$, $y(t)$ y $z(t)$)."
   ]
  },
  {
   "cell_type": "markdown",
   "id": "72e6df49",
   "metadata": {},
   "source": [
    "Sean\n",
    "$$\n",
    "\\phi=x\n",
    "$$\n",
    "\n",
    "$$\n",
    "\\dot\\phi=-y-z\n",
    "$$\n",
    "\n",
    "$$\n",
    "\\omega=y\n",
    "$$\n",
    "\n",
    "$$\n",
    "\\dot\\omega=x+ay\n",
    "$$\n",
    "\n",
    "$$\n",
    "\\theta=z\n",
    "$$\n",
    "\n",
    "$$\n",
    "\\dot\\theta=b+z(x-c)\n",
    "$$"
   ]
  },
  {
   "cell_type": "code",
   "execution_count": 123,
   "id": "18b8af9a",
   "metadata": {},
   "outputs": [],
   "source": [
    "def Rossler(estado,tiempo):\n",
    "    g0=estado[0]\n",
    "    g1=-estado[2]-estado[4]\n",
    "    g2=estado[2]\n",
    "    g3=estado[0]+a*estado[2]\n",
    "    g4=estado[4]\n",
    "    g5=b+estado[4]*(estado[0]-c)\n",
    "    return np.array([g0,g1,g2,g3,g4,g5])"
   ]
  },
  {
   "cell_type": "code",
   "execution_count": null,
   "id": "4020cbbc",
   "metadata": {},
   "outputs": [],
   "source": [
    "#condiciones iniciales\n",
    "i=np.zeros([6])\n",
    "i[-1]=b"
   ]
  },
  {
   "cell_type": "code",
   "execution_count": 124,
   "id": "c74583ed",
   "metadata": {},
   "outputs": [],
   "source": [
    "solucion=odeint(func=Rossler,y0=i,t=np.linspace(0,25,1000))"
   ]
  },
  {
   "cell_type": "code",
   "execution_count": 128,
   "id": "05ec9ce5",
   "metadata": {},
   "outputs": [
    {
     "data": {
      "text/plain": [
       "[<matplotlib.lines.Line2D at 0x7f30cace3b80>]"
      ]
     },
     "execution_count": 128,
     "metadata": {},
     "output_type": "execute_result"
    },
    {
     "data": {
      "image/png": "[encoded data removed]",
      "text/plain": [
       "<Figure size 432x288 with 1 Axes>"
      ]
     },
     "metadata": {
      "needs_background": "light"
     },
     "output_type": "display_data"
    }
   ],
   "source": [
    "xdata = (1+solucion[:,5])*np.sin(solucion[:,5])\n",
    "ydata = -(1+solucion[:,5])*np.cos(solucion[:,5])\n",
    "plt.plot(xdata,ydata,'g-')"
   ]
  },
  {
   "cell_type": "markdown",
   "id": "f7b9a7cf",
   "metadata": {},
   "source": [
    "(c) Muestra como se ve el **atractor de Rössler** en 3D (i.e. en el espacio)."
   ]
  },
  {
   "cell_type": "code",
   "execution_count": null,
   "id": "e3b9b32e",
   "metadata": {},
   "outputs": [],
   "source": []
  }
 ],
 "metadata": {
  "kernelspec": {
   "display_name": "Python 3 (ipykernel)",
   "language": "python",
   "name": "python3"
  },
  "language_info": {
   "codemirror_mode": {
    "name": "ipython",
    "version": 3
   },
   "file_extension": ".py",
   "mimetype": "text/x-python",
   "name": "python",
   "nbconvert_exporter": "python",
   "pygments_lexer": "ipython3",
   "version": "3.9.6"
  }
 },
 "nbformat": 4,
 "nbformat_minor": 5
}
