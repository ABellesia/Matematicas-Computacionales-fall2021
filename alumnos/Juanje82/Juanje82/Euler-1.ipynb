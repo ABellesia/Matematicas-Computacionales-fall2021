{
 "cells": [
  {
   "cell_type": "markdown",
   "id": "78849089",
   "metadata": {},
   "source": [
    "# Suma de los múltiplos de 3 y 5 menores a 1000"
   ]
  },
  {
   "cell_type": "code",
   "execution_count": 4,
   "id": "9e967d19",
   "metadata": {},
   "outputs": [
    {
     "data": {
      "text/plain": [
       "234168"
      ]
     },
     "execution_count": 4,
     "metadata": {},
     "output_type": "execute_result"
    }
   ],
   "source": [
    "sum([i for i in range(1,1001) if i%3==0 or i%5==0])"
   ]
  },
  {
   "cell_type": "markdown",
   "id": "0a7404db",
   "metadata": {},
   "source": [
    "# Suma de los números pares de la secuencia Fibonacci"
   ]
  },
  {
   "cell_type": "code",
   "execution_count": 8,
   "id": "7f696e59",
   "metadata": {},
   "outputs": [
    {
     "data": {
      "text/plain": [
       "4613732"
      ]
     },
     "execution_count": 8,
     "metadata": {},
     "output_type": "execute_result"
    }
   ],
   "source": [
    "a=1\n",
    "b=2\n",
    "fibo=[1,2]\n",
    "while a+b<4000000:\n",
    "    fibo.append(a+b)\n",
    "    total=a+b\n",
    "    a=b\n",
    "    b=total\n",
    "sum([i for i in fibo if i%2==0])"
   ]
  }
 ],
 "metadata": {
  "kernelspec": {
   "display_name": "Python 3 (ipykernel)",
   "language": "python",
   "name": "python3"
  },
  "language_info": {
   "codemirror_mode": {
    "name": "ipython",
    "version": 3
   },
   "file_extension": ".py",
   "mimetype": "text/x-python",
   "name": "python",
   "nbconvert_exporter": "python",
   "pygments_lexer": "ipython3",
   "version": "3.9.6"
  }
 },
 "nbformat": 4,
 "nbformat_minor": 5
}
