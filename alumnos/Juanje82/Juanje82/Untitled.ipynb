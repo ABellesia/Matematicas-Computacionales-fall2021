{
 "cells": [
  {
   "cell_type": "code",
   "execution_count": 1,
   "id": "aad7a370",
   "metadata": {},
   "outputs": [],
   "source": [
    "import sympy as sym"
   ]
  },
  {
   "cell_type": "code",
   "execution_count": 28,
   "id": "f8af591e",
   "metadata": {},
   "outputs": [
    {
     "data": {
      "text/latex": [
       "$\\displaystyle \\frac{v_{0}^{2} \\sin^{2}{\\left(\\theta \\right)}}{2 g}$"
      ],
      "text/plain": [
       "v_0**2*sin(theta)**2/(2*g)"
      ]
     },
     "execution_count": 28,
     "metadata": {},
     "output_type": "execute_result"
    }
   ],
   "source": [
    "theta, t, g, v0=sym.symbols('theta, t, g, v_0')\n",
    "sym.integrate(sym.sin(theta)*v0-g*t,t).subs(t,y)"
   ]
  },
  {
   "cell_type": "code",
   "execution_count": 27,
   "id": "2aa60fd6",
   "metadata": {},
   "outputs": [],
   "source": [
    "y=sym.solve(sym.sin(theta)*v0-g*t,t)[0]"
   ]
  },
  {
   "cell_type": "code",
   "execution_count": 10,
   "id": "aa25d276",
   "metadata": {},
   "outputs": [
    {
     "data": {
      "text/latex": [
       "$\\displaystyle t v_{0} \\cos{\\left(\\theta \\right)}$"
      ],
      "text/plain": [
       "t*v_0*cos(theta)"
      ]
     },
     "execution_count": 10,
     "metadata": {},
     "output_type": "execute_result"
    }
   ],
   "source": [
    "sym.integrate(sym.cos(theta)*v0,t)"
   ]
  },
  {
   "cell_type": "code",
   "execution_count": 17,
   "id": "38360111",
   "metadata": {},
   "outputs": [
    {
     "data": {
      "text/latex": [
       "$\\displaystyle v_{0} \\cos{\\left(\\theta \\right)}$"
      ],
      "text/plain": [
       "v_0*cos(theta)"
      ]
     },
     "execution_count": 17,
     "metadata": {},
     "output_type": "execute_result"
    }
   ],
   "source": [
    "sym.diff(sym.cos(theta)*v0*t,t)"
   ]
  },
  {
   "cell_type": "code",
   "execution_count": 29,
   "id": "119b668b",
   "metadata": {},
   "outputs": [
    {
     "data": {
      "text/plain": [
       "[{g: 2*v_0*sin(theta)/t}, {t: 0}]"
      ]
     },
     "execution_count": 29,
     "metadata": {},
     "output_type": "execute_result"
    }
   ],
   "source": [
    "sym.solve(sym.integrate(sym.sin(theta)*v0-g*t,t))"
   ]
  }
 ],
 "metadata": {
  "kernelspec": {
   "display_name": "Python 3 (ipykernel)",
   "language": "python",
   "name": "python3"
  },
  "language_info": {
   "codemirror_mode": {
    "name": "ipython",
    "version": 3
   },
   "file_extension": ".py",
   "mimetype": "text/x-python",
   "name": "python",
   "nbconvert_exporter": "python",
   "pygments_lexer": "ipython3",
   "version": "3.9.6"
  }
 },
 "nbformat": 4,
 "nbformat_minor": 5
}
