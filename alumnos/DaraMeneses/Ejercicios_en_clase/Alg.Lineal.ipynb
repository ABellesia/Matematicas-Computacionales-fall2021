{
 "cells": [
  {
   "cell_type": "markdown",
   "id": "c7bd3666",
   "metadata": {},
   "source": [
    "<div class=\"alert alert-info\">\n",
    "Sean las matrices $\\textbf{A}$ y $\\textbf{B}$ definidas abajo, compruebe las propiedades $1-6$ de los determinantes como se muestran en la página de la [Wikipedia](http://en.wikipedia.org/wiki/Determinant)\n",
    "</div>"
   ]
  },
  {
   "cell_type": "markdown",
   "id": "3047e833",
   "metadata": {},
   "source": [
    "### El determinante de una matriz y el de su traspuesta coinciden\n"
   ]
  },
  {
   "cell_type": "code",
   "execution_count": 3,
   "id": "957cc368",
   "metadata": {},
   "outputs": [
    {
     "name": "stdout",
     "output_type": "stream",
     "text": [
      "Populating the interactive namespace from numpy and matplotlib\n"
     ]
    }
   ],
   "source": [
    "%pylab inline\n",
    "import numpy as np\n",
    "import matplotlib.pyplot as plt\n",
    "from scipy import linalg"
   ]
  },
  {
   "cell_type": "code",
   "execution_count": 4,
   "id": "9306d976",
   "metadata": {},
   "outputs": [
    {
     "data": {
      "text/plain": [
       "array([[1, 2],\n",
       "       [3, 4]])"
      ]
     },
     "execution_count": 4,
     "metadata": {},
     "output_type": "execute_result"
    }
   ],
   "source": [
    "A = np.array([[1,2],[3,4]])\n",
    "A"
   ]
  },
  {
   "cell_type": "code",
   "execution_count": 5,
   "id": "087a4437",
   "metadata": {},
   "outputs": [
    {
     "data": {
      "text/plain": [
       "array([[1, 3],\n",
       "       [2, 4]])"
      ]
     },
     "execution_count": 5,
     "metadata": {},
     "output_type": "execute_result"
    }
   ],
   "source": [
    "A.T"
   ]
  },
  {
   "cell_type": "code",
   "execution_count": 6,
   "id": "be15c6d8",
   "metadata": {},
   "outputs": [
    {
     "data": {
      "text/plain": [
       "-2.0"
      ]
     },
     "execution_count": 6,
     "metadata": {},
     "output_type": "execute_result"
    }
   ],
   "source": [
    "linalg.det(A)"
   ]
  },
  {
   "cell_type": "code",
   "execution_count": 7,
   "id": "69347b60",
   "metadata": {},
   "outputs": [
    {
     "data": {
      "text/plain": [
       "-2.0"
      ]
     },
     "execution_count": 7,
     "metadata": {},
     "output_type": "execute_result"
    }
   ],
   "source": [
    "linalg.det(A.T)"
   ]
  },
  {
   "cell_type": "code",
   "execution_count": 10,
   "id": "a1ba959f",
   "metadata": {},
   "outputs": [
    {
     "data": {
      "text/plain": [
       "True"
      ]
     },
     "execution_count": 10,
     "metadata": {},
     "output_type": "execute_result"
    }
   ],
   "source": [
    "(linalg.det(A)) == (linalg.det(A.T))"
   ]
  },
  {
   "cell_type": "code",
   "execution_count": 20,
   "id": "ffe2d54c",
   "metadata": {},
   "outputs": [
    {
     "data": {
      "text/plain": [
       "True"
      ]
     },
     "execution_count": 20,
     "metadata": {},
     "output_type": "execute_result"
    }
   ],
   "source": [
    "#Usar la función near\n",
    "math.isclose(linalg.det(A),linalg.det(A.T))"
   ]
  },
  {
   "cell_type": "markdown",
   "id": "7e3469a6",
   "metadata": {},
   "source": [
    "#### Una propiedad fundamental del determinante es su comportamiento multiplicativo frente al producto de matrices:"
   ]
  },
  {
   "cell_type": "code",
   "execution_count": 21,
   "id": "4607c039",
   "metadata": {},
   "outputs": [
    {
     "data": {
      "text/plain": [
       "array([[1, 2],\n",
       "       [3, 4]])"
      ]
     },
     "execution_count": 21,
     "metadata": {},
     "output_type": "execute_result"
    }
   ],
   "source": [
    "A = np.array([[1,2],[3,4]])\n",
    "A"
   ]
  },
  {
   "cell_type": "code",
   "execution_count": 22,
   "id": "bf97ea80",
   "metadata": {},
   "outputs": [
    {
     "data": {
      "text/plain": [
       "array([[5, 6],\n",
       "       [7, 8]])"
      ]
     },
     "execution_count": 22,
     "metadata": {},
     "output_type": "execute_result"
    }
   ],
   "source": [
    "B = np.array([[5,6],[7,8]])\n",
    "B"
   ]
  },
  {
   "cell_type": "code",
   "execution_count": 26,
   "id": "725e3531",
   "metadata": {},
   "outputs": [
    {
     "data": {
      "text/plain": [
       "array([[19, 22],\n",
       "       [43, 50]])"
      ]
     },
     "execution_count": 26,
     "metadata": {},
     "output_type": "execute_result"
    }
   ],
   "source": [
    "A@B"
   ]
  },
  {
   "cell_type": "code",
   "execution_count": 27,
   "id": "56af5f80",
   "metadata": {},
   "outputs": [
    {
     "data": {
      "text/plain": [
       "3.9999999999999574"
      ]
     },
     "execution_count": 27,
     "metadata": {},
     "output_type": "execute_result"
    }
   ],
   "source": [
    "linalg.det(A@B)"
   ]
  },
  {
   "cell_type": "code",
   "execution_count": 28,
   "id": "2747ddc8",
   "metadata": {},
   "outputs": [
    {
     "data": {
      "text/plain": [
       "4.000000000000007"
      ]
     },
     "execution_count": 28,
     "metadata": {},
     "output_type": "execute_result"
    }
   ],
   "source": [
    "linalg.det(A)*linalg.det(B)"
   ]
  },
  {
   "cell_type": "code",
   "execution_count": 29,
   "id": "9e47546d",
   "metadata": {},
   "outputs": [
    {
     "data": {
      "text/plain": [
       "True"
      ]
     },
     "execution_count": 29,
     "metadata": {},
     "output_type": "execute_result"
    }
   ],
   "source": [
    "math.isclose(linalg.det(A@B),linalg.det(A)*linalg.det(B))"
   ]
  },
  {
   "cell_type": "markdown",
   "id": "86f2157b",
   "metadata": {},
   "source": [
    "#### 4. El determinante de la inversa de una matriz es igual al inverso del determinante de la matriz. "
   ]
  },
  {
   "cell_type": "code",
   "execution_count": 30,
   "id": "999fff70",
   "metadata": {},
   "outputs": [
    {
     "data": {
      "text/plain": [
       "True"
      ]
     },
     "execution_count": 30,
     "metadata": {},
     "output_type": "execute_result"
    }
   ],
   "source": [
    "math.isclose(linalg.det(inv(A)),1/linalg.det(A))"
   ]
  },
  {
   "cell_type": "markdown",
   "id": "67f03acc",
   "metadata": {},
   "source": [
    "#### 6. La matriz de los adjuntos de una matriz A dada de dimensión n tiene un determinante igual al determinante de A elevado a n-1."
   ]
  },
  {
   "cell_type": "code",
   "execution_count": null,
   "id": "38020b5a",
   "metadata": {},
   "outputs": [],
   "source": []
  },
  {
   "cell_type": "markdown",
   "id": "c881356f",
   "metadata": {},
   "source": [
    "### Resolver sistema regla de cramer"
   ]
  },
  {
   "cell_type": "markdown",
   "id": "fd3a19ca",
   "metadata": {},
   "source": [
    "Los sistemas de ecuaciones lineales se pueden plantear como un problema matricial, del tipo $\\textbf{A}\\textbf{x} = \\textbf{b}$, por ejemplo:"
   ]
  },
  {
   "cell_type": "markdown",
   "id": "c1b86d2d",
   "metadata": {},
   "source": [
    "$3x + 6y -5z = 12$\n",
    "\n",
    "$x - 3y + 2z = -2$\n",
    "\n",
    "$5x -y + 4z = 10$"
   ]
  },
  {
   "cell_type": "code",
   "execution_count": 32,
   "id": "ba8d0198",
   "metadata": {},
   "outputs": [
    {
     "data": {
      "text/plain": [
       "array([[ 3,  6, -5],\n",
       "       [ 1, -3,  2],\n",
       "       [ 5, -1,  4]])"
      ]
     },
     "execution_count": 32,
     "metadata": {},
     "output_type": "execute_result"
    }
   ],
   "source": [
    "A = np.array([[3,6,-5],\n",
    "              [1,-3,2],\n",
    "              [5,-1,4]])\n",
    "A"
   ]
  },
  {
   "cell_type": "code",
   "execution_count": 33,
   "id": "ed0fdcdb",
   "metadata": {},
   "outputs": [
    {
     "data": {
      "text/plain": [
       "array([[12],\n",
       "       [-2],\n",
       "       [10]])"
      ]
     },
     "execution_count": 33,
     "metadata": {},
     "output_type": "execute_result"
    }
   ],
   "source": [
    "b = np.array([[12],\n",
    "               [-2],\n",
    "               [10]])\n",
    "b"
   ]
  },
  {
   "cell_type": "code",
   "execution_count": 53,
   "id": "0d8ad046",
   "metadata": {},
   "outputs": [
    {
     "name": "stdout",
     "output_type": "stream",
     "text": [
      "[[12  6 -5]\n",
      " [-2 -3  2]\n",
      " [10 -1  4]]\n",
      "[[ 3 12 -5]\n",
      " [ 1 -2  2]\n",
      " [ 5 10  4]]\n",
      "[[ 3  6 12]\n",
      " [ 1 -3 -2]\n",
      " [ 5 -1 10]]\n"
     ]
    }
   ],
   "source": [
    "x=np.empty([3,1])\n",
    "for i in range(A.shape[1]):\n",
    "    Ai=np.copy(A)\n",
    "    Ai[:,[i]]=b\n",
    "    x[i]= linalg.det(Ai) / linalg.det(A)\n",
    "    #print(x)\n",
    "    print(Ai)"
   ]
  },
  {
   "cell_type": "code",
   "execution_count": 46,
   "id": "73ca4442",
   "metadata": {},
   "outputs": [
    {
     "data": {
      "text/plain": [
       "array([[ 1.5 ],\n",
       "       [-2.25],\n",
       "       [-6.75]])"
      ]
     },
     "execution_count": 46,
     "metadata": {},
     "output_type": "execute_result"
    }
   ],
   "source": [
    "A@x-b"
   ]
  },
  {
   "cell_type": "code",
   "execution_count": 52,
   "id": "ed4d3c76",
   "metadata": {},
   "outputs": [
    {
     "name": "stdout",
     "output_type": "stream",
     "text": [
      "[[ 3  6 -5]\n",
      " [ 1 -3  2]\n",
      " [ 5 -1  4]]\n"
     ]
    }
   ],
   "source": [
    "print(A)"
   ]
  },
  {
   "cell_type": "code",
   "execution_count": null,
   "id": "4372ad26",
   "metadata": {},
   "outputs": [],
   "source": [
    "CALMEN A RUBEN "
   ]
  }
 ],
 "metadata": {
  "kernelspec": {
   "display_name": "Python 3 (ipykernel)",
   "language": "python",
   "name": "python3"
  },
  "language_info": {
   "codemirror_mode": {
    "name": "ipython",
    "version": 3
   },
   "file_extension": ".py",
   "mimetype": "text/x-python",
   "name": "python",
   "nbconvert_exporter": "python",
   "pygments_lexer": "ipython3",
   "version": "3.9.6"
  }
 },
 "nbformat": 4,
 "nbformat_minor": 5
}
