{
 "cells": [
  {
   "cell_type": "markdown",
   "id": "10a43ea2",
   "metadata": {},
   "source": [
    "# PROBLEM 1: Multiples of 3 or 5"
   ]
  },
  {
   "cell_type": "markdown",
   "id": "d4dc712c",
   "metadata": {},
   "source": [
    "#### If we list all the natural numbers below 10 that are multiples of 3 or 5, we get 3, 5, 6 and 9. The sum of these multiples is 23.\n",
    "\n",
    "#### Find the sum of all the multiples of 3 or 5 below 1000."
   ]
  },
  {
   "cell_type": "markdown",
   "id": "82598c71",
   "metadata": {},
   "source": [
    "### -PROCEDIMIENTO-"
   ]
  },
  {
   "cell_type": "code",
   "execution_count": 8,
   "id": "c82ffd1f",
   "metadata": {},
   "outputs": [],
   "source": [
    "sum=0\n",
    "for i in range(1,1000):\n",
    "    if i%3==0 or i%5==0:\n",
    "        sum += i\n",
    "    else:\n",
    "        None"
   ]
  },
  {
   "cell_type": "markdown",
   "id": "4669fbfd",
   "metadata": {},
   "source": [
    "### -RESPUESTA-"
   ]
  },
  {
   "cell_type": "code",
   "execution_count": 9,
   "id": "b45974d9",
   "metadata": {},
   "outputs": [
    {
     "name": "stdout",
     "output_type": "stream",
     "text": [
      "The sum of all multiples of 3 or 5 below 1000 is 233168\n"
     ]
    }
   ],
   "source": [
    "print(\"The sum of all multiples of 3 or 5 below 1000 is\",sum)"
   ]
  }
 ],
 "metadata": {
  "kernelspec": {
   "display_name": "Python 3 (ipykernel)",
   "language": "python",
   "name": "python3"
  },
  "language_info": {
   "codemirror_mode": {
    "name": "ipython",
    "version": 3
   },
   "file_extension": ".py",
   "mimetype": "text/x-python",
   "name": "python",
   "nbconvert_exporter": "python",
   "pygments_lexer": "ipython3",
   "version": "3.9.6"
  }
 },
 "nbformat": 4,
 "nbformat_minor": 5
}
