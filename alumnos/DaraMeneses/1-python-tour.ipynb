{
 "cells": [
  {
   "cell_type": "markdown",
   "id": "d7e43eb4",
   "metadata": {},
   "source": [
    "# Tour de python"
   ]
  },
  {
   "cell_type": "markdown",
   "id": "7ad5bb4f",
   "metadata": {},
   "source": [
    "## Ayuda en jupyter"
   ]
  },
  {
   "cell_type": "code",
   "execution_count": 2,
   "id": "bfb1bb59",
   "metadata": {},
   "outputs": [],
   "source": [
    "str?"
   ]
  },
  {
   "cell_type": "markdown",
   "id": "ed47a29c",
   "metadata": {},
   "source": [
    "#### presiona Tab en la siguiente celda"
   ]
  },
  {
   "cell_type": "code",
   "execution_count": 3,
   "id": "632acd63",
   "metadata": {},
   "outputs": [],
   "source": [
    "str.capitalize?"
   ]
  },
  {
   "cell_type": "markdown",
   "id": "31f9046e",
   "metadata": {},
   "source": [
    "## Variables"
   ]
  },
  {
   "cell_type": "code",
   "execution_count": 5,
   "id": "093074f6",
   "metadata": {},
   "outputs": [
    {
     "data": {
      "text/plain": [
       "(3+5j)"
      ]
     },
     "execution_count": 5,
     "metadata": {},
     "output_type": "execute_result"
    }
   ],
   "source": [
    "z= 3 + 5j\n",
    "z"
   ]
  },
  {
   "cell_type": "code",
   "execution_count": 6,
   "id": "02f18d50",
   "metadata": {},
   "outputs": [],
   "source": [
    "a= True"
   ]
  },
  {
   "cell_type": "code",
   "execution_count": 7,
   "id": "0b82953b",
   "metadata": {},
   "outputs": [
    {
     "data": {
      "text/plain": [
       "True"
      ]
     },
     "execution_count": 7,
     "metadata": {},
     "output_type": "execute_result"
    }
   ],
   "source": [
    "a"
   ]
  },
  {
   "cell_type": "markdown",
   "id": "131149b9",
   "metadata": {},
   "source": [
    "#### notación científica"
   ]
  },
  {
   "cell_type": "code",
   "execution_count": 8,
   "id": "5e9aaa1d",
   "metadata": {},
   "outputs": [
    {
     "data": {
      "text/plain": [
       "1.2e+34"
      ]
     },
     "execution_count": 8,
     "metadata": {},
     "output_type": "execute_result"
    }
   ],
   "source": [
    "x= 1.2e34\n",
    "x"
   ]
  },
  {
   "cell_type": "markdown",
   "id": "343bdf08",
   "metadata": {},
   "source": [
    "#### cadena de texto"
   ]
  },
  {
   "cell_type": "code",
   "execution_count": 13,
   "id": "797924a2",
   "metadata": {},
   "outputs": [
    {
     "data": {
      "text/plain": [
       "'Esto es una cadena de texto con acentos y otros símbolos UTF- 8 ¿¡!'"
      ]
     },
     "execution_count": 13,
     "metadata": {},
     "output_type": "execute_result"
    }
   ],
   "source": [
    "\n",
    "cadena = \"Esto es una cadena de texto con acentos y otros símbolos UTF- 8 ¿¡!\"\n",
    "cadena"
   ]
  },
  {
   "cell_type": "code",
   "execution_count": 14,
   "id": "f2912553",
   "metadata": {},
   "outputs": [
    {
     "name": "stdout",
     "output_type": "stream",
     "text": [
      "Yo me llamo Pato\n"
     ]
    }
   ],
   "source": [
    "name='Pato'\n",
    "cadena_dinamica=f'Yo me llamo {name}'\n",
    "print(cadena_dinamica)"
   ]
  },
  {
   "cell_type": "code",
   "execution_count": 15,
   "id": "ec52e139",
   "metadata": {},
   "outputs": [
    {
     "data": {
      "text/plain": [
       "'Yo me llamo Pato'"
      ]
     },
     "execution_count": 15,
     "metadata": {},
     "output_type": "execute_result"
    }
   ],
   "source": [
    "name = 'Ines'\n",
    "cadena_dinamica"
   ]
  },
  {
   "cell_type": "markdown",
   "id": "6e2f4489",
   "metadata": {},
   "source": [
    "###### no se cambia una vez que ya su metió el input en la cadena"
   ]
  },
  {
   "cell_type": "code",
   "execution_count": 17,
   "id": "08f56ffd",
   "metadata": {},
   "outputs": [
    {
     "data": {
      "text/plain": [
       "1"
      ]
     },
     "execution_count": 17,
     "metadata": {},
     "output_type": "execute_result"
    }
   ],
   "source": [
    "(a:=1)"
   ]
  }
 ],
 "metadata": {
  "kernelspec": {
   "display_name": "Python 3 (ipykernel)",
   "language": "python",
   "name": "python3"
  },
  "language_info": {
   "codemirror_mode": {
    "name": "ipython",
    "version": 3
   },
   "file_extension": ".py",
   "mimetype": "text/x-python",
   "name": "python",
   "nbconvert_exporter": "python",
   "pygments_lexer": "ipython3",
   "version": "3.9.6"
  }
 },
 "nbformat": 4,
 "nbformat_minor": 5
}
