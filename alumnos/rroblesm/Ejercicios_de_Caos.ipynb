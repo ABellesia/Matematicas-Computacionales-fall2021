{
 "cells": [
  {
   "cell_type": "markdown",
   "metadata": {},
   "source": [
    "<div class=\"alert alert-warning\">\n",
    "    \n",
    "Lectura recomendada: [Best Practices for Scientific Computing](http://arxiv.org/pdf/1210.0530v3.pdf)\n",
    "</div>"
   ]
  },
  {
   "cell_type": "markdown",
   "metadata": {},
   "source": [
    "# Ejercicios de Caos"
   ]
  },
  {
   "cell_type": "code",
   "execution_count": 1,
   "metadata": {},
   "outputs": [],
   "source": [
    "import numpy as np\n",
    "import sympy as sym\n",
    "import matplotlib.pyplot as plt\n",
    "from matplotlib.widgets import Slider, Button\n",
    "from ipywidgets import interact, fixed, widgets, IntSlider, FloatSlider, interact_manual"
   ]
  },
  {
   "cell_type": "markdown",
   "metadata": {},
   "source": [
    "### Mapeo logístico"
   ]
  },
  {
   "cell_type": "markdown",
   "metadata": {},
   "source": [
    "$$\n",
    "x_{n+1} = rx_n(1 -x_n)\n",
    "$$"
   ]
  },
  {
   "cell_type": "markdown",
   "metadata": {},
   "source": [
    "Donde, para fines de esta clase, $r$ esta contenido en \n",
    "\n",
    "$$\n",
    "0 \\leq r \\leq 4\n",
    "$$\n",
    "\n",
    "la razón de esto, es que el cuadro unitario mapea al cuadro unitario, i.e.\n",
    "\n",
    "$$ \n",
    "0 \\leq x \\leq 1 \\to 0 \\leq f(x) \\leq 1\n",
    "$$"
   ]
  },
  {
   "cell_type": "markdown",
   "metadata": {},
   "source": [
    "<div class=\"alert alert-info\">\n",
    "    \n",
    "**Ejercicio** ¿Por qué?\n",
    "</div>"
   ]
  },
  {
   "cell_type": "markdown",
   "metadata": {},
   "source": [
    "<div class=\"alert alert-info\">\n",
    "    \n",
    "**Ejercicio**  Define la función `logistic_map` que recibe como parámetros $x$ y $r$ regresa $rx(1−x)$. \n",
    "</div>"
   ]
  },
  {
   "cell_type": "code",
   "execution_count": 4,
   "metadata": {},
   "outputs": [],
   "source": [
    "def logistic_map(x,r):\n",
    "    return r*x*(1-x)"
   ]
  },
  {
   "cell_type": "markdown",
   "metadata": {},
   "source": [
    "Los _puntos fijos_ del mapeo logístico son:"
   ]
  },
  {
   "cell_type": "markdown",
   "metadata": {},
   "source": [
    "$$\n",
    "x = f(x)\n",
    "$$\n",
    "\n",
    "$$\n",
    "x = rx(1-x)\n",
    "$$\n",
    "\n",
    "$$\n",
    "1 = r(1-x)\n",
    "$$\n",
    "\n",
    "$$\n",
    "x = 1 - \\frac{1}{r}\n",
    "$$"
   ]
  },
  {
   "cell_type": "markdown",
   "metadata": {},
   "source": [
    "El punto fijo se dice _estable_ si $|f(x) - x_0| < |x - x_0|$ e _inestable_ si la desigualdad se invierte."
   ]
  },
  {
   "cell_type": "markdown",
   "metadata": {},
   "source": [
    "<div class=\"alert alert-info\">\n",
    "    \n",
    "**Ejercicio** Calcule el punto fijo para $r = 2$ usando SymPy\n",
    "</div>"
   ]
  },
  {
   "cell_type": "code",
   "execution_count": 5,
   "metadata": {},
   "outputs": [],
   "source": [
    "x = sym.Symbol('x')"
   ]
  },
  {
   "cell_type": "code",
   "execution_count": 6,
   "metadata": {},
   "outputs": [],
   "source": [
    "def calcular_punto_fijo(r):\n",
    "    return 1 - 1/r"
   ]
  },
  {
   "cell_type": "code",
   "execution_count": 7,
   "metadata": {},
   "outputs": [],
   "source": [
    "x = calcular_punto_fijo(sym.Symbol('r'))"
   ]
  },
  {
   "cell_type": "code",
   "execution_count": 8,
   "metadata": {},
   "outputs": [
    {
     "data": {
      "text/latex": [
       "$\\displaystyle 1 - \\frac{1}{r}$"
      ],
      "text/plain": [
       "1 - 1/r"
      ]
     },
     "execution_count": 8,
     "metadata": {},
     "output_type": "execute_result"
    }
   ],
   "source": [
    "x"
   ]
  },
  {
   "cell_type": "code",
   "execution_count": 9,
   "metadata": {},
   "outputs": [
    {
     "data": {
      "text/plain": [
       "0.5"
      ]
     },
     "execution_count": 9,
     "metadata": {},
     "output_type": "execute_result"
    }
   ],
   "source": [
    "calcular_punto_fijo(2)"
   ]
  },
  {
   "cell_type": "markdown",
   "metadata": {},
   "source": [
    "<div class=\"alert alert-warning\">\n",
    "\n",
    "**Teorema:**\n",
    "\n",
    "Sea $f(x_0) = x_0.$, entonces, \n",
    "\n",
    "<ul>\n",
    "<li>Si $f'(x)$ es contínua y $|f'(x_0)| < 1$ entonces $x_0$ es estable.</li>\n",
    "\n",
    "\n",
    "<li>Si $f'(x)$ es contínua y $|f'(x_0)| > 1$ entonces $x_0$ es inestable.</li>\n",
    "</ul>\n",
    "</div>"
   ]
  },
  {
   "cell_type": "markdown",
   "metadata": {},
   "source": [
    "<div class=\"alert alert-info\">\n",
    "    \n",
    "**Ejercicio** ¿Cuáles son las condiciones de estabilidad para el parámetro $r$? Los valores de $r$ para cuales cambia de estable a inestable y viceversa, se llaman _puntos de bifurcación_.\n",
    "</div>"
   ]
  },
  {
   "cell_type": "code",
   "execution_count": null,
   "metadata": {},
   "outputs": [],
   "source": []
  },
  {
   "cell_type": "markdown",
   "metadata": {},
   "source": [
    "<div class=\"alert alert-info\">\n",
    "    \n",
    "**Ejercicio** Define una función `iterar` que reciba una función `g`, un punto inicial `x0`, un entero `N` y el parámetro `r` regrese $g(g( \\ldots(g(x_0, r),r) \\ldots)$. En otras palabras que itere `g`, `N` veces a partir del punto `x0`.\n",
    "</div>"
   ]
  },
  {
   "cell_type": "code",
   "execution_count": 10,
   "metadata": {},
   "outputs": [],
   "source": [
    "def iterar(g, x0, N, r):\n",
    "    for i in range(N):\n",
    "        x0 = g(x0, r)\n",
    "    return x0"
   ]
  },
  {
   "cell_type": "markdown",
   "metadata": {},
   "source": [
    "<div class=\"alert alert-info\">\n",
    "    \n",
    "**Ejercicio** Define una función `iterarLista` que reciba una función `g`, un punto inicial `x0`, un entero `N` y el parámetro $r$ regrese la lista $[x_0, g(x), g(g(x)), \\ldots g(g(\\ldots(g(x))\\ldots))]$ En otras palabras que itere `g`, `N-1` veces a partir del punto `x0` y devuelva la órbita completa empezando desde `x0`.\n",
    "</div>"
   ]
  },
  {
   "cell_type": "code",
   "execution_count": 11,
   "metadata": {},
   "outputs": [],
   "source": [
    "def iterarLista(g, x0, N, mu):\n",
    "    lista_de_iteraciones = []\n",
    "    for i in range(N-1):\n",
    "        lista_de_iteraciones.append(x0)\n",
    "        x0 = iterar(g, x0, i, mu)\n",
    "    \n",
    "    return lista_de_iteraciones"
   ]
  },
  {
   "cell_type": "markdown",
   "metadata": {},
   "source": [
    "<div class=\"alert alert-info\">\n",
    "    \n",
    "**Ejercicio** Usa las funciones recién definidas para calcular iteraciones para $r = \\{ 0.8, 1.2, 2.8, 3.2\\}$,\n",
    "</div>"
   ]
  },
  {
   "cell_type": "code",
   "execution_count": 12,
   "metadata": {},
   "outputs": [
    {
     "name": "stdout",
     "output_type": "stream",
     "text": [
      "[[5, 5, -16.0, -38053.88800000001], [5, 5, -24.0, -622943.9999999998], [5, 5, -56.0, -223690967.8079999], [5, 5, -64.0, -567112499.2]]\n"
     ]
    }
   ],
   "source": [
    "x0 = 5\n",
    "valores_de_r = [0.8, 1.2,2.8,3.2]\n",
    "valores_x0 = []\n",
    "\n",
    "\n",
    "for valor in valores_de_r:\n",
    "    valores_x0.append(iterarLista(g=logistic_map, x0 = x0, N=5,mu=valor))\n",
    "    \n",
    "print(valores_x0)"
   ]
  },
  {
   "cell_type": "markdown",
   "metadata": {},
   "source": [
    "<div class=\"alert alert-info\">\n",
    "    \n",
    "**Ejercicio** Programa un control para cambiar $r$ entre $0$ y $4$ (con un slider) y otro para definid $x_0$. Grafica `logistic_map` respecto al número de iteraciones $N$. ¿Qué observas? ¿Puedes ver algún _periodo_?¿Está cerca de los puntos fijos?\n",
    "</div>"
   ]
  },
  {
   "cell_type": "markdown",
   "metadata": {},
   "source": [
    "\n",
    "<div class=\"alert alert-block alert-success\">\n",
    "<b>¿Puedes ver algun periodo?</b>      \n",
    "</div>\n",
    "\n",
    "<div class=\"alert alert-block alert-success\">\n",
    "<b>¿Esta cerca de los puntos fijos?</b> \n",
    "    \n",
    "</div>\n"
   ]
  },
  {
   "cell_type": "code",
   "execution_count": 13,
   "metadata": {},
   "outputs": [
    {
     "data": {
      "application/vnd.jupyter.widget-view+json": {
       "model_id": "bfce84319f2a4352b4a9463a9f218574",
       "version_major": 2,
       "version_minor": 0
      },
      "text/plain": [
       "interactive(children=(FloatSlider(value=5.0, description='x', max=10.0, step=0.05), FloatSlider(value=2.0, des…"
      ]
     },
     "metadata": {},
     "output_type": "display_data"
    },
    {
     "data": {
      "text/plain": [
       "<function __main__.logistic_map(x, r)>"
      ]
     },
     "execution_count": 13,
     "metadata": {},
     "output_type": "execute_result"
    }
   ],
   "source": [
    "interact(logistic_map, \n",
    "         x =FloatSlider(value=5, min=0, max=10.0, step=0.05),\n",
    "         r =FloatSlider(value=2, min=0.0001,max=4.0, step=0.1) )"
   ]
  },
  {
   "cell_type": "code",
   "execution_count": 14,
   "metadata": {},
   "outputs": [
    {
     "data": {
      "application/vnd.jupyter.widget-view+json": {
       "model_id": "418611bc9a0743e69e26a9d4025e49c5",
       "version_major": 2,
       "version_minor": 0
      },
      "text/plain": [
       "interactive(children=(FloatSlider(value=5.0, description='x0', max=10.0, step=0.05), IntSlider(value=3, descri…"
      ]
     },
     "metadata": {},
     "output_type": "display_data"
    },
    {
     "data": {
      "text/plain": [
       "<function __main__.iterarLista_logistica(x0, N, mu)>"
      ]
     },
     "execution_count": 14,
     "metadata": {},
     "output_type": "execute_result"
    }
   ],
   "source": [
    "def iterarLista_logistica(x0, N, mu):\n",
    "    return iterarLista(g=logistic_map, x0=x0, N=N, mu=mu)\n",
    "\n",
    "interact(iterarLista_logistica, \n",
    "        x0=FloatSlider(value=5, min=0, max=10.0, step=0.05), \n",
    "         N=IntSlider(value=3, min=0,max=10, step=1), \n",
    "         mu=FloatSlider(value=2, min=0.0001,max=4.0, step=0.1)   \n",
    "        )"
   ]
  },
  {
   "cell_type": "code",
   "execution_count": 43,
   "metadata": {},
   "outputs": [
    {
     "data": {
      "text/plain": [
       "[0.2,\n",
       " 0.2,\n",
       " 0.4800000000000001,\n",
       " 0.56429568,\n",
       " 0.7304909465975912,\n",
       " 0.7214025477865863,\n",
       " 0.6106104291564167,\n",
       " 0.6181649291731213,\n",
       " 0.7044038262681039,\n",
       " 0.7007677321559923,\n",
       " 0.6323387524569358,\n",
       " 0.6354258345920575,\n",
       " 0.6930284635835462,\n",
       " 0.6911560651114876,\n",
       " 0.6421099654075082,\n",
       " 0.643754753010226,\n",
       " 0.6868304948529411,\n",
       " 0.6857039385285905,\n",
       " 0.6476026938774866,\n",
       " 0.6486167354096743,\n",
       " 0.6829627765547326,\n",
       " 0.6822144143031188,\n",
       " 0.6511062458639914,\n",
       " 0.651791577496782,\n",
       " 0.6803282615964157,\n",
       " 0.6797963854707858,\n",
       " 0.653530156645824,\n",
       " 0.6540234145980621,\n",
       " 0.678421553267891,\n",
       " 0.678024649424509,\n",
       " 0.6553047119484802,\n",
       " 0.6556763291631761,\n",
       " 0.6769790600087741,\n",
       " 0.6766717900667188,\n",
       " 0.6566590616606939,\n",
       " 0.6569489082006031,\n",
       " 0.6758503142403229,\n",
       " 0.6756055232248596,\n",
       " 0.6577261775985886,\n",
       " 0.6579584702518076,\n",
       " 0.6749433384105052,\n",
       " 0.674743797824495,\n",
       " 0.6585884161960684,\n",
       " 0.6587786949411897,\n",
       " 0.6741988114243476,\n",
       " 0.6740330755194937,\n",
       " 0.6592994638742662,\n",
       " 0.6594581499185869,\n",
       " 0.6735767880714888,\n",
       " 0.6734369612278936,\n",
       " 0.6598957927695589,\n",
       " 0.6600301316171937,\n",
       " 0.673049400429898,\n",
       " 0.6729298626940473,\n",
       " 0.6604030376241898,\n",
       " 0.6605182209485324,\n",
       " 0.6725966219921589,\n",
       " 0.6724932658762381,\n",
       " 0.660839737067223,\n",
       " 0.6609395810931336,\n",
       " 0.6722036951529101,\n",
       " 0.67211344978004,\n",
       " 0.6612196269180168,\n",
       " 0.6613069989496547,\n",
       " 0.6718595077686094,\n",
       " 0.6717800317758815,\n",
       " 0.661553099065649,\n",
       " 0.6616301947630504,\n",
       " 0.6715555344148751,\n",
       " 0.6714850117767291,\n",
       " 0.6618481595604693,\n",
       " 0.6619166884721996,\n",
       " 0.6712851259724288,\n",
       " 0.6712221266788094,\n",
       " 0.6621110754513322,\n",
       " 0.6621723883319978,\n",
       " 0.6710430209173026,\n",
       " 0.6709864037069393,\n",
       " 0.6623468221860643,\n",
       " 0.6624020003305446,\n",
       " 0.6708250016563426,\n",
       " 0.670773844718938,\n",
       " 0.6625593997561843,\n",
       " 0.6626093189332926,\n",
       " 0.6706276480928576,\n",
       " 0.6705811987951376,\n",
       " 0.6627520603855072,\n",
       " 0.6627974374089156,\n",
       " 0.6704481577985044,\n",
       " 0.6704057956130149,\n",
       " 0.6629274753321079,\n",
       " 0.6629689025273076,\n",
       " 0.6702842127087614,\n",
       " 0.6702454214731605,\n",
       " 0.6630878589770024,\n",
       " 0.6631258300594784,\n",
       " 0.6701338788894967,\n",
       " 0.6700982257688917,\n",
       " 0.6632350624305262]"
      ]
     },
     "execution_count": 43,
     "metadata": {},
     "output_type": "execute_result"
    }
   ],
   "source": [
    "numero_de_iteraciones = 100\n",
    "x0_incial= 0.2\n",
    "valor_de_mu = 3\n",
    "lista_de_n = [i for i in range (0,numero_de_iteraciones)]\n",
    "lista_de_valores_a_graficar = iterarLista(g=logistic_map, x0=x0_incial, N=numero_de_iteraciones, mu=valor_de_mu)\n",
    "lista_de_valores_a_graficar"
   ]
  },
  {
   "cell_type": "code",
   "execution_count": 45,
   "metadata": {},
   "outputs": [
    {
     "data": {
      "image/png": "[encoded data removed]",
      "text/plain": [
       "<Figure size 720x504 with 1 Axes>"
      ]
     },
     "metadata": {
      "needs_background": "light"
     },
     "output_type": "display_data"
    }
   ],
   "source": [
    "fig, ax = plt.subplots(figsize=(10,7))\n",
    "\n",
    "plt.plot(lista_de_valores_a_graficar)\n",
    "\n",
    "plt.ylabel('Valor obtenido por logistic_map')\n",
    "plt.xlabel('Numero de Iteraciones')\n",
    "plt.title(\"X:\" + str(x0_incial) +\", r:\" +str(valor_de_mu))\n",
    "\n",
    "plt.show()"
   ]
  },
  {
   "cell_type": "markdown",
   "metadata": {},
   "source": [
    "<div class=\"alert alert-info\">\n",
    "    \n",
    "**Ejercicio** ¿Qué sucede para (a) $x_0 = 0.35$ en $r = 2.8$ y (b) para $x_0 = 0.35$ en $r=3.1$. ¿Porqué escogí estos valores?\n",
    "</div>"
   ]
  },
  {
   "cell_type": "markdown",
   "metadata": {},
   "source": [
    "<div class=\"alert alert-block alert-success\">\n",
    "<b>Que sucede:</b> Para 2.8 los valores de la convergen alrededor de 0.65, mientras que para 3.1 los valores fluctuan de manera alternante entre 0.56 y 0.77; dicha fluctuacion no parece atenuarse ni desbordarse, sino pareciera que se vuelve mas precisa entre mas iteraciones existan, como si fueran estables.      \n",
    "</div>"
   ]
  },
  {
   "cell_type": "code",
   "execution_count": 61,
   "metadata": {},
   "outputs": [
    {
     "data": {
      "image/png": "[encoded data removed]",
      "text/plain": [
       "<Figure size 720x504 with 1 Axes>"
      ]
     },
     "metadata": {
      "needs_background": "light"
     },
     "output_type": "display_data"
    }
   ],
   "source": [
    "valores_curiosos = []\n",
    "valores_curiosos.append(iterarLista_logistica(x0=0.35, mu=2.8, N=50))\n",
    "valores_curiosos.append(iterarLista_logistica(x0=0.35, mu=3.1, N=50))\n",
    "\n",
    "fig, ax = plt.subplots(figsize=(10,7))\n",
    "plt.ylabel('Valor obtenido por logistic_map')\n",
    "plt.xlabel('Numero de Iteraciones')\n",
    "plt.title(\"X:\" + str(0.35))\n",
    "plt.plot(valores_curiosos[0], label='r: 2.8')\n",
    "plt.plot(valores_curiosos[1], label='r: 3.1')\n",
    "plt.legend()\n",
    "plt.show()"
   ]
  },
  {
   "cell_type": "code",
   "execution_count": 124,
   "metadata": {},
   "outputs": [
    {
     "name": "stdout",
     "output_type": "stream",
     "text": [
      "[0.35, 0.35, 0.02275, 0.00022183009372280858, 2.2177547461043357e-07, 2.217754199666108e-11, 2.2177541996114598e-16, 2.21775419961146e-22, 2.217754199611461e-29, 2.2177541996114618e-37, 2.2177541996114627e-46, 2.2177541996114636e-56, 2.2177541996114647e-67, 2.2177541996114656e-79, 2.217754199611467e-92, 2.2177541996114684e-106, 2.21775419961147e-121, 2.2177541996114723e-137, 2.217754199611474e-154, 2.217754199611476e-172, 2.2177541996114787e-191, 2.2177541996114803e-211, 2.2177541996114832e-232, 2.2177541996114857e-254, 2.217754199611488e-277, 2.2177541996114913e-301, 0.0, 0.0, 0.0, 0.0, 0.0, 0.0, 0.0, 0.0, 0.0, 0.0, 0.0, 0.0, 0.0, 0.0, 0.0, 0.0, 0.0, 0.0, 0.0, 0.0, 0.0, 0.0, 0.0, 0.0, 0.0, 0.0, 0.0, 0.0, 0.0, 0.0, 0.0, 0.0, 0.0, 0.0, 0.0, 0.0, 0.0, 0.0, 0.0, 0.0, 0.0, 0.0, 0.0, 0.0, 0.0, 0.0, 0.0, 0.0, 0.0, 0.0, 0.0, 0.0, 0.0, 0.0, 0.0, 0.0, 0.0, 0.0, 0.0, 0.0, 0.0, 0.0, 0.0, 0.0, 0.0, 0.0, 0.0, 0.0, 0.0, 0.0, 0.0, 0.0, 0.0]\n"
     ]
    }
   ],
   "source": [
    "print(valores_logistic_map[0])"
   ]
  },
  {
   "cell_type": "markdown",
   "metadata": {},
   "source": [
    "## Diagrama de CobWeb"
   ]
  },
  {
   "cell_type": "markdown",
   "metadata": {},
   "source": [
    "<div class=\"alert alert-info\">\n",
    "    \n",
    "**Ejercicio** Dibuja en una gráfica `logistic_map`, como ejes usa $N_{n+1}$ y $N_n$, además agrega la línea $y = x$ en la misma gráfica. ¿Qué observas para los distintos valores de $r$? Grafícala junto a la gráfica anterior.\n",
    "</div>"
   ]
  },
  {
   "cell_type": "markdown",
   "metadata": {},
   "source": [
    "<div class=\"alert alert-block alert-success\">\n",
    "<b>¿Qué observas para los distintos valores de $r$?</b> Entre mas aumenta r, mas caotica y menos recta se vuelve, hasta llegar el punto donde se desborda y se vuelve completamente negativo\n",
    "</div>"
   ]
  },
  {
   "cell_type": "code",
   "execution_count": 168,
   "metadata": {},
   "outputs": [
    {
     "data": {
      "image/png": "[encoded data removed]",
      "text/plain": [
       "<Figure size 720x504 with 1 Axes>"
      ]
     },
     "metadata": {
      "needs_background": "light"
     },
     "output_type": "display_data"
    }
   ],
   "source": [
    "numero_de_iteraciones = 5\n",
    "linea_de_comparacion = [i for i in range(numero_de_iteraciones)]\n",
    "valor_de_r = 0.5\n",
    "\n",
    "valores_logistic_map = []\n",
    "for i in range(0, 10): #un muestreo de 10 valores distintos de r\n",
    "    valores_logistic_map.append( iterarLista_logistica(x0=0.5, mu=valor_de_r, N=numero_de_iteraciones) )\n",
    "    valor_de_r += 0.5\n",
    "\n",
    "fig, ax = plt.subplots(figsize=(10,7))\n",
    "plt.ylabel('Valor obtenido por logistic_map')\n",
    "plt.xlabel('Numero de Iteraciones')\n",
    "for i in range(0, 10):\n",
    "    plt.plot(valores_logistic_map[i])\n",
    "    \n",
    "\n",
    "plt.plot(linea_de_comparacion, label = 'Linea de Comparacion')\n",
    "plt.legend()\n",
    "plt.show()"
   ]
  },
  {
   "cell_type": "markdown",
   "metadata": {},
   "source": [
    "<div class=\"alert alert-info\">\n",
    "    \n",
    "**Ejercicio** Agrega los segmentos de línea $(x_0, x_0), (x_0. f(x_0)), (f(x_0), f(x_0)), (f(x_0), f(f(x_0))), \\ldots$\n",
    "</div>"
   ]
  },
  {
   "cell_type": "code",
   "execution_count": 84,
   "metadata": {},
   "outputs": [
    {
     "name": "stdout",
     "output_type": "stream",
     "text": [
      "[(0.4, 0.8400000000000001), (0.6719999999999999, 0.7714560000000001), (0.6171648000000001, 0.82695343374336), (0.6615627469946879, 0.7836411757423566), (0.6269129405938854, 0.8186258692843452), (0.6549006954274762, 0.7910202109462949), (0.6328161687570358, 0.813259528608459), (0.6506076228867672, 0.7956107037493906), (0.6364885629995125, 0.8097980525961483), (0.6478384420769187, 0.7985032826549435)]\n"
     ]
    }
   ],
   "source": [
    "mi_x0 = 0.4\n",
    "valores_iterados = []\n",
    "numero_de_iteraciones = 10\n",
    "\n",
    "for i in range(numero_de_iteraciones):\n",
    "    tupla = (mi_x0, logistic_map(x=mi_x0, r=3.5))\n",
    "    valores_iterados.append(tupla)\n",
    "    mi_x0 = logistic_map(x=mi_x0, r=2.8)\n",
    "print(valores_iterados)"
   ]
  },
  {
   "cell_type": "markdown",
   "metadata": {},
   "source": [
    "## Diagrama de Bifurcación"
   ]
  },
  {
   "cell_type": "markdown",
   "metadata": {},
   "source": [
    "<div class=\"alert alert-info\">\n",
    "    \n",
    "**Ejercicio** ¿Qué hace el siguiente código? Modificalo para que use nuestras funciones.\n",
    "</div>"
   ]
  },
  {
   "cell_type": "code",
   "execution_count": 86,
   "metadata": {},
   "outputs": [
    {
     "data": {
      "text/plain": [
       "<matplotlib.image.AxesImage at 0x1d3d3ce83a0>"
      ]
     },
     "execution_count": 86,
     "metadata": {},
     "output_type": "execute_result"
    },
    {
     "data": {
      "image/png": "[encoded data removed]",
      "text/plain": [
       "<Figure size 432x288 with 1 Axes>"
      ]
     },
     "metadata": {
      "needs_background": "light"
     },
     "output_type": "display_data"
    }
   ],
   "source": [
    "import math\n",
    "from PIL import Image\n",
    "imgx = 1000\n",
    "imgy = 500\n",
    "image = Image.new(\"RGB\", (imgx, imgy))\n",
    "\n",
    "xa = 1\n",
    "xb = 4\n",
    "maxit = 5000\n",
    "\n",
    "for i in range(imgx):\n",
    "    r = xa + (xb - xa) * float(i) / (imgx - 1)\n",
    "    x = 0.5\n",
    "    for j in range(maxit):\n",
    "        x = r * x * (1 - x)\n",
    "        if j > maxit / 2:\n",
    "            image.putpixel((i, int(x * imgy)), (255, 255, 255))\n",
    "\n",
    "image.save(\"bifurcacion.png\", \"PNG\")\n",
    "\n",
    "import matplotlib.image as img\n",
    "im = img.imread('bifurcacion.png')\n",
    "plt.imshow(im)"
   ]
  },
  {
   "cell_type": "markdown",
   "metadata": {},
   "source": [
    "### Pasos para producir el diagrama de bifurcación"
   ]
  },
  {
   "cell_type": "markdown",
   "metadata": {},
   "source": [
    "1. Escoje un valor inicial para `r`\n",
    "2. Escoje un valor al azar para `x` en `[0,1]`\n",
    "3. Calcula la órbita de `x` bajo el `g` (en el caso anterior el mapeo logístico)\n",
    "4. Ignora las primeras `n` iteraciones y dibuja el valor de `x` para la iteración `n+1`\n",
    "5. Incrementa `r` y repite hasta `r` final."
   ]
  },
  {
   "cell_type": "markdown",
   "metadata": {},
   "source": [
    "<div class=\"alert alert-info\">\n",
    "**Ejercicio** Repite todo lo anterior para el mapeo\n",
    "\n",
    "$$\n",
    "f(x,\\mu) = 1 - \\mu x^2\n",
    "$$\n",
    "\n",
    "¿Qué diferencia observas? ¿Cuáles son sus puntos fijos? ¿Cuáles son los valores interesantes?\n",
    "</div>"
   ]
  },
  {
   "cell_type": "code",
   "execution_count": 108,
   "metadata": {},
   "outputs": [],
   "source": [
    "import random\n",
    "def mi_mapeo(x, miu):\n",
    "    return 1 - (miu * (x**2))\n",
    "\n",
    "def iterar_lista_orbital(x0, r, N):\n",
    "    lista_de_iteraciones = []\n",
    "    for i in range(N+1):\n",
    "        lista_de_iteraciones.append(x0)\n",
    "        x0 = mi_mapeo(x = x0, miu = r)\n",
    "    \n",
    "    return lista_de_iteraciones\n",
    "\n",
    "valor_de_r_inicial = 2\n",
    "valor_aleatorio_de_x = random.uniform(0, 1)\n",
    "numero_de_iteraciones_orbitales = 10\n",
    "##nomas aguanta hasta 6 iteraciones porque los resultados son muy grandes\n",
    "\n",
    "orbita = iterar_lista_orbital(x0=valor_aleatorio_de_x, r=valor_de_r_inicial, N=numero_de_iteraciones_orbitales)"
   ]
  },
  {
   "cell_type": "code",
   "execution_count": 177,
   "metadata": {},
   "outputs": [
    {
     "data": {
      "text/plain": [
       "[0.2873730560162222,\n",
       " 0.8348334533517945,\n",
       " -0.39389378967056565,\n",
       " 0.6896953649179204,\n",
       " 0.04864060722147323,\n",
       " 0.9952681826582528,\n",
       " -0.9811175108237224,\n",
       " -0.9251831400898742,\n",
       " -0.7119276854131198,\n",
       " -0.013682058515364082,\n",
       " 0.9996256025495643]"
      ]
     },
     "execution_count": 177,
     "metadata": {},
     "output_type": "execute_result"
    }
   ],
   "source": [
    "orbita"
   ]
  },
  {
   "cell_type": "markdown",
   "metadata": {},
   "source": [
    "# Triangulo de Serpinski"
   ]
  },
  {
   "cell_type": "code",
   "execution_count": 176,
   "metadata": {},
   "outputs": [],
   "source": [
    "import turtle\n",
    "def serpinski(largo_del_triangulo, iteraciones):\n",
    "    if iteraciones==0:\n",
    "        for i in range(0,3):\n",
    "            t.fd(largo_del_triangulo)\n",
    "            t.left(120)\n",
    "    else:\n",
    "        serpinski(largo_del_triangulo/2,iteraciones-1)\n",
    "        t.fd(largo_del_triangulo/2)\n",
    "        serpinski(largo_del_triangulo/2,iteraciones-1)\n",
    "        t.bk(largo_del_triangulo/2)\n",
    "        t.left(60)\n",
    "        t.fd(largo_del_triangulo/2)\n",
    "        t.right(60)\n",
    "        serpinski(largo_del_triangulo/2,iteraciones-1)\n",
    "        t.left(60)\n",
    "        t.bk(largo_del_triangulo/2)\n",
    "        t.right(60)        \n",
    "       \n",
    "\n",
    "window = turtle.Screen()\n",
    "t = turtle.Turtle()\n",
    "t.speed(10) \n",
    "serpinski(500,2)\n"
   ]
  },
  {
   "cell_type": "code",
   "execution_count": null,
   "metadata": {},
   "outputs": [],
   "source": []
  }
 ],
 "metadata": {
  "kernelspec": {
   "display_name": "Python 3",
   "language": "python",
   "name": "python3"
  },
  "language_info": {
   "codemirror_mode": {
    "name": "ipython",
    "version": 3
   },
   "file_extension": ".py",
   "mimetype": "text/x-python",
   "name": "python",
   "nbconvert_exporter": "python",
   "pygments_lexer": "ipython3",
   "version": "3.8.8"
  }
 },
 "nbformat": 4,
 "nbformat_minor": 1
}
