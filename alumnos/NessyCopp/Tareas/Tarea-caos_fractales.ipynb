{
 "cells": [
  {
   "cell_type": "markdown",
   "id": "d41e3de9",
   "metadata": {},
   "source": [
    "# Tarea final"
   ]
  },
  {
   "cell_type": "code",
   "execution_count": 95,
   "id": "fd229c54",
   "metadata": {},
   "outputs": [],
   "source": [
    "from pylab import *\n",
    "import numpy as np\n",
    "import matplotlib.pyplot as plt\n",
    "import random\n",
    "import time\n",
    "from IPython import display\n",
    "from IPython.display import HTML\n"
   ]
  },
  {
   "cell_type": "markdown",
   "id": "45524caf",
   "metadata": {},
   "source": [
    "### Mapeo logístico"
   ]
  },
  {
   "cell_type": "markdown",
   "id": "740e5e5b",
   "metadata": {},
   "source": [
    "$$\n",
    "x_{n+1} = rx_n(1 -x_n)\n",
    "$$"
   ]
  },
  {
   "cell_type": "markdown",
   "id": "0ce3a2a4",
   "metadata": {},
   "source": [
    "Donde, para fines de esta clase, $r$ esta contenido en \n",
    "\n",
    "$$\n",
    "0 \\leq r \\leq 3\n",
    "$$\n",
    "\n",
    "la razón de esto, es que el cuadro unitario mapea al cuadro unitario, i.e.\n",
    "\n",
    "$$ \n",
    "0 \\leq x \\leq 1 \\to 0 \\leq f(x) \\leq 1\n",
    "$$"
   ]
  },
  {
   "cell_type": "markdown",
   "id": "b20aace8",
   "metadata": {},
   "source": [
    "<div class=\"alert alert-info\">\n",
    "    \n",
    "**Ejercicio** ¿Por qué?\n",
    "</div>"
   ]
  },
  {
   "cell_type": "markdown",
   "id": "7301c819",
   "metadata": {},
   "source": [
    "Porque en estos valores de r, la f(x) converge a números entre 0 y 1. "
   ]
  },
  {
   "cell_type": "markdown",
   "id": "c1e2bdae",
   "metadata": {},
   "source": [
    "<div class=\"alert alert-info\">\n",
    "    \n",
    "**Ejercicio**  Define la función `logistic_map` que recibe como parámetros $x$ y $r$ regresa $rx(1−x)$. \n",
    "</div>"
   ]
  },
  {
   "cell_type": "code",
   "execution_count": 30,
   "id": "7dfa2722",
   "metadata": {},
   "outputs": [],
   "source": [
    "def logistic_map(x,r):\n",
    "    if r>=0 and r<=3:\n",
    "        return r*x*(1-x)"
   ]
  },
  {
   "cell_type": "markdown",
   "id": "38aacc0a",
   "metadata": {},
   "source": [
    "<div class=\"alert alert-info\">\n",
    "    \n",
    "**Ejercicio** Calcule el punto fijo para $r = 2$ usando SymPy\n",
    "</div>"
   ]
  },
  {
   "cell_type": "code",
   "execution_count": 25,
   "id": "dca46a62",
   "metadata": {},
   "outputs": [],
   "source": [
    "from sympy.interactive import printing\n",
    "printing.init_printing(use_latex = True)\n",
    "import sympy as sym"
   ]
  },
  {
   "cell_type": "code",
   "execution_count": 34,
   "id": "f7a2c577",
   "metadata": {},
   "outputs": [
    {
     "data": {
      "image/png": "[encoded data removed]",
      "text/latex": [
       "$\\displaystyle 2 x \\left(1 - x\\right) - x$"
      ],
      "text/plain": [
       "2⋅x⋅(1 - x) - x"
      ]
     },
     "execution_count": 34,
     "metadata": {},
     "output_type": "execute_result"
    }
   ],
   "source": [
    "x = sym.Symbol('x')\n",
    "\n",
    "2*x*(1-x)-x"
   ]
  },
  {
   "cell_type": "code",
   "execution_count": 29,
   "id": "801e8b32",
   "metadata": {},
   "outputs": [
    {
     "data": {
      "image/png": "[encoded data removed]",
      "text/latex": [
       "$\\displaystyle \\left[ 0, \\  \\frac{1}{2}\\right]$"
      ],
      "text/plain": [
       "[0, 1/2]"
      ]
     },
     "execution_count": 29,
     "metadata": {},
     "output_type": "execute_result"
    }
   ],
   "source": [
    "sym.solve(2*x*(1-x)-x,x)"
   ]
  },
  {
   "cell_type": "markdown",
   "id": "0dad6e02",
   "metadata": {},
   "source": [
    "<div class=\"alert alert-info\">\n",
    "    \n",
    "**Ejercicio** ¿Cuáles son las condiciones de estabilidad para el parámetro $r$? Los valores de $r$ para cuales cambia de estable a inestable y viceversa, se llaman _puntos de bifurcación_.\n",
    "</div>"
   ]
  },
  {
   "cell_type": "code",
   "execution_count": 37,
   "id": "04b72251",
   "metadata": {},
   "outputs": [
    {
     "data": {
      "image/png": "[encoded data removed]",
      "text/latex": [
       "$\\displaystyle - r x + r \\left(1 - x\\right)$"
      ],
      "text/plain": [
       "-r⋅x + r⋅(1 - x)"
      ]
     },
     "execution_count": 37,
     "metadata": {},
     "output_type": "execute_result"
    }
   ],
   "source": [
    "r = sym.Symbol('r')\n",
    "sym.diff(r*x*(1-x),x)"
   ]
  },
  {
   "cell_type": "code",
   "execution_count": 39,
   "id": "5c2df8da",
   "metadata": {},
   "outputs": [
    {
     "data": {
      "image/png": "[encoded data removed]",
      "text/latex": [
       "$\\displaystyle \\left[ - \\frac{1}{2 x - 1}\\right]$"
      ],
      "text/plain": [
       "⎡  -1   ⎤\n",
       "⎢───────⎥\n",
       "⎣2⋅x - 1⎦"
      ]
     },
     "execution_count": 39,
     "metadata": {},
     "output_type": "execute_result"
    }
   ],
   "source": [
    "sym.solve(-r*x + r*(1-x)-1,r)"
   ]
  },
  {
   "cell_type": "markdown",
   "id": "c34662c9",
   "metadata": {},
   "source": [
    "Considerando que x < 1/2:\n",
    "\n",
    "Para:\n",
    "\n",
    "$$\n",
    " -\\frac{1}{1-2x} \\leq r \\leq  \\frac{1}{1-2x}\n",
    "$$\n",
    "\n",
    "\n",
    "x < 1/2 es estable. De lo contrario, x es inestable.\n",
    "\n",
    "Al considerar x > 1/2, para:\n",
    "\n",
    "$$\n",
    "\\frac{1}{1-2x} \\leq r \\leq  -\\frac{1}{1-2x}\n",
    "$$\n",
    "\n",
    "x > 1/2 es estable. De lo contrario, x es inestable."
   ]
  },
  {
   "cell_type": "markdown",
   "id": "2c32e5d3",
   "metadata": {},
   "source": [
    "<div class=\"alert alert-info\">\n",
    "    \n",
    "**Ejercicio** Programa un control para cambiar $r$ entre $0$ y $4$ (con un slider) y otro para definid $x_0$. Grafica `logistic_map` respecto al número de iteraciones $N$. ¿Qué observas? ¿Puedes ver algún _periodo_?¿Está cerca de los puntos fijos?\n",
    "</div>"
   ]
  },
  {
   "cell_type": "code",
   "execution_count": 40,
   "id": "b2013f16",
   "metadata": {},
   "outputs": [],
   "source": [
    "from ipywidgets import interact, fixed, widgets, IntSlider, interact_manual, FloatSlider"
   ]
  },
  {
   "cell_type": "code",
   "execution_count": 138,
   "id": "c5f1172b",
   "metadata": {},
   "outputs": [
    {
     "data": {
      "application/vnd.jupyter.widget-view+json": {
       "model_id": "abbc91cbb22f49539b10749f435d90f0",
       "version_major": 2,
       "version_minor": 0
      },
      "text/plain": [
       "interactive(children=(FloatSlider(value=0.0, description='x', max=1.0, step=0.2), FloatSlider(value=0.0, descr…"
      ]
     },
     "metadata": {},
     "output_type": "display_data"
    },
    {
     "data": {
      "text/plain": [
       "<function __main__.logistic_map(x, r)>"
      ]
     },
     "execution_count": 138,
     "metadata": {},
     "output_type": "execute_result"
    }
   ],
   "source": [
    "interact(logistic_map, x =FloatSlider(min=0, max=1, step=0.2, value=0), r = FloatSlider(min=0, max=3, step=0.2, value=0))"
   ]
  },
  {
   "cell_type": "code",
   "execution_count": 48,
   "id": "e1614d84",
   "metadata": {},
   "outputs": [
    {
     "data": {
      "text/plain": [
       "int"
      ]
     },
     "execution_count": 48,
     "metadata": {},
     "output_type": "execute_result"
    }
   ],
   "source": [
    "type(0)"
   ]
  },
  {
   "cell_type": "code",
   "execution_count": 49,
   "id": "cdfa7da7",
   "metadata": {},
   "outputs": [
    {
     "data": {
      "text/plain": [
       "type"
      ]
     },
     "execution_count": 49,
     "metadata": {},
     "output_type": "execute_result"
    }
   ],
   "source": [
    "type(int)"
   ]
  },
  {
   "cell_type": "markdown",
   "id": "ebc21404",
   "metadata": {},
   "source": [
    "<div class=\"alert alert-info\">\n",
    "    \n",
    "**Ejercicio** Define una función `iterar` que reciba una función `g`, un punto inicial `x0`, un entero `N` y el parámetro `r` regrese $g(g( \\ldots(g(x_0, r),r) \\ldots)$. En otras palabras que itere `g`, `N` veces a partir del punto `x0`.\n",
    "</div>"
   ]
  },
  {
   "cell_type": "code",
   "execution_count": 139,
   "id": "a4b23bc6",
   "metadata": {},
   "outputs": [],
   "source": [
    "def iterar(g,x0,N,r):\n",
    "    if N == 0:\n",
    "        return g(x0,r)\n",
    "    elif N >= 0:\n",
    "        return iterar(g,g(x0,r),N-1,r)\n",
    "    "
   ]
  },
  {
   "cell_type": "markdown",
   "id": "e8b4db4b",
   "metadata": {},
   "source": [
    "<div class=\"alert alert-info\">\n",
    "    \n",
    "**Ejercicio** Define una función `iterarLista` que reciba una función `g`, un punto inicial `x0`, un entero `N` y el parámetro $r$ regrese la lista $[x_0, g(x), g(g(x)), \\ldots g(g(\\ldots(g(x))\\ldots))]$ En otras palabras que itere `g`, `N-1` veces a partir del punto `x0` y devuelva la órbita completa empezando desde `x0`.\n",
    "</div>"
   ]
  },
  {
   "cell_type": "code",
   "execution_count": 140,
   "id": "0d37a6e5",
   "metadata": {},
   "outputs": [],
   "source": [
    "def iterarLista(g,x0, r, N,lista):\n",
    "    lista.append(x0)\n",
    "    if N == 0:\n",
    "        return lista\n",
    "    elif N >= 0:\n",
    "        return iterarLista(g, g(x0,r), r, N-1, lista)"
   ]
  },
  {
   "cell_type": "code",
   "execution_count": null,
   "id": "26685dbe",
   "metadata": {},
   "outputs": [],
   "source": []
  },
  {
   "cell_type": "markdown",
   "id": "1b0ea1a6",
   "metadata": {},
   "source": [
    "<div class=\"alert alert-info\">\n",
    "    \n",
    "**Ejercicio** Usa las funciones recién definidas para calcular iteraciones para $r = \\{ 0.8, 1.2, 2.8, 3.2\\}$,\n",
    "</div>"
   ]
  },
  {
   "cell_type": "code",
   "execution_count": 141,
   "id": "3de7aee0",
   "metadata": {},
   "outputs": [
    {
     "data": {
      "image/png": "[encoded data removed]",
      "text/latex": [
       "$\\displaystyle -10753.3682972915$"
      ],
      "text/plain": [
       "-10753.368297291467"
      ]
     },
     "execution_count": 141,
     "metadata": {},
     "output_type": "execute_result"
    }
   ],
   "source": [
    "iterar(logistic_map,2,4,0.8)"
   ]
  },
  {
   "cell_type": "code",
   "execution_count": 79,
   "id": "62028e1d",
   "metadata": {},
   "outputs": [
    {
     "data": {
      "image/png": "[encoded data removed]",
      "text/latex": [
       "$\\displaystyle -453949001.244251$"
      ],
      "text/plain": [
       "-453949001.24425143"
      ]
     },
     "execution_count": 79,
     "metadata": {},
     "output_type": "execute_result"
    }
   ],
   "source": [
    "iterar(logistic_map,2,4,1.2)"
   ]
  },
  {
   "cell_type": "code",
   "execution_count": 75,
   "id": "1f678b56",
   "metadata": {},
   "outputs": [
    {
     "data": {
      "image/png": "[encoded data removed]",
      "text/latex": [
       "$\\displaystyle -1.84484782441448 \\cdot 10^{19}$"
      ],
      "text/plain": [
       "-1.844847824414483e+19"
      ]
     },
     "execution_count": 75,
     "metadata": {},
     "output_type": "execute_result"
    }
   ],
   "source": [
    "iterar(logistic_map,2,4,2.8)"
   ]
  },
  {
   "cell_type": "code",
   "execution_count": 76,
   "id": "7f8ea5b5",
   "metadata": {},
   "outputs": [],
   "source": [
    "iterar(logistic_map,2,4,3.2)"
   ]
  },
  {
   "cell_type": "code",
   "execution_count": 89,
   "id": "d2adbf0a",
   "metadata": {
    "scrolled": true
   },
   "outputs": [
    {
     "data": {
      "image/png": "[encoded data removed]",
      "text/latex": [
       "$\\displaystyle \\left[ 2, \\  -1.6, \\  -3.328, \\  -11.5228672, \\  -115.439468567069\\right]$"
      ],
      "text/plain": [
       "[2, -1.6, -3.3280000000000007, -11.522867200000006, -115.43946856706879]"
      ]
     },
     "execution_count": 89,
     "metadata": {},
     "output_type": "execute_result"
    }
   ],
   "source": [
    "m = []\n",
    "iterarLista(logistic_map,2,0.8,4,m)"
   ]
  },
  {
   "cell_type": "code",
   "execution_count": 90,
   "id": "663c6353",
   "metadata": {},
   "outputs": [
    {
     "data": {
      "image/png": "[encoded data removed]",
      "text/latex": [
       "$\\displaystyle \\left[ 2, \\  -2.4, \\  -9.792, \\  -126.8103168, \\  -19449.2001164596\\right]$"
      ],
      "text/plain": [
       "[2, -2.4, -9.792, -126.81031679999998, -19449.200116459626]"
      ]
     },
     "execution_count": 90,
     "metadata": {},
     "output_type": "execute_result"
    }
   ],
   "source": [
    "m = []\n",
    "iterarLista(logistic_map,2,1.2,4,m)"
   ]
  },
  {
   "cell_type": "code",
   "execution_count": 91,
   "id": "b4629a74",
   "metadata": {},
   "outputs": [
    {
     "data": {
      "image/png": "[encoded data removed]",
      "text/latex": [
       "$\\displaystyle \\left[ 2, \\  -5.6, \\  -103.488, \\  -30277.1116032, \\  -2566854539.60385\\right]$"
      ],
      "text/plain": [
       "[2, -5.6, -103.48799999999999, -30277.111603199988, -2566854539.6038456]"
      ]
     },
     "execution_count": 91,
     "metadata": {},
     "output_type": "execute_result"
    }
   ],
   "source": [
    "m = []\n",
    "iterarLista(logistic_map,2,2.8,4,m)"
   ]
  },
  {
   "cell_type": "code",
   "execution_count": 103,
   "id": "71bfc11a",
   "metadata": {},
   "outputs": [
    {
     "data": {
      "image/png": "[encoded data removed]",
      "text/latex": [
       "$\\displaystyle \\left[ 2, \\  -6, \\  -126, \\  -48006, \\  -6913872126\\right]$"
      ],
      "text/plain": [
       "[2, -6, -126, -48006, -6913872126]"
      ]
     },
     "execution_count": 103,
     "metadata": {},
     "output_type": "execute_result"
    }
   ],
   "source": [
    "m = []\n",
    "iterarLista(logistic_map,2,3,4,m)"
   ]
  },
  {
   "cell_type": "markdown",
   "id": "ef9d146f",
   "metadata": {},
   "source": [
    "## Diagrama de CobWeb"
   ]
  },
  {
   "cell_type": "markdown",
   "id": "951b34fb",
   "metadata": {},
   "source": [
    "<div class=\"alert alert-info\">\n",
    "    \n",
    "**Ejercicio** Dibuja en una gráfica `logistic_map`, como ejes usa $N_{n+1}$ y $N_n$, además agrega la línea $y = x$ en la misma gráfica. ¿Qué observas para los distintos valores de $r$? Grafícala junto a la gráfica anterior.\n",
    "</div>"
   ]
  },
  {
   "cell_type": "code",
   "execution_count": 117,
   "id": "34ffc60f",
   "metadata": {},
   "outputs": [],
   "source": [
    "def GrafLogistic_map(r):\n",
    "    X = np.linspace(0,1, 256, endpoint = True)\n",
    "    \n",
    "    fig, ax1 = plt.subplots(1,1)\n",
    "    \n",
    "    ax1.set_title('Diagrama de CobWeb',fontsize = 12)\n",
    "    ax1.set_xlabel(\"$N_n$\",fontsize =11)\n",
    "    ax1.set_ylabel(\"$N_n+1$\",fontsize=11)\n",
    "    plt.plot(X,X);\n",
    "    plt.plot(X, logistic_map(X,r))"
   ]
  },
  {
   "cell_type": "code",
   "execution_count": 142,
   "id": "630dcbd1",
   "metadata": {},
   "outputs": [
    {
     "data": {
      "application/vnd.jupyter.widget-view+json": {
       "model_id": "c6c4f2e57d024af68d291cade4c9cee3",
       "version_major": 2,
       "version_minor": 0
      },
      "text/plain": [
       "interactive(children=(FloatSlider(value=0.0, description='r', max=3.0, step=0.2), Output()), _dom_classes=('wi…"
      ]
     },
     "metadata": {},
     "output_type": "display_data"
    },
    {
     "data": {
      "text/plain": [
       "<function __main__.GrafLogistic_map(r)>"
      ]
     },
     "execution_count": 142,
     "metadata": {},
     "output_type": "execute_result"
    },
    {
     "data": {
      "image/png": "[encoded data removed]",
      "text/plain": [
       "<Figure size 720x576 with 1 Axes>"
      ]
     },
     "metadata": {
      "needs_background": "light"
     },
     "output_type": "display_data"
    }
   ],
   "source": [
    "interact(GrafLogistic_map, r = FloatSlider(min=0, max=3, step=0.2, value=0))"
   ]
  },
  {
   "cell_type": "markdown",
   "id": "c4d8fd58",
   "metadata": {},
   "source": [
    "Se puede observar que mientras más crece la r, más parabólica se convierte la función."
   ]
  },
  {
   "cell_type": "markdown",
   "id": "9619027b",
   "metadata": {},
   "source": [
    "<div class=\"alert alert-info\">\n",
    "    \n",
    "**Ejercicio** Agrega los segmentos de línea $(x_0, x_0), (x_0. f(x_0)), (f(x_0), f(x_0)), (f(x_0), f(f(x_0))), \\ldots$\n",
    "</div>"
   ]
  },
  {
   "cell_type": "code",
   "execution_count": 147,
   "id": "54bc1d44",
   "metadata": {},
   "outputs": [],
   "source": [
    "def Segmentos(n,g,x0,r,x,y):\n",
    "    x.append(x0)\n",
    "    y.append(x0)\n",
    "    if n == 0:\n",
    "        return x,y\n",
    "    if n%2 == 0:\n",
    "        x.append(x0)\n",
    "        y.append(g(x0,r))\n",
    "    else:\n",
    "        x.append(x0)\n",
    "        y.append(x0)\n",
    "    return Segmentos(n-1,g,g(x0,r),r,x,y)"
   ]
  },
  {
   "cell_type": "code",
   "execution_count": 152,
   "id": "2118a8c6",
   "metadata": {},
   "outputs": [
    {
     "name": "stdout",
     "output_type": "stream",
     "text": [
      "[2, 2, -6.0, -6.0, -126.0, -126.0, -48006.0, -48006.0, -6913872126.0, -6913872126.0, -1.434048833447809e+20, -1.434048833447809e+20, -6.169488170139066e+40]\n",
      "[2, -6.0, -6.0, -6.0, -126.0, -48006.0, -48006.0, -48006.0, -6913872126.0, -1.434048833447809e+20, -1.434048833447809e+20, -1.434048833447809e+20, -6.169488170139066e+40]\n"
     ]
    }
   ],
   "source": [
    "x = []\n",
    "y = []\n",
    "R = 3.0\n",
    "Segmentos(6,logistic_map,2,R,x,y)\n",
    "print(x)\n",
    "print(y)"
   ]
  },
  {
   "cell_type": "code",
   "execution_count": 154,
   "id": "f63ae62f",
   "metadata": {},
   "outputs": [
    {
     "data": {
      "image/png": "[encoded data removed]",
      "text/plain": [
       "<Figure size 720x576 with 1 Axes>"
      ]
     },
     "metadata": {
      "needs_background": "light"
     },
     "output_type": "display_data"
    },
    {
     "data": {
      "image/png": "[encoded data removed]",
      "text/plain": [
       "<Figure size 720x576 with 1 Axes>"
      ]
     },
     "metadata": {
      "needs_background": "light"
     },
     "output_type": "display_data"
    }
   ],
   "source": [
    "plt.plot(np.asarray(x),np.asarray(y));\n",
    "GrafLogistic_map(R);"
   ]
  },
  {
   "cell_type": "markdown",
   "id": "5f0189cf",
   "metadata": {},
   "source": [
    "## Diagrama de Bifurcación"
   ]
  },
  {
   "cell_type": "markdown",
   "id": "31040841",
   "metadata": {},
   "source": [
    "<div class=\"alert alert-info\">\n",
    "    \n",
    "**Ejercicio** Modificar el código del diagrama de bifurcación para que use nuestras funciones.\n",
    "</div>"
   ]
  },
  {
   "cell_type": "code",
   "execution_count": 122,
   "id": "41db6c5b",
   "metadata": {},
   "outputs": [],
   "source": [
    "import math\n",
    "from PIL import Image\n",
    "\n",
    "def DiaBifurcacion(g):\n",
    "    imgx = 1000\n",
    "    imgy = 500\n",
    "    image = Image.new(\"RGB\", (imgx, imgy))\n",
    "    \n",
    "    xa = 1\n",
    "    xb = 4\n",
    "    maxit = 5000\n",
    "    \n",
    "    for i in range(imgx):\n",
    "        r = xa + (xb - xa) * float(i) / (imgx - 1)\n",
    "        x = 0.5\n",
    "        for j in range(maxit):\n",
    "            x = g(x,r)\n",
    "            if j > maxit / 2:\n",
    "                image.putpixel((i, int(x * imgy)), (255, 255, 255))\n",
    "    \n",
    "    image.save(\"bifurcacion.png\", \"PNG\")"
   ]
  },
  {
   "cell_type": "markdown",
   "id": "fe5c2542",
   "metadata": {},
   "source": [
    "<div class=\"alert alert-info\">\n",
    "\n",
    "**Ejercicio** Repite todo lo anterior para el mapeo\n",
    "\n",
    "$$\n",
    "f(x,\\mu) = 1 - \\mu x^2\n",
    "$$\n",
    "\n",
    "¿Qué diferencia observas? ¿Cuáles son sus puntos fijos? ¿Cuáles son los valores interesantes?\n",
    "</div>"
   ]
  },
  {
   "cell_type": "code",
   "execution_count": 124,
   "id": "ebf3854f",
   "metadata": {},
   "outputs": [
    {
     "ename": "IndexError",
     "evalue": "image index out of range",
     "output_type": "error",
     "traceback": [
      "\u001b[0;31m---------------------------------------------------------------------------\u001b[0m",
      "\u001b[0;31mIndexError\u001b[0m                                Traceback (most recent call last)",
      "\u001b[0;32m/tmp/ipykernel_47/1198380297.py\u001b[0m in \u001b[0;36m<module>\u001b[0;34m\u001b[0m\n\u001b[1;32m      2\u001b[0m     \u001b[0;32mreturn\u001b[0m \u001b[0;36m1\u001b[0m \u001b[0;34m-\u001b[0m \u001b[0mmu\u001b[0m\u001b[0;34m*\u001b[0m\u001b[0mx\u001b[0m\u001b[0;34m**\u001b[0m\u001b[0;36m2\u001b[0m\u001b[0;34m\u001b[0m\u001b[0;34m\u001b[0m\u001b[0m\n\u001b[1;32m      3\u001b[0m \u001b[0;34m\u001b[0m\u001b[0m\n\u001b[0;32m----> 4\u001b[0;31m \u001b[0mDiaBifurcacion\u001b[0m\u001b[0;34m(\u001b[0m\u001b[0mMapeo1\u001b[0m\u001b[0;34m)\u001b[0m\u001b[0;34m\u001b[0m\u001b[0;34m\u001b[0m\u001b[0m\n\u001b[0m",
      "\u001b[0;32m/tmp/ipykernel_47/1901580213.py\u001b[0m in \u001b[0;36mDiaBifurcacion\u001b[0;34m(g)\u001b[0m\n\u001b[1;32m     17\u001b[0m             \u001b[0mx\u001b[0m \u001b[0;34m=\u001b[0m \u001b[0mg\u001b[0m\u001b[0;34m(\u001b[0m\u001b[0mx\u001b[0m\u001b[0;34m,\u001b[0m\u001b[0mr\u001b[0m\u001b[0;34m)\u001b[0m\u001b[0;34m\u001b[0m\u001b[0;34m\u001b[0m\u001b[0m\n\u001b[1;32m     18\u001b[0m             \u001b[0;32mif\u001b[0m \u001b[0mj\u001b[0m \u001b[0;34m>\u001b[0m \u001b[0mmaxit\u001b[0m \u001b[0;34m/\u001b[0m \u001b[0;36m2\u001b[0m\u001b[0;34m:\u001b[0m\u001b[0;34m\u001b[0m\u001b[0;34m\u001b[0m\u001b[0m\n\u001b[0;32m---> 19\u001b[0;31m                 \u001b[0mimage\u001b[0m\u001b[0;34m.\u001b[0m\u001b[0mputpixel\u001b[0m\u001b[0;34m(\u001b[0m\u001b[0;34m(\u001b[0m\u001b[0mi\u001b[0m\u001b[0;34m,\u001b[0m \u001b[0mint\u001b[0m\u001b[0;34m(\u001b[0m\u001b[0mx\u001b[0m \u001b[0;34m*\u001b[0m \u001b[0mimgy\u001b[0m\u001b[0;34m)\u001b[0m\u001b[0;34m)\u001b[0m\u001b[0;34m,\u001b[0m \u001b[0;34m(\u001b[0m\u001b[0;36m255\u001b[0m\u001b[0;34m,\u001b[0m \u001b[0;36m255\u001b[0m\u001b[0;34m,\u001b[0m \u001b[0;36m255\u001b[0m\u001b[0;34m)\u001b[0m\u001b[0;34m)\u001b[0m\u001b[0;34m\u001b[0m\u001b[0;34m\u001b[0m\u001b[0m\n\u001b[0m\u001b[1;32m     20\u001b[0m \u001b[0;34m\u001b[0m\u001b[0m\n\u001b[1;32m     21\u001b[0m     \u001b[0mimage\u001b[0m\u001b[0;34m.\u001b[0m\u001b[0msave\u001b[0m\u001b[0;34m(\u001b[0m\u001b[0;34m\"bifurcacion.png\"\u001b[0m\u001b[0;34m,\u001b[0m \u001b[0;34m\"PNG\"\u001b[0m\u001b[0;34m)\u001b[0m\u001b[0;34m\u001b[0m\u001b[0;34m\u001b[0m\u001b[0m\n",
      "\u001b[0;32m/opt/conda/lib/python3.9/site-packages/PIL/Image.py\u001b[0m in \u001b[0;36mputpixel\u001b[0;34m(self, xy, value)\u001b[0m\n\u001b[1;32m   1812\u001b[0m             \u001b[0;31m# RGB or RGBA value for a P image\u001b[0m\u001b[0;34m\u001b[0m\u001b[0;34m\u001b[0m\u001b[0;34m\u001b[0m\u001b[0m\n\u001b[1;32m   1813\u001b[0m             \u001b[0mvalue\u001b[0m \u001b[0;34m=\u001b[0m \u001b[0mself\u001b[0m\u001b[0;34m.\u001b[0m\u001b[0mpalette\u001b[0m\u001b[0;34m.\u001b[0m\u001b[0mgetcolor\u001b[0m\u001b[0;34m(\u001b[0m\u001b[0mvalue\u001b[0m\u001b[0;34m,\u001b[0m \u001b[0mself\u001b[0m\u001b[0;34m)\u001b[0m\u001b[0;34m\u001b[0m\u001b[0;34m\u001b[0m\u001b[0m\n\u001b[0;32m-> 1814\u001b[0;31m         \u001b[0;32mreturn\u001b[0m \u001b[0mself\u001b[0m\u001b[0;34m.\u001b[0m\u001b[0mim\u001b[0m\u001b[0;34m.\u001b[0m\u001b[0mputpixel\u001b[0m\u001b[0;34m(\u001b[0m\u001b[0mxy\u001b[0m\u001b[0;34m,\u001b[0m \u001b[0mvalue\u001b[0m\u001b[0;34m)\u001b[0m\u001b[0;34m\u001b[0m\u001b[0;34m\u001b[0m\u001b[0m\n\u001b[0m\u001b[1;32m   1815\u001b[0m \u001b[0;34m\u001b[0m\u001b[0m\n\u001b[1;32m   1816\u001b[0m     \u001b[0;32mdef\u001b[0m \u001b[0mremap_palette\u001b[0m\u001b[0;34m(\u001b[0m\u001b[0mself\u001b[0m\u001b[0;34m,\u001b[0m \u001b[0mdest_map\u001b[0m\u001b[0;34m,\u001b[0m \u001b[0msource_palette\u001b[0m\u001b[0;34m=\u001b[0m\u001b[0;32mNone\u001b[0m\u001b[0;34m)\u001b[0m\u001b[0;34m:\u001b[0m\u001b[0;34m\u001b[0m\u001b[0;34m\u001b[0m\u001b[0m\n",
      "\u001b[0;31mIndexError\u001b[0m: image index out of range"
     ]
    }
   ],
   "source": [
    "def Mapeo1(x,mu):\n",
    "    return 1 - mu*x**2\n",
    "\n",
    "DiaBifurcacion(Mapeo1)"
   ]
  },
  {
   "cell_type": "markdown",
   "id": "be26e7f9",
   "metadata": {},
   "source": [
    "## Triángulo de Sierpinski"
   ]
  },
  {
   "cell_type": "markdown",
   "id": "38de2ed8",
   "metadata": {},
   "source": [
    "<div class=\"alert alert-info\">\n",
    "    \n",
    "**Ejercicio** Genera de la misma manera el [Triángulo de Sierpinski](http://en.wikipedia.org/wiki/Sierpinski_triangle)\n",
    "\n",
    "</div>"
   ]
  },
  {
   "cell_type": "code",
   "execution_count": 131,
   "id": "7c980474",
   "metadata": {},
   "outputs": [],
   "source": [
    "# %load TrianguloSierpinski\n",
    "\n",
    "import numpy as np\n",
    "import matplotlib.pyplot as plt\n",
    "\n",
    "class TrianguloSierpinski:\n",
    "    def __init__(self, x1, y1, x2, y2, x3, y3):\n",
    "        self.x1 = x1\n",
    "        self.y1 = y1\n",
    "        self.x2 = x2\n",
    "        self.y2 = y2\n",
    "        self.x3 = x3\n",
    "        self.y3 = y3\n",
    "    \n",
    "    def _generar(self, x1, y1, x2, y2, x3, y3, iteracion):\n",
    "        \n",
    "        if iteracion == 0:\n",
    "            self.dibujar(x1, y1, x2, y2, x3, y3)\n",
    "            \n",
    "        elif iteracion >= 0:\n",
    "            x12 = (x2 + x1)/2\n",
    "            y12 = (y2 + y1)/2\n",
    "            \n",
    "            x13 = (x3 + x1)/2\n",
    "            y13 = (y3 + y1)/2\n",
    "            \n",
    "            x23 = (x3 + x2)/2\n",
    "            y23 = (y3 + y2)/2\n",
    "            \n",
    "            self._generar(x1, y1, x12, y12, x13, y13, iteracion - 1)\n",
    "            self._generar(x13, y13, x3, y3, x23, y23, iteracion - 1)\n",
    "            self._generar(x12, y12, x23, y23, x2, y2, iteracion - 1)\n",
    "            \n",
    "    def dibujar(self, x1, y1, x2, y2, x3, y3):\n",
    "        plot([x1, x2, x3, x1], [y1, y2, y3, y1], lw=1.0, color='blue')\n",
    "\n",
    "    def generar(self, iteraciones=0):\n",
    "        return self._generar(self.x1, self.y1, self.x2, self.y2, self.x3, self.y3, iteraciones)\n"
   ]
  },
  {
   "cell_type": "code",
   "execution_count": 136,
   "id": "e2b2b5ae",
   "metadata": {},
   "outputs": [],
   "source": [
    "T = TrianguloSierpinski(0,0,2,0,1,2)"
   ]
  },
  {
   "cell_type": "code",
   "execution_count": 137,
   "id": "da1004f4",
   "metadata": {
    "scrolled": true
   },
   "outputs": [
    {
     "data": {
      "image/png": "[encoded data removed]",
      "text/plain": [
       "<Figure size 720x576 with 1 Axes>"
      ]
     },
     "metadata": {
      "needs_background": "light"
     },
     "output_type": "display_data"
    }
   ],
   "source": [
    "T.generar(iteraciones = 4)"
   ]
  },
  {
   "cell_type": "code",
   "execution_count": null,
   "id": "175c8d74",
   "metadata": {},
   "outputs": [],
   "source": []
  }
 ],
 "metadata": {
  "kernelspec": {
   "display_name": "Python 3 (ipykernel)",
   "language": "python",
   "name": "python3"
  },
  "language_info": {
   "codemirror_mode": {
    "name": "ipython",
    "version": 3
   },
   "file_extension": ".py",
   "mimetype": "text/x-python",
   "name": "python",
   "nbconvert_exporter": "python",
   "pygments_lexer": "ipython3",
   "version": "3.9.6"
  }
 },
 "nbformat": 4,
 "nbformat_minor": 5
}
