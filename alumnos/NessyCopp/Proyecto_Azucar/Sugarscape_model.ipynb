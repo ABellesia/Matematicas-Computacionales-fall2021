{
 "cells": [
  {
   "cell_type": "markdown",
   "id": "82295b92",
   "metadata": {},
   "source": [
    "# Sugarscape model\n",
    "\n",
    "El _Sugarscape model_ es una **simulación social basada en la interacción de agentes**. \n",
    "\n",
    "## Breve introducción histórica\n",
    "\n",
    "<div class=\"alert alert-info\">\n",
    "    \n",
    "- La simulación social basada en la interacción de agentes fue presentada por primera vez por Thomas Schelling, en su artículo \"Modelos de segregación\" (1969).\n",
    "    \n",
    "</div>\n",
    "\n",
    "<div class=\"alert alert-info\">\n",
    "    \n",
    "- A principios de los noventas, el matemático John Conway presentó a sus alumnos este tipo de simulación con el nombre \"El juego de la vida\".\n",
    "\n",
    "</div>\n",
    "\n",
    "<div class=\"alert alert-info\">\n",
    "\n",
    "- Epstein y Axtell tomaron este modelo, lo ampliaron y lo aplicaron en el área de la simulación social en su libro _Growing Artificial Societies: Social Science from the Bottom Up_ (1996).\n",
    "    \n",
    "</div>\n",
    "\n",
    "<div class=\"alert alert-info\">\n",
    "\n",
    "- Esta implementación de Epstein y Axtell es la que se conoce como **Sugarscape model**.\n",
    "    \n",
    "</div>\n",
    "\n",
    "## Características del modelo\n",
    "\n",
    "- **Agentes autónomos**, es decir, que no están gobernados por una autoridad central. \n",
    "- Los agentes también son **heterogéneos**, lo que implica que tienen atributos genéticos y dotaciones de recursos iniciales distintos.\n",
    "- Los agentes compiten por **recursos**.\n",
    "- Los recursos están distribuidos en un **entorno bidimensional** de manera desigual.\n",
    "\n",
    "<div class=\"alert alert-info\">\n",
    "    \n",
    "- Se trata de un modelo que construye estructuras colectivas a partir de reglas locales simples. \n",
    "    \n",
    "</div>\n",
    "\n",
    "\n",
    "## Implicaciones\n",
    "\n",
    "La interacción de los agentes produce patrones agregados observables, como por ejemplo:\n",
    "\n",
    "- Desplazamientos por cambios en el ambiente. (`En la realidad:` migración por cambio climático)\n",
    "- Desigualdad en las dotaciones de los agentes a lo largo del tiempo. (`En la realidad:` Fenómeno de desigualdad de ingresos)\n",
    "- Guerra ante la escasez de recursos.\n",
    "\n",
    "Esto quiere decir, que al dejar actuar a los agentes bajo sus propios medios, estos logran estructurarse colectivamente con el paso del tiempo. Socialmente, esta implementación del modelo puede ayudar a diseñar políticas públicas sustentables.\n",
    "\n",
    "\n"
   ]
  },
  {
   "cell_type": "markdown",
   "id": "cff978a7",
   "metadata": {},
   "source": [
    "# Proyecto"
   ]
  },
  {
   "cell_type": "code",
   "execution_count": 1,
   "id": "e791cd9f",
   "metadata": {},
   "outputs": [],
   "source": [
    "import random\n",
    "import numpy as np\n",
    "import matplotlib.pyplot as plt\n",
    "from matplotlib import animation, rc\n",
    "from IPython.display import HTML"
   ]
  },
  {
   "cell_type": "markdown",
   "id": "8488dde2",
   "metadata": {},
   "source": [
    "<div class=\"alert alert-info\">\n",
    "    \n",
    " Crea un clase `Habitante` que herede de nuestra clase `Agente`, implemente el algoritmo de comportamiento comentado en la introducción.\n",
    "    \n",
    "</div>"
   ]
  },
  {
   "cell_type": "code",
   "execution_count": null,
   "id": "77a21dc4",
   "metadata": {},
   "outputs": [],
   "source": [
    "# %load Agente.py\n",
    "\n",
    "class Agente:\n",
    "    \"\"\" Agente general \"\"\"\n",
    "    def __init__(self, tipo, locacion=np.array([0,0])):\n",
    "        self.tipo = tipo\n",
    "        self.locacion = locacion\n",
    "        self.siguiente_accion = None\n",
    "\n",
    "    def distancia(self, otro):\n",
    "        \"Calcula la distancia euclídea entre este agente y otro.\"\n",
    "        return np.linalg.norm(self.locacion - otro.locacion)  # Otra manera es usar np.sqrt(np.sum((a-b)**2))\n",
    "    \n",
    "    def vecinos(self, agentes):\n",
    "        pass\n",
    "    \n",
    "    def actuar(self, agentes):\n",
    "        self.locacion =  self.siguiente_accion\n",
    "        \n",
    "    def decidir(self, agentes):\n",
    "        self.siguiente_accion = np.array([random.uniform(0, 1), random.uniform(0, 1)]) # Toma una nueva posición al azar\n",
    "    \n",
    "    def actualizar(self, agentes):\n",
    "        self.decidir(agentes)\n",
    "        self.actuar(agentes)\n"
   ]
  },
  {
   "cell_type": "code",
   "execution_count": null,
   "id": "89658c82",
   "metadata": {},
   "outputs": [],
   "source": [
    "class habitante(Agente):\n",
    "    \"\"\"\n",
    "    Aquí se encuentra el registro de los habitantes de Sugarscape.\n",
    "    Su lugar de nacimiento y sus características individuales.\n",
    "    \n",
    "    \"\"\"\n",
    "    def __init__(self, habitantes):       \n",
    "        #Registro de los habitantes de Sugarscape\n",
    "        self.id = np.array(range(habitantes))\n",
    "        \n",
    "        #Lugar de nacimiento de los habitantes\n",
    "        self.x = np.random.randint(0,51,habitantes)\n",
    "        self.y = np.random.randint(0,51,habitantes)\n",
    "        \n",
    "        Agente.__init__(self, tipo = 'habitante', locacion = np.array([self.x,self.y]))\n",
    "        \n",
    "        #Atributos\n",
    "        self.metabolismo = np.random.randint(1,5,habitantes)\n",
    "        self.vision = np.random.randint(1,6,habitantes)\n",
    "        self.edad = np.random.randint(60,101, habitantes)\n",
    "        self.ingreso = np.random.randint(5,26, habitantes)\n",
    "        self.sexo = np.random,randint(0,2,2)\n",
    "    \n",
    "    def decidir(self,)\n",
    "        \n",
    "        "
   ]
  },
  {
   "cell_type": "markdown",
   "id": "0f5c0a56",
   "metadata": {},
   "source": [
    "<div class=\"alert alert-info\">\n",
    "    \n",
    "Crea una clase `Sugarscape` que herede de nuestra clase `Mundo`. Representa mediante grados de color la fuerza del agente y la cantidad de azúcar en la celda. \n",
    "    \n",
    "</div>"
   ]
  },
  {
   "cell_type": "code",
   "execution_count": null,
   "id": "a8647fd1",
   "metadata": {},
   "outputs": [],
   "source": [
    "# %load Mundo.py\n",
    "\n",
    "class Mundo:\n",
    "    def __init__(self, agentes, ancho=8, alto=8, steps = 10):\n",
    "        self.agentes = agentes\n",
    "        self.ancho = ancho\n",
    "        self.alto = alto\n",
    "        self.steps = steps\n",
    "        self.init_anim()\n",
    "        \n",
    "        print (\"Creado el mundo\")\n",
    "        \n",
    "    def init_anim(self):\n",
    "        self.fig = plt.figure(figsize=(self.ancho, self.alto))\n",
    "        self.ax = plt.axes(xlim=(0, 1), ylim=(0, 1))\n",
    "        plot_args = {'markersize' : 8, 'alpha' : 0.6}\n",
    "        self.puntos, = self.ax.plot([], [], 'o', **plot_args)\n",
    "       \n",
    "       \n",
    "    def dibujar(self, step):\n",
    "        x_values_0, y_values_0 = [], []\n",
    "        for agente in self.agentes:\n",
    "            x, y = agente.locacion\n",
    "            x_values_0.append(x)\n",
    "            y_values_0.append(y)\n",
    "\n",
    "        self.puntos.set_data(x_values_0, y_values_0)\n",
    "        \n",
    "        self.ax.set_title('Paso {}'.format(step))\n",
    "        \n",
    "        return self.puntos,\n",
    "       \n",
    "    def actualizar(self, step):   \n",
    "        self.dibujar(step) # Dibuja el mundo\n",
    "        \n",
    "        for agente in self.agentes:\n",
    "            agente.actualizar(self.agentes)\n",
    "    \n",
    "    def clean_screen(self):\n",
    "        self.puntos.set_data([], [])\n",
    "        return self.puntos,\n",
    "          \n",
    "    def simular(self):\n",
    "        anim = animation.FuncAnimation(self.fig, self.actualizar, init_func=self.clean_screen, frames=self.steps, interval=1000, blit=False)\n",
    "        return anim\n"
   ]
  },
  {
   "cell_type": "code",
   "execution_count": null,
   "id": "931eab41",
   "metadata": {},
   "outputs": [],
   "source": [
    "class Sugarscape(Mundo):\n",
    "    def __init__(self,c, habitantes):\n",
    "        \"\"\"\n",
    "        c es la capacidad de azúcar de una celda, es decir, el valor\n",
    "        máximo de unidades de azúcar que puede contener una celda.\n",
    "        \n",
    "        \"\"\"\n",
    "        Mundo.__init__(self,habitantes, ancho = 51, alto = 51, steps = 60)\n",
    "        \n",
    "        self.size = (51,51)\n",
    "        \n",
    "        #Propiedades de las parcelas de azúcar\n",
    "        #Capacidad de azúcar por parcela/celda (aleatoria)\n",
    "        self.capacidad = np.random.randint(0, c + 1, size = self.size)\n",
    "        #Las unidades por parcela/celda\n",
    "        self.level = np.random.randint(0, c + 1, size = self.size)\n",
    "        #Para asegurar que la cantidad de unidades de azúcar por parcela\n",
    "        #no excede la capacidad\n",
    "        self.level = np.minimum.reduce([self.level,self.capacidad])\n",
    "        "
   ]
  },
  {
   "cell_type": "markdown",
   "id": "ba752c7c",
   "metadata": {},
   "source": [
    "<div class=\"alert alert-info\">\n",
    "    \n",
    "Crea una clase `Bien` que represente al `azúcar` de **Sugarscape**. \n",
    "    \n",
    "</div>"
   ]
  },
  {
   "cell_type": "markdown",
   "id": "5a203156",
   "metadata": {},
   "source": [
    "<div class=\"alert alert-info\">\n",
    "    \n",
    "Ejecuta una simulación sencilla, con agentes consumiendo recursos y acaparándolos. Inicializa los agentes con diferentes capacidades de almacenar azúcar, consumo de azúcar (metabolismo) y rango de visión.\n",
    "    \n",
    "</div>"
   ]
  },
  {
   "cell_type": "markdown",
   "id": "aaa32bb7",
   "metadata": {},
   "source": [
    "<div class=\"alert alert-info\">\n",
    "    \n",
    "Grafica la [**curva de Lorenz**](http://en.wikipedia.org/wiki/Lorenz_curve) y el [**coeficiente de Gini**](http://en.wikipedia.org/wiki/Gini_coefficient), grafica también la población y la cantidad de azúcar. ¿Qué interpretación le das a las gráficas? \n",
    "    \n",
    "</div>"
   ]
  },
  {
   "cell_type": "markdown",
   "id": "035b0061",
   "metadata": {},
   "source": [
    "<div class=\"alert alert-info\">\n",
    "    \n",
    "Agrega un factor de regeneración del `azúcar`.\n",
    "    \n",
    "</div>"
   ]
  },
  {
   "cell_type": "markdown",
   "id": "dd309e06",
   "metadata": {},
   "source": [
    "<div class=\"alert alert-info\">\n",
    "    \n",
    "Agrega un factor de reproducción asexual. (Si tiene suficiente energía, se divide en dos) \n",
    "    \n",
    "</div>"
   ]
  },
  {
   "cell_type": "markdown",
   "id": "3aaa0ef5",
   "metadata": {},
   "source": [
    "<div class=\"alert alert-info\">\n",
    "    \n",
    "Agrega que el agente muera por hambre.\n",
    "    \n",
    "</div>"
   ]
  },
  {
   "cell_type": "markdown",
   "id": "8ae5f479",
   "metadata": {},
   "source": [
    "<div class=\"alert alert-info\">\n",
    "    \n",
    "Agrega la `especia` al modelo, también es necesario para vivir. Su valor nutrimental es diferente al del `azúcar`.\n",
    "    \n",
    "</div>"
   ]
  },
  {
   "cell_type": "markdown",
   "id": "ad920e3f",
   "metadata": {},
   "source": [
    "<div class=\"alert alert-info\">\n",
    "    \n",
    "Agrega la habilidad de comerciar.\n",
    "    \n",
    "</div>"
   ]
  },
  {
   "cell_type": "markdown",
   "id": "c4b85fee",
   "metadata": {},
   "source": [
    "<div class=\"alert alert-info\">\n",
    "    \n",
    "Agrega una `tribu` al agente.\n",
    "    \n",
    "</div>"
   ]
  },
  {
   "cell_type": "markdown",
   "id": "80a0daf5",
   "metadata": {},
   "source": [
    "<div class=\"alert alert-info\">\n",
    "    \n",
    "Agrega un tiempo de vida máximo.\n",
    "    \n",
    "</div>"
   ]
  },
  {
   "cell_type": "markdown",
   "id": "0253b134",
   "metadata": {},
   "source": [
    "<div class=\"alert alert-info\">\n",
    "    \n",
    "Agrega una variable `sexo`. \n",
    "    \n",
    "</div>"
   ]
  },
  {
   "cell_type": "markdown",
   "id": "ce16ca47",
   "metadata": {},
   "source": [
    "<div class=\"alert alert-info\">\n",
    "    \n",
    "Agrega reproducción sexual. (Si está en su edad fértil, ambos tienen energía y le transmiten la mitad a su hijo)\n",
    "    \n",
    "</div>"
   ]
  },
  {
   "cell_type": "markdown",
   "id": "a3ef294e",
   "metadata": {},
   "source": []
  },
  {
   "cell_type": "code",
   "execution_count": 4,
   "id": "ae72a97e",
   "metadata": {},
   "outputs": [
    {
     "data": {
      "text/plain": [
       "array(51)"
      ]
     },
     "execution_count": 4,
     "metadata": {},
     "output_type": "execute_result"
    }
   ],
   "source": []
  },
  {
   "cell_type": "code",
   "execution_count": null,
   "id": "58e64727",
   "metadata": {},
   "outputs": [],
   "source": []
  }
 ],
 "metadata": {
  "kernelspec": {
   "display_name": "Python 3 (ipykernel)",
   "language": "python",
   "name": "python3"
  },
  "language_info": {
   "codemirror_mode": {
    "name": "ipython",
    "version": 3
   },
   "file_extension": ".py",
   "mimetype": "text/x-python",
   "name": "python",
   "nbconvert_exporter": "python",
   "pygments_lexer": "ipython3",
   "version": "3.9.6"
  }
 },
 "nbformat": 4,
 "nbformat_minor": 5
}
