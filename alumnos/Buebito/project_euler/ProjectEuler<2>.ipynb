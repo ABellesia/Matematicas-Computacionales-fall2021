{
 "cells": [
  {
   "cell_type": "markdown",
   "id": "09ade8f2",
   "metadata": {},
   "source": [
    "# Problem 2\n",
    "## Even Fibonacci numbers\n",
    "* By considering the terms in the Fibonacci sequence whose values do not exceed four million, find the sum of the even-valued terms."
   ]
  },
  {
   "cell_type": "markdown",
   "id": "ad63ab93",
   "metadata": {},
   "source": [
    "-------------------------------------------------------------------------------------------------------------------------------"
   ]
  },
  {
   "cell_type": "markdown",
   "id": "a618cfc0",
   "metadata": {},
   "source": [
    "#### Respuesta:\n",
    "\n",
    "Primero generemos una lista con los numeros de fibbonacci menores a 4000000\n",
    "Sabemos que los primeros dígitos son:\n",
    "\n",
    "$$ f_0 = 0, f_1 = 1 $$\n",
    "\n",
    "Es decir,"
   ]
  },
  {
   "cell_type": "code",
   "execution_count": 2,
   "id": "52b60fda",
   "metadata": {},
   "outputs": [],
   "source": [
    "f0,f1=0,1"
   ]
  },
  {
   "cell_type": "markdown",
   "id": "16ec11b1",
   "metadata": {},
   "source": [
    "Creamos un ciclo donde sumaremos los dos primeros números y asi obtener al sucesor. Pero pada poder continuar con un bucle sin crear un montón de variables, podemos sustituir el primer dígito f0 con el segundo f1 y el segundo con el sucesor f0+f1. Es decir,\n",
    "\n",
    "$$ f0\\ ,\\ f1=f1\\ ,f0+f1$$"
   ]
  },
  {
   "cell_type": "markdown",
   "id": "fad61fee",
   "metadata": {},
   "source": [
    "También creamos la lista donde meteremos los números de Fibonacci, donde agregaremos el 0.\n",
    "Esto se hace así, dado que iremos agregando únicamente los segundos dígitos f2's \n",
    "* Esto lo aprendí a las malas agregando ambos y obteniendo repetidos por la sustitución\n",
    "\n",
    "El ciclo es un simple while que irá checando que el segundo dígito f1 no pase de 4Mio.\n",
    "Por tanto, esto queda:"
   ]
  },
  {
   "cell_type": "code",
   "execution_count": 3,
   "id": "f27188a4",
   "metadata": {},
   "outputs": [
    {
     "name": "stdout",
     "output_type": "stream",
     "text": [
      "[0, 1, 1, 2, 3, 5, 8, 13, 21, 34, 55, 89, 144, 233, 377, 610, 987, 1597, 2584, 4181, 6765, 10946, 17711, 28657, 46368, 75025, 121393, 196418, 317811, 514229, 832040, 1346269, 2178309, 3524578]\n"
     ]
    }
   ],
   "source": [
    "f=[0]\n",
    "while f1<4000000:\n",
    "    f.append(f1)\n",
    "    f0,f1=f1,f0+f1\n",
    "print(f)"
   ]
  },
  {
   "cell_type": "markdown",
   "id": "d79d8008",
   "metadata": {},
   "source": [
    "Ahora teniendo los dígitos, podemos hacer un list comprenhension para obtener los números pares, que sabemos que son:\n",
    "\n",
    "$$ M_2 = multiplo\\ de\\ 2 = \\{ x \\in \\mathbf{N}\\ |\\  x=2n\\ para\\ algún\\ n\\in \\mathbf{N}\\}$$\n",
    "\n",
    "Es decir,\n",
    "\n",
    "$$x=2n+r\\ donde\\ r\\ el\\ residuo\\ es\\ 0$$\n",
    "\n",
    "Ó el x modulo 2 es cero.\n",
    "Por tanto, utilizando la lista anterior tenemos,"
   ]
  },
  {
   "cell_type": "code",
   "execution_count": 4,
   "id": "e1aa9989",
   "metadata": {},
   "outputs": [
    {
     "data": {
      "text/plain": [
       "[0, 2, 8, 34, 144, 610, 2584, 10946, 46368, 196418, 832040, 3524578]"
      ]
     },
     "execution_count": 4,
     "metadata": {},
     "output_type": "execute_result"
    }
   ],
   "source": [
    "m2=[i for i in f if i%2==0]\n",
    "m2"
   ]
  },
  {
   "cell_type": "markdown",
   "id": "25f42e88",
   "metadata": {},
   "source": [
    "$$ \\therefore La\\ suma\\ de\\ los\\ números\\ de\\ Fibonacci\\ que\\ no\\ exceden\\ los\\ 4Mio\\ y\\ son\\ pares\\ es:$$"
   ]
  },
  {
   "cell_type": "code",
   "execution_count": 5,
   "id": "b0443019",
   "metadata": {},
   "outputs": [
    {
     "data": {
      "text/plain": [
       "4613732"
      ]
     },
     "execution_count": 5,
     "metadata": {},
     "output_type": "execute_result"
    }
   ],
   "source": [
    "sum(m2)"
   ]
  }
 ],
 "metadata": {
  "kernelspec": {
   "display_name": "Python 3 (ipykernel)",
   "language": "python",
   "name": "python3"
  },
  "language_info": {
   "codemirror_mode": {
    "name": "ipython",
    "version": 3
   },
   "file_extension": ".py",
   "mimetype": "text/x-python",
   "name": "python",
   "nbconvert_exporter": "python",
   "pygments_lexer": "ipython3",
   "version": "3.9.6"
  }
 },
 "nbformat": 4,
 "nbformat_minor": 5
}
