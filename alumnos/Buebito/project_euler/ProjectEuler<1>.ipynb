{
 "cells": [
  {
   "cell_type": "markdown",
   "id": "531f0492",
   "metadata": {},
   "source": [
    "# Problem 1\n",
    "## Multiples of 3 and 5\n",
    "* Find the sum of all the multiples of 3 or 5 below 1000."
   ]
  },
  {
   "cell_type": "markdown",
   "id": "0232238b",
   "metadata": {},
   "source": [
    "--------------------------------------------------------------------------------------------------------------------------------------------------------------------------------------------------------------------------------------------------------------"
   ]
  },
  {
   "cell_type": "markdown",
   "id": "40bd31d9",
   "metadata": {},
   "source": [
    "#### Respuesta:\n",
    "\n",
    "Sabemos que los multiplos de 3 en los número Naturales son: \n",
    "\n",
    "$$ M_3 = multiplo\\ de\\ 3 = \\{ x \\in \\mathbf{N}\\ |\\  x=3n\\ para\\ algún\\ n\\in \\mathbf{N}\\}$$\n",
    "\n",
    "Es decir,\n",
    "\n",
    "$$x=3n+r\\ donde\\ r\\ el\\ residuo\\ es\\ 0$$\n",
    "\n",
    "Ó el x modulo 3 es cero:"
   ]
  },
  {
   "cell_type": "code",
   "execution_count": 1,
   "id": "b30add68",
   "metadata": {},
   "outputs": [],
   "source": [
    "m3=[i for i in range(1,1000) if i%3==0] #no los imprimo porque son bastantes"
   ]
  },
  {
   "cell_type": "markdown",
   "id": "314f8b9c",
   "metadata": {},
   "source": [
    "También sabemos que los multiplos de 5 en los número Naturales son: \n",
    "\n",
    "$$M_5 =multiplo\\ de\\ 5 = \\{ x \\in \\mathbf{N}\\ |\\  x=5n\\ para\\ algún\\ n\\in \\mathbf{N}\\}$$\n",
    "\n",
    "Es decir,\n",
    "\n",
    "$$x=5n+r\\ donde\\ r\\ el\\ residuo\\ es\\ 0$$\n",
    "\n",
    "Ó el x modulo 5 es cero:"
   ]
  },
  {
   "cell_type": "code",
   "execution_count": 2,
   "id": "b596740a",
   "metadata": {},
   "outputs": [],
   "source": [
    "m3=[i for i in range(1,1000) if i%5==0] #no los imprimo porque son bastantes"
   ]
  },
  {
   "cell_type": "markdown",
   "id": "ec73985e",
   "metadata": {},
   "source": [
    "Uniendo ambas condiciones obtenemos\n",
    "$$ \\therefore M_3\\cup M_5 = \\{ x \\in \\mathbf{N}\\ |\\  x=3n\\lor x=5n\\ para\\ algún\\ n\\in \\mathbf{N}\\}$$\n",
    "\n",
    "Es decir, en un rango de 1 a 1000 (numeros naturales menores a 1000), tenemos"
   ]
  },
  {
   "cell_type": "code",
   "execution_count": 4,
   "id": "c6219c65",
   "metadata": {},
   "outputs": [
    {
     "name": "stdout",
     "output_type": "stream",
     "text": [
      "[3, 5, 6, 9, 10, 12, 15, 18, 20, 21, 24, 25, 27, 30, 33, 35, 36, 39, 40, 42, 45, 48, 50, 51, 54, 55, 57, 60, 63, 65, 66, 69, 70, 72, 75, 78, 80, 81, 84, 85, 87, 90, 93, 95, 96, 99, 100, 102, 105, 108, 110, 111, 114, 115, 117, 120, 123, 125, 126, 129, 130, 132, 135, 138, 140, 141, 144, 145, 147, 150, 153, 155, 156, 159, 160, 162, 165, 168, 170, 171, 174, 175, 177, 180, 183, 185, 186, 189, 190, 192, 195, 198, 200, 201, 204, 205, 207, 210, 213, 215, 216, 219, 220, 222, 225, 228, 230, 231, 234, 235, 237, 240, 243, 245, 246, 249, 250, 252, 255, 258, 260, 261, 264, 265, 267, 270, 273, 275, 276, 279, 280, 282, 285, 288, 290, 291, 294, 295, 297, 300, 303, 305, 306, 309, 310, 312, 315, 318, 320, 321, 324, 325, 327, 330, 333, 335, 336, 339, 340, 342, 345, 348, 350, 351, 354, 355, 357, 360, 363, 365, 366, 369, 370, 372, 375, 378, 380, 381, 384, 385, 387, 390, 393, 395, 396, 399, 400, 402, 405, 408, 410, 411, 414, 415, 417, 420, 423, 425, 426, 429, 430, 432, 435, 438, 440, 441, 444, 445, 447, 450, 453, 455, 456, 459, 460, 462, 465, 468, 470, 471, 474, 475, 477, 480, 483, 485, 486, 489, 490, 492, 495, 498, 500, 501, 504, 505, 507, 510, 513, 515, 516, 519, 520, 522, 525, 528, 530, 531, 534, 535, 537, 540, 543, 545, 546, 549, 550, 552, 555, 558, 560, 561, 564, 565, 567, 570, 573, 575, 576, 579, 580, 582, 585, 588, 590, 591, 594, 595, 597, 600, 603, 605, 606, 609, 610, 612, 615, 618, 620, 621, 624, 625, 627, 630, 633, 635, 636, 639, 640, 642, 645, 648, 650, 651, 654, 655, 657, 660, 663, 665, 666, 669, 670, 672, 675, 678, 680, 681, 684, 685, 687, 690, 693, 695, 696, 699, 700, 702, 705, 708, 710, 711, 714, 715, 717, 720, 723, 725, 726, 729, 730, 732, 735, 738, 740, 741, 744, 745, 747, 750, 753, 755, 756, 759, 760, 762, 765, 768, 770, 771, 774, 775, 777, 780, 783, 785, 786, 789, 790, 792, 795, 798, 800, 801, 804, 805, 807, 810, 813, 815, 816, 819, 820, 822, 825, 828, 830, 831, 834, 835, 837, 840, 843, 845, 846, 849, 850, 852, 855, 858, 860, 861, 864, 865, 867, 870, 873, 875, 876, 879, 880, 882, 885, 888, 890, 891, 894, 895, 897, 900, 903, 905, 906, 909, 910, 912, 915, 918, 920, 921, 924, 925, 927, 930, 933, 935, 936, 939, 940, 942, 945, 948, 950, 951, 954, 955, 957, 960, 963, 965, 966, 969, 970, 972, 975, 978, 980, 981, 984, 985, 987, 990, 993, 995, 996, 999]\n"
     ]
    }
   ],
   "source": [
    "m35=[i for i in range(1,1000) if i%3==0 or i%5==0]\n",
    "print(m35) #los imprimo pa' ver"
   ]
  },
  {
   "cell_type": "markdown",
   "id": "77c53aef",
   "metadata": {},
   "source": [
    "$$ \\therefore La\\ suma\\ de\\ los\\ multiplos\\ de\\ 3\\ y\\ 5\\ menores\\ que\\ 1000\\ queda:$$"
   ]
  },
  {
   "cell_type": "code",
   "execution_count": 5,
   "id": "1ed88bca",
   "metadata": {},
   "outputs": [
    {
     "data": {
      "text/plain": [
       "233168"
      ]
     },
     "execution_count": 5,
     "metadata": {},
     "output_type": "execute_result"
    }
   ],
   "source": [
    "sum(m35)"
   ]
  }
 ],
 "metadata": {
  "kernelspec": {
   "display_name": "Python 3 (ipykernel)",
   "language": "python",
   "name": "python3"
  },
  "language_info": {
   "codemirror_mode": {
    "name": "ipython",
    "version": 3
   },
   "file_extension": ".py",
   "mimetype": "text/x-python",
   "name": "python",
   "nbconvert_exporter": "python",
   "pygments_lexer": "ipython3",
   "version": "3.9.6"
  }
 },
 "nbformat": 4,
 "nbformat_minor": 5
}
