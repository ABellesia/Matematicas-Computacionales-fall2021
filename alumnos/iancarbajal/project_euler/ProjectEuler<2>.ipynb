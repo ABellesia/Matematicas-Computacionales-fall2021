{
 "cells": [
  {
   "cell_type": "markdown",
   "id": "2346cbda",
   "metadata": {},
   "source": [
    "# Numeros fibonacci pares\n",
    "\n",
    "Considerando los terminos de la secuencia de numeros fibonacci que su valor no exceda 4 millones, hay que encontrar la suma de los numeros fibonacci pares.\n",
    "\n",
    "Esto lo podemos hacer con un while checando si el siguiente numero es par, y si lo es sumarlo. Primero definimos una funcion recursiva que genere el n-esimo numero fibonacci.\n",
    "\n",
    "ie. si 1, 2, 3, 5, 8, 13, 21, 34, 55, 89, ... es la secuencia de numeros fibonacci entonces fibonacci(10)=89"
   ]
  },
  {
   "cell_type": "code",
   "execution_count": 1,
   "id": "d76d3670",
   "metadata": {},
   "outputs": [],
   "source": [
    "def fibonachi(n):\n",
    "    if n<=2:\n",
    "        return n\n",
    "    return fibonachi(n-1)+fibonachi(n-2)"
   ]
  },
  {
   "cell_type": "code",
   "execution_count": 2,
   "id": "cf08c1b5",
   "metadata": {},
   "outputs": [
    {
     "data": {
      "text/plain": [
       "89"
      ]
     },
     "execution_count": 2,
     "metadata": {},
     "output_type": "execute_result"
    }
   ],
   "source": [
    "fibonachi(10)"
   ]
  },
  {
   "cell_type": "markdown",
   "id": "168299f6",
   "metadata": {},
   "source": [
    "creamos la lista de los numeros fibonacci cuyo valor sea menora a 4 millones"
   ]
  },
  {
   "cell_type": "code",
   "execution_count": 3,
   "id": "1c47b547",
   "metadata": {},
   "outputs": [],
   "source": [
    "a=1\n",
    "fib=[]\n",
    "while (fibonachi(a)<4000000):\n",
    "    fib.append(fibonachi(a))\n",
    "    a+=1"
   ]
  },
  {
   "cell_type": "code",
   "execution_count": 4,
   "id": "f2b1cdc5",
   "metadata": {},
   "outputs": [
    {
     "name": "stdout",
     "output_type": "stream",
     "text": [
      "[1, 2, 3, 5, 8, 13, 21, 34, 55, 89, 144, 233, 377, 610, 987, 1597, 2584, 4181, 6765, 10946, 17711, 28657, 46368, 75025, 121393, 196418, 317811, 514229, 832040, 1346269, 2178309, 3524578]\n"
     ]
    }
   ],
   "source": [
    "print(fib)"
   ]
  },
  {
   "cell_type": "markdown",
   "id": "341e1d51",
   "metadata": {},
   "source": [
    "Sumamos los valores pares de la lista"
   ]
  },
  {
   "cell_type": "code",
   "execution_count": 5,
   "id": "df0ee832",
   "metadata": {},
   "outputs": [],
   "source": [
    "suma=0;\n",
    "for i in fib:\n",
    "    if(i%2==0):\n",
    "        suma+=i"
   ]
  },
  {
   "cell_type": "code",
   "execution_count": 6,
   "id": "95146a7c",
   "metadata": {},
   "outputs": [
    {
     "data": {
      "text/plain": [
       "4613732"
      ]
     },
     "execution_count": 6,
     "metadata": {},
     "output_type": "execute_result"
    }
   ],
   "source": [
    "suma"
   ]
  },
  {
   "cell_type": "code",
   "execution_count": null,
   "id": "a8246d27",
   "metadata": {},
   "outputs": [],
   "source": []
  }
 ],
 "metadata": {
  "kernelspec": {
   "display_name": "Python 3 (ipykernel)",
   "language": "python",
   "name": "python3"
  },
  "language_info": {
   "codemirror_mode": {
    "name": "ipython",
    "version": 3
   },
   "file_extension": ".py",
   "mimetype": "text/x-python",
   "name": "python",
   "nbconvert_exporter": "python",
   "pygments_lexer": "ipython3",
   "version": "3.9.6"
  }
 },
 "nbformat": 4,
 "nbformat_minor": 5
}
