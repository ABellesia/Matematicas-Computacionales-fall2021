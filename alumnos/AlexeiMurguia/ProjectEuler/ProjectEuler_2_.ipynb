{
 "cells": [
  {
   "cell_type": "markdown",
   "id": "59ae4946",
   "metadata": {},
   "source": [
    "# Pares de Fibonacci"
   ]
  },
  {
   "cell_type": "markdown",
   "id": "87f43c15",
   "metadata": {},
   "source": [
    "Cada nuevo termino en la secuencia Fibonacci es generada sumando los dos terminos previos. Empezando con 1 y 2, los primeros 10 terminos serian:\n",
    "\n",
    "1, 2, 3, 5, 8, 13, 21, 34, 55, 89, ...\n",
    "\n",
    "Considerando los terminos de la secuencia Fibonacci cuyos valores no exceden 4 millones. Encuentra la suma the todos los valores pares.\n"
   ]
  },
  {
   "cell_type": "code",
   "execution_count": 2,
   "id": "1afa40a5",
   "metadata": {},
   "outputs": [
    {
     "name": "stdout",
     "output_type": "stream",
     "text": [
      "La suma de todos los terminos pares en la secuencia de Fibonacci cuyos valores no exceden 4 millones es: 4613732\n"
     ]
    }
   ],
   "source": [
    "n1=1\n",
    "n2=2\n",
    "suma=0\n",
    "conteo=[]\n",
    "while n2<4000000:\n",
    "    n2+=n1\n",
    "    n1=n2-n1\n",
    "    if n1%2==0:\n",
    "        suma+=n1\n",
    "        \n",
    "\n",
    "print(\"La suma de todos los terminos pares en la secuencia de Fibonacci cuyos valores no exceden 4 millones es:\",suma)"
   ]
  },
  {
   "cell_type": "code",
   "execution_count": null,
   "id": "96478644",
   "metadata": {},
   "outputs": [],
   "source": []
  }
 ],
 "metadata": {
  "kernelspec": {
   "display_name": "Python 3 (ipykernel)",
   "language": "python",
   "name": "python3"
  },
  "language_info": {
   "codemirror_mode": {
    "name": "ipython",
    "version": 3
   },
   "file_extension": ".py",
   "mimetype": "text/x-python",
   "name": "python",
   "nbconvert_exporter": "python",
   "pygments_lexer": "ipython3",
   "version": "3.9.6"
  }
 },
 "nbformat": 4,
 "nbformat_minor": 5
}
