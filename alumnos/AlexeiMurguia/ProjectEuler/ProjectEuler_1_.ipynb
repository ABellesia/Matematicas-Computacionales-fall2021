{
 "cells": [
  {
   "cell_type": "markdown",
   "id": "b6234295",
   "metadata": {},
   "source": [
    "# Multiplos de 3 o 5\n"
   ]
  },
  {
   "cell_type": "markdown",
   "id": "b2dd45e4",
   "metadata": {},
   "source": [
    "Si enlistamos todos los numeros naturales abajo del 10 que son multiples de 3 o 5, tenemos 3,5,6 y 9. La suma de estos multiples es 23.\n",
    "\n",
    "Encuentra la suma the todos los multiples de 3 o 5 abajo de 1000.\n",
    "\n"
   ]
  },
  {
   "cell_type": "code",
   "execution_count": 23,
   "id": "21e20a38",
   "metadata": {
    "scrolled": true
   },
   "outputs": [
    {
     "name": "stdout",
     "output_type": "stream",
     "text": [
      "La suma de todos los multiplos de 3 o 5 de todos los numeros abajo de 1000 es: 233168\n"
     ]
    }
   ],
   "source": [
    "suma=0\n",
    "for i in range(1,1000):\n",
    "    if i%3==0 or i%5==0:\n",
    "        suma+=i\n",
    "print(\"La suma de todos los multiplos de 3 o 5 de todos los numeros abajo de 1000 es:\",suma)"
   ]
  }
 ],
 "metadata": {
  "kernelspec": {
   "display_name": "Python 3 (ipykernel)",
   "language": "python",
   "name": "python3"
  },
  "language_info": {
   "codemirror_mode": {
    "name": "ipython",
    "version": 3
   },
   "file_extension": ".py",
   "mimetype": "text/x-python",
   "name": "python",
   "nbconvert_exporter": "python",
   "pygments_lexer": "ipython3",
   "version": "3.9.6"
  }
 },
 "nbformat": 4,
 "nbformat_minor": 5
}
