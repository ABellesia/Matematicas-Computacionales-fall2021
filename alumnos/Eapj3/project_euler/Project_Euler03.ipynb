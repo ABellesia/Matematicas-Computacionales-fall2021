{
 "cells": [
  {
   "cell_type": "markdown",
   "id": "eb7b080e",
   "metadata": {},
   "source": [
    "# Largest Prime Factor"
   ]
  },
  {
   "cell_type": "markdown",
   "id": "a5403a85",
   "metadata": {},
   "source": [
    "[Problem 3](https://projecteuler.net/problem=3) \\\n",
    "The prime factors of 13195 are 5, 7, 13 and 29.\n",
    "\n",
    "What is the largest prime factor of the number 600851475143?"
   ]
  },
  {
   "cell_type": "code",
   "execution_count": 6,
   "id": "940392b0",
   "metadata": {},
   "outputs": [],
   "source": [
    "import numpy as np"
   ]
  },
  {
   "cell_type": "code",
   "execution_count": 7,
   "id": "38c40404",
   "metadata": {},
   "outputs": [],
   "source": [
    "def primito(n):\n",
    "    factores = []\n",
    "    rango = np.arange(1,10000)\n",
    "    f = 1\n",
    "    i = 1 #Representa al índice del número que se está analizando\n",
    "    j = rango[i] #Representa al iésimo número primo\n",
    "    extend = False #Solo analizo los números de 10,000 en 10,000 para ir extendiendo el rango de búsqueda a medida que se necesite\n",
    "    while j < n/rango[i-1]: #Si el j-ésimo primo es menor que n dividido por el primo j-1, entonces ni el j-ésimo primo ni ninguno más grande podría ser factor de n, pues el producto de los factores sería mayor que n. Para todo esto tuve como hipótesis que ningun primo antes del j-ésimo es factor de n.\n",
    "        if extend:  \n",
    "            pass\n",
    "        else: \n",
    "            rango = rango[rango%j != 0] #Criba los múltiplos de el j-ésimo primo\n",
    "            rango = np.union1d(rango,np.array([j])) #Agrega a \"rango\" al j-ésimo primo\n",
    "            i += 1\n",
    "            while n%j == 0: #Me aseguro de que si encuentro un factor se registre correctamente la multiplicidad del factor\n",
    "                factores.append(j)\n",
    "                n = n//j\n",
    "        try:\n",
    "            j = rango[i]\n",
    "            extend = False\n",
    "        except IndexError:\n",
    "            extend = True\n",
    "            (nr := np.arange(10000*f,10000*(f+1))) #Se encarga de agregar 10,000 números más de los cuales obtener primos\n",
    "            f += 1\n",
    "            for primo in rango[1:]:\n",
    "                nr = nr[nr%primo != 0] #Criba de los nuevos 10,000 aquellos números que son múltiplos de los anteriores primos\n",
    "            rango = np.union1d(rango,nr)\n",
    "    factores.append(n)\n",
    "    return factores\n",
    "            "
   ]
  },
  {
   "cell_type": "code",
   "execution_count": 8,
   "id": "d9d25629",
   "metadata": {},
   "outputs": [
    {
     "data": {
      "text/plain": [
       "'Los factores primos en que se divide 600851475143 son 71, 839, 1471, 6857'"
      ]
     },
     "execution_count": 8,
     "metadata": {},
     "output_type": "execute_result"
    }
   ],
   "source": [
    "\"Los factores primos en que se divide 600851475143 son \" + str(primito(600851475143))[1:-1]"
   ]
  },
  {
   "cell_type": "code",
   "execution_count": null,
   "id": "4cc3214e",
   "metadata": {},
   "outputs": [],
   "source": []
  }
 ],
 "metadata": {
  "kernelspec": {
   "display_name": "Python 3 (ipykernel)",
   "language": "python",
   "name": "python3"
  },
  "language_info": {
   "codemirror_mode": {
    "name": "ipython",
    "version": 3
   },
   "file_extension": ".py",
   "mimetype": "text/x-python",
   "name": "python",
   "nbconvert_exporter": "python",
   "pygments_lexer": "ipython3",
   "version": "3.9.2"
  }
 },
 "nbformat": 4,
 "nbformat_minor": 5
}
