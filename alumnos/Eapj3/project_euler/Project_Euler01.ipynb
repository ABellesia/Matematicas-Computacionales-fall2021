{
 "cells": [
  {
   "cell_type": "markdown",
   "id": "ff56561a",
   "metadata": {},
   "source": [
    "# Multiples of 3 or 5"
   ]
  },
  {
   "cell_type": "markdown",
   "id": "8e3468a2",
   "metadata": {},
   "source": [
    "[Problem 1](https://projecteuler.net/problem=1)\\\n",
    "If we list all the natural numbers below 10 that are multiples of 3 or 5, we get 3, 5, 6 and 9. The sum of these multiples is 23.Find the sum of all the multiples of 3 or 5 below 1000."
   ]
  },
  {
   "cell_type": "code",
   "execution_count": 3,
   "id": "d2526a25",
   "metadata": {},
   "outputs": [],
   "source": [
    "def holaprof(n):\n",
    "    return sum([x for x in range(n) if (x%3==0 or x%5==0)])"
   ]
  },
  {
   "cell_type": "code",
   "execution_count": 8,
   "id": "5d9426ef",
   "metadata": {},
   "outputs": [
    {
     "data": {
      "text/plain": [
       "'La suma de los múltiplos de 3 o 5 que son menores que 1000 es: 233168'"
      ]
     },
     "execution_count": 8,
     "metadata": {},
     "output_type": "execute_result"
    }
   ],
   "source": [
    "\"La suma de los múltiplos de 3 o 5 que son menores que 1000 es: \" + str(holaprof(1000))"
   ]
  },
  {
   "cell_type": "code",
   "execution_count": null,
   "id": "439efcde",
   "metadata": {},
   "outputs": [],
   "source": []
  }
 ],
 "metadata": {
  "kernelspec": {
   "display_name": "Python 3 (ipykernel)",
   "language": "python",
   "name": "python3"
  },
  "language_info": {
   "codemirror_mode": {
    "name": "ipython",
    "version": 3
   },
   "file_extension": ".py",
   "mimetype": "text/x-python",
   "name": "python",
   "nbconvert_exporter": "python",
   "pygments_lexer": "ipython3",
   "version": "3.9.2"
  }
 },
 "nbformat": 4,
 "nbformat_minor": 5
}
