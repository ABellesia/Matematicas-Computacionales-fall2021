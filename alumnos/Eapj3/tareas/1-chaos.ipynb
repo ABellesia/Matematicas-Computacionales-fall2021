{
 "cells": [
  {
   "cell_type": "markdown",
   "metadata": {},
   "source": [
    "<div class=\"alert alert-warning\">\n",
    "    \n",
    "Lectura recomendada: [Best Practices for Scientific Computing](http://arxiv.org/pdf/1210.0530v3.pdf)\n",
    "</div>"
   ]
  },
  {
   "cell_type": "code",
   "execution_count": 1,
   "metadata": {},
   "outputs": [],
   "source": [
    "import matplotlib.pyplot as plt\n",
    "import numpy as np"
   ]
  },
  {
   "cell_type": "markdown",
   "metadata": {},
   "source": [
    "# Caos: Primera parte"
   ]
  },
  {
   "cell_type": "markdown",
   "metadata": {},
   "source": [
    "## Introducción"
   ]
  },
  {
   "cell_type": "markdown",
   "metadata": {},
   "source": [
    "- Edward Lorenz la definió como:\n",
    "\n",
    "    **Caos** Cuando el presente determina el futuro, pero el presente aproximado no determina aproximadamente el futuro."
   ]
  },
  {
   "cell_type": "markdown",
   "metadata": {},
   "source": [
    "- La **teoría del caos** estudia el comportamiento de los sistemas dinámicos que son muy sensibles a las condiciones iniciales (El famoso _efecto mariposa_ según [Jurassic Park](http://en.wikipedia.org/wiki/Jurassic_Park_%28film%29)). \n",
    "        - Aunque no es lo único, ve más adelante.\n",
    "        \n",
    "- Este hecho hace que la predicción  alargo plazo sea imposible.\n",
    "\n",
    "- Entonces la afirmación **determinismo** $\\to$ **predictibilidad** es falsa.\n",
    "\n"
   ]
  },
  {
   "cell_type": "markdown",
   "metadata": {},
   "source": [
    "Chaos was the law of nature; Order was the dream of man\n",
    "-- Henry Adams"
   ]
  },
  {
   "cell_type": "markdown",
   "metadata": {},
   "source": [
    "- Para saber **muchísimo más** recomiendo: [Chaos Book](http://chaosbook.org/)"
   ]
  },
  {
   "cell_type": "markdown",
   "metadata": {},
   "source": [
    "Durante siglos en física se estuvo trabajando con sistemas como el [oscilador armónico](http://en.wikipedia.org/wiki/Harmonic_oscillator) y el problema de dos cuerpos con fuerza central (también conocido como [_problema de Kepler_](http://en.wikipedia.org/wiki/Kepler_problem)) los cuales se consideraban como paradigmáticos para resolver problemas. La explosión del caos en el siglo XX nos señalaba que esos problemas y métodos no eran la norma, si no al contrario: eran casos especiales."
   ]
  },
  {
   "cell_type": "markdown",
   "metadata": {},
   "source": [
    "A lo largo del curso (sobre todo en la última parte) podría quedar el sabor de boca de que las herramientas analíticas son un fraude y que hemos sido engañados durante toda nuestra educación y que el único camino son las simulaciones y la estadística."
   ]
  },
  {
   "cell_type": "markdown",
   "metadata": {},
   "source": [
    "Pero eso no es cierto: Existen teorías que tienen el mismo poder predictivo, y el estudio del caso general sigue abriendo el camino para la comprehensión científica del mundo."
   ]
  },
  {
   "cell_type": "markdown",
   "metadata": {},
   "source": [
    "Lo que si es cierto, es que, partiendo de la definición de que un **sistema determinístico** es aquel que su estado futuro esta _completamente_ determinado por sus condiciones actuales (en contraste con un sistema estocástico en el cual el futuro está determinado sólo parcialmente) ya no implica **predictibilidad**."
   ]
  },
  {
   "cell_type": "markdown",
   "metadata": {},
   "source": [
    "## Sensitividad a condiciones iniciales"
   ]
  },
  {
   "cell_type": "markdown",
   "metadata": {},
   "source": [
    "Una de las características que puede indicar **caos** es la sensibiliad a condiciones iniciales, la cual se puede expresar matemáticamente como:"
   ]
  },
  {
   "cell_type": "markdown",
   "metadata": {},
   "source": [
    "$$\n",
    "|\\delta\\mathbf{x}(t)| = e^{\\lambda t}|\\delta\\mathbf{x}(0)|\n",
    "$$"
   ]
  },
  {
   "cell_type": "markdown",
   "metadata": {},
   "source": [
    "a $\\lambda$ se le conoce como _exponente de Lyapunov_. Si este exponente positivo indica que con el paso del tiempo la diferencia $\\delta$ crece exponencialmente."
   ]
  },
  {
   "cell_type": "markdown",
   "metadata": {},
   "source": [
    "<div class=\"alert alert-danger\">\n",
    "    \n",
    "**NOTA** La sensibilidad es una idea muy importante pero no determina completamente si el sistema es caotico o no, para ello se necesita otra característica: _mezcla topológica_ (topological mixing), la cual verémos más adelante, pero se puede entender como que las trayectorias del sistema, luego de diverger se vueven a aproximar un número infinito de veces.\n",
    "</div>"
   ]
  },
  {
   "cell_type": "markdown",
   "metadata": {},
   "source": [
    "### Mapeos"
   ]
  },
  {
   "cell_type": "markdown",
   "metadata": {},
   "source": [
    "A los sistemas dinámicos discretos, en una dimensión se les conoce como **mapas**, ya que son funciones\n",
    "\n",
    "$$\n",
    "f: \\mathrm{R} \\to \\mathrm{R}\n",
    "$$\n",
    "\n",
    "y los cuales producen la _secuencia_ de puntos:\n",
    "\n",
    "$$\n",
    "\\{x, f(x), f^2(x), f^3(x), \\ldots\\}\n",
    "$$\n",
    "\n",
    "la cual se conoce como _órbita_ de $x$ bajo $f$."
   ]
  },
  {
   "cell_type": "markdown",
   "metadata": {},
   "source": [
    "Los sistemas dinámicos discretos, se pueden pensar como ecuaciones de diferencias de primer orden\n",
    "\n",
    "$$\n",
    "y = x_{n+1} = f(x_n)\n",
    "$$\n",
    "\n",
    "y regularmente \n",
    "\n",
    "$$\n",
    "y=f(x) = f(x, a)\n",
    "$$\n",
    "\n",
    "existe un parámetro $a$ que puede influir muchísimo en el comportamiento del sistema."
   ]
  },
  {
   "cell_type": "markdown",
   "metadata": {},
   "source": [
    "### Comportamientos"
   ]
  },
  {
   "cell_type": "markdown",
   "metadata": {},
   "source": [
    "Pueden pasar lo siguiente:\n",
    "\n",
    "- Si $f(x) = x$ hemos alcanzado un _punto fijo_.\n",
    "\n",
    "- Si $f^n(x) = x$, pero $f^k(x) \\neq x$ para $k \\leq n$, se dice que la órbita tiene _periodo_ de orden $n$."
   ]
  },
  {
   "cell_type": "markdown",
   "metadata": {},
   "source": [
    "### Mapeo logístico"
   ]
  },
  {
   "cell_type": "markdown",
   "metadata": {},
   "source": [
    "$$\n",
    "x_{n+1} = rx_n(1 -x_n)\n",
    "$$"
   ]
  },
  {
   "cell_type": "markdown",
   "metadata": {},
   "source": [
    "Donde, para fines de esta clase, $r$ esta contenido en \n",
    "\n",
    "$$\n",
    "0 \\leq r \\leq 4\n",
    "$$\n",
    "\n",
    "la razón de esto, es que el cuadro unitario mapea al cuadro unitario, i.e.\n",
    "\n",
    "$$ \n",
    "0 \\leq x \\leq 1 \\to 0 \\leq f(x) \\leq 1\n",
    "$$"
   ]
  },
  {
   "cell_type": "markdown",
   "metadata": {},
   "source": [
    "<div class=\"alert alert-info\">\n",
    "    \n",
    "**Ejercicio** ¿Por qué?\n",
    "</div>"
   ]
  },
  {
   "cell_type": "markdown",
   "metadata": {},
   "source": [
    "Porque $1 \\geq (1)(1-x) \\geq 0$"
   ]
  },
  {
   "cell_type": "markdown",
   "metadata": {},
   "source": [
    "<div class=\"alert alert-info\">\n",
    "    \n",
    "**Ejercicio**  Define la función `logistic_map` que recibe como parámetros $x$ y $r$ regresa $rx(1−x)$. \n",
    "</div>"
   ]
  },
  {
   "cell_type": "code",
   "execution_count": 2,
   "metadata": {},
   "outputs": [],
   "source": [
    "def logistic_map(x,r):\n",
    "    return r*x*(1-x)"
   ]
  },
  {
   "cell_type": "markdown",
   "metadata": {},
   "source": [
    "Los _puntos fijos_ del mapeo logístico son:"
   ]
  },
  {
   "cell_type": "markdown",
   "metadata": {},
   "source": [
    "$$\n",
    "x = f(x)\n",
    "$$\n",
    "\n",
    "$$\n",
    "x = rx(1-x)\n",
    "$$\n",
    "\n",
    "$$\n",
    "1 = r(1-x)\n",
    "$$\n",
    "\n",
    "$$\n",
    "x = 1 - \\frac{1}{r}\n",
    "$$"
   ]
  },
  {
   "cell_type": "markdown",
   "metadata": {},
   "source": [
    "El punto fijo se dice _estable_ si $|f(x) - x_0| < |x - x_0|$ e _inestable_ si la desigualdad se invierte."
   ]
  },
  {
   "cell_type": "markdown",
   "metadata": {},
   "source": [
    "<div class=\"alert alert-info\">\n",
    "    \n",
    "**Ejercicio** Calcule el punto fijo para $r = 2$ usando SymPy\n",
    "</div>"
   ]
  },
  {
   "cell_type": "code",
   "execution_count": 3,
   "metadata": {},
   "outputs": [],
   "source": [
    "import sympy"
   ]
  },
  {
   "cell_type": "code",
   "execution_count": 4,
   "metadata": {},
   "outputs": [],
   "source": [
    "x = sympy.Symbol(\"x\")"
   ]
  },
  {
   "cell_type": "code",
   "execution_count": 5,
   "metadata": {},
   "outputs": [
    {
     "data": {
      "text/plain": [
       "[0, 1/2]"
      ]
     },
     "execution_count": 5,
     "metadata": {},
     "output_type": "execute_result"
    }
   ],
   "source": [
    "sympy.solve(logistic_map(x,2)-x)"
   ]
  },
  {
   "cell_type": "markdown",
   "metadata": {},
   "source": [
    "<div class=\"alert alert-warning\">\n",
    "\n",
    "**Teorema:**\n",
    "\n",
    "Sea $f(x_0) = x_0.$, entonces, \n",
    "\n",
    "<ul>\n",
    "<li>Si $f'(x)$ es contínua y $|f'(x_0)| < 1$ entonces $x_0$ es estable.</li>\n",
    "\n",
    "\n",
    "<li>Si $f'(x)$ es contínua y $|f'(x_0)| > 1$ entonces $x_0$ es inestable.</li>\n",
    "</ul>\n",
    "</div>"
   ]
  },
  {
   "cell_type": "markdown",
   "metadata": {},
   "source": [
    "<div class=\"alert alert-info\">\n",
    "    \n",
    "**Ejercicio** ¿Cuáles son las condiciones de estabilidad para el parámetro $r$? Los valores de $r$ para cuales cambia de estable a inestable y viceversa, se llaman _puntos de bifurcación_.\n",
    "</div>"
   ]
  },
  {
   "cell_type": "code",
   "execution_count": null,
   "metadata": {},
   "outputs": [],
   "source": []
  },
  {
   "cell_type": "markdown",
   "metadata": {},
   "source": [
    "<div class=\"alert alert-info\">\n",
    "    \n",
    "**Ejercicio** Define una función `iterar` que reciba una función `g`, un punto inicial `x0`, un entero `N` y el parámetro `r` regrese $g(g( \\ldots(g(x_0, r),r) \\ldots)$. En otras palabras que itere `g`, `N` veces a partir del punto `x0`.\n",
    "</div>"
   ]
  },
  {
   "cell_type": "code",
   "execution_count": 6,
   "metadata": {},
   "outputs": [],
   "source": [
    "def iterar(g, x0, N, r):\n",
    "    if N != 0:\n",
    "        nwp = g(x0,r)\n",
    "        return iterar(g,nwp,N-1,r)\n",
    "    else:\n",
    "        return x0\n",
    "    pass"
   ]
  },
  {
   "cell_type": "markdown",
   "metadata": {},
   "source": [
    "<div class=\"alert alert-info\">\n",
    "    \n",
    "**Ejercicio** Define una función `iterarLista` que reciba una función `g`, un punto inicial `x0`, un entero `N` y el parámetro $r$ regrese la lista $[x_0, g(x), g(g(x)), \\ldots g(g(\\ldots(g(x))\\ldots))]$ En otras palabras que itere `g`, `N-1` veces a partir del punto `x0` y devuelva la órbita completa empezando desde `x0`.\n",
    "</div>"
   ]
  },
  {
   "cell_type": "code",
   "execution_count": 7,
   "metadata": {},
   "outputs": [],
   "source": [
    "def iterarLista(g, x0, N, r, lista=[]):\n",
    "    if N != 0:\n",
    "        lista.append(g(x0,r))\n",
    "        return iterarLista(g,lista[-1],N-1,r,lista)\n",
    "    else:\n",
    "        return lista"
   ]
  },
  {
   "cell_type": "markdown",
   "metadata": {},
   "source": [
    "<div class=\"alert alert-info\">\n",
    "    \n",
    "**Ejercicio** Usa las funciones recién definidas para calcular iteraciones para $r = \\{ 0.8, 1.2, 2.8, 3.2\\}$,\n",
    "</div>"
   ]
  },
  {
   "cell_type": "code",
   "execution_count": 8,
   "metadata": {},
   "outputs": [
    {
     "data": {
      "text/plain": [
       "[[0.2,\n",
       "  0.12800000000000003,\n",
       "  0.08929280000000003,\n",
       "  0.06505567669452801,\n",
       "  0.048658748499476046,\n",
       "  0.03703285975515263,\n",
       "  0.02852914164280626,\n",
       "  0.02217218377594477,\n",
       "  0.017344462434040402,\n",
       "  0.013634905645531652],\n",
       " [0.3,\n",
       "  0.252,\n",
       "  0.2261952,\n",
       "  0.21003711779635198,\n",
       "  0.19910583233298398,\n",
       "  0.1913552398367684,\n",
       "  0.18568609442853748,\n",
       "  0.18144812251729647,\n",
       "  0.17822964162269356,\n",
       "  0.1757566037636877],\n",
       " [0.7,\n",
       "  0.588,\n",
       "  0.6783168,\n",
       "  0.6109687327457278,\n",
       "  0.6655206329878602,\n",
       "  0.6232881761548346,\n",
       "  0.6574400717371606,\n",
       "  0.6305953466719136,\n",
       "  0.6522455951973996,\n",
       "  0.6350995804803706],\n",
       " [0.8,\n",
       "  0.512,\n",
       "  0.7995392,\n",
       "  0.512884056522752,\n",
       "  0.7994688034800593,\n",
       "  0.5130189943751092,\n",
       "  0.7994576185134749,\n",
       "  0.5130404310855622,\n",
       "  0.7994558309027286,\n",
       "  0.5130438570827405]]"
      ]
     },
     "execution_count": 8,
     "metadata": {},
     "output_type": "execute_result"
    }
   ],
   "source": [
    "[iterarLista(logistic_map,0.5,10,r,lista=[]) for r in [0.8,1.2,2.8,3.2]]"
   ]
  },
  {
   "cell_type": "markdown",
   "metadata": {},
   "source": [
    "<div class=\"alert alert-info\">\n",
    "    \n",
    "**Ejercicio** Programa un control para cambiar $r$ entre $0$ y $4$ (con un slider) y otro para definid $x_0$. Grafica `logistic_map` respecto al número de iteraciones $N$. ¿Qué observas? ¿Puedes ver algún _periodo_?¿Está cerca de los puntos fijos?\n",
    "</div>"
   ]
  },
  {
   "cell_type": "code",
   "execution_count": 9,
   "metadata": {},
   "outputs": [],
   "source": [
    "import ipywidgets as widgets\n"
   ]
  },
  {
   "cell_type": "code",
   "execution_count": 10,
   "metadata": {},
   "outputs": [],
   "source": [
    "def graficar(x0,N,r):\n",
    "    x = np.asarray([x+1 for x in range(N)])\n",
    "    y = iterarLista(logistic_map,x0,N,r, lista=[])\n",
    "    plt.plot(x,y)\n",
    "    plt.show()"
   ]
  },
  {
   "cell_type": "code",
   "execution_count": 11,
   "metadata": {},
   "outputs": [
    {
     "data": {
      "application/vnd.jupyter.widget-view+json": {
       "model_id": "1370fdf1604647eaa209cb383590b76c",
       "version_major": 2,
       "version_minor": 0
      },
      "text/plain": [
       "interactive(children=(FloatSlider(value=0.0, description='x0', max=1.0, step=0.05), IntSlider(value=1, descrip…"
      ]
     },
     "metadata": {},
     "output_type": "display_data"
    },
    {
     "data": {
      "text/plain": [
       "<function __main__.graficar(x0, N, r)>"
      ]
     },
     "execution_count": 11,
     "metadata": {},
     "output_type": "execute_result"
    }
   ],
   "source": [
    "widgets.interact(graficar,\n",
    "        x0=widgets.FloatSlider(min=0,max=1,step=0.05),\n",
    "        N=widgets.IntSlider(min=1,max=300),\n",
    "        r=widgets.FloatSlider(min=0,max=4,step=0.1))"
   ]
  },
  {
   "cell_type": "markdown",
   "metadata": {},
   "source": [
    "<div class=\"alert alert-info\">\n",
    "    \n",
    "**Ejercicio** ¿Qué sucede para (a) $x_0 = 0.35$ en $r = 2.8$ y (b) para $x_0 = 0.35$ en $r=3.1$. ¿Porqué escogí estos valores?\n",
    "</div>"
   ]
  },
  {
   "cell_type": "markdown",
   "metadata": {},
   "source": [
    "### a) "
   ]
  },
  {
   "cell_type": "code",
   "execution_count": 12,
   "metadata": {},
   "outputs": [
    {
     "data": {
      "image/png": "[encoded data removed]",
      "text/plain": [
       "<Figure size 432x288 with 1 Axes>"
      ]
     },
     "metadata": {
      "needs_background": "light"
     },
     "output_type": "display_data"
    }
   ],
   "source": [
    "graficar(0.35,40,2.8)"
   ]
  },
  {
   "cell_type": "code",
   "execution_count": 13,
   "metadata": {},
   "outputs": [
    {
     "name": "stdout",
     "output_type": "stream",
     "text": [
      "f(x) tiende a 0.6428477009488067\n"
     ]
    }
   ],
   "source": [
    "print(\"f(x) tiende a \"+ str(iterar(logistic_map,0.5,40,2.8)))"
   ]
  },
  {
   "cell_type": "markdown",
   "metadata": {},
   "source": [
    "### b) "
   ]
  },
  {
   "cell_type": "code",
   "execution_count": 14,
   "metadata": {},
   "outputs": [
    {
     "data": {
      "image/png": "[encoded data removed]",
      "text/plain": [
       "<Figure size 432x288 with 1 Axes>"
      ]
     },
     "metadata": {
      "needs_background": "light"
     },
     "output_type": "display_data"
    }
   ],
   "source": [
    "graficar(0.35,120,3.1)"
   ]
  },
  {
   "cell_type": "code",
   "execution_count": 15,
   "metadata": {},
   "outputs": [
    {
     "data": {
      "text/plain": [
       "[0.70525,\n",
       " 0.6444045562499999,\n",
       " 0.7103567048161459,\n",
       " 0.637825175890568,\n",
       " 0.7161130847612754,\n",
       " 0.6302149172443939,\n",
       " 0.7224366335138105,\n",
       " 0.6216180266202327,\n",
       " 0.7291480723631012,\n",
       " 0.6122225988900524,\n",
       " 0.7359588737249235,\n",
       " 0.6024025707224433,\n",
       " 0.7424925118792485,\n",
       " 0.5927118832157269,\n",
       " 0.7483539708028396,\n",
       " 0.5837929460780331,\n",
       " 0.7532341007814479,\n",
       " 0.5762047196243756,\n",
       " 0.756997806191608,\n",
       " 0.5702515955993722]"
      ]
     },
     "execution_count": 15,
     "metadata": {},
     "output_type": "execute_result"
    }
   ],
   "source": [
    "iterarLista(logistic_map,0.35,20,3.1,lista=[])"
   ]
  },
  {
   "cell_type": "markdown",
   "metadata": {},
   "source": [
    "En este caso la función oscila de manera uniforme entre alrededor de 0.6 y alrededor de 0.7"
   ]
  },
  {
   "cell_type": "markdown",
   "metadata": {},
   "source": [
    "## Diagrama de CobWeb"
   ]
  },
  {
   "cell_type": "markdown",
   "metadata": {},
   "source": [
    "<div class=\"alert alert-info\">\n",
    "    \n",
    "**Ejercicio** Dibuja en una gráfica `logistic_map`, como ejes usa $N_{n+1}$ y $N_n$, además agrega la línea $y = x$ en la misma gráfica. ¿Qué observas para los distintos valores de $r$? Grafícala junto a la gráfica anterior.\n",
    "</div>"
   ]
  },
  {
   "cell_type": "code",
   "execution_count": 16,
   "metadata": {},
   "outputs": [],
   "source": [
    "def cobweb(x0,N,r):\n",
    "    y = iterarLista(logistic_map,x0,N,r,lista=[])\n",
    "    x = y[:-1]\n",
    "    x.insert(0,x0)\n",
    "    f=plt.subplot()\n",
    "    f.scatter(x,y)\n",
    "    f.plot([x[0],x[-1]],[x[0],x[-1]])\n",
    "    plt.show()"
   ]
  },
  {
   "cell_type": "code",
   "execution_count": 17,
   "metadata": {},
   "outputs": [
    {
     "data": {
      "image/png": "[encoded data removed]",
      "text/plain": [
       "<Figure size 432x288 with 1 Axes>"
      ]
     },
     "metadata": {
      "needs_background": "light"
     },
     "output_type": "display_data"
    }
   ],
   "source": [
    "cobweb(0.35,50,2.8)"
   ]
  },
  {
   "cell_type": "markdown",
   "metadata": {},
   "source": [
    "<font size=\"4\">Para r=2.8, los valores de f(x) (con x0=0.35) tienden a agruparse sobre la recta y=x</font>"
   ]
  },
  {
   "cell_type": "code",
   "execution_count": 18,
   "metadata": {},
   "outputs": [
    {
     "data": {
      "image/png": "[encoded data removed]",
      "text/plain": [
       "<Figure size 432x288 with 1 Axes>"
      ]
     },
     "metadata": {
      "needs_background": "light"
     },
     "output_type": "display_data"
    }
   ],
   "source": [
    "cobweb(0.35,50,3.1)"
   ]
  },
  {
   "cell_type": "markdown",
   "metadata": {},
   "source": [
    "<font size=\"4\">Para r=3.1, la gráfica no llega a intersectar a la recta y=x. Se forma una reflexión sobre esa recta. Los valores oscilan de manera más o menos uniforme.</font>"
   ]
  },
  {
   "cell_type": "markdown",
   "metadata": {},
   "source": [
    "<div class=\"alert alert-info\">\n",
    "    \n",
    "**Ejercicio** Agrega los segmentos de línea $(x_0, x_0), (x_0. f(x_0)), (f(x_0), f(x_0)), (f(x_0), f(f(x_0))), \\ldots$\n",
    "</div>"
   ]
  },
  {
   "cell_type": "markdown",
   "metadata": {},
   "source": [
    "## Diagrama de Bifurcación"
   ]
  },
  {
   "cell_type": "markdown",
   "metadata": {},
   "source": [
    "<div class=\"alert alert-info\">\n",
    "    \n",
    "**Ejercicio** ¿Qué hace el siguiente código? Modificalo para que use nuestras funciones.\n",
    "</div>"
   ]
  },
  {
   "cell_type": "code",
   "execution_count": 116,
   "metadata": {},
   "outputs": [],
   "source": [
    "import math\n",
    "from PIL import Image\n",
    "imgx = 1000\n",
    "imgy = 500\n",
    "image = Image.new(\"RGB\", (imgx, imgy))\n",
    "\n",
    "xa = 1\n",
    "xb = 4\n",
    "maxit = 5000\n",
    "\n",
    "for i in range(imgx):\n",
    "    r = xa + (xb - xa) * float(i) / (imgx - 1)\n",
    "    x = 0.5\n",
    "    for j in range(maxit):\n",
    "        x = r * x * (1 - x)\n",
    "        if j > maxit / 2:\n",
    "            image.putpixel((i, int(x * imgy)), (255, 255, 255))\n",
    "\n",
    "image.save(\"bifurcacion.png\", \"PNG\")"
   ]
  },
  {
   "cell_type": "code",
   "execution_count": null,
   "metadata": {},
   "outputs": [],
   "source": [
    "import math\n",
    "from PIL import Image\n",
    "imgx = 1000\n",
    "imgy = 500\n",
    "image = Image.new(\"RGB\", (imgx, imgy))\n",
    "\n",
    "xa = 1\n",
    "xb = 4\n",
    "maxit = 5000\n",
    "\n",
    "for i in range(imgx):\n",
    "    r = xa + (xb - xa) * float(i) / (imgx - 1)\n",
    "    x = 0.5\n",
    "    vals = iterarLista(logistic_map,x,maxit,r,lista=[])\n",
    "    for j in range(maxit/2,maxit):\n",
    "        image.putpixel((i, int(vals[j] * imgy)), (255, 255, 255))\n",
    "image.save(\"bifurcacion.png\", \"PNG\")"
   ]
  },
  {
   "cell_type": "markdown",
   "metadata": {},
   "source": [
    "Creo que tendría que ser algo parecido al código de arriba, pero se queda en espera cada que intento correrlo. No sé qué le pasa."
   ]
  },
  {
   "cell_type": "markdown",
   "metadata": {},
   "source": [
    "<img src=\"./bifurcacion.png\"/>"
   ]
  },
  {
   "cell_type": "markdown",
   "metadata": {},
   "source": [
    "### Pasos para producir el diagrama de bifurcación"
   ]
  },
  {
   "cell_type": "markdown",
   "metadata": {},
   "source": [
    "1. Escoje un valor inicial para `r`\n",
    "2. Escoje un valor al azar para `x` en `[0,1]`\n",
    "3. Calcula la órbita de `x` bajo el `g` (en el caso anterior el mapeo logístico)\n",
    "4. Ignora las primeras `n` iteraciones y dibuja el valor de `x` para la iteración `n+1`\n",
    "5. Incrementa `r` y repite hasta `r` final."
   ]
  },
  {
   "cell_type": "markdown",
   "metadata": {},
   "source": [
    "<div class=\"alert alert-info\">\n",
    "**Ejercicio** Repite todo lo anterior para el mapeo\n",
    "\n",
    "$$\n",
    "f(x,\\mu) = 1 - \\mu x^2\n",
    "$$\n",
    "\n",
    "¿Qué diferencia observas? ¿Cuáles son sus puntos fijos? ¿Cuáles son los valores interesantes?\n",
    "</div>"
   ]
  },
  {
   "cell_type": "code",
   "execution_count": 49,
   "metadata": {},
   "outputs": [
    {
     "data": {
      "text/plain": [
       "[(sqrt(4*m + 1) - 1)/(2*m), -(sqrt(4*m + 1) + 1)/(2*m)]"
      ]
     },
     "execution_count": 49,
     "metadata": {},
     "output_type": "execute_result"
    }
   ],
   "source": [
    "x = sympy.Symbol(\"x\")\n",
    "m = sympy.Symbol(\"m\")\n",
    "sympy.solve(1-x-m*x*x,x)"
   ]
  },
  {
   "cell_type": "markdown",
   "metadata": {},
   "source": [
    "### Los puntos fijos, dado m, cumplen alguna de las ecuaciones de arriba"
   ]
  },
  {
   "cell_type": "code",
   "execution_count": 31,
   "metadata": {},
   "outputs": [],
   "source": [
    "f1 = lambda x,m: 1-(m*(x**2))"
   ]
  },
  {
   "cell_type": "code",
   "execution_count": 20,
   "metadata": {},
   "outputs": [],
   "source": [
    "def graficar1(x0,N,r):\n",
    "    x = np.asarray([x+1 for x in range(N)])\n",
    "    y = iterarLista(f,x0,N,r, lista=[])\n",
    "    plt.plot(x,y)\n",
    "    plt.show()"
   ]
  },
  {
   "cell_type": "code",
   "execution_count": 27,
   "metadata": {},
   "outputs": [
    {
     "data": {
      "application/vnd.jupyter.widget-view+json": {
       "model_id": "e61cbaf1d8f246bcbfe102a2ef91e35b",
       "version_major": 2,
       "version_minor": 0
      },
      "text/plain": [
       "interactive(children=(FloatSlider(value=0.0, description='x0', max=1.0, step=0.05), IntSlider(value=1, descrip…"
      ]
     },
     "metadata": {},
     "output_type": "display_data"
    },
    {
     "data": {
      "text/plain": [
       "<function __main__.graficar1(x0, N, r)>"
      ]
     },
     "execution_count": 27,
     "metadata": {},
     "output_type": "execute_result"
    }
   ],
   "source": [
    "widgets.interact(graficar1,\n",
    "        x0=widgets.FloatSlider(min=0,max=1,step=0.05),\n",
    "        N=widgets.IntSlider(min=1,max=40),\n",
    "        r=widgets.FloatSlider(min=0,max=2,step=0.1))"
   ]
  },
  {
   "cell_type": "code",
   "execution_count": 32,
   "metadata": {},
   "outputs": [],
   "source": [
    "def cobweb1(x0,N,r):\n",
    "    y = iterarLista(f1,x0,N,r,lista=[])\n",
    "    x = y[:-1]\n",
    "    x.insert(0,x0)\n",
    "    f=plt.subplot()\n",
    "    f.scatter(x,y)\n",
    "    f.plot([x[0],x[-1]],[x[0],x[-1]])\n",
    "    plt.show()"
   ]
  },
  {
   "cell_type": "code",
   "execution_count": 44,
   "metadata": {},
   "outputs": [
    {
     "data": {
      "image/png": "[encoded data removed]",
      "text/plain": [
       "<Figure size 432x288 with 1 Axes>"
      ]
     },
     "metadata": {
      "needs_background": "light"
     },
     "output_type": "display_data"
    }
   ],
   "source": [
    "cobweb1(0.3,100,2)"
   ]
  },
  {
   "cell_type": "code",
   "execution_count": 50,
   "metadata": {},
   "outputs": [
    {
     "data": {
      "image/png": "[encoded data removed]",
      "text/plain": [
       "<Figure size 432x288 with 1 Axes>"
      ]
     },
     "metadata": {
      "needs_background": "light"
     },
     "output_type": "display_data"
    }
   ],
   "source": [
    "cobweb1(0.8,30,0.8)"
   ]
  },
  {
   "cell_type": "markdown",
   "metadata": {},
   "source": [
    "Para este nuevo mapeo, si m es grande, f(x,m) tiende a infinito."
   ]
  },
  {
   "cell_type": "code",
   "execution_count": null,
   "metadata": {},
   "outputs": [],
   "source": []
  }
 ],
 "metadata": {
  "kernelspec": {
   "display_name": "Python 3 (ipykernel)",
   "language": "python",
   "name": "python3"
  },
  "language_info": {
   "codemirror_mode": {
    "name": "ipython",
    "version": 3
   },
   "file_extension": ".py",
   "mimetype": "text/x-python",
   "name": "python",
   "nbconvert_exporter": "python",
   "pygments_lexer": "ipython3",
   "version": "3.9.5"
  },
  "widgets": {
   "application/vnd.jupyter.widget-state+json": {
    "state": {
     "023cbdb00e0c4018be3b1231f2fde681": {
      "model_module": "@jupyter-widgets/base",
      "model_module_version": "1.2.0",
      "model_name": "LayoutModel",
      "state": {}
     },
     "0259017310c9431391df3475b09eedf7": {
      "model_module": "@jupyter-widgets/controls",
      "model_module_version": "1.5.0",
      "model_name": "VBoxModel",
      "state": {
       "_dom_classes": [
        "widget-interact"
       ],
       "children": [
        "IPY_MODEL_70aef99d85e648a29702700ecb1b42ab",
        "IPY_MODEL_a354a99334bc482c9d01a9ffb7be3884",
        "IPY_MODEL_bf44406a88e346c682e6af976e2c0dac"
       ],
       "layout": "IPY_MODEL_c685428b466d49a793900c6b5a04a690"
      }
     },
     "028a4c94211f443c84449ed02850b865": {
      "model_module": "@jupyter-widgets/base",
      "model_module_version": "1.2.0",
      "model_name": "LayoutModel",
      "state": {}
     },
     "03b26bfc51a34f3e85d0efa901f65664": {
      "model_module": "@jupyter-widgets/controls",
      "model_module_version": "1.5.0",
      "model_name": "SliderStyleModel",
      "state": {
       "description_width": ""
      }
     },
     "048b5a923d804501a0b89e668d54da1b": {
      "model_module": "@jupyter-widgets/controls",
      "model_module_version": "1.5.0",
      "model_name": "SliderStyleModel",
      "state": {
       "description_width": ""
      }
     },
     "053d613a7c1141d09d438fd21942ba99": {
      "model_module": "@jupyter-widgets/controls",
      "model_module_version": "1.5.0",
      "model_name": "FloatSliderModel",
      "state": {
       "description": "x0",
       "layout": "IPY_MODEL_f16a08e771b34a5f9edc2b1bfca32423",
       "max": 1,
       "step": 0.1,
       "style": "IPY_MODEL_5ed1c88e29a44462bfd4d02f2f9117bd",
       "value": 0.4
      }
     },
     "0568608c404b4cc4b77d4d00c8941f25": {
      "model_module": "@jupyter-widgets/controls",
      "model_module_version": "1.5.0",
      "model_name": "IntSliderModel",
      "state": {
       "description": "N",
       "layout": "IPY_MODEL_533b426d0b304c1b847b50c00b5a55a3",
       "max": 30,
       "min": 1,
       "style": "IPY_MODEL_f43e26ba9a5246689f0df988b02d54e2",
       "value": 30
      }
     },
     "05d9cb58066d4cb4bdde98fc90e0fe6d": {
      "model_module": "@jupyter-widgets/base",
      "model_module_version": "1.2.0",
      "model_name": "LayoutModel",
      "state": {}
     },
     "0686cc4a791c439787a06622b0bf1a8a": {
      "model_module": "@jupyter-widgets/controls",
      "model_module_version": "1.5.0",
      "model_name": "IntSliderModel",
      "state": {
       "description": "N",
       "layout": "IPY_MODEL_5bb136e66eb84476a7aa9db9ff944c44",
       "max": 10,
       "min": 1,
       "style": "IPY_MODEL_f70f5db83b394881b94e8e5995eda25a",
       "value": 10
      }
     },
     "07574744a1fd4bcaa72e3f5be952f052": {
      "model_module": "@jupyter-widgets/base",
      "model_module_version": "1.2.0",
      "model_name": "LayoutModel",
      "state": {}
     },
     "07978eb271994934a52ff8214e2e77d5": {
      "model_module": "@jupyter-widgets/controls",
      "model_module_version": "1.5.0",
      "model_name": "VBoxModel",
      "state": {
       "_dom_classes": [
        "widget-interact"
       ],
       "children": [
        "IPY_MODEL_951af0f4947247b7965e98a98885c1d8",
        "IPY_MODEL_a05339e47f8b401f8ac0b7d18a415e44",
        "IPY_MODEL_5eb1408813d148c7877b1ad2db3e89b3",
        "IPY_MODEL_d48a436bf7b54554b164f3ff99e1f4f8"
       ],
       "layout": "IPY_MODEL_105b54fffc7d4533a08563b6a9d03a54"
      }
     },
     "0cc082f2784e4f30a6c4581b1c9259d6": {
      "model_module": "@jupyter-widgets/controls",
      "model_module_version": "1.5.0",
      "model_name": "IntSliderModel",
      "state": {
       "layout": "IPY_MODEL_30f19cf9808049419ffb589b5691fdaa",
       "style": "IPY_MODEL_8d8099021bd54be3bd4d65aae10d141c"
      }
     },
     "0cca48aa52944418aee109b187d6bceb": {
      "model_module": "@jupyter-widgets/controls",
      "model_module_version": "1.5.0",
      "model_name": "SliderStyleModel",
      "state": {
       "description_width": ""
      }
     },
     "105b54fffc7d4533a08563b6a9d03a54": {
      "model_module": "@jupyter-widgets/base",
      "model_module_version": "1.2.0",
      "model_name": "LayoutModel",
      "state": {}
     },
     "11bd3a77852643b88376783ab8dd8fe5": {
      "model_module": "@jupyter-widgets/controls",
      "model_module_version": "1.5.0",
      "model_name": "FloatSliderModel",
      "state": {
       "description": "x0",
       "layout": "IPY_MODEL_2d1e867a5b414f559b7a2cc2e24a2dfc",
       "max": 1,
       "step": 0.05,
       "style": "IPY_MODEL_3e981996d67b45218c07e1c6b3022078",
       "value": 0.35
      }
     },
     "12a9df6935c04ab3ac368f51e236c741": {
      "model_module": "@jupyter-widgets/base",
      "model_module_version": "1.2.0",
      "model_name": "LayoutModel",
      "state": {}
     },
     "133412d891844eaeb8cb997a71a328bb": {
      "model_module": "@jupyter-widgets/controls",
      "model_module_version": "1.5.0",
      "model_name": "SliderStyleModel",
      "state": {
       "description_width": ""
      }
     },
     "1370fdf1604647eaa209cb383590b76c": {
      "model_module": "@jupyter-widgets/controls",
      "model_module_version": "1.5.0",
      "model_name": "VBoxModel",
      "state": {
       "_dom_classes": [
        "widget-interact"
       ],
       "children": [
        "IPY_MODEL_4794028de7b74d8e97eb47c253657f70",
        "IPY_MODEL_9d74c5a0ca0846e4a61597f46a06cb3e",
        "IPY_MODEL_a9314ef653e846af921714e902b8156a",
        "IPY_MODEL_9048f4af51bf4fdfbde202aa0b584c2e"
       ],
       "layout": "IPY_MODEL_7e808624fe4a49ccb2c54b775b51021c"
      }
     },
     "1432c176e36c453c954d694514ac3339": {
      "model_module": "@jupyter-widgets/base",
      "model_module_version": "1.2.0",
      "model_name": "LayoutModel",
      "state": {}
     },
     "15324b55377c4685b6ba93c1f8e3971c": {
      "model_module": "@jupyter-widgets/base",
      "model_module_version": "1.2.0",
      "model_name": "LayoutModel",
      "state": {}
     },
     "156ede6c820b4a119d7acc8837fac61f": {
      "model_module": "@jupyter-widgets/controls",
      "model_module_version": "1.5.0",
      "model_name": "VBoxModel",
      "state": {
       "_dom_classes": [
        "widget-interact"
       ],
       "children": [
        "IPY_MODEL_e1ef1d0cd2c14e1fbfb8fa5bc29e6e84",
        "IPY_MODEL_9af0c75d11564eac89674ac993055737",
        "IPY_MODEL_585cf431b3634123bcc00c3cdd30b7b0",
        "IPY_MODEL_2ed9bad9a8f94a75a79dd250346b8a62"
       ],
       "layout": "IPY_MODEL_5e7d7cc7591647acb2b4a0e3eb1db5c9"
      }
     },
     "15912b11f24f4b07b342614a0918b9a4": {
      "model_module": "@jupyter-widgets/controls",
      "model_module_version": "1.5.0",
      "model_name": "IntSliderModel",
      "state": {
       "description": "N",
       "layout": "IPY_MODEL_532b0c1ba1c241f5a3bb634009d4aab4",
       "max": 40,
       "min": 1,
       "style": "IPY_MODEL_2e659f9cfdfb4cad8a3a6c02296d201d",
       "value": 30
      }
     },
     "15e25c1f9853493b8cea5d01e4edbd9f": {
      "model_module": "@jupyter-widgets/controls",
      "model_module_version": "1.5.0",
      "model_name": "FloatSliderModel",
      "state": {
       "description": "r",
       "layout": "IPY_MODEL_c47336d7b304480da2a7569b7a94dcf7",
       "max": 4,
       "step": 0.1,
       "style": "IPY_MODEL_03b26bfc51a34f3e85d0efa901f65664",
       "value": 2.1
      }
     },
     "163aa61e1f5d4fdbb00cd64f3d843024": {
      "model_module": "@jupyter-widgets/controls",
      "model_module_version": "1.5.0",
      "model_name": "SliderStyleModel",
      "state": {
       "description_width": ""
      }
     },
     "18888dd946e547c89e2c59dbf1ac5a00": {
      "model_module": "@jupyter-widgets/controls",
      "model_module_version": "1.5.0",
      "model_name": "FloatSliderModel",
      "state": {
       "description": "x0",
       "layout": "IPY_MODEL_33f64724dd9e4b05b0d591e8bda28cce",
       "max": 1,
       "step": 0.1,
       "style": "IPY_MODEL_ff214328c51b49209ced1b893b7cfe0e",
       "value": 0.4
      }
     },
     "18ccd299e561438fb6b3a430d2900e20": {
      "model_module": "@jupyter-widgets/controls",
      "model_module_version": "1.5.0",
      "model_name": "IntSliderModel",
      "state": {
       "description": "N",
       "layout": "IPY_MODEL_a07cbf6239d94dba8eb2a0f2a335733a",
       "max": 10,
       "min": 1,
       "style": "IPY_MODEL_9b643cbbf27542949c9997823cdf7ba3",
       "value": 4
      }
     },
     "19603e2588fe4d78a402731c3d89e004": {
      "model_module": "@jupyter-widgets/base",
      "model_module_version": "1.2.0",
      "model_name": "LayoutModel",
      "state": {}
     },
     "1b46b2b49be34a619a2d3a57346e5b95": {
      "model_module": "@jupyter-widgets/controls",
      "model_module_version": "1.5.0",
      "model_name": "VBoxModel",
      "state": {
       "_dom_classes": [
        "widget-interact"
       ],
       "children": [
        "IPY_MODEL_386a0a34309544c293bb1f011a964d97",
        "IPY_MODEL_0686cc4a791c439787a06622b0bf1a8a",
        "IPY_MODEL_2437f7ebb8514abb821be84f19656592",
        "IPY_MODEL_b7b8b946ef6947b9b8139cb3e1d5e431"
       ],
       "layout": "IPY_MODEL_f16ef8f1532d41498865355aeeca90be"
      }
     },
     "1f49a396eb4347a2b1302a997dac2975": {
      "model_module": "@jupyter-widgets/output",
      "model_module_version": "1.0.0",
      "model_name": "OutputModel",
      "state": {
       "layout": "IPY_MODEL_a2c41c1010f24231b66bef4ea24667e7",
       "outputs": [
        {
         "data": {
          "image/png": "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\n",
          "text/plain": "<Figure size 432x288 with 1 Axes>"
         },
         "metadata": {
          "needs_background": "light"
         },
         "output_type": "display_data"
        }
       ]
      }
     },
     "1fabca394fcd406d8e5f320d624badfd": {
      "model_module": "@jupyter-widgets/controls",
      "model_module_version": "1.5.0",
      "model_name": "IntSliderModel",
      "state": {
       "layout": "IPY_MODEL_458d4218534e424399c4e7fa23684f15",
       "style": "IPY_MODEL_b4caceec12a94c60bc51030c3d843e10"
      }
     },
     "1fc41293de7146ae8d6f91ec4067e86c": {
      "model_module": "@jupyter-widgets/controls",
      "model_module_version": "1.5.0",
      "model_name": "VBoxModel",
      "state": {
       "_dom_classes": [
        "widget-interact"
       ],
       "children": [
        "IPY_MODEL_98e1061c5bf845c3a37dcfe5f934a73c",
        "IPY_MODEL_d0244cc8d9bc4449b5c653f97a5fafed",
        "IPY_MODEL_52285e97818248b19fda4cdfa1855a9b"
       ],
       "layout": "IPY_MODEL_3ad89e795f394bf38dc5925d0001c490"
      }
     },
     "2263009b88c046f495e3fbd099ffc6a0": {
      "model_module": "@jupyter-widgets/controls",
      "model_module_version": "1.5.0",
      "model_name": "VBoxModel",
      "state": {
       "_dom_classes": [
        "widget-interact"
       ],
       "children": [
        "IPY_MODEL_18888dd946e547c89e2c59dbf1ac5a00",
        "IPY_MODEL_0568608c404b4cc4b77d4d00c8941f25",
        "IPY_MODEL_c860506dc574407d8342eacd6f947214",
        "IPY_MODEL_fe208be11a8e4a02a040d402796f30be"
       ],
       "layout": "IPY_MODEL_735dfe04fed24baf9d07ec748653978f"
      }
     },
     "228e6c5b2fb541f39c2172d5a707957b": {
      "model_module": "@jupyter-widgets/controls",
      "model_module_version": "1.5.0",
      "model_name": "SliderStyleModel",
      "state": {
       "description_width": ""
      }
     },
     "2437f7ebb8514abb821be84f19656592": {
      "model_module": "@jupyter-widgets/controls",
      "model_module_version": "1.5.0",
      "model_name": "FloatSliderModel",
      "state": {
       "description": "r",
       "layout": "IPY_MODEL_f22cf653444b4bd4b2aba57f66298ed0",
       "max": 4,
       "step": 0.1,
       "style": "IPY_MODEL_336da44bb3cc4a76b3f7abe7f9889df5",
       "value": 4
      }
     },
     "24b95a8a1ad14c69802cd72f1ab72617": {
      "model_module": "@jupyter-widgets/controls",
      "model_module_version": "1.5.0",
      "model_name": "SliderStyleModel",
      "state": {
       "description_width": ""
      }
     },
     "27b990ef53394710a05e3b89c69002a5": {
      "model_module": "@jupyter-widgets/base",
      "model_module_version": "1.2.0",
      "model_name": "LayoutModel",
      "state": {}
     },
     "28a5c37b1d0f4f97a9272b5cb858d1e4": {
      "model_module": "@jupyter-widgets/base",
      "model_module_version": "1.2.0",
      "model_name": "LayoutModel",
      "state": {}
     },
     "2a191c092fa44cbf9188dce69a5c61c7": {
      "model_module": "@jupyter-widgets/base",
      "model_module_version": "1.2.0",
      "model_name": "LayoutModel",
      "state": {}
     },
     "2bddff1820384e66bc7b8a0bb5ab4874": {
      "model_module": "@jupyter-widgets/controls",
      "model_module_version": "1.5.0",
      "model_name": "SliderStyleModel",
      "state": {
       "description_width": ""
      }
     },
     "2cad430682774fda8be3449d0fd250bb": {
      "model_module": "@jupyter-widgets/controls",
      "model_module_version": "1.5.0",
      "model_name": "VBoxModel",
      "state": {
       "_dom_classes": [
        "widget-interact"
       ],
       "children": [
        "IPY_MODEL_4bbb0a00cbe14c6c98da9d2ffd1769b5",
        "IPY_MODEL_dc0da7336be343d7a89fa6a2a8491113",
        "IPY_MODEL_8dd769fb417b4f78a2be5c7589329998"
       ],
       "layout": "IPY_MODEL_81951d5fd24b40069a67279c3bb47764"
      }
     },
     "2d1e867a5b414f559b7a2cc2e24a2dfc": {
      "model_module": "@jupyter-widgets/base",
      "model_module_version": "1.2.0",
      "model_name": "LayoutModel",
      "state": {}
     },
     "2dcd91b3c0dc456f88fac7449f2e88a1": {
      "model_module": "@jupyter-widgets/controls",
      "model_module_version": "1.5.0",
      "model_name": "FloatSliderModel",
      "state": {
       "description": "x",
       "layout": "IPY_MODEL_5ff56e8b943d4f46b3c21c4681faabf2",
       "max": 1,
       "step": 0.1,
       "style": "IPY_MODEL_2bddff1820384e66bc7b8a0bb5ab4874",
       "value": 0.5
      }
     },
     "2e659f9cfdfb4cad8a3a6c02296d201d": {
      "model_module": "@jupyter-widgets/controls",
      "model_module_version": "1.5.0",
      "model_name": "SliderStyleModel",
      "state": {
       "description_width": ""
      }
     },
     "2e8adfc7761048bf9c7b3a21ea1cfd69": {
      "model_module": "@jupyter-widgets/base",
      "model_module_version": "1.2.0",
      "model_name": "LayoutModel",
      "state": {}
     },
     "2ed9bad9a8f94a75a79dd250346b8a62": {
      "model_module": "@jupyter-widgets/output",
      "model_module_version": "1.0.0",
      "model_name": "OutputModel",
      "state": {
       "layout": "IPY_MODEL_fdcdbdf848bd44b1aa420b008ad277f8",
       "outputs": [
        {
         "data": {
          "image/png": "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\n",
          "text/plain": "<Figure size 432x288 with 1 Axes>"
         },
         "metadata": {
          "needs_background": "light"
         },
         "output_type": "display_data"
        }
       ]
      }
     },
     "30f19cf9808049419ffb589b5691fdaa": {
      "model_module": "@jupyter-widgets/base",
      "model_module_version": "1.2.0",
      "model_name": "LayoutModel",
      "state": {}
     },
     "31aca5dff2f54a16bf6c46f42a99c1c8": {
      "model_module": "@jupyter-widgets/controls",
      "model_module_version": "1.5.0",
      "model_name": "SliderStyleModel",
      "state": {
       "description_width": ""
      }
     },
     "336da44bb3cc4a76b3f7abe7f9889df5": {
      "model_module": "@jupyter-widgets/controls",
      "model_module_version": "1.5.0",
      "model_name": "SliderStyleModel",
      "state": {
       "description_width": ""
      }
     },
     "337a98eb6efe474582cb309c082fa5f4": {
      "model_module": "@jupyter-widgets/controls",
      "model_module_version": "1.5.0",
      "model_name": "SliderStyleModel",
      "state": {
       "description_width": ""
      }
     },
     "33f64724dd9e4b05b0d591e8bda28cce": {
      "model_module": "@jupyter-widgets/base",
      "model_module_version": "1.2.0",
      "model_name": "LayoutModel",
      "state": {}
     },
     "345a431b9ca746ae8cd05d3dfd70a69a": {
      "model_module": "@jupyter-widgets/controls",
      "model_module_version": "1.5.0",
      "model_name": "VBoxModel",
      "state": {
       "_dom_classes": [
        "widget-interact"
       ],
       "children": [
        "IPY_MODEL_2dcd91b3c0dc456f88fac7449f2e88a1",
        "IPY_MODEL_18ccd299e561438fb6b3a430d2900e20",
        "IPY_MODEL_15e25c1f9853493b8cea5d01e4edbd9f",
        "IPY_MODEL_1f49a396eb4347a2b1302a997dac2975"
       ],
       "layout": "IPY_MODEL_1432c176e36c453c954d694514ac3339"
      }
     },
     "37ce25aa742441b4962d023d35ee7376": {
      "model_module": "@jupyter-widgets/base",
      "model_module_version": "1.2.0",
      "model_name": "LayoutModel",
      "state": {}
     },
     "37e4a5ea4a774948804b04d1e56109f7": {
      "model_module": "@jupyter-widgets/controls",
      "model_module_version": "1.5.0",
      "model_name": "SliderStyleModel",
      "state": {
       "description_width": ""
      }
     },
     "386a0a34309544c293bb1f011a964d97": {
      "model_module": "@jupyter-widgets/controls",
      "model_module_version": "1.5.0",
      "model_name": "FloatSliderModel",
      "state": {
       "description": "x0",
       "layout": "IPY_MODEL_9379226bc4764cdf80a5078af3b99e0d",
       "max": 1,
       "step": 0.1,
       "style": "IPY_MODEL_46c0a2eb405e47baafa322640bafec28",
       "value": 0.6
      }
     },
     "38ae9e8831614dd1ba5a08e352f7b92f": {
      "model_module": "@jupyter-widgets/base",
      "model_module_version": "1.2.0",
      "model_name": "LayoutModel",
      "state": {}
     },
     "3ad89e795f394bf38dc5925d0001c490": {
      "model_module": "@jupyter-widgets/base",
      "model_module_version": "1.2.0",
      "model_name": "LayoutModel",
      "state": {}
     },
     "3ae35f91cd514db68b88cb5e29485752": {
      "model_module": "@jupyter-widgets/base",
      "model_module_version": "1.2.0",
      "model_name": "LayoutModel",
      "state": {}
     },
     "3b8730c059764250977fa9048633891c": {
      "model_module": "@jupyter-widgets/base",
      "model_module_version": "1.2.0",
      "model_name": "LayoutModel",
      "state": {}
     },
     "3bfbfc2e237f42f6ae909a93a6a848ae": {
      "model_module": "@jupyter-widgets/base",
      "model_module_version": "1.2.0",
      "model_name": "LayoutModel",
      "state": {}
     },
     "3ca03eaa0e6b4394b0e516c96d6fd781": {
      "model_module": "@jupyter-widgets/base",
      "model_module_version": "1.2.0",
      "model_name": "LayoutModel",
      "state": {}
     },
     "3e981996d67b45218c07e1c6b3022078": {
      "model_module": "@jupyter-widgets/controls",
      "model_module_version": "1.5.0",
      "model_name": "SliderStyleModel",
      "state": {
       "description_width": ""
      }
     },
     "3fdc289741e14bffac5373cb4c32c398": {
      "model_module": "@jupyter-widgets/controls",
      "model_module_version": "1.5.0",
      "model_name": "VBoxModel",
      "state": {
       "_dom_classes": [
        "widget-interact"
       ],
       "children": [
        "IPY_MODEL_f099038548a84aa09e9dbdc1ce5e750f",
        "IPY_MODEL_ed68e62b167745c7845a03731d20679c",
        "IPY_MODEL_480014af06994275ae440a349475c2a9",
        "IPY_MODEL_5594a3cf59ea42748b35206457a2e96c"
       ],
       "layout": "IPY_MODEL_75d4ecb678b946f592b1b6ff84a75a6c"
      }
     },
     "41fdf8557f134e82ace2cd39e0e38c7e": {
      "model_module": "@jupyter-widgets/controls",
      "model_module_version": "1.5.0",
      "model_name": "FloatSliderModel",
      "state": {
       "description": "r",
       "layout": "IPY_MODEL_c63547ae946a4c8d88731c092429298e",
       "max": 4,
       "step": 0.1,
       "style": "IPY_MODEL_228e6c5b2fb541f39c2172d5a707957b",
       "value": 2
      }
     },
     "4248e66cba7541619b20ab3440f4282f": {
      "model_module": "@jupyter-widgets/base",
      "model_module_version": "1.2.0",
      "model_name": "LayoutModel",
      "state": {}
     },
     "42e17833d4864ca1b2ae51a62590af98": {
      "model_module": "@jupyter-widgets/controls",
      "model_module_version": "1.5.0",
      "model_name": "FloatSliderModel",
      "state": {
       "description": "x",
       "layout": "IPY_MODEL_d622be39e7b341099833a7fd7e97d4cf",
       "max": 1.5,
       "min": -0.5,
       "step": 0.1,
       "style": "IPY_MODEL_db2a266593e24511a48ea19ba0428011",
       "value": 0.5
      }
     },
     "458d4218534e424399c4e7fa23684f15": {
      "model_module": "@jupyter-widgets/base",
      "model_module_version": "1.2.0",
      "model_name": "LayoutModel",
      "state": {}
     },
     "46c0a2eb405e47baafa322640bafec28": {
      "model_module": "@jupyter-widgets/controls",
      "model_module_version": "1.5.0",
      "model_name": "SliderStyleModel",
      "state": {
       "description_width": ""
      }
     },
     "4794028de7b74d8e97eb47c253657f70": {
      "model_module": "@jupyter-widgets/controls",
      "model_module_version": "1.5.0",
      "model_name": "FloatSliderModel",
      "state": {
       "description": "x0",
       "layout": "IPY_MODEL_5ca2b606529043fbabac55b3a914b66b",
       "max": 1,
       "step": 0.05,
       "style": "IPY_MODEL_78840c6f349d419082b4079a430d4f30",
       "value": 0.7
      }
     },
     "480014af06994275ae440a349475c2a9": {
      "model_module": "@jupyter-widgets/controls",
      "model_module_version": "1.5.0",
      "model_name": "FloatSliderModel",
      "state": {
       "description": "r",
       "layout": "IPY_MODEL_712d332511f4489886408e4e7414a44c",
       "max": 4,
       "step": 0.1,
       "style": "IPY_MODEL_707d6106c7384c6a8970040de7551d84",
       "value": 2.8
      }
     },
     "483ffc386f5d4bd7a8efb449e0c0a832": {
      "model_module": "@jupyter-widgets/controls",
      "model_module_version": "1.5.0",
      "model_name": "IntSliderModel",
      "state": {
       "description": "N",
       "layout": "IPY_MODEL_028a4c94211f443c84449ed02850b865",
       "max": 10,
       "min": 1,
       "style": "IPY_MODEL_abf994bffb3d47219cce4be0b3a0b67a",
       "value": 1
      }
     },
     "49307fff76f644f3ae543f61ea41d14b": {
      "model_module": "@jupyter-widgets/base",
      "model_module_version": "1.2.0",
      "model_name": "LayoutModel",
      "state": {}
     },
     "499ce417d3764a5fb398d896b9f54f06": {
      "model_module": "@jupyter-widgets/base",
      "model_module_version": "1.2.0",
      "model_name": "LayoutModel",
      "state": {}
     },
     "499e3f95243243338d68184538058e27": {
      "model_module": "@jupyter-widgets/controls",
      "model_module_version": "1.5.0",
      "model_name": "SliderStyleModel",
      "state": {
       "description_width": ""
      }
     },
     "49c76db1b6534d7bb9258b5f95a3131c": {
      "model_module": "@jupyter-widgets/base",
      "model_module_version": "1.2.0",
      "model_name": "LayoutModel",
      "state": {}
     },
     "4b9013d7e36b48fe9636c51540344e05": {
      "model_module": "@jupyter-widgets/output",
      "model_module_version": "1.0.0",
      "model_name": "OutputModel",
      "state": {
       "layout": "IPY_MODEL_5b14e88825d3421ebae1ffcc236bcd94",
       "outputs": [
        {
         "ename": "NameError",
         "evalue": "name 'i' is not defined",
         "output_type": "error",
         "traceback": [
          "\u001b[1;31m---------------------------------------------------------------------------\u001b[0m",
          "\u001b[1;31mNameError\u001b[0m                                 Traceback (most recent call last)",
          "\u001b[1;32m~\\miniconda3\\lib\\site-packages\\ipywidgets\\widgets\\interaction.py\u001b[0m in \u001b[0;36mupdate\u001b[1;34m(self, *args)\u001b[0m\n\u001b[0;32m    254\u001b[0m                     \u001b[0mvalue\u001b[0m \u001b[1;33m=\u001b[0m \u001b[0mwidget\u001b[0m\u001b[1;33m.\u001b[0m\u001b[0mget_interact_value\u001b[0m\u001b[1;33m(\u001b[0m\u001b[1;33m)\u001b[0m\u001b[1;33m\u001b[0m\u001b[1;33m\u001b[0m\u001b[0m\n\u001b[0;32m    255\u001b[0m                     \u001b[0mself\u001b[0m\u001b[1;33m.\u001b[0m\u001b[0mkwargs\u001b[0m\u001b[1;33m[\u001b[0m\u001b[0mwidget\u001b[0m\u001b[1;33m.\u001b[0m\u001b[0m_kwarg\u001b[0m\u001b[1;33m]\u001b[0m \u001b[1;33m=\u001b[0m \u001b[0mvalue\u001b[0m\u001b[1;33m\u001b[0m\u001b[1;33m\u001b[0m\u001b[0m\n\u001b[1;32m--> 256\u001b[1;33m                 \u001b[0mself\u001b[0m\u001b[1;33m.\u001b[0m\u001b[0mresult\u001b[0m \u001b[1;33m=\u001b[0m \u001b[0mself\u001b[0m\u001b[1;33m.\u001b[0m\u001b[0mf\u001b[0m\u001b[1;33m(\u001b[0m\u001b[1;33m**\u001b[0m\u001b[0mself\u001b[0m\u001b[1;33m.\u001b[0m\u001b[0mkwargs\u001b[0m\u001b[1;33m)\u001b[0m\u001b[1;33m\u001b[0m\u001b[1;33m\u001b[0m\u001b[0m\n\u001b[0m\u001b[0;32m    257\u001b[0m                 \u001b[0mshow_inline_matplotlib_plots\u001b[0m\u001b[1;33m(\u001b[0m\u001b[1;33m)\u001b[0m\u001b[1;33m\u001b[0m\u001b[1;33m\u001b[0m\u001b[0m\n\u001b[0;32m    258\u001b[0m                 \u001b[1;32mif\u001b[0m \u001b[0mself\u001b[0m\u001b[1;33m.\u001b[0m\u001b[0mauto_display\u001b[0m \u001b[1;32mand\u001b[0m \u001b[0mself\u001b[0m\u001b[1;33m.\u001b[0m\u001b[0mresult\u001b[0m \u001b[1;32mis\u001b[0m \u001b[1;32mnot\u001b[0m \u001b[1;32mNone\u001b[0m\u001b[1;33m:\u001b[0m\u001b[1;33m\u001b[0m\u001b[1;33m\u001b[0m\u001b[0m\n",
          "\u001b[1;32m~\\AppData\\Local\\Temp/ipykernel_4700/130172609.py\u001b[0m in \u001b[0;36mgraficar\u001b[1;34m(x, N, r)\u001b[0m\n\u001b[0;32m      1\u001b[0m \u001b[1;32mdef\u001b[0m \u001b[0mgraficar\u001b[0m\u001b[1;33m(\u001b[0m\u001b[0mx\u001b[0m\u001b[1;33m,\u001b[0m\u001b[0mN\u001b[0m\u001b[1;33m,\u001b[0m\u001b[0mr\u001b[0m\u001b[1;33m)\u001b[0m\u001b[1;33m:\u001b[0m\u001b[1;33m\u001b[0m\u001b[1;33m\u001b[0m\u001b[0m\n\u001b[1;32m----> 2\u001b[1;33m     \u001b[0mx\u001b[0m \u001b[1;33m=\u001b[0m \u001b[0mnp\u001b[0m\u001b[1;33m.\u001b[0m\u001b[0masarray\u001b[0m\u001b[1;33m(\u001b[0m\u001b[1;33m[\u001b[0m\u001b[0mx\u001b[0m \u001b[1;32mfor\u001b[0m \u001b[0mx\u001b[0m \u001b[1;32min\u001b[0m \u001b[0mrange\u001b[0m\u001b[1;33m(\u001b[0m\u001b[0mi\u001b[0m\u001b[1;33m)\u001b[0m\u001b[1;33m]\u001b[0m\u001b[1;33m)\u001b[0m\u001b[1;33m\u001b[0m\u001b[1;33m\u001b[0m\u001b[0m\n\u001b[0m\u001b[0;32m      3\u001b[0m     \u001b[0my\u001b[0m \u001b[1;33m=\u001b[0m \u001b[0miterarLista\u001b[0m\u001b[1;33m(\u001b[0m\u001b[0mlogistic_map\u001b[0m\u001b[1;33m,\u001b[0m\u001b[0mx\u001b[0m\u001b[1;33m,\u001b[0m\u001b[0mN\u001b[0m\u001b[1;33m,\u001b[0m\u001b[0mr\u001b[0m\u001b[1;33m,\u001b[0m \u001b[0mlista\u001b[0m\u001b[1;33m=\u001b[0m\u001b[1;33m[\u001b[0m\u001b[1;33m]\u001b[0m\u001b[1;33m)\u001b[0m\u001b[1;33m\u001b[0m\u001b[1;33m\u001b[0m\u001b[0m\n\u001b[0;32m      4\u001b[0m     \u001b[0mplt\u001b[0m\u001b[1;33m.\u001b[0m\u001b[0mplot\u001b[0m\u001b[1;33m(\u001b[0m\u001b[0mx\u001b[0m\u001b[1;33m,\u001b[0m\u001b[0my\u001b[0m\u001b[1;33m)\u001b[0m\u001b[1;33m\u001b[0m\u001b[1;33m\u001b[0m\u001b[0m\n\u001b[0;32m      5\u001b[0m     \u001b[0mplt\u001b[0m\u001b[1;33m.\u001b[0m\u001b[0mshow\u001b[0m\u001b[1;33m(\u001b[0m\u001b[1;33m)\u001b[0m\u001b[1;33m\u001b[0m\u001b[1;33m\u001b[0m\u001b[0m\n",
          "\u001b[1;31mNameError\u001b[0m: name 'i' is not defined"
         ]
        }
       ]
      }
     },
     "4bbb0a00cbe14c6c98da9d2ffd1769b5": {
      "model_module": "@jupyter-widgets/controls",
      "model_module_version": "1.5.0",
      "model_name": "FloatSliderModel",
      "state": {
       "description": "x",
       "layout": "IPY_MODEL_3b8730c059764250977fa9048633891c",
       "max": 1,
       "step": 0.1,
       "style": "IPY_MODEL_89a7197441f54a109c8c3872b157ec7f",
       "value": 0.6
      }
     },
     "4c161c0edbf545e894121721e66887dd": {
      "model_module": "@jupyter-widgets/controls",
      "model_module_version": "1.5.0",
      "model_name": "IntSliderModel",
      "state": {
       "description": "N",
       "layout": "IPY_MODEL_3ae35f91cd514db68b88cb5e29485752",
       "max": 30,
       "min": 1,
       "style": "IPY_MODEL_ea624c8409b24d10bb79c759404f1824",
       "value": 30
      }
     },
     "4ea7db212ab946d7b73e689bab8c50c0": {
      "model_module": "@jupyter-widgets/base",
      "model_module_version": "1.2.0",
      "model_name": "LayoutModel",
      "state": {}
     },
     "52285e97818248b19fda4cdfa1855a9b": {
      "model_module": "@jupyter-widgets/output",
      "model_module_version": "1.0.0",
      "model_name": "OutputModel",
      "state": {
       "layout": "IPY_MODEL_37ce25aa742441b4962d023d35ee7376",
       "outputs": [
        {
         "data": {
          "text/plain": "0.09000000000000001"
         },
         "metadata": {},
         "output_type": "display_data"
        }
       ]
      }
     },
     "532b0c1ba1c241f5a3bb634009d4aab4": {
      "model_module": "@jupyter-widgets/base",
      "model_module_version": "1.2.0",
      "model_name": "LayoutModel",
      "state": {}
     },
     "533b426d0b304c1b847b50c00b5a55a3": {
      "model_module": "@jupyter-widgets/base",
      "model_module_version": "1.2.0",
      "model_name": "LayoutModel",
      "state": {}
     },
     "54e2690751194089b55e461ee318637f": {
      "model_module": "@jupyter-widgets/output",
      "model_module_version": "1.0.0",
      "model_name": "OutputModel",
      "state": {
       "layout": "IPY_MODEL_a83c14900dad4cd1a3f76d8724a73e9d",
       "outputs": [
        {
         "data": {
          "image/png": "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\n",
          "text/plain": "<Figure size 432x288 with 1 Axes>"
         },
         "metadata": {
          "needs_background": "light"
         },
         "output_type": "display_data"
        }
       ]
      }
     },
     "55082d66c597453e85240435a1bddfde": {
      "model_module": "@jupyter-widgets/base",
      "model_module_version": "1.2.0",
      "model_name": "LayoutModel",
      "state": {}
     },
     "5594a3cf59ea42748b35206457a2e96c": {
      "model_module": "@jupyter-widgets/output",
      "model_module_version": "1.0.0",
      "model_name": "OutputModel",
      "state": {
       "layout": "IPY_MODEL_de822921df814407bf359dcf908a348a",
       "outputs": [
        {
         "data": {
          "image/png": "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\n",
          "text/plain": "<Figure size 432x288 with 1 Axes>"
         },
         "metadata": {
          "needs_background": "light"
         },
         "output_type": "display_data"
        }
       ]
      }
     },
     "5657fad861e3495ba012b1b686a6a056": {
      "model_module": "@jupyter-widgets/controls",
      "model_module_version": "1.5.0",
      "model_name": "SliderStyleModel",
      "state": {
       "description_width": ""
      }
     },
     "585cf431b3634123bcc00c3cdd30b7b0": {
      "model_module": "@jupyter-widgets/controls",
      "model_module_version": "1.5.0",
      "model_name": "FloatSliderModel",
      "state": {
       "description": "r",
       "layout": "IPY_MODEL_97d180247d9b4506b0f738e02e83446e",
       "max": 4,
       "step": 0.1,
       "style": "IPY_MODEL_6581a857e19c42d8aa4c429551615f0f",
       "value": 3.7
      }
     },
     "59d2fff85a1a4349b1f23e24cb5780e1": {
      "model_module": "@jupyter-widgets/base",
      "model_module_version": "1.2.0",
      "model_name": "LayoutModel",
      "state": {}
     },
     "5b14e88825d3421ebae1ffcc236bcd94": {
      "model_module": "@jupyter-widgets/base",
      "model_module_version": "1.2.0",
      "model_name": "LayoutModel",
      "state": {}
     },
     "5bb136e66eb84476a7aa9db9ff944c44": {
      "model_module": "@jupyter-widgets/base",
      "model_module_version": "1.2.0",
      "model_name": "LayoutModel",
      "state": {}
     },
     "5c28d5d5f3614b258685f6f6c31c2e5c": {
      "model_module": "@jupyter-widgets/base",
      "model_module_version": "1.2.0",
      "model_name": "LayoutModel",
      "state": {}
     },
     "5c7cbeafcd3947908d4ffde8a5135fe3": {
      "model_module": "@jupyter-widgets/controls",
      "model_module_version": "1.5.0",
      "model_name": "VBoxModel",
      "state": {
       "_dom_classes": [
        "widget-interact"
       ],
       "children": [
        "IPY_MODEL_cfe9f536dd1449dd8acdb1fa1024e372",
        "IPY_MODEL_702e3172fb124ddca774ec58f9c7e0c6",
        "IPY_MODEL_41fdf8557f134e82ace2cd39e0e38c7e",
        "IPY_MODEL_8ef2a139c5a746109d5345fd054aeab0"
       ],
       "layout": "IPY_MODEL_05d9cb58066d4cb4bdde98fc90e0fe6d"
      }
     },
     "5ca2b606529043fbabac55b3a914b66b": {
      "model_module": "@jupyter-widgets/base",
      "model_module_version": "1.2.0",
      "model_name": "LayoutModel",
      "state": {}
     },
     "5e7d7cc7591647acb2b4a0e3eb1db5c9": {
      "model_module": "@jupyter-widgets/base",
      "model_module_version": "1.2.0",
      "model_name": "LayoutModel",
      "state": {}
     },
     "5eb1408813d148c7877b1ad2db3e89b3": {
      "model_module": "@jupyter-widgets/controls",
      "model_module_version": "1.5.0",
      "model_name": "FloatSliderModel",
      "state": {
       "description": "r",
       "layout": "IPY_MODEL_ee492d70313b4976ab30ee43f697be11",
       "max": 4,
       "step": 0.1,
       "style": "IPY_MODEL_a8aee0df8b8a41bdb0440875288f4ed8",
       "value": 3.7
      }
     },
     "5ed1c88e29a44462bfd4d02f2f9117bd": {
      "model_module": "@jupyter-widgets/controls",
      "model_module_version": "1.5.0",
      "model_name": "SliderStyleModel",
      "state": {
       "description_width": ""
      }
     },
     "5ff56e8b943d4f46b3c21c4681faabf2": {
      "model_module": "@jupyter-widgets/base",
      "model_module_version": "1.2.0",
      "model_name": "LayoutModel",
      "state": {}
     },
     "613ee242bf194a11a8df28bb68f134c6": {
      "model_module": "@jupyter-widgets/base",
      "model_module_version": "1.2.0",
      "model_name": "LayoutModel",
      "state": {}
     },
     "61516b6bda5b4c58a5cfe20a1ab5c660": {
      "model_module": "@jupyter-widgets/controls",
      "model_module_version": "1.5.0",
      "model_name": "SliderStyleModel",
      "state": {
       "description_width": ""
      }
     },
     "63017a60d3684d63b3001de026cc648a": {
      "model_module": "@jupyter-widgets/controls",
      "model_module_version": "1.5.0",
      "model_name": "SliderStyleModel",
      "state": {
       "description_width": ""
      }
     },
     "630459f346bd44059e23766e36d17952": {
      "model_module": "@jupyter-widgets/controls",
      "model_module_version": "1.5.0",
      "model_name": "VBoxModel",
      "state": {
       "_dom_classes": [
        "widget-interact"
       ],
       "children": [
        "IPY_MODEL_42e17833d4864ca1b2ae51a62590af98",
        "IPY_MODEL_e713a84458f447e5a359799b35e1fdaf"
       ],
       "layout": "IPY_MODEL_27b990ef53394710a05e3b89c69002a5"
      }
     },
     "642b41b106694ea68e91ed920648d3f2": {
      "model_module": "@jupyter-widgets/base",
      "model_module_version": "1.2.0",
      "model_name": "LayoutModel",
      "state": {}
     },
     "65178f5f56fd41d7a09bc412609e6695": {
      "model_module": "@jupyter-widgets/controls",
      "model_module_version": "1.5.0",
      "model_name": "SliderStyleModel",
      "state": {
       "description_width": ""
      }
     },
     "6581a857e19c42d8aa4c429551615f0f": {
      "model_module": "@jupyter-widgets/controls",
      "model_module_version": "1.5.0",
      "model_name": "SliderStyleModel",
      "state": {
       "description_width": ""
      }
     },
     "67b8f2441c9b48f68d6e5ca94b30d348": {
      "model_module": "@jupyter-widgets/controls",
      "model_module_version": "1.5.0",
      "model_name": "IntSliderModel",
      "state": {
       "layout": "IPY_MODEL_bc679fc73a7e405ebfa2efd697f24b90",
       "style": "IPY_MODEL_99818beeaadf4325a67933c73ccc1a43",
       "value": 73
      }
     },
     "690a3e786bb1439787a2165627b4301b": {
      "model_module": "@jupyter-widgets/base",
      "model_module_version": "1.2.0",
      "model_name": "LayoutModel",
      "state": {}
     },
     "6d2003cb8b474547ab04f6db6ab73b68": {
      "model_module": "@jupyter-widgets/controls",
      "model_module_version": "1.5.0",
      "model_name": "SliderStyleModel",
      "state": {
       "description_width": ""
      }
     },
     "6d6b7291b6654aa58ea8a9e26f70fbe5": {
      "model_module": "@jupyter-widgets/base",
      "model_module_version": "1.2.0",
      "model_name": "LayoutModel",
      "state": {}
     },
     "6ed781e80a204d47abbb0fc5707593dd": {
      "model_module": "@jupyter-widgets/controls",
      "model_module_version": "1.5.0",
      "model_name": "SliderStyleModel",
      "state": {
       "description_width": ""
      }
     },
     "6f0b4eafc3ad4f9993bb123f01ffcc34": {
      "model_module": "@jupyter-widgets/controls",
      "model_module_version": "1.5.0",
      "model_name": "FloatSliderModel",
      "state": {
       "description": "r",
       "layout": "IPY_MODEL_9eba278ca8fa486e83a4c423eecebb6d",
       "max": 4,
       "step": 0.1,
       "style": "IPY_MODEL_eb845833113d4b9a928bb9d8d1a55517",
       "value": 3.7
      }
     },
     "702e3172fb124ddca774ec58f9c7e0c6": {
      "model_module": "@jupyter-widgets/controls",
      "model_module_version": "1.5.0",
      "model_name": "IntSliderModel",
      "state": {
       "description": "N",
       "layout": "IPY_MODEL_b1483eae54f14879aeab69fa066fd641",
       "max": 300,
       "min": 1,
       "style": "IPY_MODEL_37e4a5ea4a774948804b04d1e56109f7",
       "value": 8
      }
     },
     "707d6106c7384c6a8970040de7551d84": {
      "model_module": "@jupyter-widgets/controls",
      "model_module_version": "1.5.0",
      "model_name": "SliderStyleModel",
      "state": {
       "description_width": ""
      }
     },
     "70aef99d85e648a29702700ecb1b42ab": {
      "model_module": "@jupyter-widgets/controls",
      "model_module_version": "1.5.0",
      "model_name": "FloatSliderModel",
      "state": {
       "description": "x",
       "layout": "IPY_MODEL_19603e2588fe4d78a402731c3d89e004",
       "max": 1.5,
       "min": -0.5,
       "step": 0.1,
       "style": "IPY_MODEL_048b5a923d804501a0b89e668d54da1b",
       "value": -0.2
      }
     },
     "712d332511f4489886408e4e7414a44c": {
      "model_module": "@jupyter-widgets/base",
      "model_module_version": "1.2.0",
      "model_name": "LayoutModel",
      "state": {}
     },
     "7203b3fac97741b0b44c44dbd0f1f631": {
      "model_module": "@jupyter-widgets/controls",
      "model_module_version": "1.5.0",
      "model_name": "FloatSliderModel",
      "state": {
       "description": "r",
       "layout": "IPY_MODEL_023cbdb00e0c4018be3b1231f2fde681",
       "max": 4,
       "step": 0.1,
       "style": "IPY_MODEL_24b95a8a1ad14c69802cd72f1ab72617",
       "value": 4
      }
     },
     "735dfe04fed24baf9d07ec748653978f": {
      "model_module": "@jupyter-widgets/base",
      "model_module_version": "1.2.0",
      "model_name": "LayoutModel",
      "state": {}
     },
     "75b5bd8ad7254881ae7b12ee662ddbd9": {
      "model_module": "@jupyter-widgets/controls",
      "model_module_version": "1.5.0",
      "model_name": "SliderStyleModel",
      "state": {
       "description_width": ""
      }
     },
     "75d4ecb678b946f592b1b6ff84a75a6c": {
      "model_module": "@jupyter-widgets/base",
      "model_module_version": "1.2.0",
      "model_name": "LayoutModel",
      "state": {}
     },
     "78368e7a8e254bb4a7fe658df2a4dd27": {
      "model_module": "@jupyter-widgets/controls",
      "model_module_version": "1.5.0",
      "model_name": "FloatSliderModel",
      "state": {
       "description": "r",
       "layout": "IPY_MODEL_4248e66cba7541619b20ab3440f4282f",
       "max": 1,
       "step": 0.1,
       "style": "IPY_MODEL_6ed781e80a204d47abbb0fc5707593dd",
       "value": 0.6
      }
     },
     "78840c6f349d419082b4079a430d4f30": {
      "model_module": "@jupyter-widgets/controls",
      "model_module_version": "1.5.0",
      "model_name": "SliderStyleModel",
      "state": {
       "description_width": ""
      }
     },
     "79e78ce1c2a140e9a223a2309230e764": {
      "model_module": "@jupyter-widgets/controls",
      "model_module_version": "1.5.0",
      "model_name": "SliderStyleModel",
      "state": {
       "description_width": ""
      }
     },
     "7e0fd798b7264a2fa5b1de3ed8d95493": {
      "model_module": "@jupyter-widgets/base",
      "model_module_version": "1.2.0",
      "model_name": "LayoutModel",
      "state": {}
     },
     "7e808624fe4a49ccb2c54b775b51021c": {
      "model_module": "@jupyter-widgets/base",
      "model_module_version": "1.2.0",
      "model_name": "LayoutModel",
      "state": {}
     },
     "7e861ce694b748f5bdd32ca3bfe8cc66": {
      "model_module": "@jupyter-widgets/base",
      "model_module_version": "1.2.0",
      "model_name": "LayoutModel",
      "state": {}
     },
     "81951d5fd24b40069a67279c3bb47764": {
      "model_module": "@jupyter-widgets/base",
      "model_module_version": "1.2.0",
      "model_name": "LayoutModel",
      "state": {}
     },
     "859341d87841446b990348e2e5414b0c": {
      "model_module": "@jupyter-widgets/base",
      "model_module_version": "1.2.0",
      "model_name": "LayoutModel",
      "state": {}
     },
     "87cfe3e8cd774984b7d92988d85ef916": {
      "model_module": "@jupyter-widgets/base",
      "model_module_version": "1.2.0",
      "model_name": "LayoutModel",
      "state": {}
     },
     "897f2c5c484b44519db8f1f5ea174b5c": {
      "model_module": "@jupyter-widgets/base",
      "model_module_version": "1.2.0",
      "model_name": "LayoutModel",
      "state": {}
     },
     "89a7197441f54a109c8c3872b157ec7f": {
      "model_module": "@jupyter-widgets/controls",
      "model_module_version": "1.5.0",
      "model_name": "SliderStyleModel",
      "state": {
       "description_width": ""
      }
     },
     "8d8099021bd54be3bd4d65aae10d141c": {
      "model_module": "@jupyter-widgets/controls",
      "model_module_version": "1.5.0",
      "model_name": "SliderStyleModel",
      "state": {
       "description_width": ""
      }
     },
     "8dd769fb417b4f78a2be5c7589329998": {
      "model_module": "@jupyter-widgets/output",
      "model_module_version": "1.0.0",
      "model_name": "OutputModel",
      "state": {
       "layout": "IPY_MODEL_15324b55377c4685b6ba93c1f8e3971c",
       "outputs": [
        {
         "data": {
          "text/plain": "0.48"
         },
         "metadata": {},
         "output_type": "display_data"
        }
       ]
      }
     },
     "8e81c8ed080b4d87a87b74ad9cf53437": {
      "model_module": "@jupyter-widgets/base",
      "model_module_version": "1.2.0",
      "model_name": "LayoutModel",
      "state": {}
     },
     "8ef2a139c5a746109d5345fd054aeab0": {
      "model_module": "@jupyter-widgets/output",
      "model_module_version": "1.0.0",
      "model_name": "OutputModel",
      "state": {
       "layout": "IPY_MODEL_9ae107ffa0f0473cbf1be70834367629",
       "outputs": [
        {
         "data": {
          "image/png": "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\n",
          "text/plain": "<Figure size 432x288 with 1 Axes>"
         },
         "metadata": {
          "needs_background": "light"
         },
         "output_type": "display_data"
        }
       ]
      }
     },
     "9048f4af51bf4fdfbde202aa0b584c2e": {
      "model_module": "@jupyter-widgets/output",
      "model_module_version": "1.0.0",
      "model_name": "OutputModel",
      "state": {
       "layout": "IPY_MODEL_e772b1744a294b4f9b7121eb64ca3d2e",
       "outputs": [
        {
         "data": {
          "image/png": "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\n",
          "text/plain": "<Figure size 432x288 with 1 Axes>"
         },
         "metadata": {
          "needs_background": "light"
         },
         "output_type": "display_data"
        }
       ]
      }
     },
     "9379226bc4764cdf80a5078af3b99e0d": {
      "model_module": "@jupyter-widgets/base",
      "model_module_version": "1.2.0",
      "model_name": "LayoutModel",
      "state": {}
     },
     "951af0f4947247b7965e98a98885c1d8": {
      "model_module": "@jupyter-widgets/controls",
      "model_module_version": "1.5.0",
      "model_name": "FloatSliderModel",
      "state": {
       "description": "x0",
       "layout": "IPY_MODEL_cbc141d0dca64f22997bafe394ddc16e",
       "max": 1,
       "step": 0.05,
       "style": "IPY_MODEL_bca7f52949c24856b62c3082185c6b71",
       "value": 0.3
      }
     },
     "959db7647caf404490962e095dd63045": {
      "model_module": "@jupyter-widgets/controls",
      "model_module_version": "1.5.0",
      "model_name": "FloatSliderModel",
      "state": {
       "description": "x",
       "layout": "IPY_MODEL_ca0f8ec832be4f778d944df9cb1d6eac",
       "max": 1.5,
       "min": -0.5,
       "step": 0.1,
       "style": "IPY_MODEL_fcf1f6ded4a44e3eaf4a74e3862180dc",
       "value": 0.5
      }
     },
     "97d180247d9b4506b0f738e02e83446e": {
      "model_module": "@jupyter-widgets/base",
      "model_module_version": "1.2.0",
      "model_name": "LayoutModel",
      "state": {}
     },
     "98e1061c5bf845c3a37dcfe5f934a73c": {
      "model_module": "@jupyter-widgets/controls",
      "model_module_version": "1.5.0",
      "model_name": "FloatSliderModel",
      "state": {
       "description": "x",
       "layout": "IPY_MODEL_642b41b106694ea68e91ed920648d3f2",
       "max": 1.5,
       "min": -0.5,
       "step": 0.1,
       "style": "IPY_MODEL_65178f5f56fd41d7a09bc412609e6695",
       "value": 0.1
      }
     },
     "99818beeaadf4325a67933c73ccc1a43": {
      "model_module": "@jupyter-widgets/controls",
      "model_module_version": "1.5.0",
      "model_name": "SliderStyleModel",
      "state": {
       "description_width": ""
      }
     },
     "9ae107ffa0f0473cbf1be70834367629": {
      "model_module": "@jupyter-widgets/base",
      "model_module_version": "1.2.0",
      "model_name": "LayoutModel",
      "state": {}
     },
     "9af0c75d11564eac89674ac993055737": {
      "model_module": "@jupyter-widgets/controls",
      "model_module_version": "1.5.0",
      "model_name": "IntSliderModel",
      "state": {
       "description": "N",
       "layout": "IPY_MODEL_a8808871403048cc90daa9143664df1f",
       "max": 300,
       "min": 1,
       "style": "IPY_MODEL_337a98eb6efe474582cb309c082fa5f4",
       "value": 74
      }
     },
     "9b643cbbf27542949c9997823cdf7ba3": {
      "model_module": "@jupyter-widgets/controls",
      "model_module_version": "1.5.0",
      "model_name": "SliderStyleModel",
      "state": {
       "description_width": ""
      }
     },
     "9ca0206f44fc4cfbbace0ecd5a737fee": {
      "model_module": "@jupyter-widgets/controls",
      "model_module_version": "1.5.0",
      "model_name": "VBoxModel",
      "state": {
       "_dom_classes": [
        "widget-interact"
       ],
       "children": [
        "IPY_MODEL_959db7647caf404490962e095dd63045",
        "IPY_MODEL_dbbe4b3a55b54a5d8676aa5b0f178636",
        "IPY_MODEL_f108225c989342b480dd8025a53dc92a"
       ],
       "layout": "IPY_MODEL_12a9df6935c04ab3ac368f51e236c741"
      }
     },
     "9d6eefa458794e6a9cbe84424b55dfd8": {
      "model_module": "@jupyter-widgets/controls",
      "model_module_version": "1.5.0",
      "model_name": "VBoxModel",
      "state": {
       "_dom_classes": [
        "widget-interact"
       ],
       "children": [
        "IPY_MODEL_e25c604242fd4a27a4fb314efbf95879",
        "IPY_MODEL_483ffc386f5d4bd7a8efb449e0c0a832",
        "IPY_MODEL_ec63be3bf8bb4f6484c1ba4a8e47c3ae",
        "IPY_MODEL_4b9013d7e36b48fe9636c51540344e05"
       ],
       "layout": "IPY_MODEL_d2b1d838467f4184bf5548231ceb1811"
      }
     },
     "9d74c5a0ca0846e4a61597f46a06cb3e": {
      "model_module": "@jupyter-widgets/controls",
      "model_module_version": "1.5.0",
      "model_name": "IntSliderModel",
      "state": {
       "description": "N",
       "layout": "IPY_MODEL_690a3e786bb1439787a2165627b4301b",
       "max": 300,
       "min": 1,
       "style": "IPY_MODEL_75b5bd8ad7254881ae7b12ee662ddbd9",
       "value": 47
      }
     },
     "9eba278ca8fa486e83a4c423eecebb6d": {
      "model_module": "@jupyter-widgets/base",
      "model_module_version": "1.2.0",
      "model_name": "LayoutModel",
      "state": {}
     },
     "a05339e47f8b401f8ac0b7d18a415e44": {
      "model_module": "@jupyter-widgets/controls",
      "model_module_version": "1.5.0",
      "model_name": "IntSliderModel",
      "state": {
       "description": "N",
       "layout": "IPY_MODEL_897f2c5c484b44519db8f1f5ea174b5c",
       "max": 300,
       "min": 1,
       "style": "IPY_MODEL_e06a858d15584491b6f8af79e1939887",
       "value": 86
      }
     },
     "a07cbf6239d94dba8eb2a0f2a335733a": {
      "model_module": "@jupyter-widgets/base",
      "model_module_version": "1.2.0",
      "model_name": "LayoutModel",
      "state": {}
     },
     "a2c41c1010f24231b66bef4ea24667e7": {
      "model_module": "@jupyter-widgets/base",
      "model_module_version": "1.2.0",
      "model_name": "LayoutModel",
      "state": {}
     },
     "a354a99334bc482c9d01a9ffb7be3884": {
      "model_module": "@jupyter-widgets/controls",
      "model_module_version": "1.5.0",
      "model_name": "IntSliderModel",
      "state": {
       "description": "r",
       "layout": "IPY_MODEL_55082d66c597453e85240435a1bddfde",
       "max": 6,
       "min": -2,
       "style": "IPY_MODEL_5657fad861e3495ba012b1b686a6a056",
       "value": 1
      }
     },
     "a83c14900dad4cd1a3f76d8724a73e9d": {
      "model_module": "@jupyter-widgets/base",
      "model_module_version": "1.2.0",
      "model_name": "LayoutModel",
      "state": {}
     },
     "a8808871403048cc90daa9143664df1f": {
      "model_module": "@jupyter-widgets/base",
      "model_module_version": "1.2.0",
      "model_name": "LayoutModel",
      "state": {}
     },
     "a8aee0df8b8a41bdb0440875288f4ed8": {
      "model_module": "@jupyter-widgets/controls",
      "model_module_version": "1.5.0",
      "model_name": "SliderStyleModel",
      "state": {
       "description_width": ""
      }
     },
     "a9314ef653e846af921714e902b8156a": {
      "model_module": "@jupyter-widgets/controls",
      "model_module_version": "1.5.0",
      "model_name": "FloatSliderModel",
      "state": {
       "description": "r",
       "layout": "IPY_MODEL_c70f8700b7e44e9cbf6d5036af54c9ad",
       "max": 4,
       "step": 0.1,
       "style": "IPY_MODEL_c4d18b26994543efbfc449d242ee77cd",
       "value": 3.6
      }
     },
     "abf994bffb3d47219cce4be0b3a0b67a": {
      "model_module": "@jupyter-widgets/controls",
      "model_module_version": "1.5.0",
      "model_name": "SliderStyleModel",
      "state": {
       "description_width": ""
      }
     },
     "ad81fe7102ae4beb8c87664ddd4ce485": {
      "model_module": "@jupyter-widgets/controls",
      "model_module_version": "1.5.0",
      "model_name": "FloatSliderModel",
      "state": {
       "description": "r",
       "layout": "IPY_MODEL_499ce417d3764a5fb398d896b9f54f06",
       "max": 2,
       "step": 0.1,
       "style": "IPY_MODEL_b618a1dc66724d89a85a013be9cac41f",
       "value": 0.8
      }
     },
     "adced919351847f5baf0072ca5285435": {
      "model_module": "@jupyter-widgets/output",
      "model_module_version": "1.0.0",
      "model_name": "OutputModel",
      "state": {
       "layout": "IPY_MODEL_87cfe3e8cd774984b7d92988d85ef916",
       "outputs": [
        {
         "data": {
          "image/png": "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\n",
          "text/plain": "<Figure size 432x288 with 1 Axes>"
         },
         "metadata": {
          "needs_background": "light"
         },
         "output_type": "display_data"
        }
       ]
      }
     },
     "b1483eae54f14879aeab69fa066fd641": {
      "model_module": "@jupyter-widgets/base",
      "model_module_version": "1.2.0",
      "model_name": "LayoutModel",
      "state": {}
     },
     "b29cd488fb1c42d0a018be192e55bee6": {
      "model_module": "@jupyter-widgets/controls",
      "model_module_version": "1.5.0",
      "model_name": "VBoxModel",
      "state": {
       "_dom_classes": [
        "widget-interact"
       ],
       "children": [
        "IPY_MODEL_053d613a7c1141d09d438fd21942ba99",
        "IPY_MODEL_4c161c0edbf545e894121721e66887dd",
        "IPY_MODEL_7203b3fac97741b0b44c44dbd0f1f631",
        "IPY_MODEL_d7a5d3df5677400b8e9bdc4fed7588b0"
       ],
       "layout": "IPY_MODEL_c252cae417ff4a13b6f9f9dbe1e99414"
      }
     },
     "b2affa615ab147e09428a8eafd829998": {
      "model_module": "@jupyter-widgets/controls",
      "model_module_version": "1.5.0",
      "model_name": "SliderStyleModel",
      "state": {
       "description_width": ""
      }
     },
     "b305b5e490274be18078f89f7e5956fb": {
      "model_module": "@jupyter-widgets/controls",
      "model_module_version": "1.5.0",
      "model_name": "SliderStyleModel",
      "state": {
       "description_width": ""
      }
     },
     "b4caceec12a94c60bc51030c3d843e10": {
      "model_module": "@jupyter-widgets/controls",
      "model_module_version": "1.5.0",
      "model_name": "SliderStyleModel",
      "state": {
       "description_width": ""
      }
     },
     "b618a1dc66724d89a85a013be9cac41f": {
      "model_module": "@jupyter-widgets/controls",
      "model_module_version": "1.5.0",
      "model_name": "SliderStyleModel",
      "state": {
       "description_width": ""
      }
     },
     "b7b8b946ef6947b9b8139cb3e1d5e431": {
      "model_module": "@jupyter-widgets/output",
      "model_module_version": "1.0.0",
      "model_name": "OutputModel",
      "state": {
       "layout": "IPY_MODEL_6d6b7291b6654aa58ea8a9e26f70fbe5",
       "outputs": [
        {
         "data": {
          "image/png": "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\n",
          "text/plain": "<Figure size 432x288 with 1 Axes>"
         },
         "metadata": {
          "needs_background": "light"
         },
         "output_type": "display_data"
        }
       ]
      }
     },
     "b8d08d46e37e487fac4c322d60a88289": {
      "model_module": "@jupyter-widgets/controls",
      "model_module_version": "1.5.0",
      "model_name": "SliderStyleModel",
      "state": {
       "description_width": ""
      }
     },
     "bba4563978a741e99d0ec92f31db7d00": {
      "model_module": "@jupyter-widgets/controls",
      "model_module_version": "1.5.0",
      "model_name": "VBoxModel",
      "state": {
       "_dom_classes": [
        "widget-interact"
       ],
       "children": [
        "IPY_MODEL_ceca73f789be462683bf8ebdb8cda81a",
        "IPY_MODEL_78368e7a8e254bb4a7fe658df2a4dd27",
        "IPY_MODEL_e11b4d15e54240a7b53a35f211aab54f"
       ],
       "layout": "IPY_MODEL_c06173f60ff14a66a16c9a14aad9e748"
      }
     },
     "bc679fc73a7e405ebfa2efd697f24b90": {
      "model_module": "@jupyter-widgets/base",
      "model_module_version": "1.2.0",
      "model_name": "LayoutModel",
      "state": {}
     },
     "bca7f52949c24856b62c3082185c6b71": {
      "model_module": "@jupyter-widgets/controls",
      "model_module_version": "1.5.0",
      "model_name": "SliderStyleModel",
      "state": {
       "description_width": ""
      }
     },
     "be159edaab784066afd1c4d93fd70532": {
      "model_module": "@jupyter-widgets/controls",
      "model_module_version": "1.5.0",
      "model_name": "VBoxModel",
      "state": {
       "_dom_classes": [
        "widget-interact"
       ],
       "children": [
        "IPY_MODEL_f1ec055cbb084e46b273217c37afcc16",
        "IPY_MODEL_d07c866819c64d2b96d0499d030226df",
        "IPY_MODEL_c2e24bef7e454a7493fb108bde1b38b5",
        "IPY_MODEL_ea60955b72b24459b7659c0f658ffc1b"
       ],
       "layout": "IPY_MODEL_8e81c8ed080b4d87a87b74ad9cf53437"
      }
     },
     "bf44406a88e346c682e6af976e2c0dac": {
      "model_module": "@jupyter-widgets/output",
      "model_module_version": "1.0.0",
      "model_name": "OutputModel",
      "state": {
       "layout": "IPY_MODEL_d7a8304905c14588a280f1e7d097bdc0",
       "outputs": [
        {
         "data": {
          "text/plain": "-0.24"
         },
         "metadata": {},
         "output_type": "display_data"
        }
       ]
      }
     },
     "c06173f60ff14a66a16c9a14aad9e748": {
      "model_module": "@jupyter-widgets/base",
      "model_module_version": "1.2.0",
      "model_name": "LayoutModel",
      "state": {}
     },
     "c252cae417ff4a13b6f9f9dbe1e99414": {
      "model_module": "@jupyter-widgets/base",
      "model_module_version": "1.2.0",
      "model_name": "LayoutModel",
      "state": {}
     },
     "c2e24bef7e454a7493fb108bde1b38b5": {
      "model_module": "@jupyter-widgets/controls",
      "model_module_version": "1.5.0",
      "model_name": "FloatSliderModel",
      "state": {
       "description": "r",
       "layout": "IPY_MODEL_3ca03eaa0e6b4394b0e516c96d6fd781",
       "max": 4,
       "step": 0.1,
       "style": "IPY_MODEL_61516b6bda5b4c58a5cfe20a1ab5c660",
       "value": 4
      }
     },
     "c47336d7b304480da2a7569b7a94dcf7": {
      "model_module": "@jupyter-widgets/base",
      "model_module_version": "1.2.0",
      "model_name": "LayoutModel",
      "state": {}
     },
     "c4d18b26994543efbfc449d242ee77cd": {
      "model_module": "@jupyter-widgets/controls",
      "model_module_version": "1.5.0",
      "model_name": "SliderStyleModel",
      "state": {
       "description_width": ""
      }
     },
     "c63547ae946a4c8d88731c092429298e": {
      "model_module": "@jupyter-widgets/base",
      "model_module_version": "1.2.0",
      "model_name": "LayoutModel",
      "state": {}
     },
     "c685428b466d49a793900c6b5a04a690": {
      "model_module": "@jupyter-widgets/base",
      "model_module_version": "1.2.0",
      "model_name": "LayoutModel",
      "state": {}
     },
     "c70f8700b7e44e9cbf6d5036af54c9ad": {
      "model_module": "@jupyter-widgets/base",
      "model_module_version": "1.2.0",
      "model_name": "LayoutModel",
      "state": {}
     },
     "c860506dc574407d8342eacd6f947214": {
      "model_module": "@jupyter-widgets/controls",
      "model_module_version": "1.5.0",
      "model_name": "FloatSliderModel",
      "state": {
       "description": "r",
       "layout": "IPY_MODEL_07574744a1fd4bcaa72e3f5be952f052",
       "max": 4,
       "step": 0.1,
       "style": "IPY_MODEL_0cca48aa52944418aee109b187d6bceb",
       "value": 4
      }
     },
     "c9c97101169349b8a828cc0fc6632f22": {
      "model_module": "@jupyter-widgets/controls",
      "model_module_version": "1.5.0",
      "model_name": "SliderStyleModel",
      "state": {
       "description_width": ""
      }
     },
     "ca0f8ec832be4f778d944df9cb1d6eac": {
      "model_module": "@jupyter-widgets/base",
      "model_module_version": "1.2.0",
      "model_name": "LayoutModel",
      "state": {}
     },
     "cbc141d0dca64f22997bafe394ddc16e": {
      "model_module": "@jupyter-widgets/base",
      "model_module_version": "1.2.0",
      "model_name": "LayoutModel",
      "state": {}
     },
     "ccca5f86e65e4cc4b2b0eb7dac5ea194": {
      "model_module": "@jupyter-widgets/base",
      "model_module_version": "1.2.0",
      "model_name": "LayoutModel",
      "state": {}
     },
     "ceca73f789be462683bf8ebdb8cda81a": {
      "model_module": "@jupyter-widgets/controls",
      "model_module_version": "1.5.0",
      "model_name": "FloatSliderModel",
      "state": {
       "description": "x",
       "layout": "IPY_MODEL_28a5c37b1d0f4f97a9272b5cb858d1e4",
       "max": 1,
       "step": 0.1,
       "style": "IPY_MODEL_63017a60d3684d63b3001de026cc648a",
       "value": 0.4
      }
     },
     "cf1caa950e164bbe9ddd196811896c00": {
      "model_module": "@jupyter-widgets/base",
      "model_module_version": "1.2.0",
      "model_name": "LayoutModel",
      "state": {}
     },
     "cfe9f536dd1449dd8acdb1fa1024e372": {
      "model_module": "@jupyter-widgets/controls",
      "model_module_version": "1.5.0",
      "model_name": "FloatSliderModel",
      "state": {
       "description": "x0",
       "layout": "IPY_MODEL_7e861ce694b748f5bdd32ca3bfe8cc66",
       "max": 1,
       "step": 0.05,
       "style": "IPY_MODEL_b305b5e490274be18078f89f7e5956fb",
       "value": 0.15
      }
     },
     "d0244cc8d9bc4449b5c653f97a5fafed": {
      "model_module": "@jupyter-widgets/controls",
      "model_module_version": "1.5.0",
      "model_name": "FloatSliderModel",
      "state": {
       "description": "r",
       "layout": "IPY_MODEL_d45a4f5cd4184355a7297d92b5440d42",
       "max": 1,
       "step": 0.1,
       "style": "IPY_MODEL_133412d891844eaeb8cb997a71a328bb",
       "value": 1
      }
     },
     "d07c866819c64d2b96d0499d030226df": {
      "model_module": "@jupyter-widgets/controls",
      "model_module_version": "1.5.0",
      "model_name": "IntSliderModel",
      "state": {
       "description": "N",
       "layout": "IPY_MODEL_3bfbfc2e237f42f6ae909a93a6a848ae",
       "max": 300,
       "min": 1,
       "style": "IPY_MODEL_163aa61e1f5d4fdbb00cd64f3d843024",
       "value": 55
      }
     },
     "d199f5543db049648b7cef54dc24cc22": {
      "model_module": "@jupyter-widgets/controls",
      "model_module_version": "1.5.0",
      "model_name": "FloatSliderModel",
      "state": {
       "description": "x0",
       "layout": "IPY_MODEL_eab151f3010c41a3810f5cf95aebe147",
       "max": 1,
       "step": 0.05,
       "style": "IPY_MODEL_c9c97101169349b8a828cc0fc6632f22",
       "value": 0.8
      }
     },
     "d2b1d838467f4184bf5548231ceb1811": {
      "model_module": "@jupyter-widgets/base",
      "model_module_version": "1.2.0",
      "model_name": "LayoutModel",
      "state": {}
     },
     "d45a4f5cd4184355a7297d92b5440d42": {
      "model_module": "@jupyter-widgets/base",
      "model_module_version": "1.2.0",
      "model_name": "LayoutModel",
      "state": {}
     },
     "d48a436bf7b54554b164f3ff99e1f4f8": {
      "model_module": "@jupyter-widgets/output",
      "model_module_version": "1.0.0",
      "model_name": "OutputModel",
      "state": {
       "layout": "IPY_MODEL_859341d87841446b990348e2e5414b0c",
       "outputs": [
        {
         "data": {
          "image/png": "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\n",
          "text/plain": "<Figure size 432x288 with 1 Axes>"
         },
         "metadata": {
          "needs_background": "light"
         },
         "output_type": "display_data"
        }
       ]
      }
     },
     "d569657601cb42e994268df7e9bb357f": {
      "model_module": "@jupyter-widgets/base",
      "model_module_version": "1.2.0",
      "model_name": "LayoutModel",
      "state": {}
     },
     "d599310874174208b6ffedde88b50fc6": {
      "model_module": "@jupyter-widgets/controls",
      "model_module_version": "1.5.0",
      "model_name": "SliderStyleModel",
      "state": {
       "description_width": ""
      }
     },
     "d622be39e7b341099833a7fd7e97d4cf": {
      "model_module": "@jupyter-widgets/base",
      "model_module_version": "1.2.0",
      "model_name": "LayoutModel",
      "state": {}
     },
     "d7a5d3df5677400b8e9bdc4fed7588b0": {
      "model_module": "@jupyter-widgets/output",
      "model_module_version": "1.0.0",
      "model_name": "OutputModel",
      "state": {
       "layout": "IPY_MODEL_ffcc6ac2528647e1ad214ac57e0fbd53",
       "outputs": [
        {
         "data": {
          "image/png": "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\n",
          "text/plain": "<Figure size 432x288 with 1 Axes>"
         },
         "metadata": {
          "needs_background": "light"
         },
         "output_type": "display_data"
        }
       ]
      }
     },
     "d7a8304905c14588a280f1e7d097bdc0": {
      "model_module": "@jupyter-widgets/base",
      "model_module_version": "1.2.0",
      "model_name": "LayoutModel",
      "state": {}
     },
     "d83557f0d05d4ab6a61e49daaf4e7968": {
      "model_module": "@jupyter-widgets/base",
      "model_module_version": "1.2.0",
      "model_name": "LayoutModel",
      "state": {}
     },
     "d8fddf1bdd7741fb9f6fd3dbe7989afc": {
      "model_module": "@jupyter-widgets/controls",
      "model_module_version": "1.5.0",
      "model_name": "SliderStyleModel",
      "state": {
       "description_width": ""
      }
     },
     "db2a266593e24511a48ea19ba0428011": {
      "model_module": "@jupyter-widgets/controls",
      "model_module_version": "1.5.0",
      "model_name": "SliderStyleModel",
      "state": {
       "description_width": ""
      }
     },
     "dbbe4b3a55b54a5d8676aa5b0f178636": {
      "model_module": "@jupyter-widgets/controls",
      "model_module_version": "1.5.0",
      "model_name": "IntSliderModel",
      "state": {
       "description": "r",
       "layout": "IPY_MODEL_38ae9e8831614dd1ba5a08e352f7b92f",
       "max": 1,
       "style": "IPY_MODEL_b8d08d46e37e487fac4c322d60a88289"
      }
     },
     "dc0da7336be343d7a89fa6a2a8491113": {
      "model_module": "@jupyter-widgets/controls",
      "model_module_version": "1.5.0",
      "model_name": "FloatSliderModel",
      "state": {
       "description": "r",
       "layout": "IPY_MODEL_d83557f0d05d4ab6a61e49daaf4e7968",
       "max": 4,
       "step": 0.1,
       "style": "IPY_MODEL_d8fddf1bdd7741fb9f6fd3dbe7989afc",
       "value": 2
      }
     },
     "de822921df814407bf359dcf908a348a": {
      "model_module": "@jupyter-widgets/base",
      "model_module_version": "1.2.0",
      "model_name": "LayoutModel",
      "state": {}
     },
     "df4009594a6947cebdce0abb6a6d72be": {
      "model_module": "@jupyter-widgets/controls",
      "model_module_version": "1.5.0",
      "model_name": "VBoxModel",
      "state": {
       "_dom_classes": [
        "widget-interact"
       ],
       "children": [
        "IPY_MODEL_11bd3a77852643b88376783ab8dd8fe5",
        "IPY_MODEL_f48a204722cb4f8f8fcab7ae74377450",
        "IPY_MODEL_6f0b4eafc3ad4f9993bb123f01ffcc34",
        "IPY_MODEL_adced919351847f5baf0072ca5285435"
       ],
       "layout": "IPY_MODEL_ccca5f86e65e4cc4b2b0eb7dac5ea194"
      }
     },
     "e06a858d15584491b6f8af79e1939887": {
      "model_module": "@jupyter-widgets/controls",
      "model_module_version": "1.5.0",
      "model_name": "SliderStyleModel",
      "state": {
       "description_width": ""
      }
     },
     "e11b4d15e54240a7b53a35f211aab54f": {
      "model_module": "@jupyter-widgets/output",
      "model_module_version": "1.0.0",
      "model_name": "OutputModel",
      "state": {
       "layout": "IPY_MODEL_4ea7db212ab946d7b73e689bab8c50c0",
       "outputs": [
        {
         "data": {
          "text/plain": "0.144"
         },
         "metadata": {},
         "output_type": "display_data"
        }
       ]
      }
     },
     "e1ef1d0cd2c14e1fbfb8fa5bc29e6e84": {
      "model_module": "@jupyter-widgets/controls",
      "model_module_version": "1.5.0",
      "model_name": "FloatSliderModel",
      "state": {
       "description": "x0",
       "layout": "IPY_MODEL_5c28d5d5f3614b258685f6f6c31c2e5c",
       "max": 1,
       "step": 0.05,
       "style": "IPY_MODEL_f2b9135016c748b3945727104136b130",
       "value": 0.35
      }
     },
     "e25c604242fd4a27a4fb314efbf95879": {
      "model_module": "@jupyter-widgets/controls",
      "model_module_version": "1.5.0",
      "model_name": "FloatSliderModel",
      "state": {
       "description": "x",
       "layout": "IPY_MODEL_7e0fd798b7264a2fa5b1de3ed8d95493",
       "max": 1,
       "step": 0.1,
       "style": "IPY_MODEL_31aca5dff2f54a16bf6c46f42a99c1c8"
      }
     },
     "e61cbaf1d8f246bcbfe102a2ef91e35b": {
      "model_module": "@jupyter-widgets/controls",
      "model_module_version": "1.5.0",
      "model_name": "VBoxModel",
      "state": {
       "_dom_classes": [
        "widget-interact"
       ],
       "children": [
        "IPY_MODEL_d199f5543db049648b7cef54dc24cc22",
        "IPY_MODEL_15912b11f24f4b07b342614a0918b9a4",
        "IPY_MODEL_ad81fe7102ae4beb8c87664ddd4ce485",
        "IPY_MODEL_54e2690751194089b55e461ee318637f"
       ],
       "layout": "IPY_MODEL_d569657601cb42e994268df7e9bb357f"
      }
     },
     "e713a84458f447e5a359799b35e1fdaf": {
      "model_module": "@jupyter-widgets/output",
      "model_module_version": "1.0.0",
      "model_name": "OutputModel",
      "state": {
       "layout": "IPY_MODEL_e75c6f0e3eba479daceeb5bc8c1b2a41",
       "outputs": [
        {
         "data": {
          "text/plain": "2.5"
         },
         "metadata": {},
         "output_type": "display_data"
        }
       ]
      }
     },
     "e75c6f0e3eba479daceeb5bc8c1b2a41": {
      "model_module": "@jupyter-widgets/base",
      "model_module_version": "1.2.0",
      "model_name": "LayoutModel",
      "state": {}
     },
     "e772b1744a294b4f9b7121eb64ca3d2e": {
      "model_module": "@jupyter-widgets/base",
      "model_module_version": "1.2.0",
      "model_name": "LayoutModel",
      "state": {}
     },
     "ea60955b72b24459b7659c0f658ffc1b": {
      "model_module": "@jupyter-widgets/output",
      "model_module_version": "1.0.0",
      "model_name": "OutputModel",
      "state": {
       "layout": "IPY_MODEL_2a191c092fa44cbf9188dce69a5c61c7",
       "outputs": [
        {
         "data": {
          "image/png": "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\n",
          "text/plain": "<Figure size 432x288 with 1 Axes>"
         },
         "metadata": {
          "needs_background": "light"
         },
         "output_type": "display_data"
        }
       ]
      }
     },
     "ea624c8409b24d10bb79c759404f1824": {
      "model_module": "@jupyter-widgets/controls",
      "model_module_version": "1.5.0",
      "model_name": "SliderStyleModel",
      "state": {
       "description_width": ""
      }
     },
     "eab151f3010c41a3810f5cf95aebe147": {
      "model_module": "@jupyter-widgets/base",
      "model_module_version": "1.2.0",
      "model_name": "LayoutModel",
      "state": {}
     },
     "eb845833113d4b9a928bb9d8d1a55517": {
      "model_module": "@jupyter-widgets/controls",
      "model_module_version": "1.5.0",
      "model_name": "SliderStyleModel",
      "state": {
       "description_width": ""
      }
     },
     "ec63be3bf8bb4f6484c1ba4a8e47c3ae": {
      "model_module": "@jupyter-widgets/controls",
      "model_module_version": "1.5.0",
      "model_name": "FloatSliderModel",
      "state": {
       "description": "r",
       "layout": "IPY_MODEL_cf1caa950e164bbe9ddd196811896c00",
       "max": 4,
       "step": 0.1,
       "style": "IPY_MODEL_d599310874174208b6ffedde88b50fc6"
      }
     },
     "ed68e62b167745c7845a03731d20679c": {
      "model_module": "@jupyter-widgets/controls",
      "model_module_version": "1.5.0",
      "model_name": "IntSliderModel",
      "state": {
       "description": "N",
       "layout": "IPY_MODEL_2e8adfc7761048bf9c7b3a21ea1cfd69",
       "max": 300,
       "min": 1,
       "style": "IPY_MODEL_79e78ce1c2a140e9a223a2309230e764",
       "value": 25
      }
     },
     "ee492d70313b4976ab30ee43f697be11": {
      "model_module": "@jupyter-widgets/base",
      "model_module_version": "1.2.0",
      "model_name": "LayoutModel",
      "state": {}
     },
     "f07e965580494481a59f18316795da87": {
      "model_module": "@jupyter-widgets/base",
      "model_module_version": "1.2.0",
      "model_name": "LayoutModel",
      "state": {}
     },
     "f099038548a84aa09e9dbdc1ce5e750f": {
      "model_module": "@jupyter-widgets/controls",
      "model_module_version": "1.5.0",
      "model_name": "FloatSliderModel",
      "state": {
       "description": "x0",
       "layout": "IPY_MODEL_613ee242bf194a11a8df28bb68f134c6",
       "max": 1,
       "step": 0.1,
       "style": "IPY_MODEL_499e3f95243243338d68184538058e27",
       "value": 0.2
      }
     },
     "f108225c989342b480dd8025a53dc92a": {
      "model_module": "@jupyter-widgets/output",
      "model_module_version": "1.0.0",
      "model_name": "OutputModel",
      "state": {
       "layout": "IPY_MODEL_49c76db1b6534d7bb9258b5f95a3131c",
       "outputs": [
        {
         "data": {
          "text/plain": "0.0"
         },
         "metadata": {},
         "output_type": "display_data"
        }
       ]
      }
     },
     "f16a08e771b34a5f9edc2b1bfca32423": {
      "model_module": "@jupyter-widgets/base",
      "model_module_version": "1.2.0",
      "model_name": "LayoutModel",
      "state": {}
     },
     "f16ef8f1532d41498865355aeeca90be": {
      "model_module": "@jupyter-widgets/base",
      "model_module_version": "1.2.0",
      "model_name": "LayoutModel",
      "state": {}
     },
     "f1ec055cbb084e46b273217c37afcc16": {
      "model_module": "@jupyter-widgets/controls",
      "model_module_version": "1.5.0",
      "model_name": "FloatSliderModel",
      "state": {
       "description": "x0",
       "layout": "IPY_MODEL_59d2fff85a1a4349b1f23e24cb5780e1",
       "max": 1,
       "step": 0.05,
       "style": "IPY_MODEL_6d2003cb8b474547ab04f6db6ab73b68",
       "value": 0.3
      }
     },
     "f22cf653444b4bd4b2aba57f66298ed0": {
      "model_module": "@jupyter-widgets/base",
      "model_module_version": "1.2.0",
      "model_name": "LayoutModel",
      "state": {}
     },
     "f2b9135016c748b3945727104136b130": {
      "model_module": "@jupyter-widgets/controls",
      "model_module_version": "1.5.0",
      "model_name": "SliderStyleModel",
      "state": {
       "description_width": ""
      }
     },
     "f43e26ba9a5246689f0df988b02d54e2": {
      "model_module": "@jupyter-widgets/controls",
      "model_module_version": "1.5.0",
      "model_name": "SliderStyleModel",
      "state": {
       "description_width": ""
      }
     },
     "f48a204722cb4f8f8fcab7ae74377450": {
      "model_module": "@jupyter-widgets/controls",
      "model_module_version": "1.5.0",
      "model_name": "IntSliderModel",
      "state": {
       "description": "N",
       "layout": "IPY_MODEL_49307fff76f644f3ae543f61ea41d14b",
       "max": 300,
       "min": 1,
       "style": "IPY_MODEL_b2affa615ab147e09428a8eafd829998",
       "value": 31
      }
     },
     "f70f5db83b394881b94e8e5995eda25a": {
      "model_module": "@jupyter-widgets/controls",
      "model_module_version": "1.5.0",
      "model_name": "SliderStyleModel",
      "state": {
       "description_width": ""
      }
     },
     "fcf1f6ded4a44e3eaf4a74e3862180dc": {
      "model_module": "@jupyter-widgets/controls",
      "model_module_version": "1.5.0",
      "model_name": "SliderStyleModel",
      "state": {
       "description_width": ""
      }
     },
     "fdcdbdf848bd44b1aa420b008ad277f8": {
      "model_module": "@jupyter-widgets/base",
      "model_module_version": "1.2.0",
      "model_name": "LayoutModel",
      "state": {}
     },
     "fe208be11a8e4a02a040d402796f30be": {
      "model_module": "@jupyter-widgets/output",
      "model_module_version": "1.0.0",
      "model_name": "OutputModel",
      "state": {
       "layout": "IPY_MODEL_f07e965580494481a59f18316795da87",
       "outputs": [
        {
         "data": {
          "image/png": "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\n",
          "text/plain": "<Figure size 432x288 with 1 Axes>"
         },
         "metadata": {
          "needs_background": "light"
         },
         "output_type": "display_data"
        }
       ]
      }
     },
     "ff214328c51b49209ced1b893b7cfe0e": {
      "model_module": "@jupyter-widgets/controls",
      "model_module_version": "1.5.0",
      "model_name": "SliderStyleModel",
      "state": {
       "description_width": ""
      }
     },
     "ffcc6ac2528647e1ad214ac57e0fbd53": {
      "model_module": "@jupyter-widgets/base",
      "model_module_version": "1.2.0",
      "model_name": "LayoutModel",
      "state": {}
     }
    },
    "version_major": 2,
    "version_minor": 0
   }
  }
 },
 "nbformat": 4,
 "nbformat_minor": 1
}
