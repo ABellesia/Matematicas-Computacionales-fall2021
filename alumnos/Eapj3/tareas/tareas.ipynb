{
 "cells": [
  {
   "cell_type": "markdown",
   "metadata": {},
   "source": [
    "# Tareas"
   ]
  },
  {
   "cell_type": "markdown",
   "metadata": {},
   "source": [
    "## Profe, yo pasé los archivos de la carpeta 'data' al mismo directorio del ipynb. Uso Windows y no sé si hubiese podido causar problemas el usar \"\\\\\" en lugar de \"\\/\" para separar los directorios. Preferí no correr el riesgo. Igual en lugar de ! cat, uso !powershell cat. PS: No uso Docker porque tengo un disco duro de 128 GB y casi nada de espacio :( "
   ]
  },
  {
   "cell_type": "code",
   "execution_count": 1,
   "metadata": {},
   "outputs": [],
   "source": [
    "from scipy import *\n",
    "from sympy import *\n",
    "from sympy.interactive import printing\n",
    "printing.init_printing(use_latex=True)\n",
    "import matplotlib.pyplot as plt\n",
    "import numpy as np\n",
    "from mpl_toolkits.mplot3d import Axes3D\n",
    "from mpl_toolkits.mplot3d.axes3d import Axes3D\n",
    "from matplotlib import cm\n",
    "from ipywidgets import interact, fixed, widgets"
   ]
  },
  {
   "cell_type": "code",
   "execution_count": 2,
   "metadata": {},
   "outputs": [],
   "source": [
    "f = lambda data:np.sum((data[1]-B0-np.dot(data[0],B1))**2);\n",
    "B0 = Symbol('B0');\n",
    "B1 = Symbol('B1')\n",
    "error_promedio = lambda dat,a,b:f(dat).subs(B0,a).subs(B1,b)*(1/len(dat[1]))"
   ]
  },
  {
   "cell_type": "code",
   "execution_count": 3,
   "metadata": {},
   "outputs": [],
   "source": [
    "#data es un array bidimensional\n",
    "#guess es un array de una dimensión con el punto de partida para iniciar el algoritmo\n",
    "#iteraciones es el número máximo de veces que se ejecuta el algoritmo\n",
    "#En lugar de un parámetro alfa fijo, decidí usar un tamaño del vector en el que me desplazo\n",
    "#Error es el error cuadrático promedio que se desea. El algoritmo se detiene si alcanza el número máximo de iteraciones\n",
    "# o si el error promedio es menor que el indicado. Si el parámetro 'error' es -1, simplemente se llega al máximo de\n",
    "#iteraciones. La función regresa un array de tantas filas como iteraciones y 2 columnas (La primera para B0 y la segunda\n",
    "#para B1).\n",
    "def optimizar(data,guess,iteraciones,stepsize,error):\n",
    "    g1 = diff(f(data),B0)\n",
    "    g2 = diff(f(data),B1)\n",
    "    guesses = np.array([]).astype(\"float\")\n",
    "    its = iteraciones\n",
    "    if error == -1:\n",
    "        while iteraciones != 0:\n",
    "            guess = guess-((stepsize*np.array([g1.subs(B0,guess[0]).subs(B1,guess[1]),g2.subs(B0,guess[0]).subs(B1,guess[1])]).astype(\"float\"))/np.linalg.norm(np.array([g1.subs(B0,guess[0]).subs(B1,guess[1]),g2.subs(B0,guess[0]).subs(B1,guess[1])]).astype(\"float\")))\n",
    "            iteraciones = iteraciones-1\n",
    "            guesses = np.append(guesses,guess)\n",
    "        return guesses.reshape(its,2)\n",
    "    else:\n",
    "        while (iteraciones != 0 and error_promedio(data,guess[0],guess[1])):\n",
    "            guess = guess-chiquitin*np.array([g1.subs(B0,guess[0]).subs(B1,guess[1]),g2.subs(B0,guess[0]).subs(B1,guess[1])])\n",
    "            iteraciones = iteraciones-1\n",
    "            guesses = np.append(guesses,guess)\n",
    "        return guesses.reshape(its,2),its-iteraciones"
   ]
  },
  {
   "cell_type": "markdown",
   "metadata": {},
   "source": [
    "<div class=\"alert alert-warning\">\n",
    "Fecha límite de entrega: 30 de Septiembre, 2021 23:59\n",
    "</div>"
   ]
  },
  {
   "cell_type": "markdown",
   "metadata": {},
   "source": [
    "## Problema 1"
   ]
  },
  {
   "cell_type": "markdown",
   "metadata": {},
   "source": [
    "**(a)** Usando **SimPy** demostrar que \n",
    "\n",
    "$$\n",
    "\\frac{\\partial}{\\partial \\beta_j} \\textbf{J}(\\beta) = \\frac{1}{m}\\sum_{i=1}^{m}\\left(\\hat{y}(x^{(i)}) - y(x^{(i)})\\right) \\cdot x^{(i)}_j\n",
    "$$\n",
    "Para el caso de $\\beta_0, \\beta_1$ en $J(\\beta_0,\\beta_1)$."
   ]
  },
  {
   "cell_type": "code",
   "execution_count": 4,
   "metadata": {},
   "outputs": [],
   "source": [
    "x = Symbol(\"x\");\n",
    "y = Symbol(\"y\");\n",
    "m = Symbol(\"m\");\n",
    "i = Symbol(\"i\")"
   ]
  },
  {
   "cell_type": "code",
   "execution_count": 5,
   "metadata": {},
   "outputs": [],
   "source": [
    "Sumatoria1 = Sum((Indexed(y,i)-B0-B1*Indexed(x,i))**2,(i,1,m))*(1/2*m)"
   ]
  },
  {
   "cell_type": "code",
   "execution_count": 6,
   "metadata": {},
   "outputs": [
    {
     "data": {
      "image/png": "[encoded data removed]",
      "text/latex": [
       "$\\displaystyle 0.5 m \\sum_{i=1}^{m} \\left(- B_{0} - B_{1} {x}_{i} + {y}_{i}\\right)^{2}$"
      ],
      "text/plain": [
       "        m                          \n",
       "       ___                         \n",
       "       ╲                           \n",
       "        ╲                         2\n",
       "0.5⋅m⋅  ╱   (-B₀ - B₁⋅x[i] + y[i]) \n",
       "       ╱                           \n",
       "       ‾‾‾                         \n",
       "      i = 1                        "
      ]
     },
     "execution_count": 6,
     "metadata": {},
     "output_type": "execute_result"
    }
   ],
   "source": [
    "Sumatoria1"
   ]
  },
  {
   "cell_type": "code",
   "execution_count": 7,
   "metadata": {},
   "outputs": [],
   "source": [
    "dB0 = simplify(diff(Sumatoria1,B0));\n",
    "dB1 = simplify(diff(Sumatoria1,B1))"
   ]
  },
  {
   "cell_type": "markdown",
   "metadata": {},
   "source": [
    "Primera entrada del gradiente"
   ]
  },
  {
   "cell_type": "code",
   "execution_count": 8,
   "metadata": {},
   "outputs": [
    {
     "data": {
      "image/png": "[encoded data removed]",
      "text/latex": [
       "$\\displaystyle 1.0 m \\sum_{i=1}^{m} \\left(B_{0} + B_{1} {x}_{i} - {y}_{i}\\right)$"
      ],
      "text/plain": [
       "        m                        \n",
       "       ___                       \n",
       "       ╲                         \n",
       "        ╲                        \n",
       "1.0⋅m⋅  ╱   (B₀ + B₁⋅x[i] - y[i])\n",
       "       ╱                         \n",
       "       ‾‾‾                       \n",
       "      i = 1                      "
      ]
     },
     "execution_count": 8,
     "metadata": {},
     "output_type": "execute_result"
    }
   ],
   "source": [
    "dB0"
   ]
  },
  {
   "cell_type": "markdown",
   "metadata": {},
   "source": [
    "Segunda entrada del gradiente"
   ]
  },
  {
   "cell_type": "code",
   "execution_count": 9,
   "metadata": {},
   "outputs": [
    {
     "data": {
      "image/png": "[encoded data removed]",
      "text/latex": [
       "$\\displaystyle 1.0 m \\sum_{i=1}^{m} \\left(B_{0} + B_{1} {x}_{i} - {y}_{i}\\right) {x}_{i}$"
      ],
      "text/plain": [
       "        m                             \n",
       "       ___                            \n",
       "       ╲                              \n",
       "        ╲                             \n",
       "1.0⋅m⋅  ╱   (B₀ + B₁⋅x[i] - y[i])⋅x[i]\n",
       "       ╱                              \n",
       "       ‾‾‾                            \n",
       "      i = 1                           "
      ]
     },
     "execution_count": 9,
     "metadata": {},
     "output_type": "execute_result"
    }
   ],
   "source": [
    "dB1"
   ]
  },
  {
   "cell_type": "markdown",
   "metadata": {},
   "source": [
    "Como \\\\(B_{0}+B_{1}x_{i} = \\vec{y}(x_{i})\\\\) y \\\\(x_{i}^{(1)} = x_{i}\\\\) y asumimos que \\\\(x_{i}^{(0)} = 1\\\\), entonces \\\\(\\sum_{i=1}^{m}(x_i^{(0)},x_{i}^{(1)}) \\cdot (B_{0}+B_{1}x_{i}-y_{i},B_{0}+B_{1}x_{i}-y_{i}) = \\sum_{i=1}^{m}(\\vec{y}(x_{i})-y(x_{i})) \\cdot x_{i}^{(j)} = (\\sum_{i=1}^{m}(\\vec{y}(x_{i})-y(x_{i})),\\sum_{i=1}^{m}(\\vec{y}(x_{i})-y(x_{i}))x_{i})\\\\). Esto coincide con las entradas del gradiente mostradas arriba."
   ]
  },
  {
   "cell_type": "code",
   "execution_count": null,
   "metadata": {},
   "outputs": [],
   "source": []
  },
  {
   "cell_type": "markdown",
   "metadata": {},
   "source": [
    "## Problema 2"
   ]
  },
  {
   "cell_type": "markdown",
   "metadata": {},
   "source": [
    "Usando el ejemplo de la clase ( i.e. Los archivos `edad.dat` y `altura.dat` contienen las mediciones de las estaturas (en metros) de varios niños entre las edad de 2 y 8 años. Cada _tupla_ de altura y edad, constituyen un ejemplo de entrenamiento $(x^{(i)}, y^{(i)})$ de nuestros datos. Hay $m = 50$ datos para entrenar que usaremos para realizar un modelo de regresión lineal. ) :"
   ]
  },
  {
   "cell_type": "markdown",
   "metadata": {},
   "source": [
    "**(a)** Grafique $\\textbf{J}(\\beta)$ del ejercicio en $3D$ y en una gráfica de contorno. \n",
    "\n",
    "**(b)** Indique con un punto el valor de $\\textbf{J}(\\beta)$ en la última iteración.\n",
    "\n",
    "**(c)** Modifique el _widget_ para mostrar conforme pasan las iteraciones como el valor de $\\textbf{J}(\\beta)$ se acerca al mínimo en la gráfica de contorno.\n",
    "\n",
    "**(d)** Agrega al _widget_ un control para modificar $\\alpha$ (habrá que agregar el entrenamiento del modelo a la función que estás realizando para este _widget_)"
   ]
  },
  {
   "cell_type": "code",
   "execution_count": 10,
   "metadata": {},
   "outputs": [],
   "source": [
    "datos = np.array([np.loadtxt(\"edad.dat\"),np.loadtxt(\"altura.dat\")])"
   ]
  },
  {
   "cell_type": "code",
   "execution_count": 11,
   "metadata": {},
   "outputs": [],
   "source": [
    "#g es la función original y g_v es la versión 'vectorizada'\n",
    "#f = lambda data:np.sum((data[1]-B0-np.dot(data[0],B1))**2);\n",
    "g = lambda X,Y:f(datos).subs(B0,X).subs(B1,Y)/(2*len(datos[0]))\n",
    "g_v = np.vectorize(g)"
   ]
  },
  {
   "cell_type": "code",
   "execution_count": 12,
   "metadata": {},
   "outputs": [],
   "source": [
    "X = np.arange(-1,1,0.2)\n",
    "Y = np.arange(-1,1,0.2)\n",
    "X, Y = np.meshgrid(X, Y)\n",
    "Z = g_v(X,Y)"
   ]
  },
  {
   "cell_type": "code",
   "execution_count": 13,
   "metadata": {},
   "outputs": [],
   "source": [
    "#Obtengo las aproximaciones\n",
    "aproximaciones = optimizar(datos,np.array([-1,0]),1001,0.005,-1);\n",
    "Xg = aproximaciones[:,0];\n",
    "Yg = aproximaciones[:,1];\n",
    "Zg = g_v(Xg,Yg)"
   ]
  },
  {
   "cell_type": "code",
   "execution_count": 14,
   "metadata": {},
   "outputs": [
    {
     "name": "stdout",
     "output_type": "stream",
     "text": [
      "[0.74809986 0.06679747]\n",
      "error cuadrático promedio: 0.00215020254672440\n"
     ]
    }
   ],
   "source": [
    "#Mejor aproximación\n",
    "print(aproximaciones[-1])\n",
    "print(\"error cuadrático promedio: \" + str(g(Xg[-1],Yg[-1])*2))"
   ]
  },
  {
   "cell_type": "code",
   "execution_count": 15,
   "metadata": {},
   "outputs": [],
   "source": [
    "def graficar3d(A,B,C,Ag,Bg,Cg,i):\n",
    "    fig = plt.figure()\n",
    "    ax = fig.add_subplot(1,1,1, projection='3d')\n",
    "    surf = ax.plot_surface(A,B,C.astype(\"float\"),rstride=1,cstride=1,cmap=cm.jet,linewidth=0, antialiased=False,alpha=0.3)\n",
    "    ax.scatter(Ag[i],Bg[i],Cg[i],alpha=1,s=50,color=\"black\")\n",
    "    plt.show()"
   ]
  },
  {
   "cell_type": "code",
   "execution_count": 16,
   "metadata": {},
   "outputs": [],
   "source": [
    "def contour_plot(A,B,C,Ag,Bg,Cg,levels,i):\n",
    "    fig = plt.figure()\n",
    "    plt.contour(X,Y,Z.astype(\"float\"),levels ,linewidths=4);\n",
    "    plt.scatter(Ag[i],Bg[i],alpha=1,s=50,color=\"black\")\n",
    "    plt.text(0.2,0.2,\"x = \" + str(Ag[i])[:10] + \", \" + \"y = \" + str(Bg[i])[:10],\n",
    "             horizontalalignment='center',\n",
    "             verticalalignment='center',\n",
    "             \n",
    "             color=\"black\",\n",
    "            fontsize=\"14\")\n",
    "    plt.show()"
   ]
  },
  {
   "cell_type": "code",
   "execution_count": 17,
   "metadata": {},
   "outputs": [
    {
     "data": {
      "application/vnd.jupyter.widget-view+json": {
       "model_id": "d3430bcadb23463da73af68ac4c91a65",
       "version_major": 2,
       "version_minor": 0
      },
      "text/plain": [
       "interactive(children=(IntSlider(value=50, description='i', max=1000, step=20), Output()), _dom_classes=('widge…"
      ]
     },
     "metadata": {},
     "output_type": "display_data"
    },
    {
     "data": {
      "text/plain": [
       "<function __main__.graficar3d(A, B, C, Ag, Bg, Cg, i)>"
      ]
     },
     "execution_count": 17,
     "metadata": {},
     "output_type": "execute_result"
    }
   ],
   "source": [
    "interact(graficar3d,\n",
    "         A=fixed(X),\n",
    "         B=fixed(Y),\n",
    "         C=fixed(Z),\n",
    "         Ag=fixed(Xg),\n",
    "         Bg=fixed(Yg),\n",
    "         Cg=fixed(Zg),\n",
    "         i=widgets.IntSlider(min=0,max=1000,step=20,value=50))"
   ]
  },
  {
   "cell_type": "code",
   "execution_count": 18,
   "metadata": {},
   "outputs": [],
   "source": [
    "levels1 = np.arange(0,20,0.5)"
   ]
  },
  {
   "cell_type": "code",
   "execution_count": 19,
   "metadata": {},
   "outputs": [
    {
     "data": {
      "application/vnd.jupyter.widget-view+json": {
       "model_id": "4900da29623147388fdf12b571ad39c0",
       "version_major": 2,
       "version_minor": 0
      },
      "text/plain": [
       "interactive(children=(IntSlider(value=50, description='i', max=1000, step=20), Output()), _dom_classes=('widge…"
      ]
     },
     "metadata": {},
     "output_type": "display_data"
    },
    {
     "data": {
      "text/plain": [
       "<function __main__.contour_plot(A, B, C, Ag, Bg, Cg, levels, i)>"
      ]
     },
     "execution_count": 19,
     "metadata": {},
     "output_type": "execute_result"
    }
   ],
   "source": [
    "interact(contour_plot,\n",
    "         A=fixed(X),\n",
    "         B=fixed(Y),\n",
    "         C=fixed(Z),\n",
    "         Ag=fixed(Xg),\n",
    "         Bg=fixed(Yg),\n",
    "         Cg=fixed(Zg),\n",
    "         levels=fixed(levels1),\n",
    "         i=widgets.IntSlider(min=0,max=1000,step=20,value=50))"
   ]
  },
  {
   "cell_type": "markdown",
   "metadata": {},
   "source": [
    "## Regresión resultante\n",
    "B0 = 0.676926541982094 y B1 = 0.0772055441991087"
   ]
  },
  {
   "cell_type": "code",
   "execution_count": 20,
   "metadata": {},
   "outputs": [
    {
     "data": {
      "image/png": "[encoded data removed]",
      "text/plain": [
       "<Figure size 432x288 with 1 Axes>"
      ]
     },
     "metadata": {
      "needs_background": "light"
     },
     "output_type": "display_data"
    }
   ],
   "source": [
    "plt.plot(datos[0],Xg[-1]+datos[0]*Yg[-1],color=\"magenta\")\n",
    "plt.scatter(datos[0],datos[1],alpha=0.5)\n",
    "plt.show()"
   ]
  },
  {
   "cell_type": "markdown",
   "metadata": {},
   "source": [
    "## Problema 3"
   ]
  },
  {
   "cell_type": "markdown",
   "metadata": {},
   "source": [
    "**(a)**  Usando los datos de `chirps.txt`"
   ]
  },
  {
   "cell_type": "code",
   "execution_count": 23,
   "metadata": {},
   "outputs": [
    {
     "name": "stdout",
     "output_type": "stream",
     "text": [
      "#Chirps/Second \tTemperature (¶§ F)\n",
      "20.0 \t88.6\n",
      "16.0 \t71.6\n",
      "19.8 \t93.3\n",
      "18.4 \t84.3\n",
      "17.1 \t80.6\n",
      "15.5 \t75.2\n",
      "14.7 \t69.7\n",
      "15.7 \t71.6\n",
      "15.4 \t69.4\n",
      "16.3 \t83.3\n",
      "15.0 \t79.6\n",
      "17.2 \t82.6\n",
      "16.0 \t80.6\n",
      "17.0 \t83.5\n",
      "14.4 \t76.3\n"
     ]
    }
   ],
   "source": [
    "!powershell cat chirps.txt"
   ]
  },
  {
   "cell_type": "code",
   "execution_count": 24,
   "metadata": {},
   "outputs": [],
   "source": [
    "chirps = np.loadtxt(\"chirps.txt\",skiprows=1,delimiter=\" \\t\").transpose()"
   ]
  },
  {
   "cell_type": "code",
   "execution_count": 25,
   "metadata": {},
   "outputs": [],
   "source": [
    "opchirps = optimizar(chirps,np.array([25,7]),2001,0.01,-1)"
   ]
  },
  {
   "cell_type": "code",
   "execution_count": 26,
   "metadata": {},
   "outputs": [
    {
     "data": {
      "text/plain": [
       "array([24.51976302,  3.31402161])"
      ]
     },
     "execution_count": 26,
     "metadata": {},
     "output_type": "execute_result"
    }
   ],
   "source": [
    "opchirps[-1]"
   ]
  },
  {
   "cell_type": "code",
   "execution_count": 27,
   "metadata": {},
   "outputs": [
    {
     "data": {
      "image/png": "[encoded data removed]",
      "text/plain": [
       "<Figure size 432x288 with 1 Axes>"
      ]
     },
     "metadata": {
      "needs_background": "light"
     },
     "output_type": "display_data"
    }
   ],
   "source": [
    "plt.scatter(chirps[0],chirps[1],alpha=0.5)\n",
    "plt.plot(chirps[0],opchirps[-1][0]+opchirps[-1][1]*chirps[0],color=\"magenta\")\n",
    "plt.show()"
   ]
  },
  {
   "cell_type": "markdown",
   "metadata": {},
   "source": [
    "Entrenar una regresión lineal. Grafique los datos y el mejor modelo. Explique como llegó a los valores de $\\alpha$. ¿Coinciden con los mostrados en la página web?"
   ]
  },
  {
   "cell_type": "code",
   "execution_count": 28,
   "metadata": {},
   "outputs": [],
   "source": [
    "#En mi caso, en lugar de un valor concreto de alfa, decidí calcular el vector unitario del gradiente y multiplicarlo por un\n",
    "#\"stepsize\". Para este ejercicio usé un stepsize de 0.005 y 2001 iteraciones para llegar a los valores que usé para la \n",
    "#regresión. Los datos no coinciden con los de la página, pero el error promedio es muy similar."
   ]
  },
  {
   "cell_type": "code",
   "execution_count": 29,
   "metadata": {},
   "outputs": [
    {
     "name": "stdout",
     "output_type": "stream",
     "text": [
      "14.1548206000000\n"
     ]
    }
   ],
   "source": [
    "print(error_promedio(chirps,22.85,3.41))"
   ]
  },
  {
   "cell_type": "code",
   "execution_count": 30,
   "metadata": {},
   "outputs": [
    {
     "name": "stdout",
     "output_type": "stream",
     "text": [
      "14.1858789910263\n"
     ]
    }
   ],
   "source": [
    "print(error_promedio(chirps, opchirps[-1][0], opchirps[-1][1]))"
   ]
  },
  {
   "cell_type": "markdown",
   "metadata": {},
   "source": [
    "\n",
    "**NOTA**: Datos obtenidos de [aquí](http://mathbits.com/MathBits/TISection/Statistics2/linearREAL.htm)\n"
   ]
  },
  {
   "cell_type": "markdown",
   "metadata": {},
   "source": [
    "## Problema 4"
   ]
  },
  {
   "cell_type": "markdown",
   "metadata": {},
   "source": [
    "**(a)** Usando los datos del [cuarteto de Anscombe](http://en.wikipedia.org/wiki/Anscombe%27s_quartet) Calcule la regresión lineal ¿Qué sucede?"
   ]
  },
  {
   "cell_type": "code",
   "execution_count": 31,
   "metadata": {},
   "outputs": [],
   "source": [
    "anscombe1 = np.array([[10,8,13,9,11,14,6,4,12,7,5],[8.04,6.95,7.58,8.81,8.33,9.96,7.24,4.26,10.84,4.82,5.68]])\n",
    "anscombe2 = np.array([[10,8,13,9,11,14,6,4,12,7,5],[9.14,8.14,8.74,8.77,9.26,8.1,6.13,3.1,9.13,7.26,4.74]])\n",
    "anscombe3 = np.array([[10,8,13,9,11,14,6,4,12,7,5],[7.46,6.77,12.74,7.11,7.81,8.84,6.08,5.39,8.15,6.42,5.73]])\n",
    "anscombe4 = np.array([[8,8,8,8,8,8,8,19,8,8,8],[6.58,5.76,7.71,8.84,8.47,7.04,5.25,12.5,5.56,7.91,6.89]])"
   ]
  },
  {
   "cell_type": "code",
   "execution_count": 32,
   "metadata": {},
   "outputs": [],
   "source": [
    "opanscombe1 = optimizar(anscombe1,np.array([5,0.8]),2001,0.01,-1)[-1]\n",
    "opanscombe2 = optimizar(anscombe2,np.array([5,0.8]),2001,0.01,-1)[-1]\n",
    "opanscombe3 = optimizar(anscombe3,np.array([5,0.8]),2001,0.01,-1)[-1]\n",
    "opanscombe4 = optimizar(anscombe4,np.array([5,0.8]),2001,0.01,-1)[-1]"
   ]
  },
  {
   "cell_type": "code",
   "execution_count": 33,
   "metadata": {},
   "outputs": [
    {
     "name": "stdout",
     "output_type": "stream",
     "text": [
      "[3.01955044 0.50318844] [3.02036066 0.50309832] [3.02189091 0.50282709] [3.02117087 0.5030082 ]\n"
     ]
    }
   ],
   "source": [
    "print(opanscombe1,opanscombe2,opanscombe3,opanscombe4)\n"
   ]
  },
  {
   "cell_type": "code",
   "execution_count": 34,
   "metadata": {},
   "outputs": [
    {
     "data": {
      "image/png": "[encoded data removed]",
      "text/plain": [
       "<Figure size 432x288 with 1 Axes>"
      ]
     },
     "metadata": {
      "needs_background": "light"
     },
     "output_type": "display_data"
    }
   ],
   "source": [
    "Xa = np.linspace(4,18,14)\n",
    "plt.scatter(anscombe1[0],anscombe1[1],c=\"blue\",alpha=0.5)\n",
    "plt.scatter(anscombe2[0],anscombe2[1],c=\"red\",alpha=0.5)\n",
    "plt.scatter(anscombe3[0],anscombe3[1],c=\"yellow\",alpha=0.5)\n",
    "plt.scatter(anscombe4[0],anscombe4[1],c=\"green\",alpha=0.5)\n",
    "plt.plot(Xa,opanscombe1[0]+opanscombe1[1]*Xa,c=\"magenta\",zorder=4)\n",
    "plt.show()"
   ]
  },
  {
   "cell_type": "markdown",
   "metadata": {},
   "source": [
    "Al calcular la regresión lineal para los datos del Cuarteto de Anscombe los parámetros para la recta terminan siendo casi idénticos. Es la misma regresión la que ajusta a todos los sets de datos del cuarteto."
   ]
  },
  {
   "cell_type": "markdown",
   "metadata": {},
   "source": [
    "## Problema 5"
   ]
  },
  {
   "cell_type": "markdown",
   "metadata": {},
   "source": [
    "Use el archivo `radioactive_decay.dat`"
   ]
  },
  {
   "cell_type": "code",
   "execution_count": 37,
   "metadata": {},
   "outputs": [
    {
     "name": "stdout",
     "output_type": "stream",
     "text": [
      "#time   N_(remaining)\n",
      "0.0\t10.48\n",
      "1.0\t7.54\n",
      "2.0\t5.49\n",
      "3.0\t4.02\n",
      "4.0\t2.74\n",
      "5.0\t2.02\n",
      "6.0\t1.50\n",
      "7.0\t1.09\n",
      "8.0\t0.68\n",
      "9.0\t0.57\n",
      "10.0\t0.37\n",
      "11.0\t0.31\n",
      "12.0\t0.19\n",
      "13.0\t0.15\n",
      "14.0\t0.13\n",
      "15.0\t0.11\n"
     ]
    }
   ],
   "source": [
    "!powershell cat radioactive_decay.txt"
   ]
  },
  {
   "cell_type": "code",
   "execution_count": 38,
   "metadata": {},
   "outputs": [],
   "source": [
    "rdecay = np.loadtxt(\"radioactive_decay.txt\",skiprows=1,delimiter=\"\\t\").transpose()"
   ]
  },
  {
   "cell_type": "markdown",
   "metadata": {},
   "source": [
    "**(a)** Grafique los datos ¿Qué forma tienen?"
   ]
  },
  {
   "cell_type": "code",
   "execution_count": 39,
   "metadata": {},
   "outputs": [
    {
     "data": {
      "image/png": "[encoded data removed]",
      "text/plain": [
       "<Figure size 432x288 with 1 Axes>"
      ]
     },
     "metadata": {
      "needs_background": "light"
     },
     "output_type": "display_data"
    }
   ],
   "source": [
    "plt.plot(rdecay[0],rdecay[1])\n",
    "plt.show()"
   ]
  },
  {
   "cell_type": "markdown",
   "metadata": {},
   "source": [
    "Tiene forma de exponencial"
   ]
  },
  {
   "cell_type": "markdown",
   "metadata": {},
   "source": [
    "**(b)** ¿Qué transformación se le ocurre para linearizarlos? Explique y grafique de nuevo. Guarde los datos transformados en un archivo llamado `transform_radioactive_decay.txt`"
   ]
  },
  {
   "cell_type": "code",
   "execution_count": 40,
   "metadata": {},
   "outputs": [
    {
     "data": {
      "image/png": "[encoded data removed]",
      "text/plain": [
       "<Figure size 432x288 with 1 Axes>"
      ]
     },
     "metadata": {
      "needs_background": "light"
     },
     "output_type": "display_data"
    }
   ],
   "source": [
    "#Grafico los datos después de aplicarles logaritmo natural para linearizarlos\n",
    "plt.scatter(rdecay[0],np.log(rdecay[1]))\n",
    "plt.show()"
   ]
  },
  {
   "cell_type": "code",
   "execution_count": 41,
   "metadata": {},
   "outputs": [],
   "source": [
    "np.save(\"rdecay_l.npy\",np.array([rdecay[0],np.log(rdecay[1])]))"
   ]
  },
  {
   "cell_type": "markdown",
   "metadata": {},
   "source": [
    "**(c)** Aplique la regresión lineal a este conjunto de datos transformado, leyendo los datos del archivo recién creado."
   ]
  },
  {
   "cell_type": "code",
   "execution_count": 42,
   "metadata": {},
   "outputs": [],
   "source": [
    "#Cargo el array con los datos\n",
    "linearizados = np.load(\"rdecay_l.npy\")"
   ]
  },
  {
   "cell_type": "code",
   "execution_count": 43,
   "metadata": {},
   "outputs": [],
   "source": [
    "regrdecay = optimizar(linearizados,np.array([2,-0.5]),2001,0.01,-1)[-1]"
   ]
  },
  {
   "cell_type": "markdown",
   "metadata": {},
   "source": [
    "**(d)** ¿Cuáles son los valores de $\\beta$ que mejor ajustan? ¿Cuáles son el espacio sin transformar? Explique."
   ]
  },
  {
   "cell_type": "code",
   "execution_count": 44,
   "metadata": {},
   "outputs": [
    {
     "name": "stdout",
     "output_type": "stream",
     "text": [
      "Los valores que mejor ajustan son B0 = 2.296132357760529y B1 = -0.32161512950354904\n"
     ]
    }
   ],
   "source": [
    "print(\"Los valores que mejor ajustan son B0 = \" + str(regrdecay[0]) + \"y B1 = \" + str(regrdecay[1]))"
   ]
  },
  {
   "cell_type": "code",
   "execution_count": 45,
   "metadata": {},
   "outputs": [
    {
     "data": {
      "image/png": "[encoded data removed]",
      "text/plain": [
       "<Figure size 432x288 with 1 Axes>"
      ]
     },
     "metadata": {
      "needs_background": "light"
     },
     "output_type": "display_data"
    }
   ],
   "source": [
    "plt.scatter(linearizados[0],linearizados[1],color=\"green\",alpha=0.7)\n",
    "plt.plot(np.linspace(0,15,15),regrdecay[0]+np.linspace(0,15,15)*regrdecay[1],linewidth=3, color=\"magenta\")\n",
    "plt.show()"
   ]
  },
  {
   "cell_type": "code",
   "execution_count": 46,
   "metadata": {},
   "outputs": [],
   "source": [
    "#Los datos sin transformar serían representados por la curva dada por Exp[B0+B1*x], pues antes a los datos les apliqué \n",
    "#logaritmo natural para linearizarlos"
   ]
  },
  {
   "cell_type": "code",
   "execution_count": 47,
   "metadata": {},
   "outputs": [],
   "source": [
    "rdec = lambda B0,B1,x: np.exp(B0+B1*x)"
   ]
  },
  {
   "cell_type": "code",
   "execution_count": 48,
   "metadata": {},
   "outputs": [
    {
     "data": {
      "image/png": "[encoded data removed]",
      "text/plain": [
       "<Figure size 432x288 with 1 Axes>"
      ]
     },
     "metadata": {
      "needs_background": "light"
     },
     "output_type": "display_data"
    }
   ],
   "source": [
    "plt.plot(np.linspace(0,15,30),rdec(regrdecay[0],regrdecay[1],np.linspace(0,15,30)),linewidth=3,color=\"magenta\")\n",
    "plt.scatter(rdecay[0],rdecay[1],color=\"green\",alpha=0.7)\n",
    "plt.show()"
   ]
  },
  {
   "cell_type": "markdown",
   "metadata": {},
   "source": [
    "En la gráfica se comparan los datos originales con la gráfica de \\\\(e^{B_{0}+B_{1}x}\\\\). Conviene más transformar los datos antes de calcular la regresión para poder obtener una curva que se aproxime mejor a los datos."
   ]
  },
  {
   "cell_type": "code",
   "execution_count": null,
   "metadata": {},
   "outputs": [],
   "source": []
  }
 ],
 "metadata": {
  "kernelspec": {
   "display_name": "Python 3 (ipykernel)",
   "language": "python",
   "name": "python3"
  },
  "language_info": {
   "codemirror_mode": {
    "name": "ipython",
    "version": 3
   },
   "file_extension": ".py",
   "mimetype": "text/x-python",
   "name": "python",
   "nbconvert_exporter": "python",
   "pygments_lexer": "ipython3",
   "version": "3.9.2"
  }
 },
 "nbformat": 4,
 "nbformat_minor": 1
}
