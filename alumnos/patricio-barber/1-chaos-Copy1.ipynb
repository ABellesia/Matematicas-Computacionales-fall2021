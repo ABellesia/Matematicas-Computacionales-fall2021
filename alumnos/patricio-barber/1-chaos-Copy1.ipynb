{
 "cells": [
  {
   "cell_type": "markdown",
   "metadata": {},
   "source": [
    "<div class=\"alert alert-warning\">\n",
    "    \n",
    "Lectura recomendada: [Best Practices for Scientific Computing](http://arxiv.org/pdf/1210.0530v3.pdf)\n",
    "</div>"
   ]
  },
  {
   "cell_type": "markdown",
   "metadata": {},
   "source": [
    "# Caos: Primera parte"
   ]
  },
  {
   "cell_type": "markdown",
   "metadata": {},
   "source": [
    "## Introducción"
   ]
  },
  {
   "cell_type": "markdown",
   "metadata": {},
   "source": [
    "- Edward Lorenz la definió como:\n",
    "\n",
    "    **Caos** Cuando el presente determina el futuro, pero el presente aproximado no determina aproximadamente el futuro."
   ]
  },
  {
   "cell_type": "markdown",
   "metadata": {},
   "source": [
    "- La **teoría del caos** estudia el comportamiento de los sistemas dinámicos que son muy sensibles a las condiciones iniciales (El famoso _efecto mariposa_ según [Jurassic Park](http://en.wikipedia.org/wiki/Jurassic_Park_%28film%29)). \n",
    "        - Aunque no es lo único, ve más adelante.\n",
    "        \n",
    "- Este hecho hace que la predicción  a largo plazo sea imposible.\n",
    "\n",
    "- Entonces la afirmación **determinismo** $\\to$ **predictibilidad** es falsa.\n",
    "\n"
   ]
  },
  {
   "cell_type": "markdown",
   "metadata": {},
   "source": [
    "Chaos was the law of nature; Order was the dream of man\n",
    "-- Henry Adams"
   ]
  },
  {
   "cell_type": "markdown",
   "metadata": {},
   "source": [
    "- Para saber **muchísimo más** recomiendo: [Chaos Book](http://chaosbook.org/)"
   ]
  },
  {
   "cell_type": "markdown",
   "metadata": {},
   "source": [
    "Durante siglos en física se estuvo trabajando con sistemas como el [oscilador armónico](http://en.wikipedia.org/wiki/Harmonic_oscillator) y el problema de dos cuerpos con fuerza central (también conocido como [_problema de Kepler_](http://en.wikipedia.org/wiki/Kepler_problem)) los cuales se consideraban como paradigmáticos para resolver problemas. La explosión del caos en el siglo XX nos señalaba que esos problemas y métodos no eran la norma, si no al contrario: eran casos especiales."
   ]
  },
  {
   "cell_type": "markdown",
   "metadata": {},
   "source": [
    "A lo largo del curso (sobre todo en la última parte) podría quedar el sabor de boca de que las herramientas analíticas son un fraude y que hemos sido engañados durante toda nuestra educación y que el único camino son las simulaciones y la estadística."
   ]
  },
  {
   "cell_type": "markdown",
   "metadata": {},
   "source": [
    "Pero eso no es cierto: Existen teorías que tienen el mismo poder predictivo, y el estudio del caso general sigue abriendo el camino para la comprehensión científica del mundo."
   ]
  },
  {
   "cell_type": "markdown",
   "metadata": {},
   "source": [
    "Lo que si es cierto, es que, partiendo de la definición de que un **sistema determinístico** es aquel que su estado futuro esta _completamente_ determinado por sus condiciones actuales (en contraste con un sistema estocástico en el cual el futuro está determinado sólo parcialmente) ya no implica **predictibilidad**."
   ]
  },
  {
   "cell_type": "markdown",
   "metadata": {},
   "source": [
    "## Sensitividad a condiciones iniciales"
   ]
  },
  {
   "cell_type": "markdown",
   "metadata": {},
   "source": [
    "Una de las características que puede indicar **caos** es la sensibiliad a condiciones iniciales, la cual se puede expresar matemáticamente como:"
   ]
  },
  {
   "cell_type": "markdown",
   "metadata": {},
   "source": [
    "$$\n",
    "|\\delta\\mathbf{x}(t)| = e^{\\lambda t}|\\delta\\mathbf{x}(0)|\n",
    "$$"
   ]
  },
  {
   "cell_type": "markdown",
   "metadata": {},
   "source": [
    "a $\\lambda$ se le conoce como _exponente de Lyapunov_. Si este exponente positivo indica que con el paso del tiempo la diferencia $\\delta$ crece exponencialmente."
   ]
  },
  {
   "cell_type": "markdown",
   "metadata": {},
   "source": [
    "<div class=\"alert alert-danger\">\n",
    "    \n",
    "**NOTA** La sensibilidad es una idea muy importante pero no determina completamente si el sistema es caotico o no, para ello se necesita otra característica: _mezcla topológica_ (topological mixing), la cual verémos más adelante, pero se puede entender como que las trayectorias del sistema, luego de diverger se vueven a aproximar un número infinito de veces.\n",
    "</div>"
   ]
  },
  {
   "cell_type": "markdown",
   "metadata": {},
   "source": [
    "### Mapeos"
   ]
  },
  {
   "cell_type": "markdown",
   "metadata": {},
   "source": [
    "A los sistemas dinámicos discretos, en una dimensión se les conoce como **mapas**, ya que son funciones\n",
    "\n",
    "$$\n",
    "f: \\mathrm{R} \\to \\mathrm{R}\n",
    "$$\n",
    "\n",
    "y los cuales producen la _secuencia_ de puntos:\n",
    "\n",
    "$$\n",
    "\\{x, f(x), f^2(x), f^3(x), \\ldots\\}\n",
    "$$\n",
    "\n",
    "la cual se conoce como _órbita_ de $x$ bajo $f$."
   ]
  },
  {
   "cell_type": "markdown",
   "metadata": {},
   "source": [
    "Los sistemas dinámicos discretos, se pueden pensar como ecuaciones de diferencias de primer orden\n",
    "\n",
    "$$\n",
    "y = x_{n+1} = f(x_n)\n",
    "$$\n",
    "\n",
    "y regularmente \n",
    "\n",
    "$$\n",
    "y=f(x) = f(x, a)\n",
    "$$\n",
    "\n",
    "existe un parámetro $a$ que puede influir muchísimo en el comportamiento del sistema."
   ]
  },
  {
   "cell_type": "markdown",
   "metadata": {},
   "source": [
    "### Comportamientos"
   ]
  },
  {
   "cell_type": "markdown",
   "metadata": {},
   "source": [
    "Pueden pasar lo siguiente:\n",
    "\n",
    "- Si $f(x) = x$ hemos alcanzado un _punto fijo_.\n",
    "\n",
    "- Si $f^n(x) = x$, pero $f^k(x) \\neq x$ para $k \\leq n$, se dice que la órbita tiene _periodo_ de orden $n$."
   ]
  },
  {
   "cell_type": "markdown",
   "metadata": {},
   "source": [
    "### Mapeo logístico"
   ]
  },
  {
   "cell_type": "markdown",
   "metadata": {},
   "source": [
    "$$\n",
    "x_{n+1} = rx_n(1 -x_n)\n",
    "$$"
   ]
  },
  {
   "cell_type": "markdown",
   "metadata": {},
   "source": [
    "Donde, para fines de esta clase, $r$ esta contenido en \n",
    "\n",
    "$$\n",
    "0 \\leq r \\leq 4\n",
    "$$\n",
    "\n",
    "la razón de esto, es que el cuadro unitario mapea al cuadro unitario, i.e.\n",
    "\n",
    "$$ \n",
    "0 \\leq x \\leq 1 \\to 0 \\leq f(x) \\leq 1\n",
    "$$"
   ]
  },
  {
   "cell_type": "markdown",
   "metadata": {},
   "source": [
    "<div class=\"alert alert-info\">\n",
    "    \n",
    "**Ejercicio** ¿Por qué?\n",
    "</div>"
   ]
  },
  {
   "cell_type": "markdown",
   "metadata": {},
   "source": [
    "Como 0<= r <= 4 y como 0<=x<=1 -> 0<= 1-x<=1 \n",
    "Luego 0<= rx(1-x)=<4 y por transitividad 0<= f(x) <= 1"
   ]
  },
  {
   "cell_type": "markdown",
   "metadata": {},
   "source": [
    "<div class=\"alert alert-info\">\n",
    "    \n",
    "**Ejercicio**  Define la función `logistic_map` que recibe como parámetros $x$ y $r$ regresa $rx(1−x)$. \n",
    "</div>"
   ]
  },
  {
   "cell_type": "code",
   "execution_count": 26,
   "metadata": {},
   "outputs": [],
   "source": [
    " # Ejercicio\n",
    "def logistic_map(x,r):\n",
    "    function=r*x*(1-x)\n",
    "    return function"
   ]
  },
  {
   "cell_type": "markdown",
   "metadata": {},
   "source": [
    "Los _puntos fijos_ del mapeo logístico son:"
   ]
  },
  {
   "cell_type": "markdown",
   "metadata": {},
   "source": [
    "$$\n",
    "x = f(x)\n",
    "$$\n",
    "\n",
    "$$\n",
    "x = rx(1-x)\n",
    "$$\n",
    "\n",
    "$$\n",
    "1 = r(1-x)\n",
    "$$\n",
    "\n",
    "$$\n",
    "x = 1 - \\frac{1}{r}\n",
    "$$"
   ]
  },
  {
   "cell_type": "markdown",
   "metadata": {},
   "source": [
    "El punto fijo se dice _estable_ si $|f(x) - x_0| < |x - x_0|$ e _inestable_ si la desigualdad se invierte."
   ]
  },
  {
   "cell_type": "markdown",
   "metadata": {},
   "source": [
    "<div class=\"alert alert-info\">\n",
    "    \n",
    "**Ejercicio** Calcule el punto fijo para $r = 2$ usando SymPy\n",
    "</div>"
   ]
  },
  {
   "cell_type": "code",
   "execution_count": 27,
   "metadata": {},
   "outputs": [],
   "source": [
    "import sympy as sym\n",
    "from sympy import *"
   ]
  },
  {
   "cell_type": "code",
   "execution_count": 28,
   "metadata": {},
   "outputs": [],
   "source": [
    "x= sym.Symbol('x')\n",
    "r=sym.Symbol('r')\n",
    "f=sym.Function('f')"
   ]
  },
  {
   "cell_type": "code",
   "execution_count": 29,
   "metadata": {},
   "outputs": [
    {
     "data": {
      "text/latex": [
       "$\\displaystyle x = f{\\left(x \\right)}$"
      ],
      "text/plain": [
       "Eq(x, f(x))"
      ]
     },
     "execution_count": 29,
     "metadata": {},
     "output_type": "execute_result"
    }
   ],
   "source": [
    "Eq(x,f(x))"
   ]
  },
  {
   "cell_type": "code",
   "execution_count": 30,
   "metadata": {},
   "outputs": [
    {
     "data": {
      "text/plain": [
       "[0, 1/2]"
      ]
     },
     "execution_count": 30,
     "metadata": {},
     "output_type": "execute_result"
    }
   ],
   "source": [
    "solve(Eq(x, 2*x*(1-x)))"
   ]
  },
  {
   "cell_type": "markdown",
   "metadata": {},
   "source": [
    "<div class=\"alert alert-warning\">\n",
    "\n",
    "**Teorema:**\n",
    "\n",
    "Sea $f(x_0) = x_0.$, entonces, \n",
    "\n",
    "<ul>\n",
    "<li>Si $f'(x)$ es contínua y $|f'(x_0)| < 1$ entonces $x_0$ es estable.</li>\n",
    "\n",
    "\n",
    "<li>Si $f'(x)$ es contínua y $|f'(x_0)| > 1$ entonces $x_0$ es inestable.</li>\n",
    "</ul>\n",
    "</div>"
   ]
  },
  {
   "cell_type": "markdown",
   "metadata": {},
   "source": [
    "<div class=\"alert alert-info\">\n",
    "    \n",
    "**Ejercicio** ¿Cuáles son las condiciones de estabilidad para el parámetro $r$? Los valores de $r$ para cuales cambia de estable a inestable y viceversa, se llaman _puntos de bifurcación_.\n",
    "</div>"
   ]
  },
  {
   "cell_type": "code",
   "execution_count": 31,
   "metadata": {},
   "outputs": [],
   "source": [
    "d=diff(logistic_map(x,r), x)"
   ]
  },
  {
   "cell_type": "code",
   "execution_count": 32,
   "metadata": {},
   "outputs": [
    {
     "data": {
      "text/latex": [
       "$\\displaystyle \\left|{r \\left(1 - \\frac{1}{r}\\right) - 1}\\right|$"
      ],
      "text/plain": [
       "Abs(r*(1 - 1/r) - 1)"
      ]
     },
     "execution_count": 32,
     "metadata": {},
     "output_type": "execute_result"
    }
   ],
   "source": [
    "d=abs(d)\n",
    "d=d.replace(x,1-1/r)\n",
    "d"
   ]
  },
  {
   "cell_type": "code",
   "execution_count": 33,
   "metadata": {},
   "outputs": [
    {
     "data": {
      "text/latex": [
       "$\\displaystyle 1 < r \\wedge r < 3$"
      ],
      "text/plain": [
       "(1 < r) & (r < 3)"
      ]
     },
     "execution_count": 33,
     "metadata": {},
     "output_type": "execute_result"
    }
   ],
   "source": [
    "solve(d<1)"
   ]
  },
  {
   "cell_type": "markdown",
   "metadata": {},
   "source": [
    "<div class=\"alert alert-info\">\n",
    "    \n",
    "**Ejercicio** Define una función `iterar` que reciba una función `g`, un punto inicial `x0`, un entero `N` y el parámetro `r` regrese $g(g( \\ldots(g(x_0, r),r) \\ldots)$. En otras palabras que itere `g`, `N` veces a partir del punto `x0`.\n",
    "</div>"
   ]
  },
  {
   "cell_type": "code",
   "execution_count": 42,
   "metadata": {},
   "outputs": [],
   "source": [
    "def iterar(g, x0, N, r):\n",
    "    if N==0:\n",
    "        return x0\n",
    "    if N>1:\n",
    "        return g(iterar(g,x0,N-1,r),r)\n",
    "    else:\n",
    "        return g(x0,r)"
   ]
  },
  {
   "cell_type": "markdown",
   "metadata": {},
   "source": [
    "<div class=\"alert alert-info\">\n",
    "    \n",
    "**Ejercicio** Define una función `iterarLista` que reciba una función `g`, un punto inicial `x0`, un entero `N` y el parámetro $r$ regrese la lista $[x_0, g(x), g(g(x)), \\ldots g(g(\\ldots(g(x))\\ldots))]$ En otras palabras que itere `g`, `N-1` veces a partir del punto `x0` y devuelva la órbita completa empezando desde `x0`.\n",
    "</div>"
   ]
  },
  {
   "cell_type": "code",
   "execution_count": 43,
   "metadata": {},
   "outputs": [],
   "source": [
    "def iterarLista(g, x0, N, mu):\n",
    "    return [iterar(g,x0, j, mu) for j in range (N)]"
   ]
  },
  {
   "cell_type": "markdown",
   "metadata": {},
   "source": [
    "<div class=\"alert alert-info\">\n",
    "    \n",
    "**Ejercicio** Usa las funciones recién definidas para calcular iteraciones para $r = \\{ 0.8, 1.2, 2.8, 3.2\\}$,\n",
    "</div>"
   ]
  },
  {
   "cell_type": "code",
   "execution_count": 46,
   "metadata": {},
   "outputs": [
    {
     "data": {
      "text/plain": [
       "[0.5,\n",
       " 0.2,\n",
       " 0.12800000000000003,\n",
       " 0.08929280000000003,\n",
       " 0.06505567669452801,\n",
       " 0.048658748499476046,\n",
       " 0.03703285975515263,\n",
       " 0.02852914164280626,\n",
       " 0.02217218377594477,\n",
       " 0.017344462434040402,\n",
       " 0.013634905645531652,\n",
       " 0.010759195994855282,\n",
       " 0.008514748557119659,\n",
       " 0.00675379809130295,\n",
       " 0.00536654744211589,\n",
       " 0.004270198088533929,\n",
       " 0.003401570797454888,\n",
       " 0.0027120000908518326,\n",
       " 0.002163716117087242,\n",
       " 0.001727227559721519,\n",
       " 0.0013793953957427659,\n",
       " 0.0011019941312679757,\n",
       " 0.0008806237921621013,\n",
       " 0.0007038786351190235,\n",
       " 0.0005627065519888372,\n",
       " 0.0004499119306601488,\n",
       " 0.0003597676079318388,\n",
       " 0.0002877105401600974,\n",
       " 0.00023010221024414258,\n",
       " 0.0001840394105735867,\n",
       " 0.00014720443205515398,\n",
       " 0.00011774621032826985,\n",
       " 9.418587692657855e-05,\n",
       " 7.53416047577329e-05,\n",
       " 6.026874272026035e-05,\n",
       " 4.821208831912901e-05,\n",
       " 3.8567811130935136e-05,\n",
       " 3.0853058923903765e-05,\n",
       " 2.4681685610127044e-05,\n",
       " 1.9744861139617994e-05,\n",
       " 1.5795577024061257e-05,\n",
       " 1.2636262019046189e-05,\n",
       " 1.01088818751427e-05,\n",
       " 8.087023748519948e-06,\n",
       " 6.469566678853471e-06,\n",
       " 5.175619858848368e-06,\n",
       " 4.140474457445956e-06,\n",
       " 3.3123658511337784e-06,\n",
       " 2.6498839034929973e-06,\n",
       " 2.1199015052866365e-06,\n",
       " 1.6959176090433954e-06,\n",
       " 1.356731786325487e-06,\n",
       " 1.0853839564834776e-06,\n",
       " 8.683062227401156e-07,\n",
       " 6.946443750275354e-07,\n",
       " 5.55715113997382e-07,\n",
       " 4.445718441424753e-07,\n",
       " 3.5565731719868064e-07,\n",
       " 2.845257525652427e-07,\n",
       " 2.2762053728827108e-07,\n",
       " 1.820963883817297e-07,\n",
       " 1.4567708417810803e-07,\n",
       " 1.1654165036503614e-07,\n",
       " 9.32333094264639e-08,\n",
       " 7.458664058721115e-08,\n",
       " 5.966930801923535e-08,\n",
       " 4.773544356704722e-08,\n",
       " 3.818835303069972e-08,\n",
       " 3.055068125787953e-08,\n",
       " 2.4440544259628327e-08,\n",
       " 1.9552434929830502e-08,\n",
       " 1.5641947638026232e-08,\n",
       " 1.2513557914684567e-08,\n",
       " 1.0010846206476348e-08,\n",
       " 8.008676885007446e-09,\n",
       " 6.406941456694833e-09,\n",
       " 5.1255531325167475e-09,\n",
       " 4.100442484996362e-09,\n",
       " 3.2803539745461874e-09,\n",
       " 2.6242831710283723e-09,\n",
       " 2.099426531313208e-09,\n",
       " 1.679541221524493e-09,\n",
       " 1.3436329749629077e-09,\n",
       " 1.0749063785260466e-09,\n",
       " 8.599251018964983e-10,\n",
       " 6.879400809256218e-10,\n",
       " 5.503520643618882e-10,\n",
       " 4.4028165124720066e-10,\n",
       " 3.5222532084268215e-10,\n",
       " 2.817802565748956e-10,\n",
       " 2.254242051963964e-10,\n",
       " 1.8033936411646428e-10,\n",
       " 1.4427149126715362e-10,\n",
       " 1.154171929970715e-10,\n",
       " 9.23337543870003e-11,\n",
       " 7.386700350277982e-11,\n",
       " 5.909360279785879e-11,\n",
       " 4.727488223549339e-11,\n",
       " 3.7819905786606785e-11,\n",
       " 3.0255924628141157e-11]"
      ]
     },
     "execution_count": 46,
     "metadata": {},
     "output_type": "execute_result"
    }
   ],
   "source": [
    "iterarLista(logistic_map, 1/2, 100, 0.8)"
   ]
  },
  {
   "cell_type": "code",
   "execution_count": 49,
   "metadata": {},
   "outputs": [
    {
     "data": {
      "text/plain": [
       "[0.5,\n",
       " 0.3,\n",
       " 0.252,\n",
       " 0.2261952,\n",
       " 0.21003711779635198,\n",
       " 0.19910583233298398,\n",
       " 0.1913552398367684,\n",
       " 0.18568609442853748,\n",
       " 0.18144812251729647,\n",
       " 0.17822964162269356,\n",
       " 0.1757566037636877,\n",
       " 0.17383946399657013,\n",
       " 0.1723431657047464,\n",
       " 0.17116919872753528,\n",
       " 0.1702443649614106,\n",
       " 0.16951346539235596,\n",
       " 0.1689343805316366,\n",
       " 0.16847466672723455,\n",
       " 0.16810914407805816,\n",
       " 0.16781815170648098,\n",
       " 0.16758626359716183,\n",
       " 0.1674013294208453,\n",
       " 0.1672537491947747,\n",
       " 0.1671359190900793,\n",
       " 0.1670418043679925,\n",
       " 0.16696660795377338,\n",
       " 0.16690651173862117,\n",
       " 0.16685847369344003,\n",
       " 0.16682006814016276,\n",
       " 0.16678935960704905,\n",
       " 0.1667648029547034,\n",
       " 0.1667451641402188,\n",
       " 0.16672945725128435,\n",
       " 0.1667168944031718,\n",
       " 0.16670684582848014,\n",
       " 0.16669880805887938,\n",
       " 0.16669237854075392,\n",
       " 0.1666872353726159,\n",
       " 0.16668312112374006,\n",
       " 0.16667982990742639,\n",
       " 0.16667719705134937,\n",
       " 0.16667509084134602,\n",
       " 0.16667340592125007,\n",
       " 0.16667205801583235,\n",
       " 0.16667097971111924,\n",
       " 0.1666701170799059,\n",
       " 0.16666942698297163,\n",
       " 0.16666887491056742,\n",
       " 0.16666843325593567,\n",
       " 0.16666807993433688,\n",
       " 0.16666779727840605,\n",
       " 0.1666675711545242,\n",
       " 0.16666739025597097,\n",
       " 0.1666672455374818,\n",
       " 0.16666712976291667,\n",
       " 0.1666670371434093,\n",
       " 0.16666696304789605,\n",
       " 0.16666690377154475,\n",
       " 0.16666685635050169,\n",
       " 0.1666668184136915,\n",
       " 0.1666667880642589,\n",
       " 0.16666676378472275,\n",
       " 0.1666667443611002,\n",
       " 0.16666672882220626,\n",
       " 0.1666667163910937,\n",
       " 0.16666670644620532,\n",
       " 0.1666666984902957,\n",
       " 0.16666669212556867,\n",
       " 0.1666666870337875,\n",
       " 0.16666668296036286,\n",
       " 0.1666666797016233,\n",
       " 0.16666667709463176,\n",
       " 0.16666667500903862,\n",
       " 0.16666667334056412,\n",
       " 0.16666667200578456,\n",
       " 0.16666667093796095,\n",
       " 0.16666667008370206,\n",
       " 0.16666666940029495,\n",
       " 0.1666666688535693,\n",
       " 0.16666666841618874,\n",
       " 0.16666666806628433,\n",
       " 0.1666666677863608,\n",
       " 0.16666666756242196,\n",
       " 0.16666666738327088,\n",
       " 0.16666666723995005,\n",
       " 0.16666666712529338,\n",
       " 0.16666666703356803,\n",
       " 0.16666666696018775,\n",
       " 0.16666666690148352,\n",
       " 0.16666666685452014,\n",
       " 0.16666666681694944,\n",
       " 0.1666666667868929,\n",
       " 0.16666666676284764,\n",
       " 0.16666666674361144,\n",
       " 0.1666666667282225,\n",
       " 0.16666666671591135,\n",
       " 0.1666666667060624,\n",
       " 0.16666666669818325,\n",
       " 0.1666666666918799,\n",
       " 0.16666666668683727]"
      ]
     },
     "execution_count": 49,
     "metadata": {},
     "output_type": "execute_result"
    }
   ],
   "source": [
    "iterarLista(logistic_map, 1/2, 100, 1.2)"
   ]
  },
  {
   "cell_type": "code",
   "execution_count": 50,
   "metadata": {},
   "outputs": [
    {
     "data": {
      "text/plain": [
       "[0.5,\n",
       " 0.7,\n",
       " 0.588,\n",
       " 0.6783168,\n",
       " 0.6109687327457278,\n",
       " 0.6655206329878602,\n",
       " 0.6232881761548346,\n",
       " 0.6574400717371606,\n",
       " 0.6305953466719136,\n",
       " 0.6522455951973996,\n",
       " 0.6350995804803706,\n",
       " 0.6488946893912779,\n",
       " 0.6379250401190096,\n",
       " 0.6467347132628748,\n",
       " 0.6397129869862533,\n",
       " 0.6453447875486611,\n",
       " 0.6408496996508167,\n",
       " 0.6444518139031691,\n",
       " 0.6415742856882357,\n",
       " 0.6438788205692243,\n",
       " 0.6420368779765051,\n",
       " 0.6435114708251246,\n",
       " 0.6423324816765063,\n",
       " 0.6432761010474596,\n",
       " 0.6425214848321867,\n",
       " 0.6431253538114405,\n",
       " 0.6426423726697799,\n",
       " 0.6430288298535798,\n",
       " 0.642719710726004,\n",
       " 0.6429670356768,\n",
       " 0.642769194787408,\n",
       " 0.6429274796553144,\n",
       " 0.6428008595662631,\n",
       " 0.6429021606199818,\n",
       " 0.6428211229723945,\n",
       " 0.6428859551321316,\n",
       " 0.6428340907127397,\n",
       " 0.6428755830847416,\n",
       " 0.6428423897229463,\n",
       " 0.6428689447550662,\n",
       " 0.6428477009488067,\n",
       " 0.6428646961341927,\n",
       " 0.6428511000757573,\n",
       " 0.6428619769800087,\n",
       " 0.6428532754934176,\n",
       " 0.6428602367062448,\n",
       " 0.6428546677510599,\n",
       " 0.6428591229248559,\n",
       " 0.6428555587919944,\n",
       " 0.6428584101022357,\n",
       " 0.6428561290565721,\n",
       " 0.6428579538947216,\n",
       " 0.642856494025238,\n",
       " 0.642857661921488,\n",
       " 0.6428567276049123,\n",
       " 0.6428574750584445,\n",
       " 0.6428568770957925,\n",
       " 0.6428573554660253,\n",
       " 0.6428569727699103,\n",
       " 0.6428572789268479,\n",
       " 0.642857034001327,\n",
       " 0.6428572299417623,\n",
       " 0.642857073189426,\n",
       " 0.6428571985913027,\n",
       " 0.6428570982698062,\n",
       " 0.6428571785270065,\n",
       " 0.6428571143212483,\n",
       " 0.6428571656858562,\n",
       " 0.6428571245941707,\n",
       " 0.6428571574675197,\n",
       " 0.6428571311688408,\n",
       " 0.642857152207784,\n",
       " 0.6428571353766296,\n",
       " 0.6428571488415532,\n",
       " 0.6428571380696144,\n",
       " 0.6428571466871655,\n",
       " 0.6428571397931246,\n",
       " 0.6428571453083574,\n",
       " 0.6428571408961712,\n",
       " 0.6428571444259201,\n",
       " 0.6428571416021209,\n",
       " 0.6428571438611603,\n",
       " 0.6428571420539289,\n",
       " 0.642857143499714,\n",
       " 0.6428571423430859,\n",
       " 0.6428571432683884,\n",
       " 0.6428571425281464,\n",
       " 0.6428571431203399,\n",
       " 0.6428571426465851,\n",
       " 0.6428571430255889,\n",
       " 0.6428571427223859,\n",
       " 0.6428571429649483,\n",
       " 0.6428571427708984,\n",
       " 0.6428571429261383,\n",
       " 0.6428571428019465,\n",
       " 0.6428571429012999,\n",
       " 0.6428571428218172,\n",
       " 0.6428571428854033,\n",
       " 0.6428571428345344,\n",
       " 0.6428571428752295]"
      ]
     },
     "execution_count": 50,
     "metadata": {},
     "output_type": "execute_result"
    }
   ],
   "source": [
    "iterarLista(logistic_map, 1/2, 100, 2.8)"
   ]
  },
  {
   "cell_type": "code",
   "execution_count": 51,
   "metadata": {},
   "outputs": [
    {
     "data": {
      "text/plain": [
       "[0.5,\n",
       " 0.8,\n",
       " 0.512,\n",
       " 0.7995392,\n",
       " 0.512884056522752,\n",
       " 0.7994688034800593,\n",
       " 0.5130189943751092,\n",
       " 0.7994576185134749,\n",
       " 0.5130404310855622,\n",
       " 0.7994558309027286,\n",
       " 0.5130438570827405,\n",
       " 0.7994555449356961,\n",
       " 0.5130444051432489,\n",
       " 0.7994554991822682,\n",
       " 0.5130444928303954,\n",
       " 0.7994554918617529,\n",
       " 0.5130445068602741,\n",
       " 0.7994554906904713,\n",
       " 0.5130445091050531,\n",
       " 0.7994554905030663,\n",
       " 0.5130445094642175,\n",
       " 0.7994554904730814,\n",
       " 0.5130445095216841,\n",
       " 0.7994554904682839,\n",
       " 0.5130445095308785,\n",
       " 0.7994554904675163,\n",
       " 0.5130445095323497,\n",
       " 0.7994554904673934,\n",
       " 0.5130445095325852,\n",
       " 0.7994554904673739,\n",
       " 0.5130445095326227,\n",
       " 0.7994554904673707,\n",
       " 0.5130445095326286,\n",
       " 0.7994554904673701,\n",
       " 0.5130445095326298,\n",
       " 0.7994554904673701,\n",
       " 0.5130445095326298,\n",
       " 0.7994554904673701,\n",
       " 0.5130445095326298,\n",
       " 0.7994554904673701,\n",
       " 0.5130445095326298,\n",
       " 0.7994554904673701,\n",
       " 0.5130445095326298,\n",
       " 0.7994554904673701,\n",
       " 0.5130445095326298,\n",
       " 0.7994554904673701,\n",
       " 0.5130445095326298,\n",
       " 0.7994554904673701,\n",
       " 0.5130445095326298,\n",
       " 0.7994554904673701,\n",
       " 0.5130445095326298,\n",
       " 0.7994554904673701,\n",
       " 0.5130445095326298,\n",
       " 0.7994554904673701,\n",
       " 0.5130445095326298,\n",
       " 0.7994554904673701,\n",
       " 0.5130445095326298,\n",
       " 0.7994554904673701,\n",
       " 0.5130445095326298,\n",
       " 0.7994554904673701,\n",
       " 0.5130445095326298,\n",
       " 0.7994554904673701,\n",
       " 0.5130445095326298,\n",
       " 0.7994554904673701,\n",
       " 0.5130445095326298,\n",
       " 0.7994554904673701,\n",
       " 0.5130445095326298,\n",
       " 0.7994554904673701,\n",
       " 0.5130445095326298,\n",
       " 0.7994554904673701,\n",
       " 0.5130445095326298,\n",
       " 0.7994554904673701,\n",
       " 0.5130445095326298,\n",
       " 0.7994554904673701,\n",
       " 0.5130445095326298,\n",
       " 0.7994554904673701,\n",
       " 0.5130445095326298,\n",
       " 0.7994554904673701,\n",
       " 0.5130445095326298,\n",
       " 0.7994554904673701,\n",
       " 0.5130445095326298,\n",
       " 0.7994554904673701,\n",
       " 0.5130445095326298,\n",
       " 0.7994554904673701,\n",
       " 0.5130445095326298,\n",
       " 0.7994554904673701,\n",
       " 0.5130445095326298,\n",
       " 0.7994554904673701,\n",
       " 0.5130445095326298,\n",
       " 0.7994554904673701,\n",
       " 0.5130445095326298,\n",
       " 0.7994554904673701,\n",
       " 0.5130445095326298,\n",
       " 0.7994554904673701,\n",
       " 0.5130445095326298,\n",
       " 0.7994554904673701,\n",
       " 0.5130445095326298,\n",
       " 0.7994554904673701,\n",
       " 0.5130445095326298,\n",
       " 0.7994554904673701]"
      ]
     },
     "execution_count": 51,
     "metadata": {},
     "output_type": "execute_result"
    }
   ],
   "source": [
    "iterarLista(logistic_map, 1/2, 100, 3.2)"
   ]
  },
  {
   "cell_type": "markdown",
   "metadata": {},
   "source": [
    "<div class=\"alert alert-info\">\n",
    "    \n",
    "**Ejercicio** Programa un control para cambiar $r$ entre $0$ y $4$ (con un slider) y otro para definid $x_0$. Grafica `logistic_map` respecto al número de iteraciones $N$. ¿Qué observas? ¿Puedes ver algún _periodo_?¿Está cerca de los puntos fijos?\n",
    "</div>"
   ]
  },
  {
   "cell_type": "code",
   "execution_count": 56,
   "metadata": {},
   "outputs": [],
   "source": [
    "from ipywidgets import interact, fixed, widgets\n",
    "import matplotlib.pyplot as plt"
   ]
  },
  {
   "cell_type": "code",
   "execution_count": 60,
   "metadata": {},
   "outputs": [
    {
     "data": {
      "application/vnd.jupyter.widget-view+json": {
       "model_id": "980fa5511c97459aaa7bb2ad9dc17274",
       "version_major": 2,
       "version_minor": 0
      },
      "text/plain": [
       "interactive(children=(FloatSlider(value=0.5, description='x0', max=1.0), FloatSlider(value=3.0, description='m…"
      ]
     },
     "metadata": {},
     "output_type": "display_data"
    }
   ],
   "source": [
    "fig, ax = plt.subplots(figsize=(10, 5))\n",
    "\n",
    "x= [i for i in range(1,101)]\n",
    "@widgets.interact(x0=(0,1,0.1),mu=(0,4,0.20))\n",
    "def update(x0=0.5, mu=3):\n",
    "    [l.remove() for l in ax.lines]\n",
    "    plt.plot(x, iterarLista(g=logistic_map, x0=x0, N=100, mu=mu))\n",
    "    plt.show()\n"
   ]
  },
  {
   "cell_type": "markdown",
   "metadata": {},
   "source": [
    "<div class=\"alert alert-info\">\n",
    "    \n",
    "**Ejercicio** ¿Qué sucede para (a) $x_0 = 0.35$ en $r = 2.8$ y (b) para $x_0 = 0.35$ en $r=3.1$. ¿Porqué escogí estos valores?\n",
    "</div>"
   ]
  },
  {
   "cell_type": "code",
   "execution_count": 63,
   "metadata": {},
   "outputs": [],
   "source": [
    "#a)\n",
    "a=iterarLista(logistic_map,0.35,100,2.8)"
   ]
  },
  {
   "cell_type": "code",
   "execution_count": 64,
   "metadata": {},
   "outputs": [],
   "source": [
    "#b)\n",
    "b=iterarLista(logistic_map,0.35,100,3.1)"
   ]
  },
  {
   "cell_type": "code",
   "execution_count": 72,
   "metadata": {},
   "outputs": [
    {
     "data": {
      "text/plain": [
       "[<matplotlib.lines.Line2D at 0x407ae53e20>]"
      ]
     },
     "execution_count": 72,
     "metadata": {},
     "output_type": "execute_result"
    },
    {
     "data": {
      "image/png": "[encoded data removed]",
      "text/plain": [
       "<Figure size 432x288 with 1 Axes>"
      ]
     },
     "metadata": {
      "needs_background": "light"
     },
     "output_type": "display_data"
    }
   ],
   "source": [
    "plt.plot([i for i in range(1,101)],a)\n",
    "plt.plot([i for i in range(1,101)],b)"
   ]
  },
  {
   "cell_type": "markdown",
   "metadata": {},
   "source": [
    "Se eligieron estos valores porque es un ejemplo de caos, pues aunque los valores de r son muy cercanos y se parten de \n",
    "puntos iniciales iguales, las graficas son totalmente distintas\n"
   ]
  },
  {
   "cell_type": "markdown",
   "metadata": {},
   "source": [
    "## Diagrama de CobWeb"
   ]
  },
  {
   "cell_type": "markdown",
   "metadata": {},
   "source": [
    "<div class=\"alert alert-info\">\n",
    "    \n",
    "**Ejercicio** Dibuja en una gráfica `logistic_map`, como ejes usa $N_{n+1}$ y $N_n$, además agrega la línea $y = x$ en la misma gráfica. ¿Qué observas para los distintos valores de $r$? Grafícala junto a la gráfica anterior.\n",
    "</div>"
   ]
  },
  {
   "cell_type": "code",
   "execution_count": 73,
   "metadata": {},
   "outputs": [],
   "source": [
    "%matplotlib inline\n",
    "from ipywidgets import interactive\n",
    "import matplotlib.pyplot as plt\n",
    "import numpy as np"
   ]
  },
  {
   "cell_type": "code",
   "execution_count": 74,
   "metadata": {},
   "outputs": [
    {
     "data": {
      "application/vnd.jupyter.widget-view+json": {
       "model_id": "49265b31017c450e9206416bbb5d7c0e",
       "version_major": 2,
       "version_minor": 0
      },
      "text/plain": [
       "interactive(children=(FloatSlider(value=2.0, description='r', max=4.0), Output(layout=Layout(height='350px')))…"
      ]
     },
     "metadata": {},
     "output_type": "display_data"
    }
   ],
   "source": [
    "#definamos una función para plotear\n",
    "def logis_plot(r):\n",
    "    plt.figure(2)\n",
    "    x=np.linspace(0,1,num=1000)\n",
    "    plt.plot(x,r*x*(1-x))\n",
    "    plt.plot(x,x)\n",
    "    plt.show()\n",
    "\n",
    "interactive_plot = interactive(logis_plot, r=(0,4.0))\n",
    "output = interactive_plot.children[-1]\n",
    "output.layout.height = '350px'\n",
    "interactive_plot"
   ]
  },
  {
   "cell_type": "markdown",
   "metadata": {},
   "source": [
    "<div class=\"alert alert-info\">\n",
    "    \n",
    "**Ejercicio** Agrega los segmentos de línea $(x_0, x_0), (x_0. f(x_0)), (f(x_0), f(x_0)), (f(x_0), f(f(x_0))), \\ldots$\n",
    "</div>"
   ]
  },
  {
   "cell_type": "markdown",
   "metadata": {},
   "source": [
    " ª "
   ]
  },
  {
   "cell_type": "markdown",
   "metadata": {},
   "source": [
    "## Diagrama de Bifurcación"
   ]
  },
  {
   "cell_type": "markdown",
   "metadata": {},
   "source": [
    "<div class=\"alert alert-info\">\n",
    "    \n",
    "**Ejercicio** ¿Qué hace el siguiente código? Modificalo para que use nuestras funciones.\n",
    "</div>"
   ]
  },
  {
   "cell_type": "code",
   "execution_count": 41,
   "metadata": {},
   "outputs": [],
   "source": [
    "import math\n",
    "from PIL import Image\n",
    "imgx = 1000\n",
    "imgy = 500\n",
    "image = Image.new(\"RGB\", (imgx, imgy))\n",
    "\n",
    "xa = 1\n",
    "xb = 4\n",
    "maxit = 5000\n",
    "\n",
    "for i in range(imgx):\n",
    "    r = xa + (xb - xa) * float(i) / (imgx - 1)\n",
    "    x = 0.5\n",
    "    for j in range(maxit):\n",
    "        x = r * x * (1 - x)\n",
    "        if j > maxit / 2:\n",
    "            image.putpixel((i, int(x * imgy)), (255, 255, 255))\n",
    "\n",
    "image.save(\"bifurcacion.png\", \"PNG\")"
   ]
  },
  {
   "cell_type": "markdown",
   "metadata": {},
   "source": [
    "<img src=\"./bifurcacion.png\"/>"
   ]
  },
  {
   "cell_type": "markdown",
   "metadata": {},
   "source": [
    "### Pasos para producir el diagrama de bifurcación"
   ]
  },
  {
   "cell_type": "markdown",
   "metadata": {},
   "source": [
    "1. Escoje un valor inicial para `r`\n",
    "2. Escoje un valor al azar para `x` en `[0,1]`\n",
    "3. Calcula la órbita de `x` bajo el `g` (en el caso anterior el mapeo logístico)\n",
    "4. Ignora las primeras `n` iteraciones y dibuja el valor de `x` para la iteración `n+1`\n",
    "5. Incrementa `r` y repite hasta `r` final."
   ]
  },
  {
   "cell_type": "markdown",
   "metadata": {},
   "source": [
    "<div class=\"alert alert-info\">\n",
    "**Ejercicio** Repite todo lo anterior para el mapeo\n",
    "\n",
    "$$\n",
    "f(x,\\mu) = 1 - \\mu x^2\n",
    "$$\n",
    "\n",
    "¿Qué diferencia observas? ¿Cuáles son sus puntos fijos? ¿Cuáles son los valores interesantes?\n",
    "</div>"
   ]
  },
  {
   "cell_type": "code",
   "execution_count": 80,
   "metadata": {},
   "outputs": [],
   "source": [
    "import sympy"
   ]
  },
  {
   "cell_type": "code",
   "execution_count": 85,
   "metadata": {},
   "outputs": [],
   "source": [
    "miu = symbols('mu')\n",
    "x = symbols('x')"
   ]
  },
  {
   "cell_type": "code",
   "execution_count": 86,
   "metadata": {},
   "outputs": [
    {
     "data": {
      "text/plain": [
       "[(sqrt(4*mu + 1) - 1)/(2*mu), -(sqrt(4*mu + 1) + 1)/(2*mu)]"
      ]
     },
     "execution_count": 86,
     "metadata": {},
     "output_type": "execute_result"
    }
   ],
   "source": [
    "solve(Eq(x,1-miu*x**2),x)"
   ]
  },
  {
   "cell_type": "code",
   "execution_count": 87,
   "metadata": {},
   "outputs": [
    {
     "data": {
      "text/latex": [
       "$\\displaystyle 2 \\left|{\\frac{\\sqrt{4 \\mu + 1}}{2} - \\frac{1}{2}}\\right|$"
      ],
      "text/plain": [
       "2*Abs(sqrt(4*mu + 1)/2 - 1/2)"
      ]
     },
     "execution_count": 87,
     "metadata": {},
     "output_type": "execute_result"
    }
   ],
   "source": [
    "abs(diff(1-miu*x**2,x)).replace(x, (sympy.sqrt(4*miu+1)-1)/(2*miu))"
   ]
  },
  {
   "cell_type": "code",
   "execution_count": 88,
   "metadata": {},
   "outputs": [
    {
     "data": {
      "text/latex": [
       "$\\displaystyle - \\frac{1}{4} < \\mu \\wedge \\mu < \\frac{3}{4}$"
      ],
      "text/plain": [
       "(-1/4 < mu) & (mu < 3/4)"
      ]
     },
     "execution_count": 88,
     "metadata": {},
     "output_type": "execute_result"
    }
   ],
   "source": [
    "#los intervalos de estabilidad para miu son:\n",
    "solve(abs(diff(1-miu*x**2,x)).replace(x, (sympy.sqrt(4*miu+1)-1)/(2*miu)) <1)"
   ]
  },
  {
   "cell_type": "markdown",
   "metadata": {},
   "source": [
    "Diagraba CobWeb"
   ]
  },
  {
   "cell_type": "code",
   "execution_count": 89,
   "metadata": {},
   "outputs": [
    {
     "data": {
      "application/vnd.jupyter.widget-view+json": {
       "model_id": "3362c65f49554919bc7491f82a27137b",
       "version_major": 2,
       "version_minor": 0
      },
      "text/plain": [
       "interactive(children=(FloatSlider(value=0.0, description='u', max=4.0, min=-4.0), Output(layout=Layout(height=…"
      ]
     },
     "metadata": {},
     "output_type": "display_data"
    }
   ],
   "source": [
    "def nueva_plot(u):\n",
    "    plt.figure(4)\n",
    "    x=np.linspace(-1,1,num=1000)\n",
    "    plt.plot(x,1-u*x**2)\n",
    "    plt.plot(x,x+1)\n",
    "    plt.show()\n",
    "\n",
    "interactive_plot = interactive(nueva_plot, u=(-4,4.0))\n",
    "output = interactive_plot.children[-1]\n",
    "output.layout.height = '350px'\n",
    "interactive_plot"
   ]
  },
  {
   "cell_type": "markdown",
   "metadata": {},
   "source": [
    "Y el diagrama de Bifurcación:"
   ]
  },
  {
   "cell_type": "code",
   "execution_count": 92,
   "metadata": {},
   "outputs": [],
   "source": [
    "#definamos de nuevo la función (no simbólico)\n",
    "def nueva(x,w):\n",
    "    return 1-w*x**2"
   ]
  },
  {
   "cell_type": "code",
   "execution_count": 93,
   "metadata": {},
   "outputs": [
    {
     "data": {
      "image/png": "[encoded data removed]",
      "text/plain": [
       "<Figure size 432x288 with 1 Axes>"
      ]
     },
     "metadata": {
      "needs_background": "light"
     },
     "output_type": "display_data"
    }
   ],
   "source": [
    "w_random= np.linspace(-4,4,1000)\n",
    "x = 1e-5 * np.ones(1000)\n",
    "for i in range(1000):\n",
    "    x = nueva(x,w_random)\n",
    "    if i >= (900):\n",
    "        plt.plot(u_rand, x)"
   ]
  },
  {
   "cell_type": "code",
   "execution_count": null,
   "metadata": {},
   "outputs": [],
   "source": []
  }
 ],
 "metadata": {
  "kernelspec": {
   "display_name": "Python 3 (ipykernel)",
   "language": "python",
   "name": "python3"
  },
  "language_info": {
   "codemirror_mode": {
    "name": "ipython",
    "version": 3
   },
   "file_extension": ".py",
   "mimetype": "text/x-python",
   "name": "python",
   "nbconvert_exporter": "python",
   "pygments_lexer": "ipython3",
   "version": "3.9.6"
  }
 },
 "nbformat": 4,
 "nbformat_minor": 1
}
