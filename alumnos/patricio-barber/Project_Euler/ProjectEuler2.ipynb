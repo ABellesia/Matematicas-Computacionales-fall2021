{
 "cells": [
  {
   "cell_type": "markdown",
   "id": "04881d08",
   "metadata": {},
   "source": [
    "# Números Fibonacci pares"
   ]
  },
  {
   "cell_type": "markdown",
   "id": "7e069ada",
   "metadata": {},
   "source": [
    "Considerando la sucesión de Fibonacci que sus valores no exceden 4 millones, encontrar la suma de los resultados pares de dicha sucesión. "
   ]
  },
  {
   "cell_type": "code",
   "execution_count": 1,
   "id": "d5f568bc",
   "metadata": {},
   "outputs": [],
   "source": [
    "#creamos una función que nos devuelva la sucesión de Fibonacci en una lista\n",
    "#la función toma como parámetro el valor que queremos que la secuencia no supere\n",
    "\n",
    "def Fibonacci(n):\n",
    "    #iniciamos la secuencia con los valores 1 y 2\n",
    "    k1=1\n",
    "    k2=2\n",
    "    F=[k1,k2]\n",
    "    kesimo=0\n",
    "    while kesimo<=n:\n",
    "        kesimo= k1+k2\n",
    "        F.append(kesimo)\n",
    "        k1=k2\n",
    "        k2=kesimo\n",
    "    return F"
   ]
  },
  {
   "cell_type": "code",
   "execution_count": 2,
   "id": "e485fd4e",
   "metadata": {},
   "outputs": [
    {
     "data": {
      "text/plain": [
       "4613732"
      ]
     },
     "execution_count": 2,
     "metadata": {},
     "output_type": "execute_result"
    }
   ],
   "source": [
    "#encontrando la solución al problema:\n",
    "sum([i for i in Fibonacci(4000000) if i%2==0])"
   ]
  },
  {
   "cell_type": "code",
   "execution_count": null,
   "id": "b8bf4b03",
   "metadata": {},
   "outputs": [],
   "source": []
  }
 ],
 "metadata": {
  "kernelspec": {
   "display_name": "Python 3 (ipykernel)",
   "language": "python",
   "name": "python3"
  },
  "language_info": {
   "codemirror_mode": {
    "name": "ipython",
    "version": 3
   },
   "file_extension": ".py",
   "mimetype": "text/x-python",
   "name": "python",
   "nbconvert_exporter": "python",
   "pygments_lexer": "ipython3",
   "version": "3.9.6"
  }
 },
 "nbformat": 4,
 "nbformat_minor": 5
}
