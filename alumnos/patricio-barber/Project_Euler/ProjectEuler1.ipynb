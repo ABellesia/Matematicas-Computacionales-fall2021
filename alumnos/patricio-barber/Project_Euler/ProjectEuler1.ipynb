{
 "cells": [
  {
   "cell_type": "markdown",
   "id": "d18b8319",
   "metadata": {},
   "source": [
    "# Multiples of 3 or 5"
   ]
  },
  {
   "cell_type": "markdown",
   "id": "d59fee48",
   "metadata": {},
   "source": [
    "Hallar la suma de todos los números naturales múltiplos de 3 o 5 y menores a 1000"
   ]
  },
  {
   "cell_type": "code",
   "execution_count": 1,
   "id": "497a9371",
   "metadata": {},
   "outputs": [],
   "source": [
    "def mult_5o3(n):\n",
    "    \"\"\"\n",
    "    definimos una función para hacer generalizable el procedimiento\n",
    "    más allá de los números de 0 a 1000\n",
    "    \"\"\"\n",
    "    k=sum([i for i in range(n) if i%3==0 or i%5==0])\n",
    "    return k"
   ]
  },
  {
   "cell_type": "code",
   "execution_count": 2,
   "id": "a6899767",
   "metadata": {},
   "outputs": [
    {
     "data": {
      "text/plain": [
       "233168"
      ]
     },
     "execution_count": 2,
     "metadata": {},
     "output_type": "execute_result"
    }
   ],
   "source": [
    "#probando la función:\n",
    "mult_5o3(1000)"
   ]
  },
  {
   "cell_type": "code",
   "execution_count": null,
   "id": "78c5255d",
   "metadata": {},
   "outputs": [],
   "source": []
  }
 ],
 "metadata": {
  "kernelspec": {
   "display_name": "Python 3 (ipykernel)",
   "language": "python",
   "name": "python3"
  },
  "language_info": {
   "codemirror_mode": {
    "name": "ipython",
    "version": 3
   },
   "file_extension": ".py",
   "mimetype": "text/x-python",
   "name": "python",
   "nbconvert_exporter": "python",
   "pygments_lexer": "ipython3",
   "version": "3.9.6"
  }
 },
 "nbformat": 4,
 "nbformat_minor": 5
}
