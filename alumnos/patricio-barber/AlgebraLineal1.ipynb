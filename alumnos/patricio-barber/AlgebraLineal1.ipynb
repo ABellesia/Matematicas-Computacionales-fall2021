{
 "cells": [
  {
   "cell_type": "markdown",
   "id": "e99ac396",
   "metadata": {},
   "source": [
    "## Ejemplos"
   ]
  },
  {
   "cell_type": "markdown",
   "id": "96a70e89",
   "metadata": {},
   "source": [
    "### Procesamiento de imágenes"
   ]
  },
  {
   "cell_type": "markdown",
   "id": "e0e5169d",
   "metadata": {},
   "source": [
    "Vamos a representar las imágenes como matrices $\\mathbf{R}^{n\\ \\times\\  m\\  \\times\\  k}$. Usaremos primero el método decomposición de matrices conocido como [*Single Value Decomposition*](http://en.wikipedia.org/wiki/Singular_value_decomposition) (**SVD**) para reducir el tamaño de la imagen.\n",
    "\n",
    "La **SVD** de una matriz (real o compleja) $\\textbf{M}$ de $m \\times n$ es una factorización de la forma $\\textbf{M} = U\\cdot S \\cdot V^*$, en la cual $U$ es matriz $m \\times m$ unitaria, $S$ es una matriz $m \\times n$ rectangular diagonal con elementos no-negativos, y $V^*$ es la conjugada traspuesta de una matriz unitaria de $n \\times n$.\n",
    "\n",
    "A los elementos de la diagonal $S_{ii}$ of $S$ se les denomina valores singulares de $\\textbf{M}$. A las $m$ columnas de $U$ y a las $n$ de $V$ se les llama vectores singulares izquierdos o derechos, respectivamente.\n",
    "\n",
    " \n",
    "Cuando $\\textbf{M}$ es cuadrada ( $m \\times m$) y  real con determinante positivo, $U$, $V^*$, y $S$ son matrices reales de $m \\times m$, entonces $S$ puede ser interpretada como una matriz de escalamiento, y  $U$, $V^*$ como matrices de rotación."
   ]
  },
  {
   "cell_type": "code",
   "execution_count": null,
   "id": "31321aee",
   "metadata": {},
   "outputs": [],
   "source": [
    "import scipy.misc\n",
    "from scipy import linalg\n",
    "import matplotlib.pyplot as plt\n",
    "import numpy\n",
    "img = scipy.misc.face()\n",
    "plt.imshow(img)"
   ]
  },
  {
   "cell_type": "code",
   "execution_count": null,
   "id": "ee12d3eb",
   "metadata": {},
   "outputs": [],
   "source": [
    "img"
   ]
  },
  {
   "cell_type": "code",
   "execution_count": null,
   "id": "6fe57134",
   "metadata": {},
   "outputs": [],
   "source": [
    "img.shape"
   ]
  },
  {
   "cell_type": "code",
   "execution_count": null,
   "id": "2d549827",
   "metadata": {},
   "outputs": [],
   "source": [
    "U, S, Vs = linalg.svd(img[:,:,2])\n",
    "print(U.shape)\n",
    "print(S.shape)\n",
    "print(Vs.shape)"
   ]
  },
  {
   "cell_type": "markdown",
   "id": "7722dfc7",
   "metadata": {},
   "source": [
    "La matriz $S$ está representada como una matriz _sparse_. Como queremos hacer una compresión de la imagen, sólo nos quedaremos con $32$ de los _valores singulares_. Creamos una nueva matriz cuyos elementos están dados por la siguiente fórmula:\n",
    "\n",
    "$$ \\Sigma^k_{j = 1} \\quad s_j(u_j \\cdot v_j) $$\n",
    "\n",
    "\n",
    "donde, $s$ son los valores singulares, $u$ y $v$ son los vectores singulares."
   ]
  },
  {
   "cell_type": "code",
   "execution_count": null,
   "id": "c0e7c712",
   "metadata": {},
   "outputs": [],
   "source": [
    "A = numpy.dot( U[:, 0:32], numpy.dot(numpy.diag(S[0:32]), Vs[0:32,:]))"
   ]
  },
  {
   "cell_type": "code",
   "execution_count": null,
   "id": "0830eb3d",
   "metadata": {},
   "outputs": [],
   "source": [
    "plt.subplot(121, aspect='equal'); plt.imshow(img);\n",
    "plt.gray()\n",
    "\n",
    "plt.subplot(122, aspect='equal'); plt.imshow(A);"
   ]
  },
  {
   "cell_type": "markdown",
   "id": "8d2d704d",
   "metadata": {},
   "source": [
    "### Autómatas Celulares"
   ]
  },
  {
   "cell_type": "markdown",
   "id": "86bbf640",
   "metadata": {},
   "source": [
    "Un [autómata celular](http://en.wikipedia.org/wiki/Cellular_automaton) (**CA**) es un modelo del mundo con física simple. Se les conoce como _autómatas celulares_ ya que el espacio está dividido en pedazos discretos, llamados _celdas_ (de ahí \"celular\") y a que computa (i.e. es un \"autómata\").\n",
    "\n",
    "Los **CA** están gobernados por _reglas_ (la física) que determina como evoluciona el sistema en el tiempo. El tiempo también está dividido en pasos (_steps_) dicretos, y la regla especifica como cambia el estado actual del \"mundo\" en el tiempo $t+1$ basado en el tiempo actual $t$."
   ]
  },
  {
   "cell_type": "markdown",
   "id": "5b15141a",
   "metadata": {},
   "source": [
    "Los **CA** fueron estudiados extensivamente a principios de los 80s por **Stephen Wolfram** (Sí, el de `Mathematica`). En particular el estudio **CA**s unidimensionales, llamadas _autómatas celulares elementales_.\n",
    "\n",
    "Un _autómata celular elemental_ es un **CA** 1D en la cual cada celda tiene dos posibles estados, y en la cual la regla tiene como entradas el estado actual de la celda y el estado de sus vecinos inmediatos (que son dos en 1D). Existen, entonces $2^3 = 8$ posibles patrones de tres celdas (_vecindad_) y $2^8 = 256$ reglas posibles.\n",
    "\n",
    "Por ejemplo:\n",
    "\n",
    "| Estado |  | | | | | | | |\n",
    "|:---|:-------------:|:-----------:|:------:|:------:|:--:|:--:|:--:|:--:|\n",
    "| Actual | 111 | 110 | 101 | 100 | 011 | 010 | 001 | 000|\n",
    "| Siguiente | 0 |0 | 1 | 1 | 0 | 0 | 1 | 0 |\n",
    "\n",
    "Wolfram sugirió nombrar las reglas usando el renglón inferior como binario. En el caso recién mostrado, es la **Regla 50**."
   ]
  },
  {
   "cell_type": "markdown",
   "id": "601185c8",
   "metadata": {},
   "source": [
    "![Rule30](https://upload.wikimedia.org/wikipedia/commons/e/e2/One-d-cellular-automate-rule-30.gif \"ca\")\n"
   ]
  },
  {
   "cell_type": "markdown",
   "id": "9e6ce123",
   "metadata": {},
   "source": [
    "El siguiente código está basado en el trabajo de Allen B. Downey. Representa un autómata celular."
   ]
  },
  {
   "cell_type": "code",
   "execution_count": 2,
   "id": "4ddaa2ab",
   "metadata": {},
   "outputs": [],
   "source": [
    "import numpy as np\n",
    "\n",
    "# Basado en el código de Allen B. Downey\n",
    "\n",
    "\n",
    "class CA(object):\n",
    "    \"\"\"Representa un autómata celular 1D.\n",
    "    \n",
    "    Los parámetros del constructor son:\n",
    "\n",
    "    rule:  Un entero del 0-255.\n",
    "    n:      Número de renglones (timesteps).\n",
    "    ratio:  Razón de los renglones a las columnas\n",
    "    \"\"\"\n",
    "\n",
    "    def __init__(self, rule, n=100, ratio=2):\n",
    "        \"\"\"\n",
    "        Atributos:\n",
    "        table:  Diccionario que mapea el estado, al siguiente.\n",
    "        n, m:   Renglones, columnas.\n",
    "        array:  Arreglo que contiene los datos.\n",
    "        next:   Índice del siguiente estado.\n",
    "        \"\"\"\n",
    "        self.table = self.make_table(rule)\n",
    "        self.n = n\n",
    "        self.m = ratio*n + 1\n",
    "        self.array = np.zeros((n, self.m), dtype=np.int8)\n",
    "        self.next = 0\n",
    "\n",
    "    def make_table(self, rule):\n",
    "        \"\"\"Regresa la tabla con las reglas del CA \n",
    "        (Implementada como un diccionario).\n",
    "        \"\"\"\n",
    "        table = {}\n",
    "        for i, bit in enumerate(binary(rule, 8)):\n",
    "            t = binary(7-i, 3)\n",
    "            table[t] = bit\n",
    "        return table\n",
    "    \n",
    "    def start_single(self):\n",
    "        \"\"\"La semilla es una sola y aparece a la mitad del arreglo 1D.\"\"\"\n",
    "        self.array[0, int(self.m/2)] = 1\n",
    "        self.next += 1\n",
    "\n",
    "    def start_random(self):\n",
    "        \"\"\"Valores aleatorios en el tiempo t_0\"\"\"\n",
    "        self.array[0] = np.random.random([1,self.m]).round()\n",
    "        self.next += 1\n",
    "\n",
    "    def loop(self, steps=1):\n",
    "        \"\"\"Ejecuta el número especificado de pasos.\"\"\"\n",
    "        [self.step() for i in range(steps)]\n",
    "\n",
    "    def step(self):\n",
    "        \"\"\"Avanza un paso t -> t+1.\"\"\"\n",
    "        i = self.next\n",
    "        self.next += 1\n",
    "\n",
    "        a = self.array\n",
    "        t = self.table\n",
    "        for j in range(1,self.m-1):\n",
    "            a[i,j] = t[tuple(a[i-1, j-1:j+2])]\n",
    "\n",
    "    def get_array(self, start=0, end=None):\n",
    "        \"\"\"Obtiene una rebanada de las columnas del CA.\n",
    "        \"\"\"\n",
    "        if start==0 and end==None:\n",
    "            return self.array\n",
    "        else:\n",
    "            return self.array[:, start:end]\n",
    "\n",
    "  "
   ]
  },
  {
   "cell_type": "code",
   "execution_count": 3,
   "id": "30770477",
   "metadata": {},
   "outputs": [],
   "source": [
    "# Basado en el código de Allen B. Downey\n",
    "\n",
    "def binary(n, digits):\n",
    "    \"\"\"Regresa una tupla de enteros representando (n) en binario.\"\"\"\n",
    "    t = []\n",
    "    for i in range(digits):\n",
    "        n, r = divmod(n, 2)\n",
    "        t.append(r)\n",
    "\n",
    "    return tuple(reversed(t))\n"
   ]
  },
  {
   "cell_type": "code",
   "execution_count": 4,
   "id": "cd12ae7f",
   "metadata": {},
   "outputs": [],
   "source": [
    "import numpy\n",
    "\n",
    "# Basado en el código de Allen B. Downey\n",
    "  \n",
    "class CADrawer(object):\n",
    "    \"\"\"Dibuja el CA usando matplotlib\"\"\"\n",
    "\n",
    "    def __init__(self):\n",
    "        # we only need to import pyplot if a PyplotDrawer\n",
    "        # gets instantiated\n",
    "        global pyplot\n",
    "        import matplotlib.pyplot as pyplot\n",
    "        \n",
    "    def draw(self, ca, start=0, end=None):\n",
    "        pyplot.figure(figsize=(8, 6), dpi=80)\n",
    "        pyplot.gray()\n",
    "        a = ca.get_array(start, end)\n",
    "        rows, cols = a.shape\n",
    "\n",
    "        # flipud puts the first row at the top; \n",
    "        # negating it makes the non-zero cells black.\n",
    "        pyplot.pcolor(-numpy.flipud(a))\n",
    "        pyplot.axis([0, cols, 0, rows])\n",
    "\n",
    "        # empty lists draw no ticks\n",
    "        pyplot.xticks([])\n",
    "        pyplot.yticks([])\n",
    "\n",
    "    def show(self):\n",
    "        \"\"\"display the pseudocolor representation of the CA\"\"\"\n",
    "        pyplot.show()\n",
    "\n",
    "    def save(self, filename='ca.png'):\n",
    "        \"\"\"save the pseudocolor representation of the CA in (filename).\"\"\"\n",
    "        pyplot.savefig(filename)\n",
    "    "
   ]
  },
  {
   "cell_type": "code",
   "execution_count": 5,
   "id": "e55c9e04",
   "metadata": {},
   "outputs": [
    {
     "data": {
      "image/png": "[encoded data removed]",
      "text/plain": [
       "<Figure size 640x480 with 1 Axes>"
      ]
     },
     "metadata": {},
     "output_type": "display_data"
    }
   ],
   "source": [
    "rule =45\n",
    "n = 100\n",
    "ca = CA(rule, n)\n",
    "ca.start_single()\n",
    "ca.loop(n-1)\n",
    "drawer = CADrawer()\n",
    "drawer.draw(ca)\n",
    "drawer.show()"
   ]
  },
  {
   "cell_type": "markdown",
   "id": "56d360d2",
   "metadata": {},
   "source": [
    "<div class=\"alert alert-info\">\n",
    "    \n",
    "**Ejercicio:** Escribe un método que genere las 255 reglas y las muestre en una gráfica (con _subplots_, obviamente).\n",
    "</div>"
   ]
  },
  {
   "cell_type": "code",
   "execution_count": null,
   "id": "cdf715d4",
   "metadata": {},
   "outputs": [],
   "source": [
    "import matplotlib.pyplot as plt\n",
    "import numpy as np\n",
    "\n",
    "fig, ax= plt.subplots(128,128)\n",
    "\n",
    "for i in range (256):\n",
    "    rule = i\n",
    "    n = 10\n",
    "    ca = CA(rule, n)\n",
    "    ca.start_single()\n",
    "    ca.loop(n-1)\n",
    "    drawer = CADrawer()\n",
    "    drawer.draw(ca)\n",
    "    drawer.show()"
   ]
  },
  {
   "cell_type": "markdown",
   "id": "bc97517b",
   "metadata": {},
   "source": [
    "<div class=\"alert alert-info\">\n",
    "    \n",
    "**Ejercicio:** La página de la [wikipedia](http://en.wikipedia.org/wiki/Cellular_automaton#Classification) menciona 4 clasificaciones ¿Puedes identificarlos en tu gráfica?\n",
    "</div>"
   ]
  },
  {
   "cell_type": "markdown",
   "id": "66334d8f",
   "metadata": {},
   "source": [
    "<div class=\"alert alert-info\">\n",
    "    \n",
    "**Ejercicio:** Escribe una animación interactiva en la cual, reciba la regla, el intervalo del tiempo y con eso la vaya dibujando de manera animada.\n",
    "</div>"
   ]
  }
 ],
 "metadata": {
  "kernelspec": {
   "display_name": "Python 3 (ipykernel)",
   "language": "python",
   "name": "python3"
  },
  "language_info": {
   "codemirror_mode": {
    "name": "ipython",
    "version": 3
   },
   "file_extension": ".py",
   "mimetype": "text/x-python",
   "name": "python",
   "nbconvert_exporter": "python",
   "pygments_lexer": "ipython3",
   "version": "3.9.6"
  }
 },
 "nbformat": 4,
 "nbformat_minor": 5
}
