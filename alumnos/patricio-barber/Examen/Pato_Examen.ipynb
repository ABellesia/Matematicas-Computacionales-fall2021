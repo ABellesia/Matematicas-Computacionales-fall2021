{
 "cells": [
  {
   "cell_type": "markdown",
   "metadata": {},
   "source": [
    "# Examen"
   ]
  },
  {
   "cell_type": "markdown",
   "metadata": {},
   "source": [
    "#### Instrucciones"
   ]
  },
  {
   "cell_type": "markdown",
   "metadata": {},
   "source": [
    "- Crea en tu carpeta, un archivo llamado `examen` y pega el texto de las problemas en él (respeta el formato).\n",
    "\n",
    "- Contesta inmediatamente abajo del problema.\n",
    "\n",
    "- Gráficas en calidad profesional (pon ejes, unidades, colores, leyenda, etc.)\n",
    "\n",
    "- La ortografía, redacción y habilidades de comunicación se tomarán en cuenta."
   ]
  },
  {
   "cell_type": "markdown",
   "metadata": {},
   "source": [
    "### Problema 1"
   ]
  },
  {
   "cell_type": "markdown",
   "metadata": {},
   "source": [
    "(a) Usando `Simpy`, declara las funciones:\n",
    "$$\n",
    "y(x) = \\cos(x)\n",
    "$$\n",
    "\n",
    "$$\n",
    "z(x) = \\sin(x)\n",
    "$$\n",
    "\n",
    "$$\n",
    "w(x) = \\frac{1}{\\sin(x) + \\cos(2x)}\n",
    "$$\n",
    "\n",
    "(b) Obtén la derivada de $g(x)$\n",
    "\n",
    "$$\n",
    "g(x) = y(x)*z(x)\n",
    "$$\n",
    "\n",
    "(c) Grafica $w(x)$ en el rango $[0,1]$\n",
    "\n",
    "(d) Integra de manera indefinida $w(x)$ y luego evalúala desde $0$ a $1$.\n",
    "\n",
    "(e) ¿Cuál es el límite de $y(x), z(x), g(x)$ y $w(x)$ cuando $x \\to 0$.?\n",
    "\n",
    "(f) Expanda $y(x)$ y $z(x)$ hasta 3 orden en serie de Taylor."
   ]
  },
  {
   "cell_type": "code",
   "execution_count": 18,
   "metadata": {},
   "outputs": [],
   "source": [
    "#Importemos los paquetes necesarios\n",
    "import sympy as sym\n",
    "\n",
    "from sympy.interactive import printing #imprimes como latex \n",
    "\n",
    "printing.init_printing(use_latex=True)\n",
    "\n",
    "from sympy import *"
   ]
  },
  {
   "cell_type": "code",
   "execution_count": 26,
   "metadata": {},
   "outputs": [],
   "source": [
    "#a)\n",
    "#hagamoslas variables simbólicas\n",
    "g,w,x,y,z=sym.symbols('g,w,x,y,z')"
   ]
  },
  {
   "cell_type": "code",
   "execution_count": 41,
   "metadata": {},
   "outputs": [
    {
     "data": {
      "image/png": "[encoded data removed]",
      "text/latex": [
       "$\\displaystyle \\cos{\\left(x \\right)}$"
      ],
      "text/plain": [
       "cos(x)"
      ]
     },
     "execution_count": 41,
     "metadata": {},
     "output_type": "execute_result"
    }
   ],
   "source": [
    "y=Function('y')#para que se pueda comportar como funcion\n",
    "y=cos(x)\n",
    "y"
   ]
  },
  {
   "cell_type": "code",
   "execution_count": 40,
   "metadata": {},
   "outputs": [
    {
     "data": {
      "image/png": "[encoded data removed]",
      "text/latex": [
       "$\\displaystyle \\sin{\\left(x \\right)}$"
      ],
      "text/plain": [
       "sin(x)"
      ]
     },
     "execution_count": 40,
     "metadata": {},
     "output_type": "execute_result"
    }
   ],
   "source": [
    "z=Function('z')\n",
    "z=sin(x)\n",
    "z"
   ]
  },
  {
   "cell_type": "code",
   "execution_count": 58,
   "metadata": {},
   "outputs": [
    {
     "data": {
      "image/png": "[encoded data removed]",
      "text/latex": [
       "$\\displaystyle \\frac{1}{\\sin{\\left(x \\right)} + \\cos{\\left(2 x \\right)}}$"
      ],
      "text/plain": [
       "        1        \n",
       "─────────────────\n",
       "sin(x) + cos(2⋅x)"
      ]
     },
     "execution_count": 58,
     "metadata": {},
     "output_type": "execute_result"
    }
   ],
   "source": [
    "w=1/(z+cos(2*x))\n",
    "w"
   ]
  },
  {
   "cell_type": "code",
   "execution_count": 23,
   "metadata": {},
   "outputs": [],
   "source": [
    "g=Function('g')"
   ]
  },
  {
   "cell_type": "code",
   "execution_count": 43,
   "metadata": {},
   "outputs": [
    {
     "data": {
      "image/png": "[encoded data removed]",
      "text/latex": [
       "$\\displaystyle \\sin{\\left(x \\right)} \\cos{\\left(x \\right)}$"
      ],
      "text/plain": [
       "sin(x)⋅cos(x)"
      ]
     },
     "execution_count": 43,
     "metadata": {},
     "output_type": "execute_result"
    }
   ],
   "source": [
    "#b)\n",
    "g=y*z\n",
    "g"
   ]
  },
  {
   "cell_type": "code",
   "execution_count": 45,
   "metadata": {},
   "outputs": [
    {
     "data": {
      "image/png": "[encoded data removed]",
      "text/latex": [
       "$\\displaystyle - \\sin^{2}{\\left(x \\right)} + \\cos^{2}{\\left(x \\right)}$"
      ],
      "text/plain": [
       "     2         2   \n",
       "- sin (x) + cos (x)"
      ]
     },
     "execution_count": 45,
     "metadata": {},
     "output_type": "execute_result"
    }
   ],
   "source": [
    "#y su derivada:\n",
    "diff(g,x)"
   ]
  },
  {
   "cell_type": "code",
   "execution_count": 46,
   "metadata": {},
   "outputs": [],
   "source": [
    "#c)\n",
    "#no importamos matplotlib pues Sympy tiene la capacidad de graficar"
   ]
  },
  {
   "cell_type": "code",
   "execution_count": 53,
   "metadata": {},
   "outputs": [
    {
     "data": {
      "image/png": "[encoded data removed]",
      "text/plain": [
       "<Figure size 432x288 with 1 Axes>"
      ]
     },
     "metadata": {
      "needs_background": "light"
     },
     "output_type": "display_data"
    }
   ],
   "source": [
    "w1=plot(w, (x,0,1))"
   ]
  },
  {
   "cell_type": "code",
   "execution_count": 76,
   "metadata": {},
   "outputs": [
    {
     "data": {
      "image/png": "[encoded data removed]",
      "text/latex": [
       "$\\displaystyle \\frac{\\sin^{2}{\\left(x \\right)}}{2}$"
      ],
      "text/plain": [
       "   2   \n",
       "sin (x)\n",
       "───────\n",
       "   2   "
      ]
     },
     "execution_count": 76,
     "metadata": {},
     "output_type": "execute_result"
    }
   ],
   "source": [
    "#d) integrando sin cotas, INTEGRAMOS g EN VEZ DE w\n",
    "integrate(g, x)"
   ]
  },
  {
   "cell_type": "code",
   "execution_count": 61,
   "metadata": {},
   "outputs": [],
   "source": [
    "#no olvidar + C ;)"
   ]
  },
  {
   "cell_type": "code",
   "execution_count": 80,
   "metadata": {},
   "outputs": [
    {
     "data": {
      "image/png": "[encoded data removed]",
      "text/latex": [
       "$\\displaystyle \\frac{\\sin^{2}{\\left(1 \\right)}}{2}$"
      ],
      "text/plain": [
       "   2   \n",
       "sin (1)\n",
       "───────\n",
       "   2   "
      ]
     },
     "execution_count": 80,
     "metadata": {},
     "output_type": "execute_result"
    }
   ],
   "source": [
    "#ahora evaluado de 0 a 1\n",
    "integrate(g, (x,0, 1))"
   ]
  },
  {
   "cell_type": "code",
   "execution_count": 70,
   "metadata": {},
   "outputs": [
    {
     "data": {
      "image/png": "[encoded data removed]",
      "text/latex": [
       "$\\displaystyle 1$"
      ],
      "text/plain": [
       "1"
      ]
     },
     "execution_count": 70,
     "metadata": {},
     "output_type": "execute_result"
    }
   ],
   "source": [
    "#e) límites cuando x tiende a 0\n",
    "\n",
    "#de y\n",
    "limit(y, x, 0)"
   ]
  },
  {
   "cell_type": "code",
   "execution_count": 71,
   "metadata": {},
   "outputs": [
    {
     "data": {
      "image/png": "[encoded data removed]",
      "text/latex": [
       "$\\displaystyle 0$"
      ],
      "text/plain": [
       "0"
      ]
     },
     "execution_count": 71,
     "metadata": {},
     "output_type": "execute_result"
    }
   ],
   "source": [
    "# de z\n",
    "limit(z, x, 0)"
   ]
  },
  {
   "cell_type": "code",
   "execution_count": 72,
   "metadata": {},
   "outputs": [
    {
     "data": {
      "image/png": "[encoded data removed]",
      "text/latex": [
       "$\\displaystyle 0$"
      ],
      "text/plain": [
       "0"
      ]
     },
     "execution_count": 72,
     "metadata": {},
     "output_type": "execute_result"
    }
   ],
   "source": [
    "#de g\n",
    "limit(g, x, 0)"
   ]
  },
  {
   "cell_type": "code",
   "execution_count": 74,
   "metadata": {},
   "outputs": [
    {
     "data": {
      "image/png": "[encoded data removed]",
      "text/latex": [
       "$\\displaystyle 1$"
      ],
      "text/plain": [
       "1"
      ]
     },
     "execution_count": 74,
     "metadata": {},
     "output_type": "execute_result"
    }
   ],
   "source": [
    "#de w\n",
    "limit(w, x, 0)"
   ]
  },
  {
   "cell_type": "code",
   "execution_count": 75,
   "metadata": {},
   "outputs": [],
   "source": [
    "#f) expandir y, z por Taylor hasta orden 3"
   ]
  },
  {
   "cell_type": "code",
   "execution_count": 95,
   "metadata": {},
   "outputs": [
    {
     "data": {
      "image/png": "[encoded data removed]",
      "text/latex": [
       "$\\displaystyle 1 - \\frac{x^{2}}{2} + O\\left(x^{3}\\right)$"
      ],
      "text/plain": [
       "     2        \n",
       "    x     ⎛ 3⎞\n",
       "1 - ── + O⎝x ⎠\n",
       "    2         "
      ]
     },
     "execution_count": 95,
     "metadata": {},
     "output_type": "execute_result"
    }
   ],
   "source": [
    "#para Y\n",
    "#en Sympy 'series' trabaja directamente con Taylor\n",
    "Ty= series(y, n=3)\n",
    "# está trabajando como si estuviera centrado en cero, \n",
    "\n",
    "Ty"
   ]
  },
  {
   "cell_type": "code",
   "execution_count": 108,
   "metadata": {},
   "outputs": [
    {
     "data": {
      "image/png": "[encoded data removed]",
      "text/latex": [
       "$\\displaystyle \\cos{\\left(h \\right)} - \\left(- h + x\\right) \\sin{\\left(h \\right)} - \\frac{\\left(- h + x\\right)^{2} \\cos{\\left(h \\right)}}{2} + \\frac{\\left(- h + x\\right)^{3} \\sin{\\left(h \\right)}}{6} + O\\left(\\left(- h + x\\right)^{4}; x\\rightarrow h\\right)$"
      ],
      "text/plain": [
       "                                   2                  3                       \n",
       "                           (-h + x) ⋅cos(h)   (-h + x) ⋅sin(h)    ⎛        4  \n",
       "cos(h) - (-h + x)⋅sin(h) - ──────────────── + ──────────────── + O⎝(-h + x) ; \n",
       "                                  2                  6                        \n",
       "\n",
       "      \n",
       "     ⎞\n",
       "x → h⎠\n",
       "      "
      ]
     },
     "execution_count": 108,
     "metadata": {},
     "output_type": "execute_result"
    }
   ],
   "source": [
    "#si buscamos la expresión completa seria:\n",
    "h=Symbol('h')\n",
    "y.series(x,h,4) #orden 4 para ver porqué se elimina el término al cubo en cero"
   ]
  },
  {
   "cell_type": "code",
   "execution_count": 107,
   "metadata": {},
   "outputs": [
    {
     "data": {
      "image/png": "[encoded data removed]",
      "text/latex": [
       "$\\displaystyle x - \\frac{x^{3}}{6} + O\\left(x^{4}\\right)$"
      ],
      "text/plain": [
       "     3        \n",
       "    x     ⎛ 4⎞\n",
       "x - ── + O⎝x ⎠\n",
       "    6         "
      ]
     },
     "execution_count": 107,
     "metadata": {},
     "output_type": "execute_result"
    }
   ],
   "source": [
    "#para Z\n",
    "Tz=series(z, n=4) #ponemos de orden 4 para que indique el término al cubo\n",
    "#igualmente trabaja centrado en 0\n",
    "Tz"
   ]
  },
  {
   "cell_type": "code",
   "execution_count": 105,
   "metadata": {},
   "outputs": [
    {
     "data": {
      "image/png": "[encoded data removed]",
      "text/latex": [
       "$\\displaystyle \\sin{\\left(h \\right)} + \\left(- h + x\\right) \\cos{\\left(h \\right)} - \\frac{\\left(- h + x\\right)^{2} \\sin{\\left(h \\right)}}{2} - \\frac{\\left(- h + x\\right)^{3} \\cos{\\left(h \\right)}}{6} + O\\left(\\left(- h + x\\right)^{4}; x\\rightarrow h\\right)$"
      ],
      "text/plain": [
       "                                   2                  3                       \n",
       "                           (-h + x) ⋅sin(h)   (-h + x) ⋅cos(h)    ⎛        4  \n",
       "sin(h) + (-h + x)⋅cos(h) - ──────────────── - ──────────────── + O⎝(-h + x) ; \n",
       "                                  2                  6                        \n",
       "\n",
       "      \n",
       "     ⎞\n",
       "x → h⎠\n",
       "      "
      ]
     },
     "execution_count": 105,
     "metadata": {},
     "output_type": "execute_result"
    }
   ],
   "source": [
    "#de igual forma si queremos la expansión completa:\n",
    "z.series(x,h,4)"
   ]
  },
  {
   "cell_type": "markdown",
   "metadata": {},
   "source": [
    "<div class=\"alert alert-info\">\n",
    "    \n",
    "**NOTA** Muestra las expresiones en cada inciso.\n",
    "</div>"
   ]
  },
  {
   "cell_type": "markdown",
   "metadata": {},
   "source": [
    "### Problema 2"
   ]
  },
  {
   "cell_type": "markdown",
   "metadata": {},
   "source": [
    "El [**atractor de Rössler**](http://en.wikipedia.org/wiki/R%C3%B6ssler_attractor) esta descrito por el siguiente conjunto de ecuaciones:"
   ]
  },
  {
   "cell_type": "markdown",
   "metadata": {},
   "source": [
    "$$\n",
    "\\frac{dx}{dt} = -y -z\n",
    "$$\n",
    "\n",
    "$$\n",
    "\\frac{dy}{dt} = x + ay\n",
    "$$\n",
    "\n",
    "$$\n",
    "\\frac{dz}{dt} = b + z(x-c)\n",
    "$$"
   ]
  },
  {
   "cell_type": "markdown",
   "metadata": {},
   "source": [
    "(a) Resuelva las ecuaciones numéricamente para \n",
    "\n",
    "$$\n",
    "a=0.13 \\quad b=0.2 \\quad c=6.5 \n",
    "$$\n",
    "\n",
    "y condiciones iniciales\n",
    "\n",
    "$$\n",
    "x(0)=0 \\quad y(0)=0 \\quad z(0)=0 \n",
    "$$\n",
    "\n",
    "use el método de Runge-Kutta de 2do orden."
   ]
  },
  {
   "cell_type": "code",
   "execution_count": 3,
   "metadata": {},
   "outputs": [],
   "source": [
    "import numpy as np"
   ]
  },
  {
   "cell_type": "code",
   "execution_count": 8,
   "metadata": {},
   "outputs": [
    {
     "ename": "TypeError",
     "evalue": "'float' object is not subscriptable",
     "output_type": "error",
     "traceback": [
      "\u001b[0;31m---------------------------------------------------------------------------\u001b[0m",
      "\u001b[0;31mTypeError\u001b[0m                                 Traceback (most recent call last)",
      "\u001b[0;32m/tmp/ipykernel_1853/2805623167.py\u001b[0m in \u001b[0;36m<module>\u001b[0;34m\u001b[0m\n\u001b[1;32m     16\u001b[0m \u001b[0;34m\u001b[0m\u001b[0m\n\u001b[1;32m     17\u001b[0m \u001b[0;34m\u001b[0m\u001b[0m\n\u001b[0;32m---> 18\u001b[0;31m \u001b[0my\u001b[0m\u001b[0;34m[\u001b[0m\u001b[0;36m0\u001b[0m\u001b[0;34m,\u001b[0m\u001b[0;36m0\u001b[0m\u001b[0;34m]\u001b[0m\u001b[0;34m=\u001b[0m\u001b[0mx\u001b[0m\u001b[0;34m[\u001b[0m\u001b[0;36m0\u001b[0m\u001b[0;34m]\u001b[0m\u001b[0;34m\u001b[0m\u001b[0;34m\u001b[0m\u001b[0m\n\u001b[0m\u001b[1;32m     19\u001b[0m \u001b[0my\u001b[0m\u001b[0;34m[\u001b[0m\u001b[0;36m0\u001b[0m\u001b[0;34m,\u001b[0m\u001b[0;36m1\u001b[0m\u001b[0;34m]\u001b[0m\u001b[0;34m=\u001b[0m\u001b[0my\u001b[0m\u001b[0;34m[\u001b[0m\u001b[0;36m0\u001b[0m\u001b[0;34m]\u001b[0m\u001b[0;34m\u001b[0m\u001b[0;34m\u001b[0m\u001b[0m\n\u001b[1;32m     20\u001b[0m \u001b[0my\u001b[0m\u001b[0;34m[\u001b[0m\u001b[0;36m0\u001b[0m\u001b[0;34m,\u001b[0m\u001b[0;36m2\u001b[0m\u001b[0;34m]\u001b[0m\u001b[0;34m=\u001b[0m\u001b[0mz\u001b[0m\u001b[0;34m[\u001b[0m\u001b[0;36m0\u001b[0m\u001b[0;34m]\u001b[0m\u001b[0;34m\u001b[0m\u001b[0;34m\u001b[0m\u001b[0m\n",
      "\u001b[0;31mTypeError\u001b[0m: 'float' object is not subscriptable"
     ]
    }
   ],
   "source": [
    "N=1000\n",
    "\n",
    "#definamos las constantes\n",
    "\n",
    "a=0.13\n",
    "b=0.2\n",
    "c=6.5\n",
    "\n",
    "x=0.0\n",
    "y=0.0\n",
    "z=0.0\n",
    "\n",
    "#para el estado inicial:\n",
    "\n",
    "y=np.zeros([N,3])\n",
    "\n",
    "\n",
    "y[0,0]=x[0]\n",
    "y[0,1]=y[0]\n",
    "y[0,2]=z[0]\n",
    "\n",
    "\n",
    "#para el tamano de paso\n",
    "\n",
    "tau=100.0\n",
    "\n",
    "dt=tau/(N-1)\n",
    "\n",
    "time=np.linspace(0,tau,N)"
   ]
  },
  {
   "cell_type": "code",
   "execution_count": 1,
   "metadata": {},
   "outputs": [],
   "source": [
    "#es un sistema de primer orden por lo que no hay que modificar con nuevas variables\n",
    "#definamos:\n",
    "def Rossler(x,y,z):\n",
    "    d_x=-y-z\n",
    "    d_y=x+a*y\n",
    "    d_z=b= z*(x-c)\n",
    "    return np.array([d_x,d_y,d_z])\n"
   ]
  },
  {
   "cell_type": "code",
   "execution_count": 1,
   "metadata": {},
   "outputs": [
    {
     "data": {
      "text/plain": [
       "<function __main__.RK2(y, t, dt, Rossler)>"
      ]
     },
     "execution_count": 1,
     "metadata": {},
     "output_type": "execute_result"
    }
   ],
   "source": [
    "#copiemos la funcion usada en clase\n",
    "def RK2(y, t, dt, Rossler):\n",
    "    k0 = dt*derivadas(y, t)\n",
    "    k1 = dt*derivadas(y + k0, t + dt)\n",
    "    y_next = y + 0.5*(k0 + k1)\n",
    "    \n",
    "    return y_next\n",
    "RK2"
   ]
  },
  {
   "cell_type": "markdown",
   "metadata": {},
   "source": [
    "(b) Muestra en una gráfica el comportamiento de las soluciones en el tiempo (i.e. grafica $x(t)$, $y(t)$ y $z(t)$)."
   ]
  },
  {
   "cell_type": "markdown",
   "metadata": {},
   "source": [
    "(c) Muestra como se ve el **atractor de Rössler** en 3D (i.e. en el espacio)."
   ]
  }
 ],
 "metadata": {
  "kernelspec": {
   "display_name": "Python 3 (ipykernel)",
   "language": "python",
   "name": "python3"
  },
  "language_info": {
   "codemirror_mode": {
    "name": "ipython",
    "version": 3
   },
   "file_extension": ".py",
   "mimetype": "text/x-python",
   "name": "python",
   "nbconvert_exporter": "python",
   "pygments_lexer": "ipython3",
   "version": "3.9.6"
  }
 },
 "nbformat": 4,
 "nbformat_minor": 1
}
