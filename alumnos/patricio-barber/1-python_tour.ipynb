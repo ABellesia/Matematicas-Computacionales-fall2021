{
 "cells": [
  {
   "cell_type": "markdown",
   "id": "4612df96",
   "metadata": {},
   "source": [
    "# Tour de Python"
   ]
  },
  {
   "cell_type": "markdown",
   "id": "8e3cd5e7",
   "metadata": {},
   "source": [
    "Ejercicio\n",
    "\n",
    "Crea una función que devuelva las coordenadas  (𝑥,𝑦,𝑧)  a partir de las coordenadas esféricas  (𝑟,𝜃,𝜙) . Guárdala a disco, en el archivo transformaciones.py"
   ]
  },
  {
   "cell_type": "code",
   "execution_count": 5,
   "id": "5273a476",
   "metadata": {},
   "outputs": [
    {
     "name": "stdout",
     "output_type": "stream",
     "text": [
      "Overwriting transformaciones.py\n"
     ]
    }
   ],
   "source": [
    "%%file transformaciones.py\n",
    "import math\n",
    "\n",
    "def polar_cart(r, theta, phi):\n",
    "    \"\"\"\n",
    "    r=distancia radial\n",
    "    theta=ángulo polar\n",
    "    phi= azimut\n",
    "    \"\"\"\n",
    "    return [r * math.sin(theta) * math.cos(phi),r * math.sin(theta) * math.sin(phi), r * math.cos(theta)]"
   ]
  },
  {
   "cell_type": "code",
   "execution_count": 1,
   "id": "105feceb",
   "metadata": {},
   "outputs": [],
   "source": [
    "from ipywidgets import interact"
   ]
  },
  {
   "cell_type": "code",
   "execution_count": 2,
   "id": "4c533775",
   "metadata": {},
   "outputs": [
    {
     "data": {
      "application/vnd.jupyter.widget-view+json": {
       "model_id": "31df4b5b29334316976bafc88901832e",
       "version_major": 2,
       "version_minor": 0
      },
      "text/plain": [
       "interactive(children=(IntSlider(value=10, description='r', max=30, min=-10), IntSlider(value=10, description='…"
      ]
     },
     "metadata": {},
     "output_type": "display_data"
    }
   ],
   "source": [
    "import math\n",
    "\n",
    "def polar_cart(r, theta, phi):\n",
    "    \"\"\"\n",
    "    r=distancia radial\n",
    "    theta=ángulo polar\n",
    "    phi= azimut\n",
    "    \"\"\"\n",
    "    return [r * math.sin(theta) * math.cos(phi),r * math.sin(theta) * math.sin(phi), r * math.cos(theta)]\n",
    "interact(polar_cart, r=10,theta=10, phi=10);"
   ]
  },
  {
   "cell_type": "code",
   "execution_count": null,
   "id": "a6886885",
   "metadata": {},
   "outputs": [],
   "source": []
  }
 ],
 "metadata": {
  "kernelspec": {
   "display_name": "Python 3 (ipykernel)",
   "language": "python",
   "name": "python3"
  },
  "language_info": {
   "codemirror_mode": {
    "name": "ipython",
    "version": 3
   },
   "file_extension": ".py",
   "mimetype": "text/x-python",
   "name": "python",
   "nbconvert_exporter": "python",
   "pygments_lexer": "ipython3",
   "version": "3.9.6"
  }
 },
 "nbformat": 4,
 "nbformat_minor": 5
}
