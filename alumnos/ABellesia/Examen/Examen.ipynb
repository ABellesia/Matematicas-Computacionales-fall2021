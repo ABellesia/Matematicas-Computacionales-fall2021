{
 "cells": [
  {
   "cell_type": "markdown",
   "metadata": {},
   "source": [
    "# Examen"
   ]
  },
  {
   "cell_type": "markdown",
   "metadata": {},
   "source": [
    "#### Instrucciones"
   ]
  },
  {
   "cell_type": "markdown",
   "metadata": {},
   "source": [
    "- Crea en tu carpeta, un archivo llamado `examen` y pega el texto de las problemas en él (respeta el formato).\n",
    "\n",
    "- Contesta inmediatamente abajo del problema.\n",
    "\n",
    "- Gráficas en calidad profesional (pon ejes, unidades, colores, leyenda, etc.)\n",
    "\n",
    "- La ortografía, redacción y habilidades de comunicación se tomarán en cuenta."
   ]
  },
  {
   "cell_type": "markdown",
   "metadata": {},
   "source": [
    "### Problema 1"
   ]
  },
  {
   "cell_type": "markdown",
   "metadata": {},
   "source": [
    "(a) Usando `Simpy`, declara las funciones:\n",
    "$$\n",
    "y(x) = \\cos(x)\n",
    "$$\n",
    "\n",
    "$$\n",
    "z(x) = \\sin(x)\n",
    "$$\n",
    "\n",
    "$$\n",
    "w(x) = \\frac{1}{\\sin(x) + \\cos(2x)}\n",
    "$$\n",
    "\n",
    "(b) Obtén la derivada de $g(x)$\n",
    "\n",
    "$$\n",
    "g(x) = y(x)*z(x)\n",
    "$$\n",
    "\n",
    "(c) Grafica $w(x)$ en el rango $[0,1]$\n",
    "\n",
    "(d) Integra de manera indefinida $w(x)$ y luego evalúala desde $0$ a $1$.\n",
    "\n",
    "(e) ¿Cuál es el límite de $y(x), z(x), g(x)$ y $w(x)$ cuando $x \\to 0$.?\n",
    "\n",
    "(f) Expanda $y(x)$ y $z(x)$ hasta 3 orden en serie de Taylor."
   ]
  },
  {
   "cell_type": "markdown",
   "metadata": {},
   "source": [
    "# Solución \n",
    "\n",
    "### a)"
   ]
  },
  {
   "cell_type": "code",
   "execution_count": 49,
   "metadata": {},
   "outputs": [],
   "source": [
    "import sympy as sym\n",
    "from sympy import Symbol \n",
    "from sympy import *\n",
    "from sympy.interactive import printing\n",
    "printing.init_printing(use_latex=True)\n",
    "init_printing(use_latex='mathjax')"
   ]
  },
  {
   "cell_type": "code",
   "execution_count": 50,
   "metadata": {},
   "outputs": [
    {
     "data": {
      "text/latex": [
       "$\\displaystyle y{\\left(x \\right)} = \\cos{\\left(x \\right)}$"
      ],
      "text/plain": [
       "y(x) = cos(x)"
      ]
     },
     "execution_count": 50,
     "metadata": {},
     "output_type": "execute_result"
    }
   ],
   "source": [
    "x = Symbol('x')\n",
    "y = Function('y')\n",
    "y_ = cos(x)\n",
    "Eq(y(x),y_)"
   ]
  },
  {
   "cell_type": "code",
   "execution_count": 51,
   "metadata": {},
   "outputs": [
    {
     "data": {
      "text/latex": [
       "$\\displaystyle z{\\left(x \\right)} = \\sin{\\left(x \\right)}$"
      ],
      "text/plain": [
       "z(x) = sin(x)"
      ]
     },
     "execution_count": 51,
     "metadata": {},
     "output_type": "execute_result"
    }
   ],
   "source": [
    "z = Function('z')\n",
    "z_ = sin(x)\n",
    "Eq(z(x),z_)"
   ]
  },
  {
   "cell_type": "code",
   "execution_count": 52,
   "metadata": {},
   "outputs": [
    {
     "data": {
      "text/latex": [
       "$\\displaystyle w{\\left(x \\right)} = \\frac{1}{\\sin{\\left(x \\right)} + \\cos{\\left(2 x \\right)}}$"
      ],
      "text/plain": [
       "               1        \n",
       "w(x) = ─────────────────\n",
       "       sin(x) + cos(2⋅x)"
      ]
     },
     "execution_count": 52,
     "metadata": {},
     "output_type": "execute_result"
    }
   ],
   "source": [
    "w = Function('w')\n",
    "w_ = 1/(sin(x)+cos(2*x))\n",
    "Eq(w(x),w_)"
   ]
  },
  {
   "cell_type": "markdown",
   "metadata": {},
   "source": [
    "### b)"
   ]
  },
  {
   "cell_type": "code",
   "execution_count": 53,
   "metadata": {},
   "outputs": [
    {
     "data": {
      "text/latex": [
       "$\\displaystyle g{\\left(x \\right)} = \\sin{\\left(x \\right)} \\cos{\\left(x \\right)}$"
      ],
      "text/plain": [
       "g(x) = sin(x)⋅cos(x)"
      ]
     },
     "execution_count": 53,
     "metadata": {},
     "output_type": "execute_result"
    }
   ],
   "source": [
    "g = Function('g')\n",
    "g_ = y_*z_\n",
    "Eq(g(x),g_)"
   ]
  },
  {
   "cell_type": "code",
   "execution_count": 54,
   "metadata": {},
   "outputs": [
    {
     "data": {
      "text/latex": [
       "$\\displaystyle \\frac{d}{d x} g{\\left(x \\right)} = - \\sin^{2}{\\left(x \\right)} + \\cos^{2}{\\left(x \\right)}$"
      ],
      "text/plain": [
       "d               2         2   \n",
       "──(g(x)) = - sin (x) + cos (x)\n",
       "dx                            "
      ]
     },
     "execution_count": 54,
     "metadata": {},
     "output_type": "execute_result"
    }
   ],
   "source": [
    "Eq(Derivative(g(x),x),Derivative(g_,x).doit())"
   ]
  },
  {
   "cell_type": "markdown",
   "metadata": {},
   "source": [
    "### c)"
   ]
  },
  {
   "cell_type": "code",
   "execution_count": 55,
   "metadata": {},
   "outputs": [],
   "source": [
    "%matplotlib inline\n",
    "import numpy as np\n",
    "import matplotlib.pyplot as plt"
   ]
  },
  {
   "cell_type": "code",
   "execution_count": 99,
   "metadata": {
    "scrolled": true
   },
   "outputs": [
    {
     "name": "stderr",
     "output_type": "stream",
     "text": [
      "<ipython-input-99-d7a4b176689d>:2: RuntimeWarning: divide by zero encountered in true_divide\n",
      "  C = 1/(np.sin(X)*np.cos(2*X))\n"
     ]
    },
    {
     "data": {
      "text/plain": [
       "Text(0.5, 1.0, 'Gráfica')"
      ]
     },
     "execution_count": 99,
     "metadata": {},
     "output_type": "execute_result"
    },
    {
     "data": {
      "image/png": "[encoded data removed]",
      "text/plain": [
       "<Figure size 640x480 with 1 Axes>"
      ]
     },
     "metadata": {
      "needs_background": "light"
     },
     "output_type": "display_data"
    }
   ],
   "source": [
    "X = np.linspace(0, 1, 256, endpoint=True) \n",
    "C = 1/(np.sin(X)*np.cos(2*X))\n",
    "plt.figure(figsize=(8, 6), dpi=80)\n",
    "plt.subplot(1, 1, 1)\n",
    "plt.plot(X, C, color=\"purple\", linewidth=2.5, linestyle=\"-\")\n",
    "\n",
    "plt.xlim(-1, 2)\n",
    "\n",
    "plt.xticks(np.linspace(-1, 2, 9, endpoint=True))\n",
    "\n",
    "plt.ylim(-15.0, 15.0)\n",
    "\n",
    "plt.yticks(np.linspace(-15, 15, 5, endpoint=True))\n",
    "ax = plt.gca() \n",
    "ax.spines['right'].set_color('none')\n",
    "ax.spines['top'].set_color('none')\n",
    "ax.xaxis.set_ticks_position('bottom')\n",
    "ax.spines['bottom'].set_position(('data',0))\n",
    "ax.yaxis.set_ticks_position('left')\n",
    "ax.spines['left'].set_position(('data',0))\n",
    "plt.title(\"Gráfica\")"
   ]
  },
  {
   "cell_type": "markdown",
   "metadata": {},
   "source": [
    "### d)"
   ]
  },
  {
   "cell_type": "code",
   "execution_count": 74,
   "metadata": {},
   "outputs": [
    {
     "data": {
      "text/latex": [
       "$\\displaystyle \\frac{\\sin^{2}{\\left(x \\right)}}{2}$"
      ],
      "text/plain": [
       "   2   \n",
       "sin (x)\n",
       "───────\n",
       "   2   "
      ]
     },
     "execution_count": 74,
     "metadata": {},
     "output_type": "execute_result"
    }
   ],
   "source": [
    "integrate(g_, x)\n"
   ]
  },
  {
   "cell_type": "code",
   "execution_count": 75,
   "metadata": {},
   "outputs": [
    {
     "data": {
      "text/latex": [
       "$\\displaystyle \\frac{\\sin^{2}{\\left(1 \\right)}}{2}$"
      ],
      "text/plain": [
       "   2   \n",
       "sin (1)\n",
       "───────\n",
       "   2   "
      ]
     },
     "execution_count": 75,
     "metadata": {},
     "output_type": "execute_result"
    }
   ],
   "source": [
    "integrate(g_, (x,0,1))"
   ]
  },
  {
   "cell_type": "markdown",
   "metadata": {},
   "source": [
    "### e)"
   ]
  },
  {
   "cell_type": "code",
   "execution_count": 64,
   "metadata": {},
   "outputs": [
    {
     "data": {
      "text/latex": [
       "$\\displaystyle 1$"
      ],
      "text/plain": [
       "1"
      ]
     },
     "execution_count": 64,
     "metadata": {},
     "output_type": "execute_result"
    }
   ],
   "source": [
    "limit(y_,x,0)"
   ]
  },
  {
   "cell_type": "code",
   "execution_count": 65,
   "metadata": {},
   "outputs": [
    {
     "data": {
      "text/latex": [
       "$\\displaystyle 0$"
      ],
      "text/plain": [
       "0"
      ]
     },
     "execution_count": 65,
     "metadata": {},
     "output_type": "execute_result"
    }
   ],
   "source": [
    "limit(z_,x,0)"
   ]
  },
  {
   "cell_type": "code",
   "execution_count": 66,
   "metadata": {},
   "outputs": [
    {
     "data": {
      "text/latex": [
       "$\\displaystyle 0$"
      ],
      "text/plain": [
       "0"
      ]
     },
     "execution_count": 66,
     "metadata": {},
     "output_type": "execute_result"
    }
   ],
   "source": [
    "limit(g_,x,0)"
   ]
  },
  {
   "cell_type": "code",
   "execution_count": 67,
   "metadata": {},
   "outputs": [
    {
     "data": {
      "text/latex": [
       "$\\displaystyle 1$"
      ],
      "text/plain": [
       "1"
      ]
     },
     "execution_count": 67,
     "metadata": {},
     "output_type": "execute_result"
    }
   ],
   "source": [
    "limit(w_,x,0)"
   ]
  },
  {
   "cell_type": "markdown",
   "metadata": {},
   "source": [
    "### f) "
   ]
  },
  {
   "cell_type": "code",
   "execution_count": 87,
   "metadata": {},
   "outputs": [
    {
     "data": {
      "text/latex": [
       "$\\displaystyle 1 - \\frac{x^{2}}{2} + \\frac{x^{4}}{24} + O\\left(x^{6}\\right)$"
      ],
      "text/plain": [
       "     2    4        \n",
       "    x    x     ⎛ 6⎞\n",
       "1 - ── + ── + O⎝x ⎠\n",
       "    2    24        "
      ]
     },
     "execution_count": 87,
     "metadata": {},
     "output_type": "execute_result"
    }
   ],
   "source": [
    "y_.series(x,0) "
   ]
  },
  {
   "cell_type": "code",
   "execution_count": 85,
   "metadata": {},
   "outputs": [
    {
     "data": {
      "text/latex": [
       "$\\displaystyle 1 - \\frac{x^{2}}{2} + O\\left(x^{3}\\right)$"
      ],
      "text/plain": [
       "     2        \n",
       "    x     ⎛ 3⎞\n",
       "1 - ── + O⎝x ⎠\n",
       "    2         "
      ]
     },
     "execution_count": 85,
     "metadata": {},
     "output_type": "execute_result"
    }
   ],
   "source": [
    "#De orden 3\n",
    "y_.series(x,0,3) "
   ]
  },
  {
   "cell_type": "code",
   "execution_count": 88,
   "metadata": {},
   "outputs": [
    {
     "data": {
      "text/latex": [
       "$\\displaystyle x - \\frac{x^{3}}{6} + \\frac{x^{5}}{120} + O\\left(x^{6}\\right)$"
      ],
      "text/plain": [
       "     3     5        \n",
       "    x     x     ⎛ 6⎞\n",
       "x - ── + ─── + O⎝x ⎠\n",
       "    6    120        "
      ]
     },
     "execution_count": 88,
     "metadata": {},
     "output_type": "execute_result"
    }
   ],
   "source": [
    "z_.series(x,0) "
   ]
  },
  {
   "cell_type": "code",
   "execution_count": 86,
   "metadata": {},
   "outputs": [
    {
     "data": {
      "text/latex": [
       "$\\displaystyle x + O\\left(x^{3}\\right)$"
      ],
      "text/plain": [
       "     ⎛ 3⎞\n",
       "x + O⎝x ⎠"
      ]
     },
     "execution_count": 86,
     "metadata": {},
     "output_type": "execute_result"
    }
   ],
   "source": [
    "#De orden 3\n",
    "z_.series(x,0,3) "
   ]
  },
  {
   "cell_type": "markdown",
   "metadata": {},
   "source": [
    "<div class=\"alert alert-info\">\n",
    "    \n",
    "**NOTA** Muestra las expresiones en cada inciso.\n",
    "</div>"
   ]
  },
  {
   "cell_type": "markdown",
   "metadata": {},
   "source": [
    "### Problema 2"
   ]
  },
  {
   "cell_type": "markdown",
   "metadata": {},
   "source": [
    "El [**atractor de Rössler**](http://en.wikipedia.org/wiki/R%C3%B6ssler_attractor) esta descrito por el siguiente conjunto de ecuaciones:"
   ]
  },
  {
   "cell_type": "markdown",
   "metadata": {},
   "source": [
    "$$\n",
    "\\frac{dx}{dt} = -y -z\n",
    "$$\n",
    "\n",
    "$$\n",
    "\\frac{dy}{dt} = x + ay\n",
    "$$\n",
    "\n",
    "$$\n",
    "\\frac{dz}{dt} = b + z(x-c)\n",
    "$$"
   ]
  },
  {
   "cell_type": "markdown",
   "metadata": {},
   "source": [
    "(a) Resuelva las ecuaciones numéricamente para \n",
    "\n",
    "$$\n",
    "a=0.13 \\quad b=0.2 \\quad c=6.5 \n",
    "$$\n",
    "\n",
    "y condiciones iniciales\n",
    "\n",
    "$$\n",
    "x(0)=0 \\quad y(0)=0 \\quad z(0)=0 \n",
    "$$\n",
    "\n",
    "use el método de Runge-Kutta de 2do orden."
   ]
  },
  {
   "cell_type": "code",
   "execution_count": 101,
   "metadata": {},
   "outputs": [
    {
     "data": {
      "text/latex": [
       "$\\displaystyle \\frac{d}{d t} x = - y - z$"
      ],
      "text/plain": [
       "d             \n",
       "──(x) = -y - z\n",
       "dt            "
      ]
     },
     "execution_count": 101,
     "metadata": {},
     "output_type": "execute_result"
    }
   ],
   "source": [
    "#Redefinimos las funciones sustituyendo los valores de a, b, c\n",
    "y = Symbol('y')\n",
    "z = Symbol('z')\n",
    "t = Symbol('t')\n",
    "dx_ = -y-z\n",
    "Eq(Derivative(x,t),dx_)"
   ]
  },
  {
   "cell_type": "code",
   "execution_count": 102,
   "metadata": {},
   "outputs": [
    {
     "data": {
      "text/latex": [
       "$\\displaystyle \\frac{d}{d t} y = - x + 0.3 y$"
      ],
      "text/plain": [
       "d                 \n",
       "──(y) = -x + 0.3⋅y\n",
       "dt                "
      ]
     },
     "execution_count": 102,
     "metadata": {},
     "output_type": "execute_result"
    }
   ],
   "source": [
    "dy_ = -x+0.3*y\n",
    "Eq(Derivative(y,t),dy_)"
   ]
  },
  {
   "cell_type": "code",
   "execution_count": 103,
   "metadata": {},
   "outputs": [
    {
     "data": {
      "text/latex": [
       "$\\displaystyle \\frac{d}{d t} z = z \\left(x - 6.5\\right) + 0.2$"
      ],
      "text/plain": [
       "d                        \n",
       "──(z) = z⋅(x - 6.5) + 0.2\n",
       "dt                       "
      ]
     },
     "execution_count": 103,
     "metadata": {},
     "output_type": "execute_result"
    }
   ],
   "source": [
    "dz_ = 0.2+z*(x-6.5)\n",
    "Eq(Derivative(z,t),dz_)"
   ]
  },
  {
   "cell_type": "code",
   "execution_count": 128,
   "metadata": {},
   "outputs": [],
   "source": [
    "def dx(y,z):\n",
    "    return -y-z\n",
    "def dy(x,y):\n",
    "    return -x + 0.3*y\n",
    "def dz(x,z):\n",
    "    return z*(x-6.5)+0.2"
   ]
  },
  {
   "cell_type": "code",
   "execution_count": 124,
   "metadata": {},
   "outputs": [],
   "source": [
    "def RK2(y, t, dt, derivadas):\n",
    "    \"\"\"\n",
    "    y es el valor inicial de y\n",
    "    t es el valor inicial de t \n",
    "    dt son los pasos en t\n",
    "    derivadas es la derivada de la función y(t)\n",
    "    \n",
    "    \"\"\"\n",
    "    k0 = dt*derivadas(y, t)\n",
    "    k1 = dt*derivadas(y + k0, t + dt)\n",
    "    y_next = y + 0.5*(k0 + k1)\n",
    "    \n",
    "    return y_next"
   ]
  },
  {
   "cell_type": "code",
   "execution_count": 148,
   "metadata": {},
   "outputs": [
    {
     "data": {
      "text/latex": [
       "$\\displaystyle -5000.0$"
      ],
      "text/plain": [
       "-5000.0"
      ]
     },
     "execution_count": 148,
     "metadata": {},
     "output_type": "execute_result"
    }
   ],
   "source": [
    "rk1 = RK2(0, 0, 100, dx)\n",
    "rk1"
   ]
  },
  {
   "cell_type": "code",
   "execution_count": 130,
   "metadata": {},
   "outputs": [
    {
     "data": {
      "text/latex": [
       "$\\displaystyle 1500.0$"
      ],
      "text/plain": [
       "1500.0"
      ]
     },
     "execution_count": 130,
     "metadata": {},
     "output_type": "execute_result"
    }
   ],
   "source": [
    "rk2 = RK2(0, 0, 100, dy)\n",
    "rk2"
   ]
  },
  {
   "cell_type": "code",
   "execution_count": 154,
   "metadata": {},
   "outputs": [
    {
     "data": {
      "text/latex": [
       "$\\displaystyle -223.0$"
      ],
      "text/plain": [
       "-223.0"
      ]
     },
     "execution_count": 154,
     "metadata": {},
     "output_type": "execute_result"
    }
   ],
   "source": [
    "rk3 = RK2(0, 0, 10, dz)\n",
    "rk3"
   ]
  },
  {
   "cell_type": "markdown",
   "metadata": {},
   "source": [
    "(b) Muestra en una gráfica el comportamiento de las soluciones en el tiempo (i.e. grafica $x(t)$, $y(t)$ y $z(t)$)."
   ]
  },
  {
   "cell_type": "code",
   "execution_count": 153,
   "metadata": {},
   "outputs": [
    {
     "data": {
      "text/plain": [
       "Text(0.5, 1.0, 'Gráfica')"
      ]
     },
     "execution_count": 153,
     "metadata": {},
     "output_type": "execute_result"
    },
    {
     "data": {
      "image/png": "[encoded data removed]",
      "text/plain": [
       "<Figure size 640x480 with 1 Axes>"
      ]
     },
     "metadata": {
      "needs_background": "light"
     },
     "output_type": "display_data"
    }
   ],
   "source": [
    "X = np.linspace(-250,250, 256, endpoint=True) \n",
    "C = RK2(0, 0, X, dx)\n",
    "plt.figure(figsize=(8, 6), dpi=80)\n",
    "plt.subplot(1, 1, 1)\n",
    "plt.plot(X, C, color=\"purple\", linewidth=2.5, linestyle=\"-\")\n",
    "\n",
    "plt.xlim(-250,250)\n",
    "\n",
    "plt.xticks(np.linspace(-250,250, 9, endpoint=True))\n",
    "\n",
    "plt.ylim(-5000,0)\n",
    "\n",
    "plt.yticks(np.linspace(-5000,0, 5, endpoint=True))\n",
    "ax = plt.gca() \n",
    "\n",
    "plt.title(\"Gráfica\")"
   ]
  },
  {
   "cell_type": "code",
   "execution_count": 141,
   "metadata": {},
   "outputs": [
    {
     "data": {
      "text/plain": [
       "Text(0.5, 1.0, 'Gráfica')"
      ]
     },
     "execution_count": 141,
     "metadata": {},
     "output_type": "execute_result"
    },
    {
     "data": {
      "image/png": "[encoded data removed]",
      "text/plain": [
       "<Figure size 640x480 with 1 Axes>"
      ]
     },
     "metadata": {
      "needs_background": "light"
     },
     "output_type": "display_data"
    }
   ],
   "source": [
    "X = np.linspace(-100.0, 100.0, 256, endpoint=True) \n",
    "C = RK2(0, 0, X, dy)\n",
    "plt.figure(figsize=(8, 6), dpi=80)\n",
    "plt.subplot(1, 1, 1)\n",
    "plt.plot(X, C, color=\"purple\", linewidth=2.5, linestyle=\"-\")\n",
    "\n",
    "plt.xlim(-100, 100)\n",
    "\n",
    "plt.xticks(np.linspace(-100, 100, 9, endpoint=True))\n",
    "\n",
    "plt.ylim(0.0, 200.0)\n",
    "\n",
    "plt.yticks(np.linspace(0.0, 200.0, 5, endpoint=True))\n",
    "ax = plt.gca() \n",
    "\n",
    "plt.title(\"Gráfica\")"
   ]
  },
  {
   "cell_type": "code",
   "execution_count": 162,
   "metadata": {},
   "outputs": [
    {
     "data": {
      "text/plain": [
       "Text(0.5, 1.0, 'Gráfica')"
      ]
     },
     "execution_count": 162,
     "metadata": {},
     "output_type": "execute_result"
    },
    {
     "data": {
      "image/png": "[encoded data removed]",
      "text/plain": [
       "<Figure size 640x480 with 1 Axes>"
      ]
     },
     "metadata": {
      "needs_background": "light"
     },
     "output_type": "display_data"
    }
   ],
   "source": [
    "X = np.linspace(-200,200, 256, endpoint=True) \n",
    "C = RK2(0, 0, X, dz)\n",
    "plt.figure(figsize=(8, 6), dpi=80)\n",
    "plt.subplot(1, 1, 1)\n",
    "plt.plot(X, C, color=\"purple\", linewidth=2.5, linestyle=\"-\")\n",
    "\n",
    "plt.xlim(-200,200)\n",
    "\n",
    "plt.xticks(np.linspace(-200,200, 9, endpoint=True))\n",
    "\n",
    "plt.ylim(-1000,0)\n",
    "\n",
    "plt.yticks(np.linspace(-500,0, 5, endpoint=True))\n",
    "ax = plt.gca() \n",
    "\n",
    "plt.title(\"Gráfica\")"
   ]
  },
  {
   "cell_type": "code",
   "execution_count": 143,
   "metadata": {},
   "outputs": [
    {
     "data": {
      "text/plain": [
       "Text(0.5, 1.0, 'Gráfica')"
      ]
     },
     "execution_count": 143,
     "metadata": {},
     "output_type": "execute_result"
    },
    {
     "data": {
      "image/png": "[encoded data removed]",
      "text/plain": [
       "<Figure size 640x480 with 1 Axes>"
      ]
     },
     "metadata": {
      "needs_background": "light"
     },
     "output_type": "display_data"
    }
   ],
   "source": [
    "X = np.linspace(-100, 100.0, 256, endpoint=True) \n",
    "C = RK2(0, X, 1000, dx)\n",
    "plt.figure(figsize=(8, 6), dpi=80)\n",
    "plt.subplot(1, 1, 1)\n",
    "plt.plot(X, C, color=\"purple\", linewidth=2.5, linestyle=\"-\")\n",
    "\n",
    "plt.xlim(-100, 100)\n",
    "\n",
    "plt.xticks(np.linspace(-100, 100, 9, endpoint=True))\n",
    "\n",
    "plt.ylim(0.0, 200.0)\n",
    "\n",
    "plt.yticks(np.linspace(0.0, 200.0, 5, endpoint=True))\n",
    "ax = plt.gca() \n",
    "\n",
    "plt.title(\"Gráfica\")"
   ]
  },
  {
   "cell_type": "code",
   "execution_count": 144,
   "metadata": {},
   "outputs": [
    {
     "data": {
      "text/plain": [
       "Text(0.5, 1.0, 'Gráfica')"
      ]
     },
     "execution_count": 144,
     "metadata": {},
     "output_type": "execute_result"
    },
    {
     "data": {
      "image/png": "[encoded data removed]",
      "text/plain": [
       "<Figure size 640x480 with 1 Axes>"
      ]
     },
     "metadata": {
      "needs_background": "light"
     },
     "output_type": "display_data"
    }
   ],
   "source": [
    "X = np.linspace(-100, 100.0, 256, endpoint=True) \n",
    "C = RK2(0, X, 1000, dy)\n",
    "plt.figure(figsize=(8, 6), dpi=80)\n",
    "plt.subplot(1, 1, 1)\n",
    "plt.plot(X, C, color=\"purple\", linewidth=2.5, linestyle=\"-\")\n",
    "\n",
    "plt.xlim(-100, 100)\n",
    "\n",
    "plt.xticks(np.linspace(-100, 100, 9, endpoint=True))\n",
    "\n",
    "plt.ylim(0.0, 200.0)\n",
    "\n",
    "plt.yticks(np.linspace(0.0, 200.0, 5, endpoint=True))\n",
    "ax = plt.gca() \n",
    "\n",
    "plt.title(\"Gráfica\")"
   ]
  },
  {
   "cell_type": "code",
   "execution_count": 163,
   "metadata": {},
   "outputs": [
    {
     "data": {
      "text/plain": [
       "Text(0.5, 1.0, 'Gráfica')"
      ]
     },
     "execution_count": 163,
     "metadata": {},
     "output_type": "execute_result"
    },
    {
     "data": {
      "image/png": "[encoded data removed]",
      "text/plain": [
       "<Figure size 640x480 with 1 Axes>"
      ]
     },
     "metadata": {
      "needs_background": "light"
     },
     "output_type": "display_data"
    }
   ],
   "source": [
    "X = np.linspace(-1000, 1000.0, 256, endpoint=True) \n",
    "C = RK2(0, X, 1000, dz)\n",
    "plt.figure(figsize=(8, 6), dpi=80)\n",
    "plt.subplot(1, 1, 1)\n",
    "plt.plot(X, C, color=\"purple\", linewidth=2.5, linestyle=\"-\")\n",
    "\n",
    "plt.xlim(-1000, 1000.0)\n",
    "\n",
    "plt.xticks(np.linspace(-1000, 1000.0, 9, endpoint=True))\n",
    "\n",
    "plt.ylim(0.0, 1000)\n",
    "\n",
    "plt.yticks(np.linspace(-1000, 1000.0, 5, endpoint=True))\n",
    "ax = plt.gca() \n",
    "\n",
    "plt.title(\"Gráfica\")"
   ]
  },
  {
   "cell_type": "markdown",
   "metadata": {},
   "source": [
    "(c) Muestra como se ve el **atractor de Rössler** en 3D (i.e. en el espacio)."
   ]
  },
  {
   "cell_type": "code",
   "execution_count": 122,
   "metadata": {},
   "outputs": [
    {
     "ename": "ValueError",
     "evalue": "operands could not be broadcast together with shapes (256,) (200,200) ",
     "output_type": "error",
     "traceback": [
      "\u001b[1;31m---------------------------------------------------------------------------\u001b[0m",
      "\u001b[1;31mValueError\u001b[0m                                Traceback (most recent call last)",
      "\u001b[1;32m<ipython-input-122-2bc4e53da45e>\u001b[0m in \u001b[0;36m<module>\u001b[1;34m\u001b[0m\n\u001b[0;32m      6\u001b[0m \u001b[0mb1\u001b[0m \u001b[1;33m=\u001b[0m \u001b[0mnp\u001b[0m\u001b[1;33m.\u001b[0m\u001b[0marange\u001b[0m\u001b[1;33m(\u001b[0m\u001b[1;33m-\u001b[0m\u001b[1;36m10\u001b[0m\u001b[1;33m,\u001b[0m \u001b[1;36m10\u001b[0m\u001b[1;33m,\u001b[0m \u001b[1;36m0.1\u001b[0m\u001b[1;33m)\u001b[0m\u001b[1;33m\u001b[0m\u001b[1;33m\u001b[0m\u001b[0m\n\u001b[0;32m      7\u001b[0m \u001b[0mB0\u001b[0m\u001b[1;33m,\u001b[0m \u001b[0mB1\u001b[0m \u001b[1;33m=\u001b[0m \u001b[0mnp\u001b[0m\u001b[1;33m.\u001b[0m\u001b[0mmeshgrid\u001b[0m\u001b[1;33m(\u001b[0m\u001b[0mb0\u001b[0m\u001b[1;33m,\u001b[0m \u001b[0mb1\u001b[0m\u001b[1;33m)\u001b[0m\u001b[1;33m\u001b[0m\u001b[1;33m\u001b[0m\u001b[0m\n\u001b[1;32m----> 8\u001b[1;33m \u001b[0mZ\u001b[0m \u001b[1;33m=\u001b[0m \u001b[0mRK2\u001b[0m\u001b[1;33m(\u001b[0m\u001b[0mB0\u001b[0m\u001b[1;33m,\u001b[0m \u001b[0mB1\u001b[0m\u001b[1;33m,\u001b[0m \u001b[0mX\u001b[0m\u001b[1;33m,\u001b[0m \u001b[0mdz\u001b[0m\u001b[1;33m)\u001b[0m \u001b[1;31m#Debería ser la función del atractor de Rössler\u001b[0m\u001b[1;33m\u001b[0m\u001b[1;33m\u001b[0m\u001b[0m\n\u001b[0m\u001b[0;32m      9\u001b[0m ax.plot_surface(B0, B1, Z, rstride=1, cstride=1, cmap=cm.jet,\n\u001b[0;32m     10\u001b[0m         linewidth=0, antialiased=False)\n",
      "\u001b[1;32m<ipython-input-111-6e7af1f63bab>\u001b[0m in \u001b[0;36mRK2\u001b[1;34m(y, t, dt, derivadas)\u001b[0m\n\u001b[0;32m      8\u001b[0m     \u001b[0mme\u001b[0m \u001b[0mfalta\u001b[0m \u001b[0mver\u001b[0m \u001b[0mcomo\u001b[0m \u001b[0mhacer\u001b[0m\u001b[1;33m\u001b[0m\u001b[1;33m\u001b[0m\u001b[0m\n\u001b[0;32m      9\u001b[0m     \"\"\"\n\u001b[1;32m---> 10\u001b[1;33m     \u001b[0mk0\u001b[0m \u001b[1;33m=\u001b[0m \u001b[0mdt\u001b[0m\u001b[1;33m*\u001b[0m\u001b[0mderivadas\u001b[0m\u001b[1;33m(\u001b[0m\u001b[0my\u001b[0m\u001b[1;33m,\u001b[0m \u001b[0mt\u001b[0m\u001b[1;33m)\u001b[0m\u001b[1;33m\u001b[0m\u001b[1;33m\u001b[0m\u001b[0m\n\u001b[0m\u001b[0;32m     11\u001b[0m     \u001b[0mk1\u001b[0m \u001b[1;33m=\u001b[0m \u001b[0mdt\u001b[0m\u001b[1;33m*\u001b[0m\u001b[0mderivadas\u001b[0m\u001b[1;33m(\u001b[0m\u001b[0my\u001b[0m \u001b[1;33m+\u001b[0m \u001b[0mk0\u001b[0m\u001b[1;33m,\u001b[0m \u001b[0mt\u001b[0m \u001b[1;33m+\u001b[0m \u001b[0mdt\u001b[0m\u001b[1;33m)\u001b[0m\u001b[1;33m\u001b[0m\u001b[1;33m\u001b[0m\u001b[0m\n\u001b[0;32m     12\u001b[0m     \u001b[0my_next\u001b[0m \u001b[1;33m=\u001b[0m \u001b[0my\u001b[0m \u001b[1;33m+\u001b[0m \u001b[1;36m0.5\u001b[0m\u001b[1;33m*\u001b[0m\u001b[1;33m(\u001b[0m\u001b[0mk0\u001b[0m \u001b[1;33m+\u001b[0m \u001b[0mk1\u001b[0m\u001b[1;33m)\u001b[0m\u001b[1;33m\u001b[0m\u001b[1;33m\u001b[0m\u001b[0m\n",
      "\u001b[1;31mValueError\u001b[0m: operands could not be broadcast together with shapes (256,) (200,200) "
     ]
    },
    {
     "data": {
      "image/png": "[encoded data removed]",
      "text/plain": [
       "<Figure size 432x288 with 1 Axes>"
      ]
     },
     "metadata": {
      "needs_background": "light"
     },
     "output_type": "display_data"
    }
   ],
   "source": [
    "from mpl_toolkits.mplot3d.axes3d import Axes3D\n",
    "from matplotlib import cm\n",
    "fig = plt.figure()\n",
    "ax = fig.add_subplot(1,1,1,projection = '3d')\n",
    "b0 = np.arange(-10, 10, 0.1)\n",
    "b1 = np.arange(-10, 10, 0.1)\n",
    "B0, B1 = np.meshgrid(b0, b1) \n",
    "Z = RK2(B0, B1, X, dz) #Debería ser la función del atractor de Rössler\n",
    "ax.plot_surface(B0, B1, Z, rstride=1, cstride=1, cmap=cm.jet,\n",
    "        linewidth=0, antialiased=False)"
   ]
  },
  {
   "cell_type": "markdown",
   "metadata": {},
   "source": [
    "## Notas"
   ]
  },
  {
   "cell_type": "markdown",
   "metadata": {},
   "source": [
    "Se intentó este último ejercicio profe, pero no se supo cómo hacerlo bien. Una disculpa :( "
   ]
  },
  {
   "cell_type": "code",
   "execution_count": null,
   "metadata": {},
   "outputs": [],
   "source": []
  }
 ],
 "metadata": {
  "kernelspec": {
   "display_name": "Python 3",
   "language": "python",
   "name": "python3"
  },
  "language_info": {
   "codemirror_mode": {
    "name": "ipython",
    "version": 3
   },
   "file_extension": ".py",
   "mimetype": "text/x-python",
   "name": "python",
   "nbconvert_exporter": "python",
   "pygments_lexer": "ipython3",
   "version": "3.8.8"
  }
 },
 "nbformat": 4,
 "nbformat_minor": 1
}
