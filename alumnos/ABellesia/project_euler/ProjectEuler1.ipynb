{
 "cells": [
  {
   "cell_type": "markdown",
   "id": "753f1574",
   "metadata": {},
   "source": [
    "## Multiples of 3 and 5: \n",
    "\n",
    "If we list all the natural numbers below 10 that are multiples of 3 or 5, we get 3, 5, 6 and 9. The sum of these multiples is 23.\n",
    "\n",
    "Find the sum of all the multiples of 3 or 5 below 1000."
   ]
  },
  {
   "cell_type": "markdown",
   "id": "bf7f7d70",
   "metadata": {},
   "source": [
    "### Solución 1: Listas de comprensión\n",
    "\n",
    "Se nos pide sumar todos los múltiplos de 3 o múltiplos de 5 menores a 1000. \n",
    "    \n",
    "Para eso, en la primera parte de la instrucción, establecemos una variable \"i\", la cuál variará entre 0 y 1000. Es importante notar que se suman los números *estrictamente menores* a 1000, es por esto que en la instrucción *in range()*, la cual es excluyente, se escribe el número 1000 y no 10001. De otra forma se tomaría en cuenta el número 1000 en la suma. \n",
    "    \n",
    "En la segunda parte de la instrucción se establece la condición de que los números a sumar sean múltiplos de 3 o de 5. Para eso se utiliza el *módulo* igualado a 0. \n",
    "\n",
    "Fianlmente se imprime el resultado: 233168"
   ]
  },
  {
   "cell_type": "code",
   "execution_count": 1,
   "id": "b61fe333",
   "metadata": {},
   "outputs": [
    {
     "data": {
      "text/plain": [
       "233168"
      ]
     },
     "execution_count": 1,
     "metadata": {},
     "output_type": "execute_result"
    }
   ],
   "source": [
    "#El ejercicio se puede resolver fácilmente utilizando listas de comprensión:|\n",
    "sum(i for i in range(1000) if(i%3==0 or i%5==0))"
   ]
  },
  {
   "cell_type": "markdown",
   "id": "4fa5d095",
   "metadata": {},
   "source": [
    "### Solución 2: Funciones\n",
    "\n",
    "Se utiliza la misma lógica que en la solución anterior, simplemente se separan las instrucciones para ponerlas en una función. "
   ]
  },
  {
   "cell_type": "code",
   "execution_count": 2,
   "id": "998ad53b",
   "metadata": {},
   "outputs": [
    {
     "name": "stdout",
     "output_type": "stream",
     "text": [
      "La suma de los mútiplos de tres y de 5 menores a 1000 es: \n",
      "233168\n"
     ]
    }
   ],
   "source": [
    "def suma_1000():\n",
    "    res = 0 #se declara una variable donde se irán sumando los múltiplos\n",
    "    for i in range (1000):  #se establece el rango en el que variarán los números que se sumarán\n",
    "        if(i%3 == 0 or i%5 == 0):  #se establece la condición de multiplicidad\n",
    "            res += i  #en caso de ser múltiplo, se suma el número al resultado\n",
    "    return str(res)  #se regresa una cadena de caracteres con el resultado\n",
    "\n",
    "\n",
    "print('La suma de los mútiplos de tres y de 5 menores a 1000 es: ')\n",
    "print(suma_1000())            "
   ]
  }
 ],
 "metadata": {
  "kernelspec": {
   "display_name": "Python 3",
   "language": "python",
   "name": "python3"
  },
  "language_info": {
   "codemirror_mode": {
    "name": "ipython",
    "version": 3
   },
   "file_extension": ".py",
   "mimetype": "text/x-python",
   "name": "python",
   "nbconvert_exporter": "python",
   "pygments_lexer": "ipython3",
   "version": "3.8.8"
  }
 },
 "nbformat": 4,
 "nbformat_minor": 5
}
