{
 "cells": [
  {
   "cell_type": "markdown",
   "metadata": {},
   "source": [
    "<div class=\"alert alert-warning\">\n",
    "    \n",
    "Lectura recomendada: [Best Practices for Scientific Computing](http://arxiv.org/pdf/1210.0530v3.pdf)\n",
    "</div>"
   ]
  },
  {
   "cell_type": "markdown",
   "metadata": {},
   "source": [
    "# Caos: Primera parte"
   ]
  },
  {
   "cell_type": "markdown",
   "metadata": {},
   "source": [
    "## Introducción"
   ]
  },
  {
   "cell_type": "markdown",
   "metadata": {},
   "source": [
    "- Edward Lorenz la definió como:\n",
    "\n",
    "    **Caos** Cuando el presente determina el futuro, pero el presente aproximado no determina aproximadamente el futuro."
   ]
  },
  {
   "cell_type": "markdown",
   "metadata": {},
   "source": [
    "- La **teoría del caos** estudia el comportamiento de los sistemas dinámicos que son muy sensibles a las condiciones iniciales (El famoso _efecto mariposa_ según [Jurassic Park](http://en.wikipedia.org/wiki/Jurassic_Park_%28film%29)). \n",
    "        - Aunque no es lo único, ve más adelante.\n",
    "        \n",
    "- Este hecho hace que la predicción  alargo plazo sea imposible.\n",
    "\n",
    "- Entonces la afirmación **determinismo** $\\to$ **predictibilidad** es falsa.\n",
    "\n"
   ]
  },
  {
   "cell_type": "markdown",
   "metadata": {},
   "source": [
    "Chaos was the law of nature; Order was the dream of man\n",
    "-- Henry Adams"
   ]
  },
  {
   "cell_type": "markdown",
   "metadata": {},
   "source": [
    "- Para saber **muchísimo más** recomiendo: [Chaos Book](http://chaosbook.org/)"
   ]
  },
  {
   "cell_type": "markdown",
   "metadata": {},
   "source": [
    "Durante siglos en física se estuvo trabajando con sistemas como el [oscilador armónico](http://en.wikipedia.org/wiki/Harmonic_oscillator) y el problema de dos cuerpos con fuerza central (también conocido como [_problema de Kepler_](http://en.wikipedia.org/wiki/Kepler_problem)) los cuales se consideraban como paradigmáticos para resolver problemas. La explosión del caos en el siglo XX nos señalaba que esos problemas y métodos no eran la norma, si no al contrario: eran casos especiales."
   ]
  },
  {
   "cell_type": "markdown",
   "metadata": {},
   "source": [
    "A lo largo del curso (sobre todo en la última parte) podría quedar el sabor de boca de que las herramientas analíticas son un fraude y que hemos sido engañados durante toda nuestra educación y que el único camino son las simulaciones y la estadística."
   ]
  },
  {
   "cell_type": "markdown",
   "metadata": {},
   "source": [
    "Pero eso no es cierto: Existen teorías que tienen el mismo poder predictivo, y el estudio del caso general sigue abriendo el camino para la comprehensión científica del mundo."
   ]
  },
  {
   "cell_type": "markdown",
   "metadata": {},
   "source": [
    "Lo que si es cierto, es que, partiendo de la definición de que un **sistema determinístico** es aquel que su estado futuro esta _completamente_ determinado por sus condiciones actuales (en contraste con un sistema estocástico en el cual el futuro está determinado sólo parcialmente) ya no implica **predictibilidad**."
   ]
  },
  {
   "cell_type": "markdown",
   "metadata": {},
   "source": [
    "## Sensitividad a condiciones iniciales"
   ]
  },
  {
   "cell_type": "markdown",
   "metadata": {},
   "source": [
    "Una de las características que puede indicar **caos** es la sensibiliad a condiciones iniciales, la cual se puede expresar matemáticamente como:"
   ]
  },
  {
   "cell_type": "markdown",
   "metadata": {},
   "source": [
    "$$\n",
    "|\\delta\\mathbf{x}(t)| = e^{\\lambda t}|\\delta\\mathbf{x}(0)|\n",
    "$$"
   ]
  },
  {
   "cell_type": "markdown",
   "metadata": {},
   "source": [
    "a $\\lambda$ se le conoce como _exponente de Lyapunov_. Si este exponente positivo indica que con el paso del tiempo la diferencia $\\delta$ crece exponencialmente."
   ]
  },
  {
   "cell_type": "markdown",
   "metadata": {},
   "source": [
    "<div class=\"alert alert-danger\">\n",
    "    \n",
    "**NOTA** La sensibilidad es una idea muy importante pero no determina completamente si el sistema es caotico o no, para ello se necesita otra característica: _mezcla topológica_ (topological mixing), la cual verémos más adelante, pero se puede entender como que las trayectorias del sistema, luego de diverger se vueven a aproximar un número infinito de veces.\n",
    "</div>"
   ]
  },
  {
   "cell_type": "markdown",
   "metadata": {},
   "source": [
    "### Mapeos"
   ]
  },
  {
   "cell_type": "markdown",
   "metadata": {},
   "source": [
    "A los sistemas dinámicos discretos, en una dimensión se les conoce como **mapas**, ya que son funciones\n",
    "\n",
    "$$\n",
    "f: \\mathrm{R} \\to \\mathrm{R}\n",
    "$$\n",
    "\n",
    "y los cuales producen la _secuencia_ de puntos:\n",
    "\n",
    "$$\n",
    "\\{x, f(x), f^2(x), f^3(x), \\ldots\\}\n",
    "$$\n",
    "\n",
    "la cual se conoce como _órbita_ de $x$ bajo $f$."
   ]
  },
  {
   "cell_type": "markdown",
   "metadata": {},
   "source": [
    "Los sistemas dinámicos discretos, se pueden pensar como ecuaciones de diferencias de primer orden\n",
    "\n",
    "$$\n",
    "y = x_{n+1} = f(x_n)\n",
    "$$\n",
    "\n",
    "y regularmente \n",
    "\n",
    "$$\n",
    "y=f(x) = f(x, a)\n",
    "$$\n",
    "\n",
    "existe un parámetro $a$ que puede influir muchísimo en el comportamiento del sistema."
   ]
  },
  {
   "cell_type": "markdown",
   "metadata": {},
   "source": [
    "### Comportamientos"
   ]
  },
  {
   "cell_type": "markdown",
   "metadata": {},
   "source": [
    "Pueden pasar lo siguiente:\n",
    "\n",
    "- Si $f(x) = x$ hemos alcanzado un _punto fijo_.\n",
    "\n",
    "- Si $f^n(x) = x$, pero $f^k(x) \\neq x$ para $k \\leq n$, se dice que la órbita tiene _periodo_ de orden $n$."
   ]
  },
  {
   "cell_type": "markdown",
   "metadata": {},
   "source": [
    "### Mapeo logístico"
   ]
  },
  {
   "cell_type": "markdown",
   "metadata": {},
   "source": [
    "$$\n",
    "x_{n+1} = rx_n(1 -x_n)\n",
    "$$"
   ]
  },
  {
   "cell_type": "markdown",
   "metadata": {},
   "source": [
    "Donde, para fines de esta clase, $r$ esta contenido en \n",
    "\n",
    "$$\n",
    "0 \\leq r \\leq 4\n",
    "$$\n",
    "\n",
    "la razón de esto, es que el cuadro unitario mapea al cuadro unitario, i.e.\n",
    "\n",
    "$$ \n",
    "0 \\leq x \\leq 1 \\to 0 \\leq f(x) \\leq 1\n",
    "$$"
   ]
  },
  {
   "cell_type": "markdown",
   "metadata": {},
   "source": [
    "<div class=\"alert alert-info\">\n",
    "    \n",
    "**Ejercicio** ¿Por qué?\n",
    "</div>"
   ]
  },
  {
   "cell_type": "markdown",
   "metadata": {},
   "source": [
    "Esto es porque como r esta entre 0 y 4 y x entre 0 y 1, esto implica que igual 1-x esta entre 0 y 1 y usando r, rx(1-x) esta entre 0 y 4 y por ende f(x) esta entre 0 y 1"
   ]
  },
  {
   "cell_type": "markdown",
   "metadata": {},
   "source": [
    "<div class=\"alert alert-info\">\n",
    "    \n",
    "**Ejercicio**  Define la función `logistic_map` que recibe como parámetros $x$ y $r$ regresa $rx(1−x)$. \n",
    "</div>"
   ]
  },
  {
   "cell_type": "code",
   "execution_count": 107,
   "metadata": {},
   "outputs": [],
   "source": [
    "def logistic_map(x,r):\n",
    "    return r*x*(1-x)"
   ]
  },
  {
   "cell_type": "markdown",
   "metadata": {},
   "source": [
    "Los _puntos fijos_ del mapeo logístico son:"
   ]
  },
  {
   "cell_type": "markdown",
   "metadata": {},
   "source": [
    "$$\n",
    "x = f(x)\n",
    "$$\n",
    "\n",
    "$$\n",
    "x = rx(1-x)\n",
    "$$\n",
    "\n",
    "$$\n",
    "1 = r(1-x)\n",
    "$$\n",
    "\n",
    "$$\n",
    "x = 1 - \\frac{1}{r}\n",
    "$$"
   ]
  },
  {
   "cell_type": "markdown",
   "metadata": {},
   "source": [
    "El punto fijo se dice _estable_ si $|f(x) - x_0| < |x - x_0|$ e _inestable_ si la desigualdad se invierte."
   ]
  },
  {
   "cell_type": "markdown",
   "metadata": {},
   "source": [
    "<div class=\"alert alert-info\">\n",
    "    \n",
    "**Ejercicio** Calcule el punto fijo para $r = 2$ usando SymPy\n",
    "</div>"
   ]
  },
  {
   "cell_type": "code",
   "execution_count": 108,
   "metadata": {},
   "outputs": [],
   "source": [
    "from sympy import *\n",
    "x, r = symbols('x r')\n",
    "f = Function('f')"
   ]
  },
  {
   "cell_type": "code",
   "execution_count": 109,
   "metadata": {},
   "outputs": [
    {
     "data": {
      "text/latex": [
       "$\\displaystyle x = r x \\left(1 - x\\right)$"
      ],
      "text/plain": [
       "Eq(x, r*x*(1 - x))"
      ]
     },
     "execution_count": 109,
     "metadata": {},
     "output_type": "execute_result"
    }
   ],
   "source": [
    "Eq(x,logistic_map(x,r))"
   ]
  },
  {
   "cell_type": "code",
   "execution_count": 110,
   "metadata": {},
   "outputs": [
    {
     "data": {
      "text/plain": [
       "[0, 1/2]"
      ]
     },
     "execution_count": 110,
     "metadata": {},
     "output_type": "execute_result"
    }
   ],
   "source": [
    "solve(Eq(x,logistic_map(x,2)))"
   ]
  },
  {
   "cell_type": "markdown",
   "metadata": {},
   "source": [
    "<div class=\"alert alert-warning\">\n",
    "\n",
    "**Teorema:**\n",
    "\n",
    "Sea $f(x_0) = x_0.$, entonces, \n",
    "\n",
    "<ul>\n",
    "<li>Si $f'(x)$ es contínua y $|f'(x_0)| < 1$ entonces $x_0$ es estable.</li>\n",
    "\n",
    "\n",
    "<li>Si $f'(x)$ es contínua y $|f'(x_0)| > 1$ entonces $x_0$ es inestable.</li>\n",
    "</ul>\n",
    "</div>"
   ]
  },
  {
   "cell_type": "markdown",
   "metadata": {},
   "source": [
    "<div class=\"alert alert-info\">\n",
    "    \n",
    "**Ejercicio** ¿Cuáles son las condiciones de estabilidad para el parámetro $r$? Los valores de $r$ para cuales cambia de estable a inestable y viceversa, se llaman _puntos de bifurcación_.\n",
    "</div>"
   ]
  },
  {
   "cell_type": "code",
   "execution_count": 111,
   "metadata": {},
   "outputs": [
    {
     "data": {
      "text/latex": [
       "$\\displaystyle \\left|{- r x + r \\left(1 - x\\right)}\\right|$"
      ],
      "text/plain": [
       "Abs(-r*x + r*(1 - x))"
      ]
     },
     "execution_count": 111,
     "metadata": {},
     "output_type": "execute_result"
    }
   ],
   "source": [
    "abs(diff(logistic_map(x,r),x))"
   ]
  },
  {
   "cell_type": "code",
   "execution_count": 112,
   "metadata": {},
   "outputs": [
    {
     "data": {
      "text/latex": [
       "$\\displaystyle - r \\left(1 - \\frac{1}{r}\\right) + 1$"
      ],
      "text/plain": [
       "-r*(1 - 1/r) + 1"
      ]
     },
     "execution_count": 112,
     "metadata": {},
     "output_type": "execute_result"
    }
   ],
   "source": [
    "diff(logistic_map(x,r),x).replace(x,1-1/r)"
   ]
  },
  {
   "cell_type": "code",
   "execution_count": 113,
   "metadata": {},
   "outputs": [
    {
     "data": {
      "text/latex": [
       "$\\displaystyle 1 < r \\wedge r < 3$"
      ],
      "text/plain": [
       "(1 < r) & (r < 3)"
      ]
     },
     "execution_count": 113,
     "metadata": {},
     "output_type": "execute_result"
    }
   ],
   "source": [
    "solve(abs(diff(logistic_map(x,r),x).replace(x,1-1/r))<1)"
   ]
  },
  {
   "cell_type": "markdown",
   "metadata": {},
   "source": [
    "<div class=\"alert alert-info\">\n",
    "    \n",
    "**Ejercicio** Define una función `iterar` que reciba una función `g`, un punto inicial `x0`, un entero `N` y el parámetro `r` regrese $g(g( \\ldots(g(x_0, r),r) \\ldots)$. En otras palabras que itere `g`, `N` veces a partir del punto `x0`.\n",
    "</div>"
   ]
  },
  {
   "cell_type": "code",
   "execution_count": 114,
   "metadata": {},
   "outputs": [],
   "source": [
    "def iterar(g, x0, N, r):\n",
    "    if N == 0:\n",
    "        return x0\n",
    "    if N > 1:\n",
    "        return g(iterar(g,x0,N-1,r),r)\n",
    "    else:\n",
    "        return g(x0,r)"
   ]
  },
  {
   "cell_type": "markdown",
   "metadata": {},
   "source": [
    "<div class=\"alert alert-info\">\n",
    "    \n",
    "**Ejercicio** Define una función `iterarLista` que reciba una función `g`, un punto inicial `x0`, un entero `N` y el parámetro $r$ regrese la lista $[x_0, g(x), g(g(x)), \\ldots g(g(\\ldots(g(x))\\ldots))]$ En otras palabras que itere `g`, `N-1` veces a partir del punto `x0` y devuelva la órbita completa empezando desde `x0`.\n",
    "</div>"
   ]
  },
  {
   "cell_type": "code",
   "execution_count": 115,
   "metadata": {},
   "outputs": [],
   "source": [
    "def iterarLista(g, x0, N, r):\n",
    "    return [iterar(g,x0,i,r) for i in range(N)]"
   ]
  },
  {
   "cell_type": "code",
   "execution_count": 116,
   "metadata": {},
   "outputs": [
    {
     "data": {
      "text/plain": [
       "[0.25,\n",
       " 0.5625,\n",
       " 0.73828125,\n",
       " 0.5796661376953125,\n",
       " 0.7309599195141345,\n",
       " 0.5899725467340735,\n",
       " 0.7257148225025549,\n",
       " 0.5971584567079203,\n",
       " 0.7216807028704055,\n",
       " 0.6025729979246489,\n",
       " 0.7184363402902498,\n",
       " 0.6068566957218066,\n",
       " 0.7157449397382518,\n",
       " 0.6103623629320143,\n",
       " 0.713460446544187,\n",
       " 0.6133039132834688,\n",
       " 0.7114866697039566,\n",
       " 0.6158201656125887,\n",
       " 0.7097570677124175,\n",
       " 0.6180059176340649,\n",
       " 0.7082238102100269,\n",
       " 0.6199285345848561,\n",
       " 0.706851439776987,\n",
       " 0.6216374455865626,\n",
       " 0.7056129954935281,\n",
       " 0.6231698882525353,\n",
       " 0.7044875358835738,\n",
       " 0.6245545430047923,\n",
       " 0.7034584974506021,\n",
       " 0.6258139194454301,\n",
       " 0.7025125730213365,\n",
       " 0.6269659733048335,\n",
       " 0.701638924868269,\n",
       " 0.6280252319339057,\n",
       " 0.7008286199648089,\n",
       " 0.6290035962090911,\n",
       " 0.7000742164953654,\n",
       " 0.629910923681297,\n",
       " 0.6993694557248167,\n",
       " 0.630755460371971,\n",
       " 0.6987090287487417,\n",
       " 0.6315441656811952,\n",
       " 0.6980883974257147,\n",
       " 0.6322829604159362,\n",
       " 0.6975036551507876,\n",
       " 0.6329769186062363,\n",
       " 0.6969514173539713,\n",
       " 0.6336304176067855,\n",
       " 0.6964287344707083,\n",
       " 0.6342472568227079,\n",
       " 0.6959330221067338,\n",
       " 0.6348307525443665,\n",
       " 0.6954620045049594,\n",
       " 0.6353838143847096,\n",
       " 0.6950136684079395,\n",
       " 0.6359090074022347,\n",
       " 0.694586225120818,\n",
       " 0.6364086029796909,\n",
       " 0.6941780790993871,\n",
       " 0.6368846207918165,\n",
       " 0.6937878017720418,\n",
       " 0.6373388636530795,\n",
       " 0.6934141095914426,\n",
       " 0.6377729466328484,\n",
       " 0.6930558455283068,\n",
       " 0.6381883215220516,\n",
       " 0.6927119633847543,\n",
       " 0.6385862975051794,\n",
       " 0.6923815144314178,\n",
       " 0.6389680587152226,\n",
       " 0.6920636359707674,\n",
       " 0.6393346792130657,\n",
       " 0.6917575415057763,\n",
       " 0.6396871358269814,\n",
       " 0.6914625122533633,\n",
       " 0.6400263192048922,\n",
       " 0.691177889789789,\n",
       " 0.6403530433665698,\n",
       " 0.6909030696532253,\n",
       " 0.6406680539909273,\n",
       " 0.6906374957592167,\n",
       " 0.6409720356319639,\n",
       " 0.6903806555093409,\n",
       " 0.641265618023501,\n",
       " 0.6901320754933149,\n",
       " 0.6415493816058132,\n",
       " 0.6898913177010356,\n",
       " 0.6418238623852931,\n",
       " 0.6896579761743524,\n",
       " 0.6420895562203462,\n",
       " 0.6894316740393153,\n",
       " 0.6423469226119878,\n",
       " 0.6892120608686902,\n",
       " 0.6425963880654693,\n",
       " 0.6889988103320462,\n",
       " 0.6428383490792137,\n",
       " 0.6887916180969741,\n",
       " 0.6430731748089789,\n",
       " 0.6885901999502382,\n",
       " 0.6433012094481876]"
      ]
     },
     "execution_count": 116,
     "metadata": {},
     "output_type": "execute_result"
    }
   ],
   "source": [
    "iterarLista(logistic_map,1/4,100,3)"
   ]
  },
  {
   "cell_type": "markdown",
   "metadata": {},
   "source": [
    "<div class=\"alert alert-info\">\n",
    "    \n",
    "**Ejercicio** Usa las funciones recién definidas para calcular iteraciones para $r = \\{ 0.8, 1.2, 2.8, 3.2\\}$,\n",
    "</div>"
   ]
  },
  {
   "cell_type": "code",
   "execution_count": 117,
   "metadata": {},
   "outputs": [
    {
     "data": {
      "text/plain": [
       "[0.35,\n",
       " 0.182,\n",
       " 0.11910080000000002,\n",
       " 0.08393263955148803,\n",
       " 0.06151036125552642,\n",
       " 0.04618146937099284,\n",
       " 0.03523899300618311,\n",
       " 0.02719776510247463,\n",
       " 0.0211664373407242,\n",
       " 0.016574735416820318,\n",
       " 0.013040010850146177,\n",
       " 0.010295975173739397,\n",
       " 0.00815197445516891,\n",
       " 0.006468415814120948,\n",
       " 0.0051412603287812626,\n",
       " 0.00409186221681037,\n",
       " 0.0032600951043272076,\n",
       " 0.0025995735073903593,\n",
       " 0.0020742525799760272,\n",
       " 0.001655960044968392,\n",
       " 0.0013225742730382883,\n",
       " 0.0010566600562644686,\n",
       " 0.0008444348206319711,\n",
       " 0.0006749774003725404,\n",
       " 0.0005396174447052213,\n",
       " 0.0004314610061748729,\n",
       " 0.0003450198780600188,\n",
       " 0.0002759206714750098,\n",
       " 0.00022067563140645008,\n",
       " 0.00017650154693772276,\n",
       " 0.00014117631531332107,\n",
       " 0.00011292510764905251,\n",
       " 9.032988445529197e-05,\n",
       " 7.225737997381302e-05,\n",
       " 5.7801727075881866e-05,\n",
       " 4.6238708828983126e-05,\n",
       " 3.698925664863117e-05,\n",
       " 2.9590310754819002e-05,\n",
       " 2.367154813466275e-05,\n",
       " 1.893679023397733e-05,\n",
       " 1.5149145305562372e-05,\n",
       " 1.2119132647167107e-05,\n",
       " 9.69518861903279e-06,\n",
       " 7.756075697880345e-06,\n",
       " 6.204812432936092e-06,\n",
       " 4.963819146591011e-06,\n",
       " 3.971035605672393e-06,\n",
       " 3.1768158692388892e-06,\n",
       " 2.541444621663858e-06,\n",
       " 2.0331505301784747e-06,\n",
       " 1.6265171171819172e-06,\n",
       " 1.3012115772991878e-06,\n",
       " 1.0409679073180952e-06,\n",
       " 8.327734589631289e-07,\n",
       " 6.66218212361196e-07,\n",
       " 5.329742148115917e-07,\n",
       " 4.263791446000625e-07,\n",
       " 3.4110317024071005e-07,\n",
       " 2.7288244311146987e-07,\n",
       " 2.1830589491731371e-07,\n",
       " 1.7464467780787997e-07,\n",
       " 1.3971571784569316e-07,\n",
       " 1.1177255866016908e-07,\n",
       " 8.941803693365137e-08,\n",
       " 7.153442315045283e-08,\n",
       " 5.7227534426623316e-08,\n",
       " 4.57820249213061e-08,\n",
       " 3.662561826024984e-08,\n",
       " 2.930049353505114e-08,\n",
       " 2.3440394141225774e-08,\n",
       " 1.8752314873418956e-08,\n",
       " 1.5001851617415715e-08,\n",
       " 1.2001481113888131e-08,\n",
       " 9.601184775882066e-09,\n",
       " 7.680947746959455e-09,\n",
       " 6.1447581503699975e-09,\n",
       " 4.915806490089556e-09,\n",
       " 3.9326451727395215e-09,\n",
       " 3.146116125819059e-09,\n",
       " 2.5168928927368096e-09,\n",
       " 2.013514309121648e-09,\n",
       " 1.6108114440539265e-09,\n",
       " 1.2886491531673703e-09,\n",
       " 1.0309193212054028e-09,\n",
       " 8.247354561140865e-10,\n",
       " 6.597883643471183e-10,\n",
       " 5.278306911294381e-10,\n",
       " 4.2226455268066634e-10,\n",
       " 3.378116420018872e-10,\n",
       " 2.702493135102164e-10,\n",
       " 2.1619945074974539e-10,\n",
       " 1.7295956056240255e-10,\n",
       " 1.3836764842599002e-10,\n",
       " 1.1069411872547553e-10,\n",
       " 8.855529497057788e-11,\n",
       " 7.084423597018867e-11,\n",
       " 5.667538877213582e-11,\n",
       " 4.5340311015138976e-11,\n",
       " 3.627224881046659e-11,\n",
       " 2.9017799047320734e-11]"
      ]
     },
     "execution_count": 117,
     "metadata": {},
     "output_type": "execute_result"
    }
   ],
   "source": [
    "x = iterarLista(logistic_map,0.35,100,0.8)\n",
    "x"
   ]
  },
  {
   "cell_type": "code",
   "execution_count": 118,
   "metadata": {},
   "outputs": [
    {
     "data": {
      "text/plain": [
       "[0.35,\n",
       " 0.273,\n",
       " 0.2381652,\n",
       " 0.217731045010752,\n",
       " 0.20438908445913342,\n",
       " 0.19513702393570878,\n",
       " 0.18847027899026808,\n",
       " 0.1835390795131183,\n",
       " 0.17982298296551463,\n",
       " 0.1769840133154786,\n",
       " 0.1747928068154701,\n",
       " 0.17308833780124783,\n",
       " 0.17175451814213874,\n",
       " 0.17070588436788056,\n",
       " 0.1698784624920724,\n",
       " 0.16922372456808232,\n",
       " 0.16870446673366576,\n",
       " 0.16829192356533026,\n",
       " 0.16796370243361355,\n",
       " 0.16770227651808728,\n",
       " 0.1674938675624859,\n",
       " 0.16732760626973558,\n",
       " 0.16719489413973113,\n",
       " 0.16708891381600227,\n",
       " 0.167004250434949,\n",
       " 0.1669365969259318,\n",
       " 0.16688252343926493,\n",
       " 0.16683929617176974,\n",
       " 0.1668047345096139,\n",
       " 0.16677709806574934,\n",
       " 0.1667549971518201,\n",
       " 0.16673732169205988,\n",
       " 0.16672318469642208,\n",
       " 0.16671187725732575,\n",
       " 0.16670283268639693,\n",
       " 0.1666955979128737,\n",
       " 0.16668981065921187,\n",
       " 0.16668518121792955,\n",
       " 0.16668147789633064,\n",
       " 0.16667851538715084,\n",
       " 0.1666761454745834,\n",
       " 0.16667424960518268,\n",
       " 0.1666727329484783,\n",
       " 0.16667151964795623,\n",
       " 0.16667054902343661,\n",
       " 0.1666697725339954,\n",
       " 0.16666915134895396,\n",
       " 0.1666686544050881,\n",
       " 0.16666825685266248,\n",
       " 0.16666793881242886,\n",
       " 0.1666676843813344,\n",
       " 0.16666748083715793,\n",
       " 0.16666731800226423,\n",
       " 0.16666718773463562,\n",
       " 0.166667083520716,\n",
       " 0.1666670001496976,\n",
       " 0.16666693345295794,\n",
       " 0.16666688009561428,\n",
       " 0.1666668374097701,\n",
       " 0.1666668032611144,\n",
       " 0.16666677594220247,\n",
       " 0.16666675408708098,\n",
       " 0.16666673660298895,\n",
       " 0.16666672261571863,\n",
       " 0.16666671142590447,\n",
       " 0.1666667024740545,\n",
       " 0.16666669531257539,\n",
       " 0.16666668958339265,\n",
       " 0.16666668500004683,\n",
       " 0.1666666813333704,\n",
       " 0.16666667840002938,\n",
       " 0.1666666760533567,\n",
       " 0.16666667417601858,\n",
       " 0.16666667267414811,\n",
       " 0.16666667147265177,\n",
       " 0.1666666705114547,\n",
       " 0.16666666974249708,\n",
       " 0.16666666912733097,\n",
       " 0.1666666686351981,\n",
       " 0.16666666824149182,\n",
       " 0.1666666679265268,\n",
       " 0.16666666767455476,\n",
       " 0.16666666747297715,\n",
       " 0.16666666731171506,\n",
       " 0.16666666718270537,\n",
       " 0.16666666707949762,\n",
       " 0.16666666699693145,\n",
       " 0.1666666669308785,\n",
       " 0.16666666687803613,\n",
       " 0.16666666683576226,\n",
       " 0.16666666680194314,\n",
       " 0.16666666677488784,\n",
       " 0.1666666667532436,\n",
       " 0.16666666673592823,\n",
       " 0.16666666672207592,\n",
       " 0.16666666671099406,\n",
       " 0.1666666667021286,\n",
       " 0.16666666669503621,\n",
       " 0.16666666668936228,\n",
       " 0.16666666668482316]"
      ]
     },
     "execution_count": 118,
     "metadata": {},
     "output_type": "execute_result"
    }
   ],
   "source": [
    "x = iterarLista(logistic_map,0.35,100,1.2)\n",
    "x"
   ]
  },
  {
   "cell_type": "code",
   "execution_count": 119,
   "metadata": {},
   "outputs": [
    {
     "data": {
      "text/plain": [
       "[0.35,\n",
       " 0.6369999999999999,\n",
       " 0.6474468000000001,\n",
       " 0.6391264352753279,\n",
       " 0.6458027380212239,\n",
       " 0.6404763724394401,\n",
       " 0.6447458886015159,\n",
       " 0.6413361576522811,\n",
       " 0.6440674535122507,\n",
       " 0.6418847927477873,\n",
       " 0.6436323756433688,\n",
       " 0.6422352738677181,\n",
       " 0.6433535552297706,\n",
       " 0.6424593229683583,\n",
       " 0.6431749556383115,\n",
       " 0.642602609818309,\n",
       " 0.6430605878844199,\n",
       " 0.6426942709436596,\n",
       " 0.6429873661116009,\n",
       " 0.6427529167709075,\n",
       " 0.6429404933095153,\n",
       " 0.6427904430428106,\n",
       " 0.6429104902517859,\n",
       " 0.6428144569727837,\n",
       " 0.6428912864627929,\n",
       " 0.6428298247084225,\n",
       " 0.6428789952865316,\n",
       " 0.6428396595765515,\n",
       " 0.6428711286257536,\n",
       " 0.6428459536945694,\n",
       " 0.6428660938366489,\n",
       " 0.6428499818492018,\n",
       " 0.6428628715199115,\n",
       " 0.6428525598350386,\n",
       " 0.6428608092160147,\n",
       " 0.6428542097324071,\n",
       " 0.6428594893328423,\n",
       " 0.6428552656611666,\n",
       " 0.642858644604057,\n",
       " 0.6428559414532968,\n",
       " 0.6428581039761782,\n",
       " 0.642856373959328,\n",
       " 0.6428577579737393,\n",
       " 0.6428566507628062,\n",
       " 0.6428575365319341,\n",
       " 0.6428568279168758,\n",
       " 0.6428573948090787,\n",
       " 0.6428569412954164,\n",
       " 0.6428573041064103,\n",
       " 0.642857013857656,\n",
       " 0.6428572460566857,\n",
       " 0.6428570602974787,\n",
       " 0.642857208904855,\n",
       " 0.6428570900189609,\n",
       " 0.6428571851276805,\n",
       " 0.6428571090407077,\n",
       " 0.6428571699102877,\n",
       " 0.6428571212146248,\n",
       " 0.642857160171156,\n",
       " 0.6428571290059314,\n",
       " 0.6428571539381115,\n",
       " 0.6428571339923675,\n",
       " 0.6428571499489629,\n",
       " 0.6428571371836866,\n",
       " 0.6428571473959077,\n",
       " 0.6428571392261309,\n",
       " 0.6428571457619524,\n",
       " 0.6428571405332951,\n",
       " 0.642857144716221,\n",
       " 0.6428571413698803,\n",
       " 0.6428571440469528,\n",
       " 0.6428571419052949,\n",
       " 0.6428571436186212,\n",
       " 0.6428571422479601,\n",
       " 0.642857143344489,\n",
       " 0.6428571424672659,\n",
       " 0.6428571431690444,\n",
       " 0.6428571426076215,\n",
       " 0.6428571430567599,\n",
       " 0.6428571426974492,\n",
       " 0.6428571429848977,\n",
       " 0.6428571427549389,\n",
       " 0.642857142938906,\n",
       " 0.6428571427917323,\n",
       " 0.6428571429094712,\n",
       " 0.6428571428152802,\n",
       " 0.6428571428906329,\n",
       " 0.6428571428303508,\n",
       " 0.6428571428785764,\n",
       " 0.642857142839996,\n",
       " 0.6428571428708603,\n",
       " 0.6428571428461689,\n",
       " 0.642857142865922,\n",
       " 0.6428571428501195,\n",
       " 0.6428571428627614,\n",
       " 0.642857142852648,\n",
       " 0.6428571428607387,\n",
       " 0.6428571428542661,\n",
       " 0.6428571428594442,\n",
       " 0.6428571428553017]"
      ]
     },
     "execution_count": 119,
     "metadata": {},
     "output_type": "execute_result"
    }
   ],
   "source": [
    "x = iterarLista(logistic_map,0.35,100,2.8)\n",
    "x"
   ]
  },
  {
   "cell_type": "code",
   "execution_count": 120,
   "metadata": {},
   "outputs": [
    {
     "data": {
      "text/plain": [
       "[0.35,\n",
       " 0.728,\n",
       " 0.6336512000000001,\n",
       " 0.7428395415633919,\n",
       " 0.6112926625705012,\n",
       " 0.7603646184254994,\n",
       " 0.5830728495108611,\n",
       " 0.7779164853572667,\n",
       " 0.5528397669333255,\n",
       " 0.7910654688973819,\n",
       " 0.528898857009751,\n",
       " 0.7973275394032959,\n",
       " 0.5171082697996209,\n",
       " 0.7990633827342829,\n",
       " 0.5137954979440891,\n",
       " 0.7993909895567188,\n",
       " 0.5131681131911958,\n",
       " 0.7994451225439483,\n",
       " 0.5130643794708474,\n",
       " 0.7994538303649334,\n",
       " 0.5130476911352629,\n",
       " 0.7994552248193242,\n",
       " 0.5130450186509057,\n",
       " 0.7994554479628722,\n",
       " 0.5130445909931378,\n",
       " 0.7994554836666297,\n",
       " 0.5130445225663517,\n",
       " 0.799455489379251,\n",
       " 0.5130445116180264,\n",
       " 0.799455490293271,\n",
       " 0.5130445098662934,\n",
       " 0.7994554904395141,\n",
       " 0.5130445095860162,\n",
       " 0.7994554904629131,\n",
       " 0.5130445095411718,\n",
       " 0.7994554904666569,\n",
       " 0.5130445095339967,\n",
       " 0.799455490467256,\n",
       " 0.5130445095328486,\n",
       " 0.7994554904673519,\n",
       " 0.5130445095326648,\n",
       " 0.7994554904673672,\n",
       " 0.5130445095326355,\n",
       " 0.7994554904673696,\n",
       " 0.5130445095326307,\n",
       " 0.79945549046737,\n",
       " 0.5130445095326301,\n",
       " 0.7994554904673701,\n",
       " 0.5130445095326298,\n",
       " 0.7994554904673701,\n",
       " 0.5130445095326298,\n",
       " 0.7994554904673701,\n",
       " 0.5130445095326298,\n",
       " 0.7994554904673701,\n",
       " 0.5130445095326298,\n",
       " 0.7994554904673701,\n",
       " 0.5130445095326298,\n",
       " 0.7994554904673701,\n",
       " 0.5130445095326298,\n",
       " 0.7994554904673701,\n",
       " 0.5130445095326298,\n",
       " 0.7994554904673701,\n",
       " 0.5130445095326298,\n",
       " 0.7994554904673701,\n",
       " 0.5130445095326298,\n",
       " 0.7994554904673701,\n",
       " 0.5130445095326298,\n",
       " 0.7994554904673701,\n",
       " 0.5130445095326298,\n",
       " 0.7994554904673701,\n",
       " 0.5130445095326298,\n",
       " 0.7994554904673701,\n",
       " 0.5130445095326298,\n",
       " 0.7994554904673701,\n",
       " 0.5130445095326298,\n",
       " 0.7994554904673701,\n",
       " 0.5130445095326298,\n",
       " 0.7994554904673701,\n",
       " 0.5130445095326298,\n",
       " 0.7994554904673701,\n",
       " 0.5130445095326298,\n",
       " 0.7994554904673701,\n",
       " 0.5130445095326298,\n",
       " 0.7994554904673701,\n",
       " 0.5130445095326298,\n",
       " 0.7994554904673701,\n",
       " 0.5130445095326298,\n",
       " 0.7994554904673701,\n",
       " 0.5130445095326298,\n",
       " 0.7994554904673701,\n",
       " 0.5130445095326298,\n",
       " 0.7994554904673701,\n",
       " 0.5130445095326298,\n",
       " 0.7994554904673701,\n",
       " 0.5130445095326298,\n",
       " 0.7994554904673701,\n",
       " 0.5130445095326298,\n",
       " 0.7994554904673701,\n",
       " 0.5130445095326298,\n",
       " 0.7994554904673701]"
      ]
     },
     "execution_count": 120,
     "metadata": {},
     "output_type": "execute_result"
    }
   ],
   "source": [
    "x = iterarLista(logistic_map,0.35,100,3.2)\n",
    "x"
   ]
  },
  {
   "cell_type": "markdown",
   "metadata": {},
   "source": [
    "<div class=\"alert alert-info\">\n",
    "    \n",
    "**Ejercicio** Programa un control para cambiar $r$ entre $0$ y $4$ (con un slider) y otro para definid $x_0$. Grafica `logistic_map` respecto al número de iteraciones $N$. ¿Qué observas? ¿Puedes ver algún _periodo_?¿Está cerca de los puntos fijos?\n",
    "</div>"
   ]
  },
  {
   "cell_type": "code",
   "execution_count": 121,
   "metadata": {},
   "outputs": [],
   "source": [
    "from ipywidgets import interact\n",
    "import matplotlib.pyplot as plt"
   ]
  },
  {
   "cell_type": "code",
   "execution_count": 122,
   "metadata": {},
   "outputs": [
    {
     "data": {
      "application/vnd.jupyter.widget-view+json": {
       "model_id": "a0a5e86fe6b944f9b7c07f59364c3733",
       "version_major": 2,
       "version_minor": 0
      },
      "text/plain": [
       "interactive(children=(FloatSlider(value=0.25, description='x0', max=1.0, step=0.01), FloatSlider(value=1.0, de…"
      ]
     },
     "metadata": {},
     "output_type": "display_data"
    }
   ],
   "source": [
    "fig, x = plt.subplots(figsize=(6, 4))\n",
    "\n",
    "X = []\n",
    "for i in range (100):\n",
    "    X.append(i)\n",
    "    \n",
    "@widgets.interact(r = (0,4,0.4),x0 = (0,1,0.01))\n",
    "\n",
    "def control(x0 = 0.25, r = 1):\n",
    "    for j in (x.lines):\n",
    "        j.remove()\n",
    "    plt.plot(X, iterarLista(g = logistic_map, x0 = x0 , N = 100, r = r))\n",
    "    plt.show()"
   ]
  },
  {
   "cell_type": "markdown",
   "metadata": {},
   "source": [
    "<div class=\"alert alert-info\">\n",
    "    \n",
    "**Ejercicio** ¿Qué sucede para (a) $x_0 = 0.35$ en $r = 2.8$ y (b) para $x_0 = 0.35$ en $r=3.1$. ¿Porqué escogí estos valores?\n",
    "</div>"
   ]
  },
  {
   "cell_type": "code",
   "execution_count": 123,
   "metadata": {},
   "outputs": [
    {
     "data": {
      "text/plain": [
       "[<matplotlib.lines.Line2D at 0x7f1265877490>]"
      ]
     },
     "execution_count": 123,
     "metadata": {},
     "output_type": "execute_result"
    },
    {
     "data": {
      "image/png": "[encoded data removed]",
      "text/plain": [
       "<Figure size 432x288 with 1 Axes>"
      ]
     },
     "metadata": {
      "needs_background": "light"
     },
     "output_type": "display_data"
    }
   ],
   "source": [
    "a = iterarLista(logistic_map,0.35,100,2.8)\n",
    "a\n",
    "\n",
    "X = []\n",
    "for i in range (100):\n",
    "    X.append(i)\n",
    "    \n",
    "plt.plot(X,a)"
   ]
  },
  {
   "cell_type": "code",
   "execution_count": 124,
   "metadata": {},
   "outputs": [
    {
     "data": {
      "text/plain": [
       "[<matplotlib.lines.Line2D at 0x7f1265b22c70>]"
      ]
     },
     "execution_count": 124,
     "metadata": {},
     "output_type": "execute_result"
    },
    {
     "data": {
      "image/png": "[encoded data removed]",
      "text/plain": [
       "<Figure size 432x288 with 1 Axes>"
      ]
     },
     "metadata": {
      "needs_background": "light"
     },
     "output_type": "display_data"
    }
   ],
   "source": [
    "b = iterarLista(logistic_map,0.35,100,3.1)\n",
    "b\n",
    "\n",
    "X = []\n",
    "for i in range (100):\n",
    "    X.append(i)\n",
    "    \n",
    "plt.plot(X,b)"
   ]
  },
  {
   "cell_type": "markdown",
   "metadata": {},
   "source": [
    "Estos puntos enseñan que a pesar de ser muy cercanos y tener las iteraciones como el valor de r iguales, como podemos ver en las graficas, son muy diferentes"
   ]
  },
  {
   "cell_type": "markdown",
   "metadata": {},
   "source": [
    "## Diagrama de CobWeb"
   ]
  },
  {
   "cell_type": "markdown",
   "metadata": {},
   "source": [
    "<div class=\"alert alert-info\">\n",
    "    \n",
    "**Ejercicio** Dibuja en una gráfica `logistic_map`, como ejes usa $N_{n+1}$ y $N_n$, además agrega la línea $y = x$ en la misma gráfica. ¿Qué observas para los distintos valores de $r$? Grafícala junto a la gráfica anterior.\n",
    "</div>"
   ]
  },
  {
   "cell_type": "code",
   "execution_count": 125,
   "metadata": {},
   "outputs": [],
   "source": [
    "from ipywidgets import interactive\n",
    "import matplotlib.pyplot as plt"
   ]
  },
  {
   "cell_type": "code",
   "execution_count": 126,
   "metadata": {},
   "outputs": [
    {
     "data": {
      "application/vnd.jupyter.widget-view+json": {
       "model_id": "b8fddda67e7e450ab6f3fc777b72d05e",
       "version_major": 2,
       "version_minor": 0
      },
      "text/plain": [
       "interactive(children=(FloatSlider(value=2.0, description='r', max=4.0, step=0.4), Output()), _dom_classes=('wi…"
      ]
     },
     "metadata": {},
     "output_type": "display_data"
    }
   ],
   "source": [
    "def logistic_map(x,r):\n",
    "    return r*x*(1-x)\n",
    "\n",
    "@widgets.interact(r = (0,4,0.4))\n",
    "\n",
    "def logistic_graph(r):\n",
    "    X = []\n",
    "    Y = []\n",
    "    for i in range(100):\n",
    "        x = i/100\n",
    "        X.append(x)\n",
    "        Y.append(logistic_map(x,r))\n",
    "    plt.plot(X,Y)\n",
    "    plt.plot(X,X)\n",
    "    plt.show()"
   ]
  },
  {
   "cell_type": "markdown",
   "metadata": {},
   "source": [
    "<div class=\"alert alert-info\">\n",
    "    \n",
    "**Ejercicio** Agrega los segmentos de línea $(x_0, x_0), (x_0. f(x_0)), (f(x_0), f(x_0)), (f(x_0), f(f(x_0))), \\ldots$\n",
    "</div>"
   ]
  },
  {
   "cell_type": "code",
   "execution_count": 127,
   "metadata": {},
   "outputs": [
    {
     "data": {
      "application/vnd.jupyter.widget-view+json": {
       "model_id": "028981a9927a49099f2d3f06d237aa3b",
       "version_major": 2,
       "version_minor": 0
      },
      "text/plain": [
       "interactive(children=(FloatSlider(value=2.0, description='r', max=4.0, step=0.4), Output()), _dom_classes=('wi…"
      ]
     },
     "metadata": {},
     "output_type": "display_data"
    }
   ],
   "source": [
    "def logistic_map(x,r):\n",
    "    return r*x*(1-x)\n",
    "\n",
    "@widgets.interact(r = (0,4,0.4))\n",
    "\n",
    "def logistic_graph(r):\n",
    "    X = []\n",
    "    Y = []\n",
    "    X_0 = []\n",
    "    Y_0 = []\n",
    "    for i in range(100):\n",
    "        x = i/100\n",
    "        X.append(x)\n",
    "        Y.append(logistic_map(x,r))\n",
    "        if (i % 2 == 0):\n",
    "            X_0.append(x)\n",
    "            Y_0.append(logistic_map(x,r))\n",
    "        elif (i % 2 == 1):\n",
    "            X_0.append(logistic_map(x,r))\n",
    "            Y_0.append(logistic_map(x,r))\n",
    "    plt.plot(X,Y)\n",
    "    plt.plot(X,X)\n",
    "    plt.plot(X_0,Y_0)\n",
    "    plt.show()\n",
    "\n",
    "#La verdad profesor no estoy seguro que esto sea lo que pidio, pero claramente no estoy seguro de que pide y\n",
    "#ademas la verdad se ve bastante padre entonces lo voy a dejar :)"
   ]
  },
  {
   "cell_type": "markdown",
   "metadata": {},
   "source": [
    "## Diagrama de Bifurcación"
   ]
  },
  {
   "cell_type": "markdown",
   "metadata": {},
   "source": [
    "<div class=\"alert alert-info\">\n",
    "    \n",
    "**Ejercicio** ¿Qué hace el siguiente código? Modificalo para que use nuestras funciones.\n",
    "</div>"
   ]
  },
  {
   "cell_type": "code",
   "execution_count": 128,
   "metadata": {},
   "outputs": [],
   "source": [
    "import math\n",
    "from PIL import Image\n",
    "imgx = 1000\n",
    "imgy = 500\n",
    "image = Image.new(\"RGB\", (imgx, imgy))\n",
    "\n",
    "xa = 1\n",
    "xb = 4\n",
    "maxit = 5000\n",
    "\n",
    "def logistic_map(x,r):\n",
    "    return r*x*(1-x)\n",
    "\n",
    "for i in range(imgx):\n",
    "    r = xa + (xb - xa) * float(i) / (imgx - 1)\n",
    "    x = 0.5\n",
    "    for j in range(maxit):\n",
    "        x = logistic_map(x,r)\n",
    "        if j > maxit / 2:\n",
    "            image.putpixel((i, int(x * imgy)), (255, 255, 255))\n",
    "\n",
    "image.save(\"bifurcacion.png\", \"PNG\")"
   ]
  },
  {
   "cell_type": "markdown",
   "metadata": {},
   "source": [
    "<img src=\"./bifurcacion.png\"/>"
   ]
  },
  {
   "cell_type": "markdown",
   "metadata": {},
   "source": [
    "### Pasos para producir el diagrama de bifurcación"
   ]
  },
  {
   "cell_type": "markdown",
   "metadata": {},
   "source": [
    "1. Escoje un valor inicial para `r`\n",
    "2. Escoje un valor al azar para `x` en `[0,1]`\n",
    "3. Calcula la órbita de `x` bajo el `g` (en el caso anterior el mapeo logístico)\n",
    "4. Ignora las primeras `n` iteraciones y dibuja el valor de `x` para la iteración `n+1`\n",
    "5. Incrementa `r` y repite hasta `r` final."
   ]
  },
  {
   "cell_type": "markdown",
   "metadata": {},
   "source": [
    "<div class=\"alert alert-info\">\n",
    "**Ejercicio** Repite todo lo anterior para el mapeo\n",
    "\n",
    "$$\n",
    "f(x,\\mu) = 1 - \\mu x^2\n",
    "$$\n",
    "\n",
    "¿Qué diferencia observas? ¿Cuáles son sus puntos fijos? ¿Cuáles son los valores interesantes?\n",
    "</div>"
   ]
  },
  {
   "cell_type": "code",
   "execution_count": 132,
   "metadata": {},
   "outputs": [
    {
     "data": {
      "image/png": "[encoded data removed]",
      "text/plain": [
       "<Figure size 432x288 with 1 Axes>"
      ]
     },
     "metadata": {
      "needs_background": "light"
     },
     "output_type": "display_data"
    }
   ],
   "source": [
    "import random\n",
    "\n",
    "def logistic_map(x, r):\n",
    "    return 1 - r*x**2\n",
    "\n",
    "X = []\n",
    "for i in range(100):\n",
    "    x = i/100\n",
    "    X.append(x)\n",
    "\n",
    "r = 1\n",
    "x = random.choice(X)\n",
    "\n",
    "def logistic_graph(r,x0):\n",
    "    X = []\n",
    "    Y = []\n",
    "    for i in range(100):\n",
    "        x = (i/100) - x0\n",
    "        if (x0 > 0):\n",
    "            X.append(x)\n",
    "            Y.append(logistic_map(x,r))\n",
    "    plt.plot(X,Y)\n",
    "\n",
    "new_r = r\n",
    "    \n",
    "while (new_r<=4):\n",
    "    new_r = new_r + 0.1\n",
    "    logistic_graph(new_r,x)\n",
    "    \n",
    "plt.show()"
   ]
  }
 ],
 "metadata": {
  "kernelspec": {
   "display_name": "Python 3 (ipykernel)",
   "language": "python",
   "name": "python3"
  },
  "language_info": {
   "codemirror_mode": {
    "name": "ipython",
    "version": 3
   },
   "file_extension": ".py",
   "mimetype": "text/x-python",
   "name": "python",
   "nbconvert_exporter": "python",
   "pygments_lexer": "ipython3",
   "version": "3.9.6"
  }
 },
 "nbformat": 4,
 "nbformat_minor": 1
}
