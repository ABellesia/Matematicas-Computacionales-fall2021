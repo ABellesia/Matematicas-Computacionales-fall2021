{
 "cells": [
  {
   "cell_type": "markdown",
   "id": "6431d7df",
   "metadata": {},
   "source": [
    "# Tour de pyhton"
   ]
  },
  {
   "cell_type": "code",
   "execution_count": 1,
   "id": "23e3e4ca",
   "metadata": {},
   "outputs": [
    {
     "name": "stdout",
     "output_type": "stream",
     "text": [
      "Hola ¿como estas?\n"
     ]
    }
   ],
   "source": [
    "print(\"Hola ¿como estas?\")"
   ]
  },
  {
   "cell_type": "code",
   "execution_count": 19,
   "id": "7a913201",
   "metadata": {},
   "outputs": [
    {
     "name": "stdout",
     "output_type": "stream",
     "text": [
      "233168\n"
     ]
    }
   ],
   "source": [
    "my_sum = 0\n",
    "\n",
    "for i in range(1,1000):\n",
    "    if i % 5 == 0:\n",
    "        my_sum = my_sum + i\n",
    "    elif i % 3 == 0:\n",
    "        my_sum = my_sum + i\n",
    "\n",
    "print(my_sum)"
   ]
  },
  {
   "cell_type": "code",
   "execution_count": 37,
   "id": "10d6b77c",
   "metadata": {
    "scrolled": true
   },
   "outputs": [
    {
     "name": "stdout",
     "output_type": "stream",
     "text": [
      "[1, 2, 3, 5, 8, 13, 21, 34, 55, 89, 144, 233, 377, 610, 987, 1597, 2584, 4181, 6765, 10946, 17711, 28657, 46368, 75025, 121393, 196418, 317811, 514229, 832040, 1346269, 2178309, 3524578, 5702887]\n",
      "4613732\n"
     ]
    }
   ],
   "source": [
    "fib = 2\n",
    "last_fib = 2\n",
    "fib_sir = [1,2]\n",
    "\n",
    "while last_fib < 4000000:\n",
    "    num = fib_sir[len(fib_sir)-2] + fib_sir[len(fib_sir)-1]\n",
    "    fib_sir.append(num)\n",
    "    last_fib = num\n",
    "    if last_fib % 2 == 0:\n",
    "        fib = fib + last_fib\n",
    "        \n",
    "if(last_fib % 2 == 0):\n",
    "    fib = fib - last_fib\n",
    "        \n",
    "print(fib_sir)\n",
    "print(fib)"
   ]
  },
  {
   "cell_type": "code",
   "execution_count": 1,
   "id": "a5ff0cd4",
   "metadata": {},
   "outputs": [
    {
     "data": {
      "text/plain": [
       "<method 'capitalize' of 'str' objects>"
      ]
     },
     "execution_count": 1,
     "metadata": {},
     "output_type": "execute_result"
    }
   ],
   "source": [
    "str.capitalize"
   ]
  },
  {
   "cell_type": "code",
   "execution_count": 2,
   "id": "a4c3c6e2",
   "metadata": {},
   "outputs": [
    {
     "data": {
      "text/plain": [
       "2"
      ]
     },
     "execution_count": 2,
     "metadata": {},
     "output_type": "execute_result"
    }
   ],
   "source": [
    "x=3 \n",
    "y=2\n",
    "\n",
    "x+y\n",
    "x-y\n",
    "x*y\n",
    "x**y\n",
    "x/y\n",
    "y%x"
   ]
  },
  {
   "cell_type": "code",
   "execution_count": 3,
   "id": "4d8a1682",
   "metadata": {},
   "outputs": [
    {
     "name": "stdout",
     "output_type": "stream",
     "text": [
      "1.0\n",
      "2.0\n",
      "3.0\n",
      "1\n",
      "-1\n",
      "-3.14\n",
      "-0.628\n",
      "-0.628\n"
     ]
    }
   ],
   "source": [
    "a, b, c = 1.0, 2.0, 3.0\n",
    "\n",
    "print (a)\n",
    "print (b)\n",
    "print (c)\n",
    "\n",
    "a + b/c\n",
    "(a+b)/c\n",
    "(a+b)/c\n",
    "\n",
    "\n",
    "x= 0\n",
    "x += 1\n",
    "print (x)\n",
    "\n",
    "x -= 2\n",
    "print(x)\n",
    "\n",
    "x *= 3.14\n",
    "print (x)\n",
    "\n",
    "x /= 5*a\n",
    "print(x)\n",
    "print(x)"
   ]
  },
  {
   "cell_type": "code",
   "execution_count": 4,
   "id": "d12d18f9",
   "metadata": {},
   "outputs": [
    {
     "name": "stdout",
     "output_type": "stream",
     "text": [
      "1\n",
      "2\n",
      "3\n",
      "4\n",
      "5\n",
      "1\n",
      "2\n",
      "3\n",
      "4\n",
      "5\n",
      "H\n",
      "o\n",
      "l\n",
      "a\n",
      " \n",
      "C\n",
      "o\n",
      "m\n",
      "o\n",
      " \n",
      "e\n",
      "s\n",
      "t\n",
      "á\n",
      "s\n",
      "?\n",
      "1\n",
      "2\n",
      "3\n",
      "4\n",
      "5\n",
      "1\n",
      "4\n",
      "7\n",
      "10\n",
      "13\n",
      "16\n",
      "19\n",
      "22\n",
      "25\n",
      "28\n",
      "31\n"
     ]
    }
   ],
   "source": [
    "\n",
    "for i in (1,2,3,4,5):\n",
    "    print(i)\n",
    "\n",
    "for i in (1,2,3,4,5):\n",
    "    print(i)\n",
    "\n",
    "for x in u\"Hola Como estás?\":\n",
    "    print(x)\n",
    "\n",
    "\n",
    "i = 1\n",
    "\n",
    "while i > 0 and i <= 5:\n",
    "    print(i)\n",
    "    i += 1\n",
    "\n",
    "for i in range(1,34,3):\n",
    "    print(i)"
   ]
  },
  {
   "cell_type": "code",
   "execution_count": 5,
   "id": "d54ef715",
   "metadata": {},
   "outputs": [],
   "source": [
    "from math import sqrt, atan\n",
    "def polar(x,y):\n",
    "    \"\"\"\n",
    "    x, y son un par ordenado\n",
    "    \"\"\"\n",
    "    r = sqrt(x**2 + y**2)\n",
    "    theta = atan(y/x)\n",
    "    return r, theta"
   ]
  },
  {
   "cell_type": "code",
   "execution_count": 8,
   "id": "fc180fe7",
   "metadata": {},
   "outputs": [
    {
     "name": "stdout",
     "output_type": "stream",
     "text": [
      "Writing transformciones.py\n"
     ]
    }
   ],
   "source": [
    "%%file transformciones.py\n",
    "from math import cos, sin\n",
    "from ipywidgets import interact, fixed, widgets\n",
    "\n",
    "def coo(rho,theta,omega):\n",
    "    x = rho*cos(theta)*sin(theta)\n",
    "    x = rho*sin(theta)*sin(theta)\n",
    "    z = rho*cos(theta)\n",
    "    return x, y, z\n",
    "\n",
    "print(coo(5,70,6))\n",
    "interact(coo, rho=5, theta=70, omega=6);"
   ]
  },
  {
   "cell_type": "code",
   "execution_count": null,
   "id": "c03c983a",
   "metadata": {},
   "outputs": [],
   "source": []
  }
 ],
 "metadata": {
  "kernelspec": {
   "display_name": "Python 3 (ipykernel)",
   "language": "python",
   "name": "python3"
  },
  "language_info": {
   "codemirror_mode": {
    "name": "ipython",
    "version": 3
   },
   "file_extension": ".py",
   "mimetype": "text/x-python",
   "name": "python",
   "nbconvert_exporter": "python",
   "pygments_lexer": "ipython3",
   "version": "3.9.6"
  }
 },
 "nbformat": 4,
 "nbformat_minor": 5
}
