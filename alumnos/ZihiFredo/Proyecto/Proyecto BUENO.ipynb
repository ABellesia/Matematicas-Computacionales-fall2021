{
 "cells": [
  {
   "cell_type": "code",
   "execution_count": 2,
   "id": "4cbb383b",
   "metadata": {},
   "outputs": [],
   "source": [
    "import random\n",
    "import numpy as np\n",
    "import matplotlib.pyplot as plt\n",
    "from matplotlib import animation, rc\n",
    "from IPython.display import HTML"
   ]
  },
  {
   "cell_type": "code",
   "execution_count": 87,
   "id": "4f0676a2",
   "metadata": {},
   "outputs": [],
   "source": [
    "class Agente:\n",
    "    \"\"\" Agente general \"\"\"\n",
    "    def __init__(self, tipo, locacion=np.array([0,0])):\n",
    "        self.tipo = tipo\n",
    "        self.locacion = locacion\n",
    "        self.siguiente_accion = None\n",
    "\n",
    "    def distancia(self, otro):\n",
    "        \"Calcula la distancia euclídea entre este agente y otro.\"\n",
    "        return np.linalg.norm(self.locacion - otro.locacion)  # Otra manera es usar np.sqrt(np.sum((a-b)**2))\n",
    "    \n",
    "    def vecinos(self, agentes):\n",
    "        pass\n",
    "    \n",
    "    def actuar(self, agentes):\n",
    "        self.locacion =  self.siguiente_accion\n",
    "        \n",
    "    def decidir(self, agentes):\n",
    "        self.siguiente_accion = np.array([random.uniform(0, 1), random.uniform(0, 1)]) # Toma una nueva posición al azar\n",
    "    \n",
    "    def actualizar(self, agentes):\n",
    "        self.decidir(agentes)\n",
    "        self.actuar(agentes)"
   ]
  },
  {
   "cell_type": "code",
   "execution_count": 270,
   "id": "405c61b7",
   "metadata": {},
   "outputs": [],
   "source": [
    "class habitante(Agente):\n",
    "    \"\"\"\n",
    "    Aquí se encuentra el registro de los habitantes de Sugarscape.\n",
    "    Su lugar de nacimiento y sus características individuales.\n",
    "    \"\"\"\n",
    "    def __init__(self,id_h):     \n",
    "        \n",
    "        #Registro de los habitantes de Sugarscape\n",
    "        self.id = id_h\n",
    "        \n",
    "        #Lugar de nacimiento de los habitantes\n",
    "        self.x = np.random.randint(0,9)\n",
    "        self.y = np.random.randint(0,9)\n",
    "        \n",
    "        #Atributos\n",
    "        self.vision = 1\n",
    "    \n",
    "    def decision(self, ocupacion, Bienes):\n",
    "        maximo = 0\n",
    "        pos_x = 0\n",
    "        pos_y = 0\n",
    "        #print(self.x,self.y)\n",
    "        #print(\"===================\")\n",
    "        for i in range(-1*self.vision,1*self.vision+1):\n",
    "            for j in range(-1*self.vision,1*self.vision+1):\n",
    "                #print(f'i:{i},j:{j},{Bienes[i][j]}')\n",
    "                if (self.x + i >= 0 and self.y + j >= 0 and self.x + i <= 9 and self.y + j <= 9 and\n",
    "                   Bienes[self.x+i][self.y+j].cantidad > maximo and ocupacion[self.x+i][self.y+j] == 0):\n",
    "                    maximo = Bienes[self.x+i][self.y+j].cantidad\n",
    "                    #print(f'max i:{i},j:{j},{Bienes[self.x+i][self.y+j]}')\n",
    "                    pos_x = i\n",
    "                    pos_y = j\n",
    "        return pos_x, pos_y\n",
    "\n",
    "    def actualizar(self, agentes, bienes, ocupacion):\n",
    "        ocupacion_n = self.moverse(ocupacion, bienes) #Lo primero que hace es moverse\n",
    "        bienes_n = self.comer(bienes) #Si se cumplen ciertas necesidades el habitante come\n",
    "        return bienes_n, ocupacion_n\n",
    "\n",
    "    def comer(self, bienes): #Si se cumplen ciertas necesidades el habitante come\n",
    "        bienes[self.x][self.y].cantidad = 0 \n",
    "        #print(f'i:{self.x},j:{self.y},{bienes[self.x][self.y]}')\n",
    "        return bienes\n",
    "                \n",
    "    def moverse(self, ocupacion, Bienes):\n",
    "        ocupacion[self.x][self.y] = 0\n",
    "        i, j = self.decision(ocupacion, Bienes) #Se mueve en direccion al bien mas cercano\n",
    "        self.x = self.x + i\n",
    "        self.y = self.y + j\n",
    "        #print(self.x,self.y)\n",
    "        ocupacion[self.x][self.y] = 1\n",
    "        return ocupacion"
   ]
  },
  {
   "cell_type": "code",
   "execution_count": 271,
   "id": "5bb71dd5",
   "metadata": {},
   "outputs": [],
   "source": [
    "class bien(Agente):\n",
    "    def __init__(self, tipo):\n",
    "        #self.loc = np.array([random.randint(0, 51), random.randint(0, 51)]) #Posición al azar inicial\n",
    "        self.tipo = tipo #Tipo 0 Especia, Tipo 1 Azucar\n",
    "        alz = random.randint(0,3)\n",
    "        if (alz == 0):\n",
    "            self.cantidad = random.randint(0, 5)\n",
    "        else:\n",
    "            self.cantidad = 0\n",
    "        \n",
    "    def __str__(self):\n",
    "        return str(self.cantidad)"
   ]
  },
  {
   "cell_type": "code",
   "execution_count": 272,
   "id": "c403b4d1",
   "metadata": {},
   "outputs": [],
   "source": [
    "class Mundo:\n",
    "    def __init__(self, habitantes, bienes, steps, ancho = 51, alto = 51):\n",
    "        self.habitantes = habitantes\n",
    "        self.bienes = bienes\n",
    "        self.ancho = ancho\n",
    "        self.alto = alto\n",
    "        self.steps = steps\n",
    "        self.init_anim()\n",
    "        \n",
    "        print (\"Creado el mundo\")\n",
    "        \n",
    "    def init_anim(self):\n",
    "        self.fig = plt.figure(figsize=(self.ancho, self.alto))\n",
    "        self.ax = plt.axes(xlim=(0, 1), ylim=(0, 1))\n",
    "        plot_args = {'markersize' : 8, 'alpha' : 0.6}\n",
    "        self.puntos, = self.ax.plot([], [], 'o', **plot_args)\n",
    "       \n",
    "       \n",
    "    def dibujar(self, step):\n",
    "        x_values_0, y_values_0 = [], []\n",
    "        for agente in self.agentes:\n",
    "            x, y = agente.locacion\n",
    "            x_values_0.append(x)\n",
    "            y_values_0.append(y)\n",
    "\n",
    "        self.puntos.set_data(x_values_0, y_values_0)\n",
    "        \n",
    "        self.ax.set_title('Paso {}'.format(step))\n",
    "        \n",
    "        return self.puntos,\n",
    "       \n",
    "    def actualizar(self, step):   \n",
    "        self.dibujar(step) # Dibuja el mundo\n",
    "        for agente in self.agentes:\n",
    "            self.bienes, self.ocupacion = agente.actualizar(self.agentes,self.bienes,self.ocupacion)\n",
    "            \n",
    "    \n",
    "    def clean_screen(self):\n",
    "        self.puntos.set_data([], [])\n",
    "        return self.puntos,\n",
    "    \n",
    "    def simular(self):\n",
    "        anim = animation.FuncAnimation(self.fig, self.actualizar, init_func=self.clean_screen, frames=self.steps, interval=1000, blit=False)\n",
    "        return anim\n",
    "    "
   ]
  },
  {
   "cell_type": "code",
   "execution_count": 273,
   "id": "b9ce2c1f",
   "metadata": {},
   "outputs": [],
   "source": [
    "class Sugarscape(Mundo):\n",
    "    def __init__(self, c , ancho, alto, steps, habitantes):\n",
    "        \"\"\"\n",
    "        c es la capacidad de azúcar de una celda, es decir, el valor\n",
    "        máximo de unidades de azúcar que puede contener una celda.\n",
    "        \n",
    "        \"\"\"\n",
    "        \n",
    "        self.ancho = ancho\n",
    "        self.alto = alto\n",
    "        self.steps = steps\n",
    "        self.agentes = habitantes\n",
    "        self.ocupacion = np.zeros([self.ancho, self.alto])\n",
    "        for habitante in habitantes:\n",
    "            self.ocupacion[habitante.x][habitante.y] = 1\n",
    "        self.bienes = [[bien(i) for i in range(self.ancho)] for j in range(self.alto)]\n",
    "        self.size = (self.ancho,self.alto)\n",
    "        self.fig = plt.figure(figsize=(self.ancho, self.alto))\n",
    "        self.ax = plt.axes(xlim=(0, self.ancho), ylim=(0, self.alto))\n",
    "        \n",
    "        #Propiedades de las parcelas de azúcar\n",
    "        #Capacidad de azúcar por parcela/celda (aleatoria)\n",
    "        self.capacidad = np.random.randint(0, c + 1, size = self.size)\n",
    "        #Las unidades por parcela/celda\n",
    "        self.level = np.random.randint(0, c + 1, size = self.size)\n",
    "        #Para asegurar que la cantidad de unidades de azúcar por parcela\n",
    "        #no excede la capacidad\n",
    "        self.level = np.minimum.reduce([self.level,self.capacidad])\n",
    "        #Habitantes y Azucares\n",
    "        plot_args = {'markersize' : 8, 'alpha' : 0.6}\n",
    "        self.puntos_H, = self.ax.plot([], [], 'o', markerfacecolor='orange', **plot_args)\n",
    "        self.puntos_B, = self.ax.plot([], [], 'o', markerfacecolor='green', **plot_args)\n",
    "    \n",
    "    def clean_screen(self):\n",
    "        self.puntos_H.set_data([], [])\n",
    "        self.puntos_B.set_data([], [])\n",
    "        return \n",
    "    \n",
    "    def dibujar(self,step): #Se dibujan los habitantes en naranja y los bienes con verde\n",
    "        \n",
    "        self.clean_screen()\n",
    "        \n",
    "        x_values_H, y_values_H = [], []\n",
    "        x_values_B, y_values_B = [], []\n",
    "        \n",
    "        for habitante in self.agentes:\n",
    "            x = habitante.x\n",
    "            y = habitante.y\n",
    "            x_values_H.append(x)\n",
    "            y_values_H.append(y)\n",
    "        \n",
    "        for i in range(self.ancho):\n",
    "            for j in range(self.alto):\n",
    "                if (self.bienes[i][j].cantidad != 0):\n",
    "                    x_values_B.append(i)\n",
    "                    y_values_B.append(j)\n",
    "\n",
    "        self.puntos_H.set_data(x_values_H, y_values_H)\n",
    "        self.puntos_B.set_data(x_values_B, y_values_B)\n",
    "        \n",
    "        self.ax.set_title('Paso {}'.format(step))\n",
    "\n",
    "        return         "
   ]
  },
  {
   "cell_type": "code",
   "execution_count": 274,
   "id": "f37f0185",
   "metadata": {},
   "outputs": [],
   "source": [
    "num_habitantes = 5\n",
    "\n",
    "Habitantes = [habitante(i) for i in range(num_habitantes)]"
   ]
  },
  {
   "cell_type": "code",
   "execution_count": 275,
   "id": "0433c2e7",
   "metadata": {},
   "outputs": [
    {
     "data": {
      "image/png": "[encoded data removed]",
      "text/plain": [
       "<Figure size 720x720 with 1 Axes>"
      ]
     },
     "metadata": {
      "needs_background": "light"
     },
     "output_type": "display_data"
    }
   ],
   "source": [
    "Mundo_azucarero = Sugarscape(c = 5, ancho = 10, alto = 10, steps = 10, habitantes = Habitantes)\n",
    "\n",
    "simulacion = Mundo_azucarero.simular()"
   ]
  },
  {
   "cell_type": "code",
   "execution_count": 276,
   "id": "1b74e89f",
   "metadata": {},
   "outputs": [
    {
     "data": {
      "text/html": [
       "<video width=\"720\" height=\"720\" controls autoplay loop>\n",
       "  <source type=\"video/mp4\" src=\"data:video/mp4;base64,AAAAHGZ0eXBNNFYgAAACAGlzb21pc28yYXZjMQAAAAhmcmVlAAAd4G1kYXQAAAKtBgX//6ncRem9\n",
       "5tlIt5Ys2CDZI+7veDI2NCAtIGNvcmUgMTU1IHIyOTE3IDBhODRkOTggLSBILjI2NC9NUEVHLTQg\n",
       "QVZDIGNvZGVjIC0gQ29weWxlZnQgMjAwMy0yMDE4IC0gaHR0cDovL3d3dy52aWRlb2xhbi5vcmcv\n",
       "eDI2NC5odG1sIC0gb3B0aW9uczogY2FiYWM9MSByZWY9MyBkZWJsb2NrPTE6MDowIGFuYWx5c2U9\n",
       "MHgzOjB4MTEzIG1lPWhleCBzdWJtZT03IHBzeT0xIHBzeV9yZD0xLjAwOjAuMDAgbWl4ZWRfcmVm\n",
       "PTEgbWVfcmFuZ2U9MTYgY2hyb21hX21lPTEgdHJlbGxpcz0xIDh4OGRjdD0xIGNxbT0wIGRlYWR6\n",
       "b25lPTIxLDExIGZhc3RfcHNraXA9MSBjaHJvbWFfcXBfb2Zmc2V0PS0yIHRocmVhZHM9MyBsb29r\n",
       "YWhlYWRfdGhyZWFkcz0xIHNsaWNlZF90aHJlYWRzPTAgbnI9MCBkZWNpbWF0ZT0xIGludGVybGFj\n",
       "ZWQ9MCBibHVyYXlfY29tcGF0PTAgY29uc3RyYWluZWRfaW50cmE9MCBiZnJhbWVzPTMgYl9weXJh\n",
       "bWlkPTIgYl9hZGFwdD0xIGJfYmlhcz0wIGRpcmVjdD0xIHdlaWdodGI9MSBvcGVuX2dvcD0wIHdl\n",
       "aWdodHA9MiBrZXlpbnQ9MjUwIGtleWludF9taW49MSBzY2VuZWN1dD00MCBpbnRyYV9yZWZyZXNo\n",
       "PTAgcmNfbG9va2FoZWFkPTQwIHJjPWNyZiBtYnRyZWU9MSBjcmY9MjMuMCBxY29tcD0wLjYwIHFw\n",
       "bWluPTAgcXBtYXg9NjkgcXBzdGVwPTQgaXBfcmF0aW89MS40MCBhcT0xOjEuMDAAgAAAEo9liIQA\n",
       "F//+99S3zLLtU2+2C6j3op4mX0N1JQGblsTtOoAAAAMAAAMAAAMA6VSCY3zuANGMtAAAAwBTwAqY\n",
       "FysX/+Qgd+AAsFQdbqL3cMABhzpP7JhTz1EqdKUeXVk1BK9M7vd6+EMCiJ6CcwYP5ClGTzngGJdN\n",
       "+30FiNoUYc+Jg0XriLug4IKPDgiXlfq5+JoqE9SwgAYZFmhfCnHo00q9MIK8UfsCKaOPriWh/hbp\n",
       "3k3Z96kN16VULA8RVy2J5b71KvfvyiingfkIR96FTAliaVSYWavparUxJu1zdCtOB3v16Nsvnd5Q\n",
       "V0orj3gjTFTAAM1aaOyq8xHrVPQT7wXdrYMUsXYlyy4W6u/VF8jkmu3iIBJvmPPp+/TnenLY72uk\n",
       "0W5sEOcHFPIYQFjOhT8lReq2JgfmZ2/cGr8VSSZ0VlKYb36+Mljxde97OZlCjPC6/sfpo7c4iKtX\n",
       "bb7vA+0gvfzRdhamqQkgSL17wMPdgEQpexI/AZa20aCmroUO7j9L5GDmAYMUT5ZxKvUy9g0dhiH9\n",
       "3H5oLUUNFaYJiwP3GWXeitP+J+fGjywwQJg8dv8Vsp5r2fSSEXr0G+q4Vbe138g0QJVx3iN39Gk4\n",
       "yQJKbKQH3Mz1/oVd53GPOaUUn+bxi6OdvAEwT6GtErGSvDt3fTXR8Co0KIAUvm0q0ep1Id17ho+t\n",
       "VCz2hj0+ts+TO7iAABRu1MxKEOi1am+gJ3llpBY9PE6Nd+b0rwdu4Tk5QZ3CsYT4ShuUuq//Ch46\n",
       "itbiu2Xf9ueUiKg0CR5YnvYSO+JLyjNkhJ6uQcSCo+Qd2qrYV8PQeN08T7Xehqk/eKJquqBvqE/d\n",
       "gCUVMYEAevTxPDym+KB9BzfQujk+gCPRWTcQMnqnKVcFGJlvqQzMSumhVGKi1QzlrE4bXuKnlYxs\n",
       "8BL89zOYostgsvbvIqcx0t/cCKtCn5HJUssoCk9gugtuzzPMbLLJ+iwO4RFhzqwv/g7ylymOPK7C\n",
       "rnbfbpYHw3cZZ1s2muCHjF+QWW0VeetZczRFiv38qBSPZOWAA7nihbBUYUbZqvwPrvvopNsHRxTa\n",
       "HyOC8Lo9+oUX9+yy9AQEx/QpxVjJz4DteDOK1si++N0oQv2pmWhEftXrPACkfdZyHJ1wThRB47bC\n",
       "HWOltIJx+8vxe5a6Rju/Q+V7LJHC4SOoFy7A7pHPP9xWg9Kx+N0wR0lejCvJ0s6WfeDQcNNdKVp+\n",
       "SKwlalnvsh3xUCRr7913gAGbOc+zqHbXu50U2xymk0lb0hlwnOj2IRYtcD0ZuCVBiPIfNU04V3Gg\n",
       "pUSmUSs+W21T5/1JW+eICffkNF/C0/E0jbJbTp7HvO76pWxB+JmhFsbm9uTCWeFV5GC9OOHP21U8\n",
       "9y+pJ/QKnROYKtA4+KafFP8vQbAqVrASqjDS0uQPKfc+T4mDiKXnU9MgpSYQz2dqnJuN8z0ifc0e\n",
       "UEr9g8s4UiVJZoJhSN1IfyETvQt1/GP3SPyWuAVHxLFQbeJix6KnHSOwKl6FL79jiKU8UMQNvb/X\n",
       "hDfK/6UVh1WB2Gbs/wrEAcRRFqapKDUFMWgOvw4wxkeYNxPSZxSi1rIVY5JtTpDL5o1l2gOXHCA2\n",
       "mgriBeTV7HJirTJ8Gzc10Uj89tdd5guylD20MCFfBJPXTl1NUbOXrH4rZaMrhgVXsYUWc5SsIzo2\n",
       "YFl0ZsG7gX/oBs7Q5QoltDM/HcxX8O8RnOF0rrowVFrg+19caICZuDwzgEhm/O53s0moTD44y38k\n",
       "iX0nqRjP6pecOQt8qrUaU9fpK0YAGL+g6L1YVAwCgT2j0vOr4iQwn2T0kLrq+VjM/jUZ4kK1SOrH\n",
       "oxMUc7LJRrSFNzmPIRrJKWsqHnnvCD2VcSLlqa+5eaTdQNs2fyCK2Y7H71dUj2UkeQ+f+LTKjdHG\n",
       "h2huXJRamKujn2haNAMvyG7jYErEhOq0cp4avQj96UuWiyuu4tZxjDt+FXw4YM8jCR9GCTBKvcl8\n",
       "zRsoSXXpXXzVxTgRvHHpHLylXBZrRMoF54P9K9Vr32Lhw4K3aLRsFwG4lPgDkst7Es+HtroO9VIM\n",
       "wHBT6MnIimD2PAphVK9viyVzpdb+vzSNmkBDaAdPwOBKl0U3wLUO57YXveyzTpTZajlijTtH46GN\n",
       "O36L5vXymC5fdB8fUwXZ11KqnkRDNJftgWIuIWcOUXtFK+YGLb2PvHX8XkXelqqitIr2Nbg7D8Aa\n",
       "AsoOnCcl50C4XK9flZaEexzJgxhszvKtCYk8AKh7P7HPXs3gkYxlCE7jIkvlcKO6pQfQZnSQzslz\n",
       "wIuzgJZHfQz2GaWbsZL0MNkVI7lF0mqFYcd8GbgwK+bjWVrVl4rLb+aMgCgeN4tcWU+Zs1LsiXF4\n",
       "96iIl//DxKv0x60NxcWmwq3pAAADAAADAABW1Krz2rtccfVfwjtpiE67C/HzxmDiK2i45ZE5su3l\n",
       "53qf791AWfs+X08c9TZbP39MxwErW/cW7M+GIj1zlQHPnPbeuXSwY2Ov+36GSpmmBA27Tqqwv87H\n",
       "/N0UeSVvhytU5sIH9NVkR86Djo3Yqr4N810E4QAbeScY9JJzywh74aaDKiJHfexbBrtvdSt+LLMb\n",
       "pN4AAAMAAS6agb9hDeiboeeu6qisHeuk02T//Ok9+avTTD2+UrTbx/Bvs9ukdGObwFkIMqWP8QJ5\n",
       "yWYw+stokPwIg30aPcaD6xdQnhQhP2ok5OlZh9M5GjUEek97shRnkWA5pLqM2VkB5lXZxjtTRbmJ\n",
       "CNAKaxpPmzdV7X/qCSIQ3f0OWtjD4x1i0M5CdMtNzLVninonHsEILOsDTrGmfS+cxnHytcsS61XT\n",
       "W9UoKJnWC/ysu9/F9Qqan0vMUiyXwjqx6WpbSqXT6b0kLemPv2XBsP1HMbv1ppfji21GA+MtaH18\n",
       "CV8YkEuycv9CtsCCX9397+1APNlctrbugjYSIoGxId4b5K0COQza4FqnqEfm/advNGh9Ua9mnT0k\n",
       "yBNMNrQEBQmPYMWv3VjbDTwn21cQrdlseko0VR/bdobccMI7duR8M2JE4V0Dav/qtC/Aald+XEJR\n",
       "5fYJ1Zy5liQyyawBmZMHesUwePfELPulnd4+023pt9urh1ewV/POBdJJmQNcRqS6uTSFwnVIvWKw\n",
       "I+xL5N1oBeJyeB1S0SW2PJUBGg0NvFu6ci00TP4yICIFn0Lu0kuLmswc+dv1mDfreeGQV1g30oi+\n",
       "j4j0+d0fbfDxA+cxFtQ7yyrc3xj6SE9V0wenvpLQF6BOOfpGHVp8CJ3ILSSNF4mb15XFwtl3tgCr\n",
       "JHP/GVFrj9fgL/+7pirl6SQs6aTs5YjtgA9xiZYXLjPEl1ZdgKLVMEmOX//nkLKlsAWAts4tO3y/\n",
       "TRC+o7CfxhdRksTysox9txuUMZafS2Yy9YB+xJ/Nwu6SZYuiQqB6N0faSkmhw5kcpPWLSPjIzJc3\n",
       "Q6xOOJn9V8oI+oMpvRC3N5HcC2ntg66MNA8AAAMABylTZzGwkM2eQ0xfA/k6IB1gL+RnbcZR1yOy\n",
       "B2fwUKDvYUCADtJWc73Iv+ZUdyeLe1PzOpIW9lL1dOzZE0PMkobLl/feZ25AgI/ttrbHOM/c4RTO\n",
       "7QWkOKacBo1I8eD0Len9VJjam8121KWHhDj0j3wRZgDHeoUPYAJDAAIMe5jfhalFHhwjbDC6u80u\n",
       "V5W/tBEu5Y9oBKoKefiL1fqu/VJft63sFxSdJt20VUTyW8sHeoMPU0oJzblMJDjlh3wyQv6aUMQc\n",
       "u61I3k/s2Bs9X1PyrarS1CCsiZxQoaowl0jVlMMTow1N6G3zbPnNDvWlOcixfS5lHbnJGVpd1ecY\n",
       "4ni2sgIy6wifV887U0Bt4EWa7nY4bzGb3PQodq/O581XPqUhyt1NcGRE5tL777I+L+nPq/4io6bB\n",
       "4/c4mpateAerwUSk+R5gsNDNKuqp0iRF6iDC+/fs0STEtOa6POhLpVxIYCWuRgIJn9UoX8DdaIox\n",
       "l1DqRQbfKushzNGnqkk7OmW4RQglTqb30ZL669CH0BhIY8WD7HL/kQ7ZfsJT1oLOmJzzT+8oWlXW\n",
       "klwKw20G5+G9RdZB8Exl/7mjNTOIS0t/HNzZC8NI1C7VOSK69+GkTLwjHhIz0Ve0KIkLD+NT88e2\n",
       "/sQrNXqpGb8CHxwhMD9VIpjc1x3InnnK1dAAcNATirceQUWT4+BwhcsD58qupNOfc7G/MVOPuXqJ\n",
       "kJolXJLe6ZZLOBs0MJt0vFxJ2/lSEINlLHdwSqmVVexNHJXZJzzNhbwqr2/dHiGgse1lrvxO98E8\n",
       "/eeLtYjZie63k38XigdleCLLJIqELQm/kKhEICQzw6G2GeXyDW/mtQAB4wKYuBv90Vxargrcy7oQ\n",
       "rCXgAAApTdkw1RieoMyQxnH4e0hkvxFXDag+fZObMUnq6njJznJflMV/VdemaGas21+AvhfQCnNb\n",
       "spquOdFu+mESRC7zNAg3ANnuxxKPsShMkD5OjyYYHqccJY2c+PfN5X66mRP1AerhuK9WrrLu5gCj\n",
       "1ZEubPd5ROkFuKl/ZUq13bGU/uuKe/EPICO3aiTZHtCdPCPmkQHh24OgKlbCx7lD7aLs2UrObaAZ\n",
       "YKLnaaA5mN2sLOfLCaxbGXQmT/gqo2ozENXI9JrKiqPbwWvfwZMxCP8tDTrBm3ryohKtNWUdCwBv\n",
       "0xGJccvl6uDzcS44q+gvD+H5BPfblzplOxQ5XLUe9RZOc8dOPNLRv39nKT7KJzV5kLjDHqp4wAsz\n",
       "uL6Kq9ge5udGJ0ONNUGzznLi6zgg5NtT+VIeT59B0OLzrL4YUDbY0JkH1vZvsDp7q1BQNTbgceXh\n",
       "j/Mz4R6CsfKy0/db7PK32/9UTjjsxFU4LEcFOOI2EWE7SvAH8CevO2MK2qVVoxZSC3w/KSLLiq5y\n",
       "Xnl3y1jv+e94kEsw6NKrBOykO0D9PxR9QAtxu1XMlwLM9GIR4eRSadpbOCrdcxO/d864skjQA6yj\n",
       "N1TnKKz/6la4RSWmYWjrYHro1JzK/JEOaX6iBvpeOnjGvtlAq2mj7+a6nBgT2L4+7m4AYn/MvzYa\n",
       "FrL7rkVoXJh3FHbgVFE9cCHF3D4zHYYcevE6poi++xhL5oEIqTc48yoBCEa8T1O8DEUgnrdEx6FN\n",
       "qxbBM5NBOKeigELy8bymc+9ewWa9CTgRun9AAAADAHdk01eJxEFvfpfYgdkdM/U2WXPDVaHde2hm\n",
       "nucYf/+8yKNYZE8wfMwheoWkdAt5B8oaMQhcadHwU4hgkt3Qf3W7N2LXFKHHcX/6gH74b2Yn+BG+\n",
       "CyDL6YjdvYYYTdaLB+Nasc+LiVfBbMEAlyDd32XwMkV05lyxZJ4ybz8g+R3aX636oD53jyJJp9+6\n",
       "1NbIBM+po2KxbJOlW7j3fE0dUyTF9LtVVFFhH4kBE0IecUFjS3WTL9K9AcApONZvhZUW6uyo8qIF\n",
       "g7EHh0CnLbn8HfQ+q8EOygNRXsANcq6QaAaEEJgQyzKnJyB7+UFJaYp7L4n19eDYaKHi2N/GY6Gz\n",
       "MCEvxsTyNPY/MbWSrDXicwzkRGr1/Q3qRfE0q06yFEAiY22ETXTbwasqLDAYe2QSAEUwaQi3uL0K\n",
       "/guL0YqyrkTiV/QWNUG+ksNcmX5KG511ySp7GvoKwj1URuhD1pMxPwRFs0+UG+ouEE+lQapJwr9L\n",
       "R/wWhiN7l1CvKrXNGpMqCOn//NYfY8FdVJJj4FChdDfoobo8LbOVBtRQAqdYufgmgFRIwn0oAMVM\n",
       "Nd2e9NFJnpQ88mq8NaGvBgaQUYNOIwmI1vpGadVw5RIo6y1BnTpup9Igm03NkVhzyh4gzg4qhpEq\n",
       "Ha+2HxlzdcZko4nnCcswQY/QaavmFx5mY6Csx+wSu5qd3duMkFoypwhRPfln9QhfNvQf6qrnO69X\n",
       "wUuA0bIk2PG2DBZPiNGExsTMd/GsE12NwYZkb8XMHHdhCC1ile06N0wwQ13D8+RX2n5UkKzqF0cB\n",
       "SVRoVHS1b3YPTo7KwEK/ShruVwASb0Kqcu8nDL7Qlx3crQxTg1qzPzw3Lfwl9ceecPf4OGCpkSba\n",
       "f6tGiJU4CasqrDAcklPGogwcJMjxRC9IpnLf6z6e83/A8fH/NCOOkSKjCO0fYCBS5bH74fTgrijC\n",
       "3kOCVX+/0vrn8pI1VGKS0b39oQGycV03a1KifXmPg9x+KUOXKirPTnr99NUVvnUFewBMWq6Qa7K1\n",
       "S1w3nywpLJty2QZIr9Cyb93mX3nCNul1UVyw0kZf55pct5Lyst2Tl5t01UgNyGGogJ3XRJ8B/Saw\n",
       "6f59HsKSZ0bX4mOOwa3DUo1cSyxtfkhHp+DvZ7CVNWcBT3Nwcg1ZVXDaOi31G5FKnLUZVtaUjc5G\n",
       "tkpUxw0lgAAAAwAAAwABxQAAA2lBmiRsQX/+2qZYABZnLrFVIATPClzE+BdkuoxCMiAFbCk8zUIh\n",
       "E0ME+aBvgs6uEnyudWanL5ZtHbrlHCuHcRqGsmFIEfNrsAxrZdOCgckmVQL6t1CDzrA53VDyYatD\n",
       "Txqly3udX+B0/MeyptNimqdbneAARgVmnOLScy+Pfi8E98d89S5zDLicwTsjNdM9YNlh01Pjx5FB\n",
       "yk/O4XP+IbrJc7mQQ04nTYoQg/9+EvUeA/+KXRCTDfe5uhELBqlAm8Gifujiceh8QmoJIvnl1pNu\n",
       "kwqsJc/p5AvxtuDY54vF4pnN0Z0Dr6F3nBZeFISUjERUySdNagnXB12qMoAesrM7UgNMGKsU45Cy\n",
       "fXBp00yGmquJRSWgB5Yn70eQC+J4iCMXhOhrVTFalyCpgXZZtkIJ0/u1rwWb2tbyfSbMoELYoMxB\n",
       "Q5J/Te8bYX1vJYPwVuUlGirW9LiL8sAX2P95mgrB9NsID+M2TAdrMHTuYSFyAv14AfWlw88OS+E2\n",
       "5QVxasuNSkrRddGEwmpgkIEyhwvEjKO+jgT9CWSnrepcFvQ5L7DgOCqYB89cPUFOcmY5wFdQvpoL\n",
       "f1L11HJUeh+InEyIU3OAl+TpnT1vz5ZKBPJFXmv91ZKUg8oDLX0s70X8hbCnPLCtq4gjBGfTIYZe\n",
       "mwXhTUez7LVW70JDjEcqf7i9hJlfuJhLgOJg6T5sVybyzFMdfiof/c70SEC0tP16gih/txfUcW+I\n",
       "mJKjl3JMlCaZuZBe3SG+w84CqFKtn6aiUJ9ZAA457xTgB2gALiA7kOGx93jOAisJ7SIpLSCEBbO3\n",
       "steQhpgqfQXitYGHLhd0n/+/croHPRBUDrw+Gqy12QQD9m7clr0Cvw9qkesOYaPiQgsRFsR845gQ\n",
       "IM7eB17qXIXgDW3B9v0tvurBb0AT+BC02V2BPmuqP3wZD3VTeSVEiG61/+1/jixr/EO4guvXKwOg\n",
       "yAtNk8ehzoE/ADe41V7MixNRH3XOs04iHdYcPN4R8cYyPb3TB1Pkb9+vfebdwAHLhaLeXmpZDdtQ\n",
       "gEtSrYDg+qk+xH3QgMtfp2pqGJG+HnRoaAU/RKLFZwUUWDuZJGbrsv68BqXjAlUHd0hUA6OL656W\n",
       "ldpqH3xI75+kd76pIsFzaHADds8glP7XKFr/30v1UuLAR4x4LaAAAAFQQZ5CeILfAAAJoLxMJUAB\n",
       "Dj05x+fwR2QC7YIU8nyzfz1NkpGQnQCTKSmssBMOzNY2bGy7042S/QRXYBsCoHVOjwNdI9y139YM\n",
       "+0PXZA/TqTi4AEHdNnHOEPb8gwvq9QXM1iT/3tZMLsYe0Dw+emUhVcNy2+tcC4x/52yQk/6qyiiK\n",
       "m0rG4yXlZPKO0XuT03Jq8yUBHmYRRbZMhANHwbndApsMazxgYChidG4XxValtWC8bnaPi+PXcOiS\n",
       "xDH1SYI/5DycHbnZuyVjKT/IDmI++WztgJ4ueS9eVO/KBnXbCga3QuC76t7CYlYcamt6SK17Euc7\n",
       "39lD8NH1Wxdls8ZEty1Zq74mjQHPBR8dnX/m4/l85zFl1GlzFF6aWkagfg98OTRgqEUOHREc7M5D\n",
       "DN9le8PtGHGldpOwLnW6p2B3WPUwGwZxbKvP2k3tQ4pcAJuBAAABEAGeYXRBXwAADs0zYoADtN/O\n",
       "99vz/YziDroSGI0jRMCqcpMRnChhI1RJA36FLcNZIvQMXJwP1VRaAAC1ITEqJpclc1K/cmBOhSol\n",
       "mR9b88Jrfn4FdiL9Tu2dajLKvsvzUTNrcFCxBkPYDz92jg+z8VB2pz1LlVd8GNfJ6GM+z/LVXy+W\n",
       "G/QPkhl0qU1fonANvfqpmr1qsJz354DVVbSV6C+anbkMKG29jtPtlB9hCueZZaL7Bb31TQxUifDe\n",
       "NRnvjDfNHUkYa7uNvRPIOgtdOc4xiSPb56iJAto2ywuLHrXZtILFXC4ZgETWyXJ0UYeVy0chhfiL\n",
       "7g9o0exrwy0rwGZmDsAj3ZCNYWRz+HEzIBgQAAAA3AGeY2pBXwAADqhefMUAB17QzLf/X2b5CE+k\n",
       "+2LWi4W9d1Zrkmmqujgs5giQ6bJcHES218+eI4Zlex0BSmeelyBDUzz9m4X1tWTgAAADAcPdT+ja\n",
       "aos04OvXI3vGRzvVY74jcYDAFzJjyLN1JrKcZtMS4gQEJhd8YkbHQy/Yx04FIWAdO6iaRx9C3sWS\n",
       "gmsKVaOaeRyqoDLvqWt+yiGd4biioqkYqs9E650lNZRCAMJv02lLvtbbumajqdv67Pq+D/S2H+4Q\n",
       "WGCc1rCiYT42MXm/29fXgt7+3jrfiHkAAABjQZpoSahBaJlMCC3//talUAAWUUqWQAOXmKMyXkPs\n",
       "OnI2jEen00TfuXQ7WfF0rRcdaj3dDwyrJMXeTjRUFc9NLcu3slTr+vDn3Lm+ZCf0PcYbt9rNB4aV\n",
       "AAADAAADAAADAAxZAAAAWkGehkURLBb/AAAJjHL16AAC9yeKgTnewzMh1U6D70wclXFpx25l20ez\n",
       "WXhg4KxEDyusIT+YLIZRMJyVfD+EuEuBthc1XIeTbe6c5iAAAAMAAAMAJY8c3FR7QQAAAFMBnqV0\n",
       "QV8AAA7KpQuPKAA69oZlv/eBp8PRcKOsG6AtqtYuqKi6kEeImhn1ICRKkv7Xd+upZx2utFqOHXD2\n",
       "tDdM18mWpxPqAX1AAAADAAADAAAGpQAAAFsBnqdqQV8AAA6oZYMhGURraAC7eDvtoF7xmZEjxUl/\n",
       "+Ws5JODQo040gNrLySJkaEom+lfqlw7kmbraA7OIZgC0p9bJhL/K53n/yznFPeFVAAADAAADAAAD\n",
       "AB7QAAAAYEGaqUmoQWyZTAgr//7WpVAAFlMV7QAXpQc0P/d6+JmY9Ig/K3Twrtu7U6jsMe3HYsWJ\n",
       "lVnglWcb31Vuc1KxktLfIeHxl953so/Eeco3N2+ya+DvOmAAAAMAAAMAAAMCNgAAA6dtb292AAAA\n",
       "bG12aGQAAAAAAAAAAAAAAAAAAAPoAAAnEAABAAABAAAAAAAAAAAAAAAAAQAAAAAAAAAAAAAAAAAA\n",
       "AAEAAAAAAAAAAAAAAAAAAEAAAAAAAAAAAAAAAAAAAAAAAAAAAAAAAAAAAAAAAAACAAAC0XRyYWsA\n",
       "AABcdGtoZAAAAAMAAAAAAAAAAAAAAAEAAAAAAAAnEAAAAAAAAAAAAAAAAAAAAAAAAQAAAAAAAAAA\n",
       "AAAAAAAAAAEAAAAAAAAAAAAAAAAAAEAAAAAC0AAAAtAAAAAAACRlZHRzAAAAHGVsc3QAAAAAAAAA\n",
       "AQAAJxAAAIAAAAEAAAAAAkltZGlhAAAAIG1kaGQAAAAAAAAAAAAAAAAAAEAAAAKAAFXEAAAAAAAt\n",
       "aGRscgAAAAAAAAAAdmlkZQAAAAAAAAAAAAAAAFZpZGVvSGFuZGxlcgAAAAH0bWluZgAAABR2bWhk\n",
       "AAAAAQAAAAAAAAAAAAAAJGRpbmYAAAAcZHJlZgAAAAAAAAABAAAADHVybCAAAAABAAABtHN0YmwA\n",
       "AAC0c3RzZAAAAAAAAAABAAAApGF2YzEAAAAAAAAAAQAAAAAAAAAAAAAAAAAAAAAC0ALQAEgAAABI\n",
       "AAAAAAAAAAEAAAAAAAAAAAAAAAAAAAAAAAAAAAAAAAAAAAAAAAAAAAAY//8AAAAyYXZjQwFkAB//\n",
       "4QAZZ2QAH6zZQLQW6EAAAAMAQAAAAwCDxgxlgAEABmjr48siwAAAABx1dWlka2hA8l8kT8W6OaUb\n",
       "zwMj8wAAAAAAAAAYc3R0cwAAAAAAAAABAAAACgAAQAAAAAAUc3RzcwAAAAAAAAABAAAAAQAAAGBj\n",
       "dHRzAAAAAAAAAAoAAAABAACAAAAAAAEAAUAAAAAAAQAAgAAAAAABAAAAAAAAAAEAAEAAAAAAAQAB\n",
       "QAAAAAABAACAAAAAAAEAAAAAAAAAAQAAQAAAAAABAACAAAAAABxzdHNjAAAAAAAAAAEAAAABAAAA\n",
       "CgAAAAEAAAA8c3RzegAAAAAAAAAAAAAACgAAFUQAAANtAAABVAAAARQAAADgAAAAZwAAAF4AAABX\n",
       "AAAAXwAAAGQAAAAUc3RjbwAAAAAAAAABAAAALAAAAGJ1ZHRhAAAAWm1ldGEAAAAAAAAAIWhkbHIA\n",
       "AAAAAAAAAG1kaXJhcHBsAAAAAAAAAAAAAAAALWlsc3QAAAAlqXRvbwAAAB1kYXRhAAAAAQAAAABM\n",
       "YXZmNTguMjkuMTAw\n",
       "\">\n",
       "  Your browser does not support the video tag.\n",
       "</video>"
      ],
      "text/plain": [
       "<IPython.core.display.HTML object>"
      ]
     },
     "execution_count": 276,
     "metadata": {},
     "output_type": "execute_result"
    }
   ],
   "source": [
    "HTML(simulacion.to_html5_video())"
   ]
  },
  {
   "cell_type": "code",
   "execution_count": 149,
   "id": "66f2b7a9",
   "metadata": {},
   "outputs": [
    {
     "name": "stdout",
     "output_type": "stream",
     "text": [
      "i:0,j:0,3\n",
      "i:0,j:1,0\n",
      "i:0,j:2,0\n",
      "i:0,j:3,1\n",
      "i:0,j:4,0\n",
      "i:0,j:5,3\n",
      "i:0,j:6,0\n",
      "i:0,j:7,0\n",
      "i:0,j:8,0\n",
      "i:0,j:9,0\n",
      "i:1,j:0,0\n",
      "i:1,j:1,3\n",
      "i:1,j:2,3\n",
      "i:1,j:3,1\n",
      "i:1,j:4,0\n",
      "i:1,j:5,0\n",
      "i:1,j:6,0\n",
      "i:1,j:7,5\n",
      "i:1,j:8,0\n",
      "i:1,j:9,0\n",
      "i:2,j:0,2\n",
      "i:2,j:1,5\n",
      "i:2,j:2,1\n",
      "i:2,j:3,3\n",
      "i:2,j:4,0\n",
      "i:2,j:5,3\n",
      "i:2,j:6,4\n",
      "i:2,j:7,1\n",
      "i:2,j:8,0\n",
      "i:2,j:9,0\n",
      "i:3,j:0,0\n",
      "i:3,j:1,0\n",
      "i:3,j:2,0\n",
      "i:3,j:3,4\n",
      "i:3,j:4,0\n",
      "i:3,j:5,0\n",
      "i:3,j:6,0\n",
      "i:3,j:7,0\n",
      "i:3,j:8,0\n",
      "i:3,j:9,0\n",
      "i:4,j:0,3\n",
      "i:4,j:1,3\n",
      "i:4,j:2,0\n",
      "i:4,j:3,0\n",
      "i:4,j:4,0\n",
      "i:4,j:5,4\n",
      "i:4,j:6,0\n",
      "i:4,j:7,2\n",
      "i:4,j:8,0\n",
      "i:4,j:9,0\n",
      "i:5,j:0,0\n",
      "i:5,j:1,3\n",
      "i:5,j:2,1\n",
      "i:5,j:3,5\n",
      "i:5,j:4,1\n",
      "i:5,j:5,0\n",
      "i:5,j:6,0\n",
      "i:5,j:7,0\n",
      "i:5,j:8,2\n",
      "i:5,j:9,0\n",
      "i:6,j:0,4\n",
      "i:6,j:1,3\n",
      "i:6,j:2,0\n",
      "i:6,j:3,0\n",
      "i:6,j:4,2\n",
      "i:6,j:5,2\n",
      "i:6,j:6,0\n",
      "i:6,j:7,3\n",
      "i:6,j:8,1\n",
      "i:6,j:9,3\n",
      "i:7,j:0,0\n",
      "i:7,j:1,0\n",
      "i:7,j:2,1\n",
      "i:7,j:3,0\n",
      "i:7,j:4,0\n",
      "i:7,j:5,1\n",
      "i:7,j:6,2\n",
      "i:7,j:7,0\n",
      "i:7,j:8,0\n",
      "i:7,j:9,0\n",
      "i:8,j:0,0\n",
      "i:8,j:1,5\n",
      "i:8,j:2,0\n",
      "i:8,j:3,0\n",
      "i:8,j:4,0\n",
      "i:8,j:5,0\n",
      "i:8,j:6,0\n",
      "i:8,j:7,0\n",
      "i:8,j:8,0\n",
      "i:8,j:9,0\n",
      "i:9,j:0,3\n",
      "i:9,j:1,0\n",
      "i:9,j:2,0\n",
      "i:9,j:3,5\n",
      "i:9,j:4,0\n",
      "i:9,j:5,0\n",
      "i:9,j:6,0\n",
      "i:9,j:7,0\n",
      "i:9,j:8,0\n",
      "i:9,j:9,0\n"
     ]
    }
   ],
   "source": [
    "for i in range(10):\n",
    "    for j in range(10):\n",
    "        print(f'i:{i},j:{j},{Mundo_azucarero.bienes[i][j]}')\n"
   ]
  },
  {
   "cell_type": "code",
   "execution_count": null,
   "id": "68fbe8af",
   "metadata": {},
   "outputs": [],
   "source": [
    "print(Mundo_azucarero.bienes[i][j])"
   ]
  },
  {
   "cell_type": "code",
   "execution_count": 146,
   "id": "ec3aba93",
   "metadata": {},
   "outputs": [
    {
     "name": "stdout",
     "output_type": "stream",
     "text": [
      "0\n"
     ]
    }
   ],
   "source": [
    "print(Mundo_azucarero.bienes[0][8])"
   ]
  },
  {
   "cell_type": "markdown",
   "id": "7782b3ea",
   "metadata": {},
   "source": [
    "# Poblacion"
   ]
  },
  {
   "cell_type": "code",
   "execution_count": null,
   "id": "5f281d0d",
   "metadata": {},
   "outputs": [],
   "source": [
    "for t in range(duracion):\n",
    "    mercado_ideal.evolucionar(t)\n",
    "\n",
    "tiempo_simulacion = np.linspace(0,1, duracion)"
   ]
  },
  {
   "cell_type": "code",
   "execution_count": null,
   "id": "7a691bde",
   "metadata": {},
   "outputs": [],
   "source": [
    "plt.figure(figsize = (10,10))\n",
    "plt.plot(tiempo_simulacion, mercado_ideal.demanda_oferta[:,0], label=\"Demanda\")\n",
    "plt.plot(tiempo_simulacion, mercado_ideal.demanda_oferta[:,1], label=\"Oferta\")\n",
    "plt.xlabel(\"tiempo\")\n",
    "plt.legend(loc=\"best\")"
   ]
  },
  {
   "cell_type": "markdown",
   "id": "486ec151",
   "metadata": {},
   "source": [
    "# Cantidad de bienes"
   ]
  },
  {
   "cell_type": "code",
   "execution_count": null,
   "id": "0d20a782",
   "metadata": {},
   "outputs": [],
   "source": [
    "for t in range(duracion):\n",
    "    mercado_ideal.evolucionar(t)\n",
    "\n",
    "tiempo_simulacion = np.linspace(0,1, duracion)"
   ]
  },
  {
   "cell_type": "code",
   "execution_count": null,
   "id": "c2c8da35",
   "metadata": {},
   "outputs": [],
   "source": [
    "plt.figure(figsize = (10,10))\n",
    "plt.plot(tiempo_simulacion, mercado_ideal.demanda_oferta[:,0], label=\"Demanda\")\n",
    "plt.plot(tiempo_simulacion, mercado_ideal.demanda_oferta[:,1], label=\"Oferta\")\n",
    "plt.xlabel(\"tiempo\")\n",
    "plt.legend(loc=\"best\")"
   ]
  },
  {
   "cell_type": "markdown",
   "id": "4652aa86",
   "metadata": {},
   "source": [
    "# Curva de Lorenz "
   ]
  },
  {
   "cell_type": "code",
   "execution_count": null,
   "id": "04740619",
   "metadata": {},
   "outputs": [],
   "source": [
    "for t in range(duracion):\n",
    "    mercado_ideal.evolucionar(t)\n",
    "\n",
    "tiempo_simulacion = np.linspace(0,1, duracion)"
   ]
  },
  {
   "cell_type": "code",
   "execution_count": null,
   "id": "72a2ad89",
   "metadata": {},
   "outputs": [],
   "source": [
    "plt.figure(figsize = (10,10))\n",
    "plt.plot(tiempo_simulacion, mercado_ideal.demanda_oferta[:,0], label=\"Demanda\")\n",
    "plt.plot(tiempo_simulacion, mercado_ideal.demanda_oferta[:,1], label=\"Oferta\")\n",
    "plt.xlabel(\"tiempo\")\n",
    "plt.legend(loc=\"best\")"
   ]
  },
  {
   "cell_type": "markdown",
   "id": "ec4146cf",
   "metadata": {},
   "source": [
    "# Coeficiente de Gini"
   ]
  },
  {
   "cell_type": "code",
   "execution_count": null,
   "id": "eec3b0f8",
   "metadata": {},
   "outputs": [],
   "source": [
    "for t in range(duracion):\n",
    "    mercado_ideal.evolucionar(t)\n",
    "\n",
    "tiempo_simulacion = np.linspace(0,1, duracion)"
   ]
  },
  {
   "cell_type": "code",
   "execution_count": null,
   "id": "229f4d8d",
   "metadata": {},
   "outputs": [],
   "source": [
    "plt.figure(figsize = (10,10))\n",
    "plt.plot(tiempo_simulacion, mercado_ideal.demanda_oferta[:,0], label=\"Demanda\")\n",
    "plt.plot(tiempo_simulacion, mercado_ideal.demanda_oferta[:,1], label=\"Oferta\")\n",
    "plt.xlabel(\"tiempo\")\n",
    "plt.legend(loc=\"best\")"
   ]
  },
  {
   "cell_type": "markdown",
   "id": "3031dda9",
   "metadata": {},
   "source": [
    "- ¿Qué pasa si la variable `tribu` afecta el comercio y el sexo? ¿Cómo lo simularías y por qué?"
   ]
  },
  {
   "cell_type": "markdown",
   "id": "d626245c",
   "metadata": {},
   "source": [
    "Si se agregara elementos a tribu dentro de agente que afectara el comercio entonces se podria simular mejor manera una verdadera sociedad. Por ejemplo, puede ser que diferentes tribus le den mas valor a diferentes bienes y asi el comercio entre ellos sea mas facil, o, agregar ciertos elementos a la tribus de que tan bien se llevan con las otras tribus, si se llevan bien, facilitar el comercio e incluso poder \"ayudar\" a otras tribus. En terminos de el sexo consideramos que no seria la mejor idea que una tribu tenga influenza dentro de el sexo de los habitantes, primero que nada porque no sabriamos como funcionaria, despues porque asi no funciona en la vida real. Lo unico que podemos pensar es si una tribu por sus creencias acepta menos a un genero entonces podria haber algo ahi pero no le vemos mucho uso en esta simulacion. Si se habla de reproduccion sexual entonces podria estar mas interesante ya que se podrian crear tribus que solo tengan sexo para mantener la poblacion constante, mientras otras tribus podrian ser mas liberales sobre su decision de reproducirse, asi aumentando la poblacion, requierendo de mas bienes para sobrevivir pero con mas manos para recolectar esos bienes"
   ]
  },
  {
   "cell_type": "markdown",
   "id": "f43c2039",
   "metadata": {},
   "source": [
    "- ¿Cómo simularías **guerra primitiva**?"
   ]
  },
  {
   "cell_type": "markdown",
   "id": "3a5e70e1",
   "metadata": {},
   "source": [
    "Una guerra primitiva se simularia de mejor manera si se hiciera agregando a los elementos de tribu. A pesar de que se podria hacer entre solo habitantes cuando un habitante no tiene bienes y tiene hambre podria empezar a buscar a otro habiante para robarle sus bienes. Pero en terminos de guerra la mejor forma seria si se le agregara un elemento a cada tribu de \"storage\" en donde principalmente si una tribu tiene muchos bienes y otra se esta mueriendo de hambre, la tribu que se esta muriendo de hambre vaya a hacer la guerra para tratar de conseguir esos bienes. Para esto tambien se tendria que agregar otros elementos principalmente en los agentes, cosas como fuerza y salud. Si se buscara ir aun mas haya se agregaria a la simulacion cosas como armas o incluso estrategias"
   ]
  },
  {
   "cell_type": "markdown",
   "id": "84bce294",
   "metadata": {},
   "source": [
    "- ¿Cómo simularías **enfermedad**?"
   ]
  },
  {
   "cell_type": "markdown",
   "id": "d4d9e83d",
   "metadata": {},
   "source": [
    "Para simular una enferemedad en este proyecto tendria que primero haber algo dentro de el mundo que \n",
    "despues de cada paso o despues de cada cierta cantidad de pasos a uno de los habitantes le de una enferemdad.\n",
    "Despues de eso se tendra que determinar los efectos de la enfermedad asi como que tan contagiosa es y su mortalidad. Puede ser que la enfermedad solo afecte que tanto se mueve las personas, o que baja mas rapido su atributo hambre, puede que para contagiarse otro habitante tiene que pasar muy cerca de el y tener una pequeña chance, o que cubra un radio mucho mas grande y que sea mucho mas probable que le de. La mortalidad podra variar entre que solo tenga los efectos de la enfermedad por ciertos pasos o que vayan empeorando hasta incluso la muerte."
   ]
  },
  {
   "cell_type": "markdown",
   "id": "887c1528",
   "metadata": {},
   "source": [
    "- ¿Quieres incluir **genética**? \n",
    "    - Define una cadena binaria (i.e. de ceros y unos) en los que se estén codificadas el sexo, capacidad de almacenar azúcar, metabolismo, rango de visión.\n",
    "    - Cuando los agentes se reproduzcan sexualmente, realiza un [`crossover`](http://en.wikipedia.org/wiki/Crossover_(genetic_algorithm)) para determinar los atributos de los agentes de la siguiente generación."
   ]
  },
  {
   "cell_type": "markdown",
   "id": "4b82c927",
   "metadata": {},
   "source": [
    "Incluir genetica dentro de la simulacion podria tener mucho valor, ya que podria incluir elementos que tambien simulen \"survival of the fittest\". Dentro de la simulacion se podrian incluir varios atributos que determinen la eficiencia en la que realizan acciones: velocidad, necesidad de comer, habilidad reproductora, habilidad de negociacion, fuerza (para elementos de guerra), etc. Y despues de cierta cantidad de pasos, se podria checar cuales son los genes que siguen vivos en los habitantes, para poder ver cuales son los genes que sobrevivieron"
   ]
  },
  {
   "cell_type": "markdown",
   "id": "a21b6128",
   "metadata": {},
   "source": [
    "- Agrega una asimetría de sexo, esto lo puedes modelar con un `offspring_cost` que sea mayor para uno de los sexos. Entonces antes de reproducirse sexualmente, hay una decisión por parte de los agentes."
   ]
  },
  {
   "cell_type": "markdown",
   "id": "36db4164",
   "metadata": {},
   "source": [
    "Si se agregara una asimetria de sexo a la genetica podria agregar un elemento a la simulacion, suponiendo que los habitantes saben sobre esta asimetria de sexo, que podria variar entre habitante y habitante, se podria crear un algortimo de decision en donde dependiendo de tanto su propia genetica como la de la posible pareja se decida si tener otro habitante tomando en cuenta las posibilidades de mejor o peores atributos para el offspring"
   ]
  },
  {
   "cell_type": "markdown",
   "id": "bb4aa2e5",
   "metadata": {},
   "source": [
    "# Cosas para mejorar en el futuro"
   ]
  },
  {
   "cell_type": "markdown",
   "id": "01d26f77",
   "metadata": {},
   "source": [
    "."
   ]
  },
  {
   "cell_type": "markdown",
   "id": "3626fe52",
   "metadata": {},
   "source": [
    "- Bienes crecen mas frecuentemente en diferentes locaciones"
   ]
  },
  {
   "cell_type": "markdown",
   "id": "5873ff88",
   "metadata": {},
   "source": [
    "- Las tribus tienen \"hogares\" locaciones a las cuales regresan"
   ]
  },
  {
   "cell_type": "markdown",
   "id": "682789dd",
   "metadata": {},
   "source": [
    "- Diferentes tipos de enfermedades"
   ]
  },
  {
   "cell_type": "markdown",
   "id": "b7aeb648",
   "metadata": {},
   "source": [
    "- Hacer de el proceso de reproducion que empiecen sin poder alimentarse los bebes por lo que tienen que alimentarlo los padres"
   ]
  },
  {
   "cell_type": "markdown",
   "id": "bc192055",
   "metadata": {},
   "source": [
    "- Crear parejas que compartan bienes y se queden juntos"
   ]
  },
  {
   "cell_type": "markdown",
   "id": "cf4399fb",
   "metadata": {},
   "source": [
    "- Agregar otro tipo de actividad (Pesca, cultivacion)"
   ]
  },
  {
   "cell_type": "markdown",
   "id": "7cbcef11",
   "metadata": {},
   "source": [
    "- Agregar necesidades (descansar, tomar agua)"
   ]
  },
  {
   "cell_type": "markdown",
   "id": "11c0e210",
   "metadata": {},
   "source": [
    "- Agregar mas bienes necesarios para otras cosas (arboles para casas, rocas para herramientas, cuero para ropa)"
   ]
  },
  {
   "cell_type": "markdown",
   "id": "a236acf6",
   "metadata": {},
   "source": [
    "- Agregar animales"
   ]
  },
  {
   "cell_type": "markdown",
   "id": "df540df0",
   "metadata": {},
   "source": [
    "- Agregar mas elementos a la genetica (habilidad de construir, habilidad de pescar, agresividad)"
   ]
  }
 ],
 "metadata": {
  "kernelspec": {
   "display_name": "Python 3 (ipykernel)",
   "language": "python",
   "name": "python3"
  },
  "language_info": {
   "codemirror_mode": {
    "name": "ipython",
    "version": 3
   },
   "file_extension": ".py",
   "mimetype": "text/x-python",
   "name": "python",
   "nbconvert_exporter": "python",
   "pygments_lexer": "ipython3",
   "version": "3.9.6"
  }
 },
 "nbformat": 4,
 "nbformat_minor": 5
}
