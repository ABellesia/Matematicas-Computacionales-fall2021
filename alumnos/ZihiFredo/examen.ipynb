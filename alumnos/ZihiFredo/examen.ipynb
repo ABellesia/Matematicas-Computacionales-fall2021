{
 "cells": [
  {
   "cell_type": "markdown",
   "metadata": {},
   "source": [
    "# Examen"
   ]
  },
  {
   "cell_type": "markdown",
   "metadata": {},
   "source": [
    "#### Instrucciones"
   ]
  },
  {
   "cell_type": "markdown",
   "metadata": {},
   "source": [
    "- Crea en tu carpeta, un archivo llamado `examen` y pega el texto de las problemas en él (respeta el formato).\n",
    "\n",
    "- Contesta inmediatamente abajo del problema.\n",
    "\n",
    "- Gráficas en calidad profesional (pon ejes, unidades, colores, leyenda, etc.)\n",
    "\n",
    "- La ortografía, redacción y habilidades de comunicación se tomarán en cuenta."
   ]
  },
  {
   "cell_type": "markdown",
   "metadata": {},
   "source": [
    "### Problema 1"
   ]
  },
  {
   "cell_type": "markdown",
   "metadata": {},
   "source": [
    "(a) Usando `Simpy`, declara las funciones:\n",
    "$$\n",
    "y(x) = \\cos(x)\n",
    "$$\n",
    "\n",
    "$$\n",
    "z(x) = \\sin(x)\n",
    "$$\n",
    "\n",
    "$$\n",
    "w(x) = \\frac{1}{\\sin(x) + \\cos(2x)}\n",
    "$$\n",
    "\n",
    "(b) Obtén la derivada de $g(x)$\n",
    "\n",
    "$$\n",
    "g(x) = y(x)*z(x)\n",
    "$$\n",
    "\n",
    "(c) Grafica $w(x)$ en el rango $[0,1]$\n",
    "\n",
    "(d) Integra de manera indefinida $w(x)$ y luego evalúala desde $0$ a $1$.\n",
    "\n",
    "(e) ¿Cuál es el límite de $y(x), z(x), g(x)$ y $w(x)$ cuando $x \\to 0$.?\n",
    "\n",
    "(f) Expanda $y(x)$ y $z(x)$ hasta 3 orden en serie de Taylor."
   ]
  },
  {
   "cell_type": "code",
   "execution_count": 58,
   "metadata": {},
   "outputs": [
    {
     "name": "stdout",
     "output_type": "stream",
     "text": [
      "cos(x)\n",
      "sin(x)\n",
      "1/(sin(x) + cos(2*x))\n",
      "sin(x)*cos(x)\n"
     ]
    }
   ],
   "source": [
    "#a)\n",
    "\n",
    "from sympy import *\n",
    "import numpy as np\n",
    "import math\n",
    "import matplotlib.pyplot as plt\n",
    "\n",
    "init_printing()\n",
    "\n",
    "x = symbols('x')\n",
    "y = cos(x)\n",
    "z = sin(x)\n",
    "w = 1/(sin(x)+cos(2*x))\n",
    "g = y * z\n",
    "\n",
    "print(y)\n",
    "print(z)\n",
    "print(w)\n",
    "print(g)"
   ]
  },
  {
   "cell_type": "code",
   "execution_count": 47,
   "metadata": {},
   "outputs": [
    {
     "data": {
      "image/png": "[encoded data removed]",
      "text/latex": [
       "$\\displaystyle - \\sin^{2}{\\left(x \\right)} + \\cos^{2}{\\left(x \\right)}$"
      ],
      "text/plain": [
       "     2         2   \n",
       "- sin (x) + cos (x)"
      ]
     },
     "execution_count": 47,
     "metadata": {},
     "output_type": "execute_result"
    }
   ],
   "source": [
    "#b)\n",
    "\n",
    "derivada_g = diff(g,x)\n",
    "derivada_g"
   ]
  },
  {
   "cell_type": "code",
   "execution_count": 59,
   "metadata": {},
   "outputs": [
    {
     "data": {
      "text/plain": [
       "<matplotlib.legend.Legend at 0x7ff64ef57d30>"
      ]
     },
     "execution_count": 59,
     "metadata": {},
     "output_type": "execute_result"
    },
    {
     "data": {
      "image/png": "[encoded data removed]",
      "text/plain": [
       "<Figure size 640x480 with 1 Axes>"
      ]
     },
     "metadata": {
      "needs_background": "light"
     },
     "output_type": "display_data"
    }
   ],
   "source": [
    "#c)\n",
    "\n",
    "X = np.linspace(0, 1, 100, endpoint=True)\n",
    "W = 1/(np.sin(X)+np.cos(2*X))\n",
    "\n",
    "plt.figure(figsize=(8, 6), dpi=80)\n",
    "\n",
    "plt.subplot(1, 1, 1)\n",
    "\n",
    "plt.plot(X, W, color=\"blue\", linewidth=2.5, linestyle=\"-\", label=\"1/(sin(x)+cos(2*x))\")\n",
    "\n",
    "plt.legend(loc='best')\n"
   ]
  },
  {
   "cell_type": "code",
   "execution_count": 45,
   "metadata": {},
   "outputs": [
    {
     "data": {
      "image/png": "[encoded data removed]",
      "text/latex": [
       "$\\displaystyle \\frac{\\sin^{2}{\\left(x \\right)}}{2}$"
      ],
      "text/plain": [
       "   2   \n",
       "sin (x)\n",
       "───────\n",
       "   2   "
      ]
     },
     "execution_count": 45,
     "metadata": {},
     "output_type": "execute_result"
    }
   ],
   "source": [
    "#d)\n",
    "\n",
    "int_g_und = integrate(g, x)\n",
    "int_g_und"
   ]
  },
  {
   "cell_type": "code",
   "execution_count": 51,
   "metadata": {},
   "outputs": [
    {
     "data": {
      "image/png": "[encoded data removed]",
      "text/latex": [
       "$\\displaystyle 0.354036709136786$"
      ],
      "text/plain": [
       "0.354036709136786"
      ]
     },
     "execution_count": 51,
     "metadata": {},
     "output_type": "execute_result"
    }
   ],
   "source": [
    "int_w = integrate(g, (x, 0, 1))\n",
    "int_w.evalf()"
   ]
  },
  {
   "cell_type": "code",
   "execution_count": 54,
   "metadata": {},
   "outputs": [
    {
     "data": {
      "image/png": "[encoded data removed]",
      "text/latex": [
       "$\\displaystyle 1$"
      ],
      "text/plain": [
       "1"
      ]
     },
     "execution_count": 54,
     "metadata": {},
     "output_type": "execute_result"
    }
   ],
   "source": [
    "#e)\n",
    "\n",
    "limit(y, x, 0)"
   ]
  },
  {
   "cell_type": "code",
   "execution_count": 55,
   "metadata": {},
   "outputs": [
    {
     "data": {
      "image/png": "[encoded data removed]",
      "text/latex": [
       "$\\displaystyle 0$"
      ],
      "text/plain": [
       "0"
      ]
     },
     "execution_count": 55,
     "metadata": {},
     "output_type": "execute_result"
    }
   ],
   "source": [
    "limit(z, x, 0)"
   ]
  },
  {
   "cell_type": "code",
   "execution_count": 56,
   "metadata": {},
   "outputs": [
    {
     "data": {
      "image/png": "[encoded data removed]",
      "text/latex": [
       "$\\displaystyle 1$"
      ],
      "text/plain": [
       "1"
      ]
     },
     "execution_count": 56,
     "metadata": {},
     "output_type": "execute_result"
    }
   ],
   "source": [
    "limit(w, x, 0)"
   ]
  },
  {
   "cell_type": "code",
   "execution_count": 57,
   "metadata": {},
   "outputs": [
    {
     "data": {
      "image/png": "[encoded data removed]",
      "text/latex": [
       "$\\displaystyle 0$"
      ],
      "text/plain": [
       "0"
      ]
     },
     "execution_count": 57,
     "metadata": {},
     "output_type": "execute_result"
    }
   ],
   "source": [
    "limit(g, x, 0)"
   ]
  },
  {
   "cell_type": "code",
   "execution_count": 52,
   "metadata": {},
   "outputs": [
    {
     "data": {
      "image/png": "[encoded data removed]",
      "text/latex": [
       "$\\displaystyle 1 - \\frac{x^{2}}{2} + \\frac{x^{4}}{24} + O\\left(x^{6}\\right)$"
      ],
      "text/plain": [
       "     2    4        \n",
       "    x    x     ⎛ 6⎞\n",
       "1 - ── + ── + O⎝x ⎠\n",
       "    2    24        "
      ]
     },
     "execution_count": 52,
     "metadata": {},
     "output_type": "execute_result"
    }
   ],
   "source": [
    "#f)\n",
    "\n",
    "y.series(x,0)"
   ]
  },
  {
   "cell_type": "code",
   "execution_count": 53,
   "metadata": {},
   "outputs": [
    {
     "data": {
      "image/png": "[encoded data removed]",
      "text/latex": [
       "$\\displaystyle x - \\frac{x^{3}}{6} + \\frac{x^{5}}{120} + O\\left(x^{6}\\right)$"
      ],
      "text/plain": [
       "     3     5        \n",
       "    x     x     ⎛ 6⎞\n",
       "x - ── + ─── + O⎝x ⎠\n",
       "    6    120        "
      ]
     },
     "execution_count": 53,
     "metadata": {},
     "output_type": "execute_result"
    }
   ],
   "source": [
    "z.series(x,0)"
   ]
  },
  {
   "cell_type": "markdown",
   "metadata": {},
   "source": [
    "<div class=\"alert alert-info\">\n",
    "    \n",
    "**NOTA** Muestra las expresiones en cada inciso.\n",
    "</div>"
   ]
  },
  {
   "cell_type": "markdown",
   "metadata": {},
   "source": [
    "### Problema 2"
   ]
  },
  {
   "cell_type": "markdown",
   "metadata": {},
   "source": [
    "El [**atractor de Rössler**](http://en.wikipedia.org/wiki/R%C3%B6ssler_attractor) esta descrito por el siguiente conjunto de ecuaciones:"
   ]
  },
  {
   "cell_type": "markdown",
   "metadata": {},
   "source": [
    "$$\n",
    "\\frac{dx}{dt} = -y -z\n",
    "$$\n",
    "\n",
    "$$\n",
    "\\frac{dy}{dt} = x + ay\n",
    "$$\n",
    "\n",
    "$$\n",
    "\\frac{dz}{dt} = b + z(x-c)\n",
    "$$"
   ]
  },
  {
   "cell_type": "markdown",
   "metadata": {},
   "source": [
    "(a) Resuelva las ecuaciones numéricamente para \n",
    "\n",
    "$$\n",
    "a=0.13 \\quad b=0.2 \\quad c=6.5 \n",
    "$$\n",
    "\n",
    "y condiciones iniciales\n",
    "\n",
    "$$\n",
    "x(0)=0 \\quad y(0)=0 \\quad z(0)=0 \n",
    "$$\n",
    "\n",
    "use el método de Runge-Kutta de 2do orden."
   ]
  },
  {
   "cell_type": "markdown",
   "metadata": {},
   "source": [
    "(b) Muestra en una gráfica el comportamiento de las soluciones en el tiempo (i.e. grafica $x(t)$, $y(t)$ y $z(t)$)."
   ]
  },
  {
   "cell_type": "markdown",
   "metadata": {},
   "source": [
    "(c) Muestra como se ve el **atractor de Rössler** en 3D (i.e. en el espacio)."
   ]
  },
  {
   "cell_type": "code",
   "execution_count": 60,
   "metadata": {},
   "outputs": [
    {
     "name": "stderr",
     "output_type": "stream",
     "text": [
      "/tmp/ipykernel_146/3399785042.py:27: DeprecationWarning: scipy.linspace is deprecated and will be removed in SciPy 2.0.0, use numpy.linspace instead\n",
      "  t=linspace(t_ini,t_fin,numsteps)\n",
      "/tmp/ipykernel_146/3399785042.py:29: DeprecationWarning: scipy.zeros is deprecated and will be removed in SciPy 2.0.0, use numpy.zeros instead\n",
      "  x=zeros(numsteps)\n",
      "/tmp/ipykernel_146/3399785042.py:30: DeprecationWarning: scipy.zeros is deprecated and will be removed in SciPy 2.0.0, use numpy.zeros instead\n",
      "  y=zeros(numsteps)\n",
      "/tmp/ipykernel_146/3399785042.py:31: DeprecationWarning: scipy.zeros is deprecated and will be removed in SciPy 2.0.0, use numpy.zeros instead\n",
      "  z=zeros(numsteps)\n"
     ]
    },
    {
     "data": {
      "image/png": "[encoded data removed]",
      "text/plain": [
       "<Figure size 432x288 with 4 Axes>"
      ]
     },
     "metadata": {
      "needs_background": "light"
     },
     "output_type": "display_data"
    }
   ],
   "source": [
    "#ESTA CLARAMENTE NO ES MI SOLUCION PERO LA PEGUE AQUI PARA VER SI ME AYUDABA A ENTENDER, SPOILER ALERT: IT DIDNT\n",
    "\n",
    "from numpy import *\n",
    "from matplotlib import *\n",
    "from scipy import *\n",
    "from pylab import figure, show, setp\n",
    "from mpl_toolkits.mplot3d import Axes3D\n",
    "\n",
    "#We define a function which is going to be the recursive function.\n",
    "def num_rossler(x_n,y_n,z_n,h,a,b,c):\n",
    "    x_n1=x_n+h*(-y_n-z_n)\n",
    "    y_n1=y_n+h*(x_n+a*y_n)\n",
    "    z_n1=z_n+h*(b+z_n*(x_n-c))   \n",
    "    return x_n1,y_n1,z_n1\n",
    "\n",
    "#Now we prepare some variables\n",
    "#First the parameters\n",
    "a=0.13\n",
    "b=0.2\n",
    "c=6.5\n",
    "\n",
    "#Them the time interval and the step size\n",
    "t_ini=0\n",
    "t_fin=32*pi\n",
    "h=0.0001\n",
    "numsteps=int((t_fin-t_ini)/h)\n",
    "\n",
    "#using this parameters we build the time.\n",
    "t=linspace(t_ini,t_fin,numsteps)\n",
    "#And the vectors for the solutions\n",
    "x=zeros(numsteps)\n",
    "y=zeros(numsteps)\n",
    "z=zeros(numsteps)\n",
    "\n",
    "#We set the initial conditions\n",
    "x[0]=0\n",
    "y[0]=0\n",
    "z[0]=0\n",
    "\n",
    "#This is the main loop where we use the recursive system to obtain the solution\n",
    "for k in range(x.size-1):\n",
    "    #We use the previous point to generate the new point using the recursion\n",
    "    [x[k+1],y[k+1],z[k+1]]=num_rossler(x[k],y[k],z[k],t[k+1]-t[k],a,b,c)\n",
    "   \n",
    "\n",
    "#We create a figure and 4 axes on it. 3 of the axes are going to be 2D and the fourth one is a 3D plot.\n",
    "\n",
    "fig = figure()\n",
    "ax1 = fig.add_axes([0.1, 0.7, 0.4, 0.2])\n",
    "ax2 = fig.add_axes([0.1, 0.4, 0.4, 0.2])\n",
    "ax3 = fig.add_axes([0.1, 0.1, 0.4, 0.2])\n",
    "ax4 = fig.add_axes([0.55, 0.25, 0.35, 0.5],projection='3d')\n",
    "\n",
    "#And we add vectors to each plot\n",
    "ax1.plot(t, x,color='red',lw=1,label='x(t)')\n",
    "ax1.set_xlabel('t')\n",
    "ax1.set_ylabel('x(t)')\n",
    "ax1.legend()\n",
    "ax1.axis((t_ini,t_fin,min(x),max(x)))\n",
    "\n",
    "ax2.plot(t, y,color='green',lw=1,label='y(t)')\n",
    "ax2.set_xlabel('t')\n",
    "ax2.set_ylabel('y(t)')\n",
    "ax2.legend()\n",
    "ax2.axis((t_ini,t_fin,min(y),max(y)))\n",
    "\n",
    "ax3.plot(t, z,color='blue',lw=1,label='z(t)')\n",
    "ax3.set_xlabel('t')\n",
    "ax3.set_ylabel('z(t)')\n",
    "ax3.legend()\n",
    "ax3.axis((t_ini,t_fin,min(z),max(z)))\n",
    "\n",
    "ax4.plot(x, y,z,color='black',lw=1,label='Evolution(t)')\n",
    "ax4.set_xlabel('x(t)')\n",
    "ax4.set_ylabel('y(t)')\n",
    "ax4.set_zlabel('z(t)')\n",
    "ax4.set_title('Evolution')\n",
    "#When finished we show the figure with all the plots.\n",
    "show()"
   ]
  },
  {
   "cell_type": "code",
   "execution_count": 62,
   "metadata": {},
   "outputs": [
    {
     "name": "stderr",
     "output_type": "stream",
     "text": [
      "/tmp/ipykernel_146/1477630456.py:14: DeprecationWarning: scipy.linspace is deprecated and will be removed in SciPy 2.0.0, use numpy.linspace instead\n",
      "  dt=linspace(t_ini,t_fin,numsteps)\n",
      "/tmp/ipykernel_146/1477630456.py:15: DeprecationWarning: scipy.zeros is deprecated and will be removed in SciPy 2.0.0, use numpy.zeros instead\n",
      "  x=zeros(numsteps)\n",
      "/tmp/ipykernel_146/1477630456.py:16: DeprecationWarning: scipy.zeros is deprecated and will be removed in SciPy 2.0.0, use numpy.zeros instead\n",
      "  y=zeros(numsteps)\n",
      "/tmp/ipykernel_146/1477630456.py:17: DeprecationWarning: scipy.zeros is deprecated and will be removed in SciPy 2.0.0, use numpy.zeros instead\n",
      "  z=zeros(numsteps)\n"
     ]
    },
    {
     "ename": "IndexError",
     "evalue": "invalid index to scalar variable.",
     "output_type": "error",
     "traceback": [
      "\u001b[0;31m---------------------------------------------------------------------------\u001b[0m",
      "\u001b[0;31mIndexError\u001b[0m                                Traceback (most recent call last)",
      "\u001b[0;32m/tmp/ipykernel_146/1477630456.py\u001b[0m in \u001b[0;36m<module>\u001b[0;34m\u001b[0m\n\u001b[1;32m     65\u001b[0m \u001b[0;34m\u001b[0m\u001b[0m\n\u001b[1;32m     66\u001b[0m \u001b[0;32mfor\u001b[0m \u001b[0mk\u001b[0m \u001b[0;32min\u001b[0m \u001b[0mrange\u001b[0m\u001b[0;34m(\u001b[0m\u001b[0mx\u001b[0m\u001b[0;34m.\u001b[0m\u001b[0msize\u001b[0m\u001b[0;34m-\u001b[0m\u001b[0;36m1\u001b[0m\u001b[0;34m)\u001b[0m\u001b[0;34m:\u001b[0m\u001b[0;34m\u001b[0m\u001b[0;34m\u001b[0m\u001b[0m\n\u001b[0;32m---> 67\u001b[0;31m     \u001b[0;34m[\u001b[0m\u001b[0mx\u001b[0m\u001b[0;34m[\u001b[0m\u001b[0mk\u001b[0m\u001b[0;34m+\u001b[0m\u001b[0;36m1\u001b[0m\u001b[0;34m]\u001b[0m\u001b[0;34m]\u001b[0m \u001b[0;34m=\u001b[0m \u001b[0mRK2X\u001b[0m\u001b[0;34m(\u001b[0m\u001b[0mx\u001b[0m\u001b[0;34m[\u001b[0m\u001b[0mk\u001b[0m\u001b[0;34m]\u001b[0m\u001b[0;34m,\u001b[0m\u001b[0mdt\u001b[0m\u001b[0;34m[\u001b[0m\u001b[0mk\u001b[0m\u001b[0;34m]\u001b[0m\u001b[0;34m,\u001b[0m\u001b[0mdt\u001b[0m\u001b[0;34m,\u001b[0m\u001b[0mX\u001b[0m\u001b[0;34m)\u001b[0m\u001b[0;34m\u001b[0m\u001b[0;34m\u001b[0m\u001b[0m\n\u001b[0m\u001b[1;32m     68\u001b[0m     \u001b[0;34m[\u001b[0m\u001b[0my\u001b[0m\u001b[0;34m[\u001b[0m\u001b[0mk\u001b[0m\u001b[0;34m+\u001b[0m\u001b[0;36m1\u001b[0m\u001b[0;34m]\u001b[0m\u001b[0;34m]\u001b[0m \u001b[0;34m=\u001b[0m \u001b[0mRK2Y\u001b[0m\u001b[0;34m(\u001b[0m\u001b[0mx\u001b[0m\u001b[0;34m[\u001b[0m\u001b[0mk\u001b[0m\u001b[0;34m]\u001b[0m\u001b[0;34m,\u001b[0m\u001b[0mdt\u001b[0m\u001b[0;34m[\u001b[0m\u001b[0mk\u001b[0m\u001b[0;34m]\u001b[0m\u001b[0;34m,\u001b[0m\u001b[0mdt\u001b[0m\u001b[0;34m,\u001b[0m\u001b[0mY\u001b[0m\u001b[0;34m)\u001b[0m\u001b[0;34m\u001b[0m\u001b[0;34m\u001b[0m\u001b[0m\n\u001b[1;32m     69\u001b[0m     \u001b[0;34m[\u001b[0m\u001b[0mz\u001b[0m\u001b[0;34m[\u001b[0m\u001b[0mk\u001b[0m\u001b[0;34m+\u001b[0m\u001b[0;36m1\u001b[0m\u001b[0;34m]\u001b[0m\u001b[0;34m]\u001b[0m \u001b[0;34m=\u001b[0m \u001b[0mRK2Z\u001b[0m\u001b[0;34m(\u001b[0m\u001b[0mx\u001b[0m\u001b[0;34m[\u001b[0m\u001b[0mk\u001b[0m\u001b[0;34m]\u001b[0m\u001b[0;34m,\u001b[0m\u001b[0mdt\u001b[0m\u001b[0;34m[\u001b[0m\u001b[0mk\u001b[0m\u001b[0;34m]\u001b[0m\u001b[0;34m,\u001b[0m\u001b[0mdt\u001b[0m\u001b[0;34m,\u001b[0m\u001b[0mZ\u001b[0m\u001b[0;34m)\u001b[0m\u001b[0;34m\u001b[0m\u001b[0;34m\u001b[0m\u001b[0m\n",
      "\u001b[0;32m/tmp/ipykernel_146/1477630456.py\u001b[0m in \u001b[0;36mRK2X\u001b[0;34m(var, t, dt, derivadas)\u001b[0m\n\u001b[1;32m     46\u001b[0m \u001b[0;34m\u001b[0m\u001b[0m\n\u001b[1;32m     47\u001b[0m \u001b[0;32mdef\u001b[0m \u001b[0mRK2X\u001b[0m\u001b[0;34m(\u001b[0m\u001b[0mvar\u001b[0m\u001b[0;34m,\u001b[0m \u001b[0mt\u001b[0m\u001b[0;34m,\u001b[0m \u001b[0mdt\u001b[0m\u001b[0;34m,\u001b[0m \u001b[0mderivadas\u001b[0m\u001b[0;34m)\u001b[0m\u001b[0;34m:\u001b[0m\u001b[0;34m\u001b[0m\u001b[0;34m\u001b[0m\u001b[0m\n\u001b[0;32m---> 48\u001b[0;31m     \u001b[0mk0\u001b[0m \u001b[0;34m=\u001b[0m \u001b[0mdt\u001b[0m\u001b[0;34m*\u001b[0m\u001b[0mX\u001b[0m\u001b[0;34m(\u001b[0m\u001b[0mvar\u001b[0m\u001b[0;34m,\u001b[0m \u001b[0mt\u001b[0m\u001b[0;34m)\u001b[0m\u001b[0;34m\u001b[0m\u001b[0;34m\u001b[0m\u001b[0m\n\u001b[0m\u001b[1;32m     49\u001b[0m     \u001b[0mk1\u001b[0m \u001b[0;34m=\u001b[0m \u001b[0mdt\u001b[0m\u001b[0;34m*\u001b[0m\u001b[0mX\u001b[0m\u001b[0;34m(\u001b[0m\u001b[0mvar\u001b[0m \u001b[0;34m+\u001b[0m \u001b[0mk0\u001b[0m\u001b[0;34m,\u001b[0m \u001b[0mvar\u001b[0m \u001b[0;34m+\u001b[0m \u001b[0mdt\u001b[0m\u001b[0;34m)\u001b[0m\u001b[0;34m\u001b[0m\u001b[0;34m\u001b[0m\u001b[0m\n\u001b[1;32m     50\u001b[0m     \u001b[0mvar_next\u001b[0m \u001b[0;34m=\u001b[0m \u001b[0mvar\u001b[0m \u001b[0;34m+\u001b[0m \u001b[0;36m0.5\u001b[0m\u001b[0;34m*\u001b[0m\u001b[0;34m(\u001b[0m\u001b[0mk0\u001b[0m \u001b[0;34m+\u001b[0m \u001b[0mk1\u001b[0m\u001b[0;34m)\u001b[0m\u001b[0;34m\u001b[0m\u001b[0;34m\u001b[0m\u001b[0m\n",
      "\u001b[0;32m/tmp/ipykernel_146/1477630456.py\u001b[0m in \u001b[0;36mX\u001b[0;34m(state, t)\u001b[0m\n\u001b[1;32m     31\u001b[0m \u001b[0;34m\u001b[0m\u001b[0m\n\u001b[1;32m     32\u001b[0m \u001b[0;32mdef\u001b[0m \u001b[0mX\u001b[0m\u001b[0;34m(\u001b[0m\u001b[0mstate\u001b[0m\u001b[0;34m,\u001b[0m \u001b[0mt\u001b[0m\u001b[0;34m)\u001b[0m\u001b[0;34m:\u001b[0m\u001b[0;34m\u001b[0m\u001b[0;34m\u001b[0m\u001b[0m\n\u001b[0;32m---> 33\u001b[0;31m     \u001b[0mg0\u001b[0m \u001b[0;34m=\u001b[0m \u001b[0mstate\u001b[0m\u001b[0;34m[\u001b[0m\u001b[0;36m1\u001b[0m\u001b[0;34m]\u001b[0m\u001b[0;34m\u001b[0m\u001b[0;34m\u001b[0m\u001b[0m\n\u001b[0m\u001b[1;32m     34\u001b[0m     \u001b[0mg1\u001b[0m \u001b[0;34m=\u001b[0m \u001b[0;34m-\u001b[0m\u001b[0my\u001b[0m\u001b[0;34m-\u001b[0m\u001b[0mz\u001b[0m\u001b[0;34m\u001b[0m\u001b[0;34m\u001b[0m\u001b[0m\n\u001b[1;32m     35\u001b[0m     \u001b[0;32mreturn\u001b[0m \u001b[0mnp\u001b[0m\u001b[0;34m.\u001b[0m\u001b[0marray\u001b[0m\u001b[0;34m(\u001b[0m\u001b[0;34m[\u001b[0m\u001b[0mg0\u001b[0m\u001b[0;34m,\u001b[0m \u001b[0mg1\u001b[0m\u001b[0;34m]\u001b[0m\u001b[0;34m)\u001b[0m\u001b[0;34m\u001b[0m\u001b[0;34m\u001b[0m\u001b[0m\n",
      "\u001b[0;31mIndexError\u001b[0m: invalid index to scalar variable."
     ]
    }
   ],
   "source": [
    "#a) Intento numero 1\n",
    "\n",
    "from numpy import *\n",
    "from matplotlib import *\n",
    "from scipy import *\n",
    "from pylab import figure, show, setp\n",
    "from mpl_toolkits.mplot3d import Axes3D\n",
    "\n",
    "t_ini=0\n",
    "t_fin=32*pi\n",
    "h=0.0001\n",
    "numsteps=int((t_fin-t_ini)/h)\n",
    "\n",
    "dt=linspace(t_ini,t_fin,numsteps)\n",
    "x=zeros(numsteps)\n",
    "y=zeros(numsteps)\n",
    "z=zeros(numsteps)\n",
    "\n",
    "a = 0.13\n",
    "b = 0.2\n",
    "c = 6.5\n",
    "\n",
    "x[0] = 0\n",
    "y[0] = 0\n",
    "z[0] = 0\n",
    "\n",
    "\n",
    "def X(state, t):\n",
    "    g0 = state[1]\n",
    "    g1 = -y-z\n",
    "    return np.array([g0, g1])\n",
    "    \n",
    "def Y(state, t):\n",
    "    g0 = state[1]\n",
    "    g1 = x+0.13*state[0]\n",
    "    return np.array([g0, g1])\n",
    "\n",
    "def Z(state, t):\n",
    "    g0 = state[1]\n",
    "    g1 = 0.2+state[0]*(x-6.5)\n",
    "    return np.array([g0, g1])\n",
    "    \n",
    "def RK2X(var, t, dt, derivadas):\n",
    "    k0 = dt*X(var, t)\n",
    "    k1 = dt*X(var + k0, var + dt)\n",
    "    var_next = var + 0.5*(k0 + k1)\n",
    "    var_next = var *(b+z_n*(x_n-c)) \n",
    "    return var_next\n",
    "\n",
    "def RK2Y(var, t, dt, derivadas):\n",
    "    k0 = dt*Y(var, t)\n",
    "    k1 = dt*Y(var + k0, var + dt)\n",
    "    var_next = var + 0.5*(k0 + k1)\n",
    "    return var_next\n",
    "\n",
    "def RK2Z(var, t, dt, derivadas):\n",
    "    k0 = dt*Z(var, t)\n",
    "    k1 = dt*Z(var + k0, var + dt)\n",
    "    var_next = var + 0.5*(k0 + k1)\n",
    "    return var_next\n",
    "\n",
    "for k in range(x.size-1):\n",
    "    x[k+1] = RK2X(x[k],dt[k],dt,X)\n",
    "    y[k+1] = RK2Y(x[k],dt[k],dt,Y)\n",
    "    z[k+1] = RK2Z(x[k],dt[k],dt,Z)\n",
    "\n"
   ]
  },
  {
   "cell_type": "code",
   "execution_count": 63,
   "metadata": {},
   "outputs": [
    {
     "name": "stderr",
     "output_type": "stream",
     "text": [
      "/tmp/ipykernel_146/3003392105.py:14: DeprecationWarning: scipy.linspace is deprecated and will be removed in SciPy 2.0.0, use numpy.linspace instead\n",
      "  dt=linspace(t_ini,t_fin,numsteps)\n",
      "/tmp/ipykernel_146/3003392105.py:15: DeprecationWarning: scipy.zeros is deprecated and will be removed in SciPy 2.0.0, use numpy.zeros instead\n",
      "  x=zeros(numsteps)\n",
      "/tmp/ipykernel_146/3003392105.py:16: DeprecationWarning: scipy.zeros is deprecated and will be removed in SciPy 2.0.0, use numpy.zeros instead\n",
      "  y=zeros(numsteps)\n",
      "/tmp/ipykernel_146/3003392105.py:17: DeprecationWarning: scipy.zeros is deprecated and will be removed in SciPy 2.0.0, use numpy.zeros instead\n",
      "  z=zeros(numsteps)\n"
     ]
    },
    {
     "ename": "ValueError",
     "evalue": "operands could not be broadcast together with shapes (1005309,) (2,) ",
     "output_type": "error",
     "traceback": [
      "\u001b[0;31m---------------------------------------------------------------------------\u001b[0m",
      "\u001b[0;31mValueError\u001b[0m                                Traceback (most recent call last)",
      "\u001b[0;32m/tmp/ipykernel_146/3003392105.py\u001b[0m in \u001b[0;36m<module>\u001b[0;34m\u001b[0m\n\u001b[1;32m     55\u001b[0m \u001b[0;32mfor\u001b[0m \u001b[0mk\u001b[0m \u001b[0;32min\u001b[0m \u001b[0mrange\u001b[0m\u001b[0;34m(\u001b[0m\u001b[0mx\u001b[0m\u001b[0;34m.\u001b[0m\u001b[0msize\u001b[0m\u001b[0;34m-\u001b[0m\u001b[0;36m1\u001b[0m\u001b[0;34m)\u001b[0m\u001b[0;34m:\u001b[0m\u001b[0;34m\u001b[0m\u001b[0;34m\u001b[0m\u001b[0m\n\u001b[1;32m     56\u001b[0m     \u001b[0marr_k\u001b[0m \u001b[0;34m=\u001b[0m \u001b[0;34m[\u001b[0m\u001b[0mx\u001b[0m\u001b[0;34m[\u001b[0m\u001b[0mk\u001b[0m\u001b[0;34m]\u001b[0m\u001b[0;34m,\u001b[0m\u001b[0my\u001b[0m\u001b[0;34m[\u001b[0m\u001b[0mk\u001b[0m\u001b[0;34m]\u001b[0m\u001b[0;34m,\u001b[0m\u001b[0mz\u001b[0m\u001b[0;34m[\u001b[0m\u001b[0mk\u001b[0m\u001b[0;34m]\u001b[0m\u001b[0;34m]\u001b[0m\u001b[0;34m\u001b[0m\u001b[0;34m\u001b[0m\u001b[0m\n\u001b[0;32m---> 57\u001b[0;31m     \u001b[0;34m[\u001b[0m\u001b[0mx\u001b[0m\u001b[0;34m[\u001b[0m\u001b[0mk\u001b[0m\u001b[0;34m+\u001b[0m\u001b[0;36m1\u001b[0m\u001b[0;34m]\u001b[0m\u001b[0;34m,\u001b[0m\u001b[0my\u001b[0m\u001b[0;34m[\u001b[0m\u001b[0mk\u001b[0m\u001b[0;34m+\u001b[0m\u001b[0;36m1\u001b[0m\u001b[0;34m]\u001b[0m\u001b[0;34m,\u001b[0m\u001b[0mz\u001b[0m\u001b[0;34m[\u001b[0m\u001b[0mk\u001b[0m\u001b[0;34m+\u001b[0m\u001b[0;36m1\u001b[0m\u001b[0;34m]\u001b[0m\u001b[0;34m]\u001b[0m \u001b[0;34m=\u001b[0m \u001b[0mRK2\u001b[0m\u001b[0;34m(\u001b[0m\u001b[0marr_k\u001b[0m\u001b[0;34m,\u001b[0m\u001b[0mdt\u001b[0m\u001b[0;34m[\u001b[0m\u001b[0mk\u001b[0m\u001b[0;34m]\u001b[0m\u001b[0;34m,\u001b[0m\u001b[0mdt\u001b[0m\u001b[0;34m,\u001b[0m\u001b[0mX\u001b[0m\u001b[0;34m)\u001b[0m\u001b[0;34m\u001b[0m\u001b[0;34m\u001b[0m\u001b[0m\n\u001b[0m",
      "\u001b[0;32m/tmp/ipykernel_146/3003392105.py\u001b[0m in \u001b[0;36mRK2\u001b[0;34m(var, t, dt, derivadas)\u001b[0m\n\u001b[1;32m     41\u001b[0m \u001b[0;34m\u001b[0m\u001b[0m\n\u001b[1;32m     42\u001b[0m \u001b[0;32mdef\u001b[0m \u001b[0mRK2\u001b[0m\u001b[0;34m(\u001b[0m\u001b[0mvar\u001b[0m\u001b[0;34m,\u001b[0m \u001b[0mt\u001b[0m\u001b[0;34m,\u001b[0m \u001b[0mdt\u001b[0m\u001b[0;34m,\u001b[0m \u001b[0mderivadas\u001b[0m\u001b[0;34m)\u001b[0m\u001b[0;34m:\u001b[0m\u001b[0;34m\u001b[0m\u001b[0;34m\u001b[0m\u001b[0m\n\u001b[0;32m---> 43\u001b[0;31m     \u001b[0mk0X\u001b[0m \u001b[0;34m=\u001b[0m \u001b[0mdt\u001b[0m\u001b[0;34m*\u001b[0m\u001b[0mmethodX\u001b[0m\u001b[0;34m(\u001b[0m\u001b[0mvar\u001b[0m\u001b[0;34m,\u001b[0m \u001b[0mt\u001b[0m\u001b[0;34m)\u001b[0m\u001b[0;34m\u001b[0m\u001b[0;34m\u001b[0m\u001b[0m\n\u001b[0m\u001b[1;32m     44\u001b[0m     \u001b[0mk1X\u001b[0m \u001b[0;34m=\u001b[0m \u001b[0mdt\u001b[0m\u001b[0;34m*\u001b[0m\u001b[0mmethodX\u001b[0m\u001b[0;34m(\u001b[0m\u001b[0mvar\u001b[0m \u001b[0;34m+\u001b[0m \u001b[0mk0\u001b[0m\u001b[0;34m,\u001b[0m \u001b[0mvar\u001b[0m\u001b[0;34m[\u001b[0m\u001b[0;36m0\u001b[0m\u001b[0;34m]\u001b[0m \u001b[0;34m+\u001b[0m \u001b[0mdt\u001b[0m\u001b[0;34m)\u001b[0m\u001b[0;34m\u001b[0m\u001b[0;34m\u001b[0m\u001b[0m\n\u001b[1;32m     45\u001b[0m     \u001b[0mk0Y\u001b[0m \u001b[0;34m=\u001b[0m \u001b[0mdt\u001b[0m\u001b[0;34m*\u001b[0m\u001b[0mmethodY\u001b[0m\u001b[0;34m(\u001b[0m\u001b[0mvar\u001b[0m\u001b[0;34m,\u001b[0m \u001b[0mt\u001b[0m\u001b[0;34m)\u001b[0m\u001b[0;34m\u001b[0m\u001b[0;34m\u001b[0m\u001b[0m\n",
      "\u001b[0;31mValueError\u001b[0m: operands could not be broadcast together with shapes (1005309,) (2,) "
     ]
    }
   ],
   "source": [
    "#a) Intento numero 2\n",
    "\n",
    "from numpy import *\n",
    "from matplotlib import *\n",
    "from scipy import *\n",
    "from pylab import figure, show, setp\n",
    "from mpl_toolkits.mplot3d import Axes3D\n",
    "\n",
    "t_ini=0\n",
    "t_fin=32*pi\n",
    "h=0.0001\n",
    "numsteps=int((t_fin-t_ini)/h)\n",
    "\n",
    "dt=linspace(t_ini,t_fin,numsteps)\n",
    "x=zeros(numsteps)\n",
    "y=zeros(numsteps)\n",
    "z=zeros(numsteps)\n",
    "\n",
    "a = 0.13\n",
    "b = 0.2\n",
    "c = 6.5\n",
    "\n",
    "x[0] = 0\n",
    "y[0] = 0\n",
    "z[0] = 0\n",
    "\n",
    "def methodX(state, t):\n",
    "    g0 = state[0]\n",
    "    g1 = -state[1]-state[2]\n",
    "    return np.array([g0, g1])\n",
    "\n",
    "def methodY(state, t):\n",
    "    g0 = state[1]\n",
    "    g1 = state[0]+0.13*state[1]\n",
    "    return np.array([g0, g1])\n",
    "\n",
    "def methodZ(state, t):\n",
    "    g0 = state[0]\n",
    "    g1 = 0.2+state[2]*(state[0]-6.5)\n",
    "    return np.array([g0, g1])\n",
    "    \n",
    "def RK2(var, t, dt, derivadas):\n",
    "    k0X = dt*methodX(var, t)\n",
    "    k1X = dt*methodX(var + k0, var[0] + dt)\n",
    "    k0Y = dt*methodY(var, t)\n",
    "    k1Y = dt*methodY(var + k0, var[1] + dt)\n",
    "    k0Z = dt*methodZ(var, t)\n",
    "    k1Z = dt*methodZ(var + k0, var[2] + dt)\n",
    "    var_next = []\n",
    "    var_next[0] = var[0] + 0.5*(k0X + k1X)\n",
    "    var_next[1] = var[1] + 0.5*(k0Y + k1Y)\n",
    "    var_next[2] = var[2] + 0.5*(k0Z + k1Z)\n",
    "    return var_next\n",
    "\n",
    "for k in range(x.size-1):\n",
    "    arr_k = [x[k],y[k],z[k]]\n",
    "    [x[k+1],y[k+1],z[k+1]] = RK2(arr_k,dt[k],dt,X)"
   ]
  },
  {
   "cell_type": "code",
   "execution_count": null,
   "metadata": {},
   "outputs": [],
   "source": [
    "#b) Graficas listas por si alguna vez funcionaba la parte a)\n",
    "\n",
    "fig = figure()\n",
    "ax1 = fig.add_axes([0.1, 0.7, 0.4, 0.2])\n",
    "ax2 = fig.add_axes([0.1, 0.4, 0.4, 0.2])\n",
    "ax3 = fig.add_axes([0.1, 0.1, 0.4, 0.2])\n",
    "\n",
    "ax1.plot(t, x,color='red',lw=1,label='x(t)')\n",
    "ax1.set_xlabel('t')\n",
    "ax1.set_ylabel('x(t)')\n",
    "ax1.legend()\n",
    "ax1.axis((t_ini,t_fin,min(x),max(x)))\n",
    "\n",
    "ax2.plot(t, y,color='green',lw=1,label='y(t)')\n",
    "ax2.set_xlabel('t')\n",
    "ax2.set_ylabel('y(t)')\n",
    "ax2.legend()\n",
    "ax2.axis((t_ini,t_fin,min(y),max(y)))\n",
    "\n",
    "ax3.plot(t, z,color='blue',lw=1,label='z(t)')\n",
    "ax3.set_xlabel('t')\n",
    "ax3.set_ylabel('z(t)')\n",
    "ax3.legend()\n",
    "ax3.axis((t_ini,t_fin,min(z),max(z)))"
   ]
  },
  {
   "cell_type": "code",
   "execution_count": null,
   "metadata": {},
   "outputs": [],
   "source": [
    "#c) Graficas listas por si alguna vez funcionaba la parte a)\n",
    "\n",
    "\n",
    "ax4 = fig.add_axes([0.55, 0.25, 0.35, 0.5],projection='3d')\n",
    "ax4.plot(x, y, z,color='black',lw=1,label='Evolution(t)')\n",
    "ax4.set_xlabel('x(t)')\n",
    "ax4.set_ylabel('y(t)')\n",
    "ax4.set_zlabel('z(t)')\n",
    "ax4.set_title('Evolution')"
   ]
  }
 ],
 "metadata": {
  "kernelspec": {
   "display_name": "Python 3 (ipykernel)",
   "language": "python",
   "name": "python3"
  },
  "language_info": {
   "codemirror_mode": {
    "name": "ipython",
    "version": 3
   },
   "file_extension": ".py",
   "mimetype": "text/x-python",
   "name": "python",
   "nbconvert_exporter": "python",
   "pygments_lexer": "ipython3",
   "version": "3.9.6"
  }
 },
 "nbformat": 4,
 "nbformat_minor": 1
}
