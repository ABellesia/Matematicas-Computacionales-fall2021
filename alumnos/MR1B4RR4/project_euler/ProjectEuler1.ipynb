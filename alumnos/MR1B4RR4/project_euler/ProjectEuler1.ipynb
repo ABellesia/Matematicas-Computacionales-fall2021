{
 "cells": [
  {
   "cell_type": "code",
   "execution_count": 6,
   "id": "c8a8f0c3",
   "metadata": {},
   "outputs": [
    {
     "name": "stdout",
     "output_type": "stream",
     "text": [
      "233168\n"
     ]
    }
   ],
   "source": [
    "lista3 =[]\n",
    "lista5= []\n",
    "\n",
    "for i in range(1000):\n",
    "    if i%3 == 0:\n",
    "        lista3.append(i)\n",
    "    elif i not in lista3 and i%5 == 0:\n",
    "        lista5.append(i)\n",
    "\n",
    "suma3 = sum(lista3)\n",
    "suma5= sum(lista5)\n",
    "\n",
    "sumatot= suma3 + suma5\n",
    "print(sumatot)"
   ]
  },
  {
   "cell_type": "code",
   "execution_count": null,
   "id": "e48fd109",
   "metadata": {},
   "outputs": [],
   "source": []
  }
 ],
 "metadata": {
  "kernelspec": {
   "display_name": "Python 3 (ipykernel)",
   "language": "python",
   "name": "python3"
  },
  "language_info": {
   "codemirror_mode": {
    "name": "ipython",
    "version": 3
   },
   "file_extension": ".py",
   "mimetype": "text/x-python",
   "name": "python",
   "nbconvert_exporter": "python",
   "pygments_lexer": "ipython3",
   "version": "3.9.6"
  }
 },
 "nbformat": 4,
 "nbformat_minor": 5
}
