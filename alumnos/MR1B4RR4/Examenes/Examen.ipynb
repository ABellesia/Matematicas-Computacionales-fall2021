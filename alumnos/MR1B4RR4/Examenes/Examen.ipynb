{
 "cells": [
  {
   "cell_type": "markdown",
   "metadata": {},
   "source": [
    "# Examen"
   ]
  },
  {
   "cell_type": "markdown",
   "metadata": {},
   "source": [
    "#### Instrucciones"
   ]
  },
  {
   "cell_type": "markdown",
   "metadata": {},
   "source": [
    "- Crea en tu carpeta, un archivo llamado `examen` y pega el texto de las problemas en él (respeta el formato).\n",
    "\n",
    "- Contesta inmediatamente abajo del problema.\n",
    "\n",
    "- Gráficas en calidad profesional (pon ejes, unidades, colores, leyenda, etc.)\n",
    "\n",
    "- La ortografía, redacción y habilidades de comunicación se tomarán en cuenta."
   ]
  },
  {
   "cell_type": "code",
   "execution_count": 1,
   "metadata": {},
   "outputs": [],
   "source": [
    "import sympy as sym\n",
    "from sympy.interactive import printing\n",
    "printing.init_printing(use_latex=True)\n",
    "from sympy import *"
   ]
  },
  {
   "cell_type": "code",
   "execution_count": 8,
   "metadata": {},
   "outputs": [],
   "source": [
    "import numpy as np\n",
    "import matplotlib.pyplot as plt"
   ]
  },
  {
   "cell_type": "markdown",
   "metadata": {},
   "source": [
    "### Problema 1"
   ]
  },
  {
   "cell_type": "markdown",
   "metadata": {},
   "source": [
    "(a) Usando `Simpy`, declara las funciones:\n",
    "$$\n",
    "y(x) = \\cos(x)\n",
    "$$\n",
    "\n",
    "$$\n",
    "z(x) = \\sin(x)\n",
    "$$\n",
    "\n",
    "$$\n",
    "w(x) = \\frac{1}{\\sin(x) + \\cos(2x)}\n",
    "$$\n",
    "\n",
    "(b) Obtén la derivada de $g(x)$\n",
    "\n",
    "$$\n",
    "g(x) = y(x)*z(x)\n",
    "$$\n",
    "\n",
    "(c) Grafica $w(x)$ en el rango $[0,1]$\n",
    "\n",
    "(d) Integra de manera indefinida $w(x)$ y luego evalúala desde $0$ a $1$.\n",
    "\n",
    "(e) ¿Cuál es el límite de $y(x), z(x), g(x)$ y $w(x)$ cuando $x \\to 0$.?\n",
    "\n",
    "(f) Expanda $y(x)$ y $z(x)$ hasta 3 orden en serie de Taylor."
   ]
  },
  {
   "cell_type": "code",
   "execution_count": 78,
   "metadata": {},
   "outputs": [
    {
     "name": "stdout",
     "output_type": "stream",
     "text": [
      "cos(x) sin(x) 1/(sin(x) + cos(2*x))\n"
     ]
    }
   ],
   "source": [
    "#a)\n",
    "y ,x , z, w, g = sym.symbols('y,x,z, w,g')\n",
    "y = cos(x) \n",
    "z = sin(x)\n",
    "w = 1/(sin(x)+cos(2*x))\n",
    "print(y,z,w)"
   ]
  },
  {
   "cell_type": "code",
   "execution_count": 45,
   "metadata": {},
   "outputs": [
    {
     "data": {
      "image/png": "[encoded data removed]",
      "text/latex": [
       "$\\displaystyle - \\sin^{2}{\\left(x \\right)} + \\cos^{2}{\\left(x \\right)}$"
      ],
      "text/plain": [
       "     2         2   \n",
       "- sin (x) + cos (x)"
      ]
     },
     "execution_count": 45,
     "metadata": {},
     "output_type": "execute_result"
    }
   ],
   "source": [
    "#b)\n",
    "g = y*z\n",
    "derivg = diff(g, x)\n",
    "derivg"
   ]
  },
  {
   "cell_type": "code",
   "execution_count": 46,
   "metadata": {},
   "outputs": [
    {
     "data": {
      "text/plain": [
       "Text(0.5, 1.0, 'grafica de w(x)')"
      ]
     },
     "execution_count": 46,
     "metadata": {},
     "output_type": "execute_result"
    },
    {
     "data": {
      "image/png": "[encoded data removed]",
      "text/plain": [
       "<Figure size 432x288 with 1 Axes>"
      ]
     },
     "metadata": {
      "needs_background": "light"
     },
     "output_type": "display_data"
    }
   ],
   "source": [
    "#c)\n",
    "valX = np.linspace(0,1,1000)\n",
    "valy = []\n",
    "for i in valX:\n",
    "    valy.append(1/(sin(i)+cos(2*i)))\n",
    "valY = np.array(valy)\n",
    "plt.plot(valX, valY)\n",
    "plt.xlabel('valores x')\n",
    "plt.ylabel('valores de w(x)')\n",
    "plt.title('grafica de w(x)')"
   ]
  },
  {
   "cell_type": "code",
   "execution_count": 65,
   "metadata": {},
   "outputs": [
    {
     "data": {
      "image/png": "[encoded data removed]",
      "text/latex": [
       "$\\displaystyle \\frac{\\sin^{2}{\\left(x \\right)}}{2}$"
      ],
      "text/plain": [
       "   2   \n",
       "sin (x)\n",
       "───────\n",
       "   2   "
      ]
     },
     "execution_count": 65,
     "metadata": {},
     "output_type": "execute_result"
    }
   ],
   "source": [
    "#d) \n",
    "integrate(g, x)"
   ]
  },
  {
   "cell_type": "code",
   "execution_count": 63,
   "metadata": {
    "scrolled": true
   },
   "outputs": [
    {
     "data": {
      "image/png": "[encoded data removed]",
      "text/latex": [
       "$\\displaystyle \\frac{\\sin^{2}{\\left(1 \\right)}}{2}$"
      ],
      "text/plain": [
       "   2   \n",
       "sin (1)\n",
       "───────\n",
       "   2   "
      ]
     },
     "execution_count": 63,
     "metadata": {},
     "output_type": "execute_result"
    }
   ],
   "source": [
    "integrate(g, (x,0,1))\n"
   ]
  },
  {
   "cell_type": "code",
   "execution_count": 52,
   "metadata": {},
   "outputs": [
    {
     "data": {
      "image/png": "[encoded data removed]",
      "text/latex": [
       "$\\displaystyle \\left\\langle -1, 1\\right\\rangle$"
      ],
      "text/plain": [
       "<-1, 1>"
      ]
     },
     "execution_count": 52,
     "metadata": {},
     "output_type": "execute_result"
    }
   ],
   "source": [
    "#e) A continuación se muestran los limites de las funciones tanto a -infinito como al infinito \n",
    "limit(y, x, oo, dir='+')"
   ]
  },
  {
   "cell_type": "code",
   "execution_count": 53,
   "metadata": {},
   "outputs": [
    {
     "data": {
      "image/png": "[encoded data removed]",
      "text/latex": [
       "$\\displaystyle \\left\\langle -1, 1\\right\\rangle$"
      ],
      "text/plain": [
       "<-1, 1>"
      ]
     },
     "execution_count": 53,
     "metadata": {},
     "output_type": "execute_result"
    }
   ],
   "source": [
    "limit(z, x, oo, dir='+')"
   ]
  },
  {
   "cell_type": "code",
   "execution_count": 54,
   "metadata": {},
   "outputs": [
    {
     "data": {
      "image/png": "[encoded data removed]",
      "text/latex": [
       "$\\displaystyle \\left\\langle -1, 1\\right\\rangle$"
      ],
      "text/plain": [
       "<-1, 1>"
      ]
     },
     "execution_count": 54,
     "metadata": {},
     "output_type": "execute_result"
    }
   ],
   "source": [
    "limit(g, x, oo, dir='+')"
   ]
  },
  {
   "cell_type": "code",
   "execution_count": 55,
   "metadata": {},
   "outputs": [
    {
     "data": {
      "image/png": "[encoded data removed]",
      "text/latex": [
       "$\\displaystyle \\left\\langle -\\infty, \\infty\\right\\rangle$"
      ],
      "text/plain": [
       "<-∞, ∞>"
      ]
     },
     "execution_count": 55,
     "metadata": {},
     "output_type": "execute_result"
    }
   ],
   "source": [
    "limit(w, x, oo, dir='+')"
   ]
  },
  {
   "attachments": {
    "image.png": {
     "image/png": "[encoded data removed]"
    }
   },
   "cell_type": "markdown",
   "metadata": {},
   "source": [
    "#f) Recordemos que asi se ve la serie de Taylor\n",
    "![image.png](attachment:image.png)\n"
   ]
  },
  {
   "cell_type": "code",
   "execution_count": 81,
   "metadata": {},
   "outputs": [],
   "source": [
    "x_0 = symbols('x_0')"
   ]
  },
  {
   "cell_type": "code",
   "execution_count": 85,
   "metadata": {},
   "outputs": [
    {
     "data": {
      "image/png": "[encoded data removed]",
      "text/latex": [
       "$\\displaystyle \\cos{\\left(x_{0} \\right)} - \\left(x - x_{0}\\right) \\sin{\\left(x_{0} \\right)} - \\frac{\\left(x - x_{0}\\right)^{2} \\cos{\\left(x_{0} \\right)}}{2} + O\\left(\\left(x - x_{0}\\right)^{3}; x\\rightarrow x_{0}\\right)$"
      ],
      "text/plain": [
       "                                     2                               \n",
       "                             (x - x₀) ⋅cos(x₀)    ⎛        3        ⎞\n",
       "cos(x₀) - (x - x₀)⋅sin(x₀) - ───────────────── + O⎝(x - x₀) ; x → x₀⎠\n",
       "                                     2                               "
      ]
     },
     "execution_count": 85,
     "metadata": {},
     "output_type": "execute_result"
    }
   ],
   "source": [
    "#para la y se ve asi\n",
    "y.series(x, x_0, n=3)"
   ]
  },
  {
   "cell_type": "code",
   "execution_count": 86,
   "metadata": {},
   "outputs": [
    {
     "data": {
      "image/png": "[encoded data removed]",
      "text/latex": [
       "$\\displaystyle \\sin{\\left(x_{0} \\right)} + \\left(x - x_{0}\\right) \\cos{\\left(x_{0} \\right)} - \\frac{\\left(x - x_{0}\\right)^{2} \\sin{\\left(x_{0} \\right)}}{2} + O\\left(\\left(x - x_{0}\\right)^{3}; x\\rightarrow x_{0}\\right)$"
      ],
      "text/plain": [
       "                                     2                               \n",
       "                             (x - x₀) ⋅sin(x₀)    ⎛        3        ⎞\n",
       "sin(x₀) + (x - x₀)⋅cos(x₀) - ───────────────── + O⎝(x - x₀) ; x → x₀⎠\n",
       "                                     2                               "
      ]
     },
     "execution_count": 86,
     "metadata": {},
     "output_type": "execute_result"
    }
   ],
   "source": [
    "#asi se ve para la funcion z\n",
    "z.series(x , x_0, n=3)"
   ]
  },
  {
   "cell_type": "markdown",
   "metadata": {},
   "source": [
    "<div class=\"alert alert-info\">\n",
    "    \n",
    "**NOTA** Muestra las expresiones en cada inciso.\n",
    "</div>"
   ]
  },
  {
   "cell_type": "markdown",
   "metadata": {},
   "source": [
    "### Problema 2"
   ]
  },
  {
   "cell_type": "markdown",
   "metadata": {},
   "source": [
    "El [**atractor de Rössler**](http://en.wikipedia.org/wiki/R%C3%B6ssler_attractor) esta descrito por el siguiente conjunto de ecuaciones:"
   ]
  },
  {
   "cell_type": "markdown",
   "metadata": {},
   "source": [
    "$$\n",
    "\\frac{dx}{dt} = -y -z\n",
    "$$\n",
    "\n",
    "$$\n",
    "\\frac{dy}{dt} = x + ay\n",
    "$$\n",
    "\n",
    "$$\n",
    "\\frac{dz}{dt} = b + z(x-c)\n",
    "$$"
   ]
  },
  {
   "cell_type": "markdown",
   "metadata": {},
   "source": [
    "(a) Resuelva las ecuaciones numéricamente para \n",
    "\n",
    "$$\n",
    "a=0.13 \\quad b=0.2 \\quad c=6.5 \n",
    "$$\n",
    "\n",
    "y condiciones iniciales\n",
    "\n",
    "$$\n",
    "x(0)=0 \\quad y(0)=0 \\quad z(0)=0 \n",
    "$$\n",
    "\n",
    "use el método de Runge-Kutta de 2do orden."
   ]
  },
  {
   "cell_type": "code",
   "execution_count": 56,
   "metadata": {},
   "outputs": [],
   "source": [
    "def RK2(y, t, dt, derivadas):\n",
    "    k0 = dt*derivadas(y, t)\n",
    "    k1 = dt*derivadas(y + k0, t + dt)\n",
    "    y_next = y + 0.5*(k0 + k1)\n",
    "    \n",
    "    return y_next"
   ]
  },
  {
   "cell_type": "code",
   "execution_count": 153,
   "metadata": {},
   "outputs": [],
   "source": [
    "def rossler(x,y,z,dt,a,b,c):\n",
    "    dxdt = x*+dt*(-y-z)\n",
    "    dydt = y+dt*(x+a*y)\n",
    "    dzdt = z+dt*(b+z*(x-c))\n",
    "    return dxdt,dydt,dzdt"
   ]
  },
  {
   "cell_type": "code",
   "execution_count": 157,
   "metadata": {},
   "outputs": [],
   "source": [
    "N=1000\n",
    "x0 = 0.0  \n",
    "y0 = 0.0 \n",
    "z0 = 0.0\n",
    "a=0.13\n",
    "b=0.2\n",
    "c=6.5\n",
    "tau = 32\n",
    "dt = 0.0001 "
   ]
  },
  {
   "cell_type": "code",
   "execution_count": 159,
   "metadata": {},
   "outputs": [],
   "source": [
    "time = np.linspace(0, tau, int(32/dt))"
   ]
  },
  {
   "cell_type": "code",
   "execution_count": 149,
   "metadata": {},
   "outputs": [],
   "source": [
    "x = np.zeros(N)\n",
    "y = np.zeros(N)\n",
    "z = np.zeros(N)"
   ]
  },
  {
   "cell_type": "code",
   "execution_count": 117,
   "metadata": {},
   "outputs": [],
   "source": [
    "x[0] = 0\n",
    "y[0] = 0\n",
    "z[0] = 0"
   ]
  },
  {
   "cell_type": "code",
   "execution_count": 160,
   "metadata": {},
   "outputs": [],
   "source": [
    "for j in range(N-1):\n",
    "    [x[j+1], y[j+1], z[j+1]] = rossler(x[j], y[j], z[j], time[j+1]-time[j], a, b, c)"
   ]
  },
  {
   "cell_type": "code",
   "execution_count": 165,
   "metadata": {},
   "outputs": [
    {
     "data": {
      "text/plain": [
       "array([0.00000000e+00, 2.00000625e-05, 3.99871249e-05, 5.99611957e-05,\n",
       "       7.99222833e-05, 9.98703962e-05, 1.19805543e-04, 1.39727731e-04,\n",
       "       1.59636971e-04, 1.79533269e-04, 1.99416634e-04, 2.19287075e-04,\n",
       "       2.39144601e-04, 2.58989219e-04, 2.78820938e-04, 2.98639766e-04,\n",
       "       3.18445712e-04, 3.38238784e-04, 3.58018991e-04, 3.77786340e-04,\n",
       "       3.97540841e-04, 4.17282501e-04, 4.37011329e-04, 4.56727334e-04,\n",
       "       4.76430522e-04, 4.96120904e-04, 5.15798487e-04, 5.35463279e-04,\n",
       "       5.55115290e-04, 5.74754526e-04, 5.94380997e-04, 6.13994711e-04,\n",
       "       6.33595675e-04, 6.53183899e-04, 6.72759391e-04, 6.92322158e-04,\n",
       "       7.11872210e-04, 7.31409554e-04, 7.50934199e-04, 7.70446153e-04,\n",
       "       7.89945424e-04, 8.09432020e-04, 8.28905950e-04, 8.48367222e-04,\n",
       "       8.67815844e-04, 8.87251825e-04, 9.06675172e-04, 9.26085893e-04,\n",
       "       9.45483998e-04, 9.64869494e-04, 9.84242390e-04, 1.00360269e-03,\n",
       "       1.02295041e-03, 1.04228555e-03, 1.06160813e-03, 1.08091814e-03,\n",
       "       1.10021561e-03, 1.11950053e-03, 1.13877291e-03, 1.15803277e-03,\n",
       "       1.17728011e-03, 1.19651494e-03, 1.21573726e-03, 1.23494709e-03,\n",
       "       1.25414444e-03, 1.27332930e-03, 1.29250170e-03, 1.31166163e-03,\n",
       "       1.33080911e-03, 1.34994415e-03, 1.36906674e-03, 1.38817691e-03,\n",
       "       1.40727465e-03, 1.42635999e-03, 1.44543291e-03, 1.46449344e-03,\n",
       "       1.48354158e-03, 1.50257734e-03, 1.52160072e-03, 1.54061174e-03,\n",
       "       1.55961040e-03, 1.57859671e-03, 1.59757068e-03, 1.61653232e-03,\n",
       "       1.63548164e-03, 1.65441863e-03, 1.67334332e-03, 1.69225570e-03,\n",
       "       1.71115580e-03, 1.73004361e-03, 1.74891914e-03, 1.76778240e-03,\n",
       "       1.78663340e-03, 1.80547214e-03, 1.82429865e-03, 1.84311291e-03,\n",
       "       1.86191495e-03, 1.88070476e-03, 1.89948236e-03, 1.91824776e-03,\n",
       "       1.93700095e-03, 1.95574196e-03, 1.97447079e-03, 1.99318744e-03,\n",
       "       2.01189193e-03, 2.03058426e-03, 2.04926443e-03, 2.06793247e-03,\n",
       "       2.08658837e-03, 2.10523215e-03, 2.12386381e-03, 2.14248335e-03,\n",
       "       2.16109080e-03, 2.17968615e-03, 2.19826941e-03, 2.21684059e-03,\n",
       "       2.23539970e-03, 2.25394675e-03, 2.27248174e-03, 2.29100469e-03,\n",
       "       2.30951559e-03, 2.32801447e-03, 2.34650131e-03, 2.36497615e-03,\n",
       "       2.38343897e-03, 2.40188979e-03, 2.42032862e-03, 2.43875546e-03,\n",
       "       2.45717033e-03, 2.47557323e-03, 2.49396416e-03, 2.51234314e-03,\n",
       "       2.53071018e-03, 2.54906527e-03, 2.56740844e-03, 2.58573968e-03,\n",
       "       2.60405901e-03, 2.62236643e-03, 2.64066194e-03, 2.65894557e-03,\n",
       "       2.67721731e-03, 2.69547718e-03, 2.71372518e-03, 2.73196131e-03,\n",
       "       2.75018559e-03, 2.76839803e-03, 2.78659863e-03, 2.80478740e-03,\n",
       "       2.82296434e-03, 2.84112947e-03, 2.85928279e-03, 2.87742432e-03,\n",
       "       2.89555405e-03, 2.91367199e-03, 2.93177816e-03, 2.94987256e-03,\n",
       "       2.96795520e-03, 2.98602609e-03, 3.00408523e-03, 3.02213263e-03,\n",
       "       3.04016830e-03, 3.05819225e-03, 3.07620448e-03, 3.09420500e-03,\n",
       "       3.11219383e-03, 3.13017096e-03, 3.14813640e-03, 3.16609017e-03,\n",
       "       3.18403227e-03, 3.20196270e-03, 3.21988148e-03, 3.23778861e-03,\n",
       "       3.25568411e-03, 3.27356797e-03, 3.29144020e-03, 3.30930082e-03,\n",
       "       3.32714983e-03, 3.34498724e-03, 3.36281306e-03, 3.38062728e-03,\n",
       "       3.39842993e-03, 3.41622101e-03, 3.43400052e-03, 3.45176848e-03,\n",
       "       3.46952488e-03, 3.48726975e-03, 3.50500308e-03, 3.52272488e-03,\n",
       "       3.54043516e-03, 3.55813394e-03, 3.57582120e-03, 3.59349698e-03,\n",
       "       3.61116126e-03, 3.62881406e-03, 3.64645538e-03, 3.66408524e-03,\n",
       "       3.68170364e-03, 3.69931059e-03, 3.71690609e-03, 3.73449016e-03,\n",
       "       3.75206280e-03, 3.76962401e-03, 3.78717381e-03, 3.80471220e-03,\n",
       "       3.82223919e-03, 3.83975479e-03, 3.85725901e-03, 3.87475184e-03,\n",
       "       3.89223331e-03, 3.90970341e-03, 3.92716216e-03, 3.94460956e-03,\n",
       "       3.96204562e-03, 3.97947034e-03, 3.99688374e-03, 4.01428582e-03,\n",
       "       4.03167659e-03, 4.04905605e-03, 4.06642422e-03, 4.08378110e-03,\n",
       "       4.10112670e-03, 4.11846102e-03, 4.13578407e-03, 4.15309587e-03,\n",
       "       4.17039641e-03, 4.18768570e-03, 4.20496376e-03, 4.22223059e-03,\n",
       "       4.23948619e-03, 4.25673058e-03, 4.27396376e-03, 4.29118574e-03,\n",
       "       4.30839652e-03, 4.32559612e-03, 4.34278453e-03, 4.35996178e-03,\n",
       "       4.37712786e-03, 4.39428278e-03, 4.41142655e-03, 4.42855917e-03,\n",
       "       4.44568066e-03, 4.46279102e-03, 4.47989026e-03, 4.49697839e-03,\n",
       "       4.51405540e-03, 4.53112132e-03, 4.54817615e-03, 4.56521989e-03,\n",
       "       4.58225255e-03, 4.59927413e-03, 4.61628466e-03, 4.63328413e-03,\n",
       "       4.65027255e-03, 4.66724992e-03, 4.68421626e-03, 4.70117157e-03,\n",
       "       4.71811587e-03, 4.73504914e-03, 4.75197141e-03, 4.76888269e-03,\n",
       "       4.78578297e-03, 4.80267226e-03, 4.81955057e-03, 4.83641792e-03,\n",
       "       4.85327430e-03, 4.87011973e-03, 4.88695420e-03, 4.90377773e-03,\n",
       "       4.92059033e-03, 4.93739200e-03, 4.95418275e-03, 4.97096258e-03,\n",
       "       4.98773151e-03, 5.00448953e-03, 5.02123667e-03, 5.03797292e-03,\n",
       "       5.05469829e-03, 5.07141278e-03, 5.08811642e-03, 5.10480919e-03,\n",
       "       5.12149112e-03, 5.13816220e-03, 5.15482245e-03, 5.17147187e-03,\n",
       "       5.18811046e-03, 5.20473824e-03, 5.22135521e-03, 5.23796139e-03,\n",
       "       5.25455676e-03, 5.27114135e-03, 5.28771516e-03, 5.30427820e-03,\n",
       "       5.32083047e-03, 5.33737198e-03, 5.35390274e-03, 5.37042276e-03,\n",
       "       5.38693203e-03, 5.40343058e-03, 5.41991840e-03, 5.43639551e-03,\n",
       "       5.45286190e-03, 5.46931759e-03, 5.48576259e-03, 5.50219689e-03,\n",
       "       5.51862052e-03, 5.53503346e-03, 5.55143574e-03, 5.56782736e-03,\n",
       "       5.58420832e-03, 5.60057864e-03, 5.61693831e-03, 5.63328736e-03,\n",
       "       5.64962577e-03, 5.66595356e-03, 5.68227075e-03, 5.69857732e-03,\n",
       "       5.71487330e-03, 5.73115868e-03, 5.74743348e-03, 5.76369770e-03,\n",
       "       5.77995134e-03, 5.79619443e-03, 5.81242695e-03, 5.82864892e-03,\n",
       "       5.84486035e-03, 5.86106124e-03, 5.87725160e-03, 5.89343144e-03,\n",
       "       5.90960076e-03, 5.92575957e-03, 5.94190788e-03, 5.95804569e-03,\n",
       "       5.97417301e-03, 5.99028985e-03, 6.00639621e-03, 6.02249210e-03,\n",
       "       6.03857753e-03, 6.05465251e-03, 6.07071703e-03, 6.08677112e-03,\n",
       "       6.10281477e-03, 6.11884799e-03, 6.13487079e-03, 6.15088317e-03,\n",
       "       6.16688515e-03, 6.18287672e-03, 6.19885790e-03, 6.21482869e-03,\n",
       "       6.23078910e-03, 6.24673914e-03, 6.26267881e-03, 6.27860812e-03,\n",
       "       6.29452707e-03, 6.31043568e-03, 6.32633395e-03, 6.34222188e-03,\n",
       "       6.35809949e-03, 6.37396677e-03, 6.38982374e-03, 6.40567041e-03,\n",
       "       6.42150677e-03, 6.43733284e-03, 6.45314862e-03, 6.46895412e-03,\n",
       "       6.48474935e-03, 6.50053432e-03, 6.51630902e-03, 6.53207347e-03,\n",
       "       6.54782767e-03, 6.56357163e-03, 6.57930536e-03, 6.59502886e-03,\n",
       "       6.61074214e-03, 6.62644520e-03, 6.64213806e-03, 6.65782072e-03,\n",
       "       6.67349319e-03, 6.68915547e-03, 6.70480757e-03, 6.72044949e-03,\n",
       "       6.73608125e-03, 6.75170284e-03, 6.76731428e-03, 6.78291558e-03,\n",
       "       6.79850673e-03, 6.81408775e-03, 6.82965864e-03, 6.84521941e-03,\n",
       "       6.86077007e-03, 6.87631062e-03, 6.89184106e-03, 6.90736142e-03,\n",
       "       6.92287168e-03, 6.93837186e-03, 6.95386197e-03, 6.96934201e-03,\n",
       "       6.98481198e-03, 7.00027190e-03, 7.01572177e-03, 7.03116160e-03,\n",
       "       7.04659140e-03, 7.06201116e-03, 7.07742090e-03, 7.09282063e-03,\n",
       "       7.10821034e-03, 7.12359005e-03, 7.13895977e-03, 7.15431949e-03,\n",
       "       7.16966923e-03, 7.18500899e-03, 7.20033879e-03, 7.21565861e-03,\n",
       "       7.23096848e-03, 7.24626840e-03, 7.26155837e-03, 7.27683841e-03,\n",
       "       7.29210851e-03, 7.30736869e-03, 7.32261895e-03, 7.33785929e-03,\n",
       "       7.35308973e-03, 7.36831027e-03, 7.38352092e-03, 7.39872168e-03,\n",
       "       7.41391255e-03, 7.42909356e-03, 7.44426469e-03, 7.45942597e-03,\n",
       "       7.47457739e-03, 7.48971896e-03, 7.50485069e-03, 7.51997259e-03,\n",
       "       7.53508465e-03, 7.55018689e-03, 7.56527932e-03, 7.58036194e-03,\n",
       "       7.59543475e-03, 7.61049776e-03, 7.62555099e-03, 7.64059442e-03,\n",
       "       7.65562808e-03, 7.67065197e-03, 7.68566610e-03, 7.70067046e-03,\n",
       "       7.71566507e-03, 7.73064994e-03, 7.74562506e-03, 7.76059045e-03,\n",
       "       7.77554611e-03, 7.79049206e-03, 7.80542828e-03, 7.82035480e-03,\n",
       "       7.83527162e-03, 7.85017874e-03, 7.86507617e-03, 7.87996391e-03,\n",
       "       7.89484198e-03, 7.90971038e-03, 7.92456912e-03, 7.93941819e-03,\n",
       "       7.95425762e-03, 7.96908740e-03, 7.98390754e-03, 7.99871804e-03,\n",
       "       8.01351892e-03, 8.02831018e-03, 8.04309183e-03, 8.05786386e-03,\n",
       "       8.07262630e-03, 8.08737914e-03, 8.10212239e-03, 8.11685605e-03,\n",
       "       8.13158014e-03, 8.14629466e-03, 8.16099962e-03, 8.17569501e-03,\n",
       "       8.19038086e-03, 8.20505715e-03, 8.21972391e-03, 8.23438114e-03,\n",
       "       8.24902884e-03, 8.26366701e-03, 8.27829568e-03, 8.29291483e-03,\n",
       "       8.30752448e-03, 8.32212463e-03, 8.33671530e-03, 8.35129648e-03,\n",
       "       8.36586818e-03, 8.38043041e-03, 8.39498318e-03, 8.40952649e-03,\n",
       "       8.42406034e-03, 8.43858475e-03, 8.45309971e-03, 8.46760524e-03,\n",
       "       8.48210134e-03, 8.49658802e-03, 8.51106529e-03, 8.52553314e-03,\n",
       "       8.53999159e-03, 8.55444064e-03, 8.56888030e-03, 8.58331057e-03,\n",
       "       8.59773146e-03, 8.61214298e-03, 8.62654513e-03, 8.64093792e-03,\n",
       "       8.65532136e-03, 8.66969545e-03, 8.68406019e-03, 8.69841559e-03,\n",
       "       8.71276167e-03, 8.72709842e-03, 8.74142585e-03, 8.75574397e-03,\n",
       "       8.77005278e-03, 8.78435229e-03, 8.79864251e-03, 8.81292343e-03,\n",
       "       8.82719508e-03, 8.84145744e-03, 8.85571054e-03, 8.86995437e-03,\n",
       "       8.88418895e-03, 8.89841427e-03, 8.91263035e-03, 8.92683718e-03,\n",
       "       8.94103478e-03, 8.95522315e-03, 8.96940230e-03, 8.98357223e-03,\n",
       "       8.99773296e-03, 9.01188447e-03, 9.02602679e-03, 9.04015992e-03,\n",
       "       9.05428386e-03, 9.06839862e-03, 9.08250420e-03, 9.09660062e-03,\n",
       "       9.11068787e-03, 9.12476597e-03, 9.13883492e-03, 9.15289472e-03,\n",
       "       9.16694538e-03, 9.18098691e-03, 9.19501931e-03, 9.20904259e-03,\n",
       "       9.22305676e-03, 9.23706182e-03, 9.25105777e-03, 9.26504463e-03,\n",
       "       9.27902239e-03, 9.29299107e-03, 9.30695067e-03, 9.32090120e-03,\n",
       "       9.33484265e-03, 9.34877505e-03, 9.36269839e-03, 9.37661268e-03,\n",
       "       9.39051792e-03, 9.40441413e-03, 9.41830130e-03, 9.43217945e-03,\n",
       "       9.44604858e-03, 9.45990869e-03, 9.47375979e-03, 9.48760189e-03,\n",
       "       9.50143499e-03, 9.51525911e-03, 9.52907423e-03, 9.54288037e-03,\n",
       "       9.55667755e-03, 9.57046575e-03, 9.58424499e-03, 9.59801527e-03,\n",
       "       9.61177661e-03, 9.62552899e-03, 9.63927244e-03, 9.65300696e-03,\n",
       "       9.66673255e-03, 9.68044921e-03, 9.69415696e-03, 9.70785581e-03,\n",
       "       9.72154574e-03, 9.73522678e-03, 9.74889893e-03, 9.76256218e-03,\n",
       "       9.77621656e-03, 9.78986206e-03, 9.80349869e-03, 9.81712646e-03,\n",
       "       9.83074537e-03, 9.84435543e-03, 9.85795664e-03, 9.87154901e-03,\n",
       "       9.88513255e-03, 9.89870726e-03, 9.91227314e-03, 9.92583020e-03,\n",
       "       9.93937846e-03, 9.95291790e-03, 9.96644855e-03, 9.97997040e-03,\n",
       "       9.99348346e-03, 1.00069877e-02, 1.00204832e-02, 1.00339700e-02,\n",
       "       1.00474479e-02, 1.00609171e-02, 1.00743776e-02, 1.00878293e-02,\n",
       "       1.01012722e-02, 1.01147064e-02, 1.01281319e-02, 1.01415487e-02,\n",
       "       1.01549567e-02, 1.01683560e-02, 1.01817466e-02, 1.01951286e-02,\n",
       "       1.02085018e-02, 1.02218663e-02, 1.02352221e-02, 1.02485693e-02,\n",
       "       1.02619077e-02, 1.02752375e-02, 1.02885587e-02, 1.03018711e-02,\n",
       "       1.03151750e-02, 1.03284701e-02, 1.03417567e-02, 1.03550346e-02,\n",
       "       1.03683038e-02, 1.03815645e-02, 1.03948165e-02, 1.04080599e-02,\n",
       "       1.04212947e-02, 1.04345209e-02, 1.04477385e-02, 1.04609475e-02,\n",
       "       1.04741480e-02, 1.04873398e-02, 1.05005231e-02, 1.05136978e-02,\n",
       "       1.05268639e-02, 1.05400215e-02, 1.05531705e-02, 1.05663110e-02,\n",
       "       1.05794429e-02, 1.05925664e-02, 1.06056812e-02, 1.06187876e-02,\n",
       "       1.06318854e-02, 1.06449747e-02, 1.06580555e-02, 1.06711278e-02,\n",
       "       1.06841916e-02, 1.06972470e-02, 1.07102938e-02, 1.07233321e-02,\n",
       "       1.07363620e-02, 1.07493834e-02, 1.07623964e-02, 1.07754008e-02,\n",
       "       1.07883969e-02, 1.08013844e-02, 1.08143636e-02, 1.08273343e-02,\n",
       "       1.08402966e-02, 1.08532504e-02, 1.08661958e-02, 1.08791329e-02,\n",
       "       1.08920615e-02, 1.09049817e-02, 1.09178935e-02, 1.09307969e-02,\n",
       "       1.09436919e-02, 1.09565785e-02, 1.09694568e-02, 1.09823267e-02,\n",
       "       1.09951882e-02, 1.10080414e-02, 1.10208862e-02, 1.10337227e-02,\n",
       "       1.10465508e-02, 1.10593706e-02, 1.10721820e-02, 1.10849851e-02,\n",
       "       1.10977799e-02, 1.11105664e-02, 1.11233446e-02, 1.11361145e-02,\n",
       "       1.11488760e-02, 1.11616293e-02, 1.11743743e-02, 1.11871110e-02,\n",
       "       1.11998394e-02, 1.12125595e-02, 1.12252714e-02, 1.12379750e-02,\n",
       "       1.12506704e-02, 1.12633575e-02, 1.12760363e-02, 1.12887070e-02,\n",
       "       1.13013693e-02, 1.13140235e-02, 1.13266694e-02, 1.13393071e-02,\n",
       "       1.13519366e-02, 1.13645579e-02, 1.13771710e-02, 1.13897758e-02,\n",
       "       1.14023725e-02, 1.14149610e-02, 1.14275413e-02, 1.14401135e-02,\n",
       "       1.14526774e-02, 1.14652332e-02, 1.14777809e-02, 1.14903204e-02,\n",
       "       1.15028517e-02, 1.15153749e-02, 1.15278899e-02, 1.15403968e-02,\n",
       "       1.15528956e-02, 1.15653863e-02, 1.15778688e-02, 1.15903432e-02,\n",
       "       1.16028095e-02, 1.16152678e-02, 1.16277179e-02, 1.16401599e-02,\n",
       "       1.16525938e-02, 1.16650197e-02, 1.16774375e-02, 1.16898472e-02,\n",
       "       1.17022488e-02, 1.17146424e-02, 1.17270279e-02, 1.17394054e-02,\n",
       "       1.17517748e-02, 1.17641362e-02, 1.17764895e-02, 1.17888349e-02,\n",
       "       1.18011721e-02, 1.18135014e-02, 1.18258227e-02, 1.18381359e-02,\n",
       "       1.18504412e-02, 1.18627384e-02, 1.18750277e-02, 1.18873090e-02,\n",
       "       1.18995823e-02, 1.19118476e-02, 1.19241049e-02, 1.19363543e-02,\n",
       "       1.19485957e-02, 1.19608291e-02, 1.19730546e-02, 1.19852722e-02,\n",
       "       1.19974818e-02, 1.20096835e-02, 1.20218772e-02, 1.20340630e-02,\n",
       "       1.20462409e-02, 1.20584109e-02, 1.20705730e-02, 1.20827272e-02,\n",
       "       1.20948734e-02, 1.21070118e-02, 1.21191423e-02, 1.21312649e-02,\n",
       "       1.21433796e-02, 1.21554864e-02, 1.21675854e-02, 1.21796765e-02,\n",
       "       1.21917597e-02, 1.22038351e-02, 1.22159027e-02, 1.22279624e-02,\n",
       "       1.22400142e-02, 1.22520583e-02, 1.22640945e-02, 1.22761229e-02,\n",
       "       1.22881434e-02, 1.23001562e-02, 1.23121611e-02, 1.23241582e-02,\n",
       "       1.23361476e-02, 1.23481291e-02, 1.23601029e-02, 1.23720688e-02,\n",
       "       1.23840270e-02, 1.23959774e-02, 1.24079201e-02, 1.24198550e-02,\n",
       "       1.24317821e-02, 1.24437015e-02, 1.24556131e-02, 1.24675170e-02,\n",
       "       1.24794132e-02, 1.24913016e-02, 1.25031823e-02, 1.25150552e-02,\n",
       "       1.25269205e-02, 1.25387780e-02, 1.25506279e-02, 1.25624700e-02,\n",
       "       1.25743044e-02, 1.25861312e-02, 1.25979502e-02, 1.26097616e-02,\n",
       "       1.26215653e-02, 1.26333613e-02, 1.26451496e-02, 1.26569303e-02,\n",
       "       1.26687034e-02, 1.26804687e-02, 1.26922265e-02, 1.27039766e-02,\n",
       "       1.27157190e-02, 1.27274538e-02, 1.27391810e-02, 1.27509006e-02,\n",
       "       1.27626125e-02, 1.27743169e-02, 1.27860136e-02, 1.27977027e-02,\n",
       "       1.28093843e-02, 1.28210582e-02, 1.28327246e-02, 1.28443833e-02,\n",
       "       1.28560345e-02, 1.28676781e-02, 1.28793142e-02, 1.28909427e-02,\n",
       "       1.29025636e-02, 1.29141769e-02, 1.29257828e-02, 1.29373810e-02,\n",
       "       1.29489718e-02, 1.29605550e-02, 1.29721307e-02, 1.29836988e-02,\n",
       "       1.29952594e-02, 1.30068126e-02, 1.30183582e-02, 1.30298963e-02,\n",
       "       1.30414269e-02, 1.30529500e-02, 1.30644656e-02, 1.30759737e-02,\n",
       "       1.30874744e-02, 1.30989676e-02, 1.31104533e-02, 1.31219315e-02,\n",
       "       1.31334023e-02, 1.31448656e-02, 1.31563215e-02, 1.31677699e-02,\n",
       "       1.31792109e-02, 1.31906445e-02, 1.32020706e-02, 1.32134893e-02,\n",
       "       1.32249005e-02, 1.32363044e-02, 1.32477008e-02, 1.32590898e-02,\n",
       "       1.32704715e-02, 1.32818457e-02, 1.32932125e-02, 1.33045720e-02,\n",
       "       1.33159241e-02, 1.33272687e-02, 1.33386060e-02, 1.33499360e-02,\n",
       "       1.33612586e-02, 1.33725738e-02, 1.33838816e-02, 1.33951822e-02,\n",
       "       1.34064753e-02, 1.34177612e-02, 1.34290396e-02, 1.34403108e-02,\n",
       "       1.34515746e-02, 1.34628311e-02, 1.34740803e-02, 1.34853222e-02,\n",
       "       1.34965568e-02, 1.35077841e-02, 1.35190040e-02, 1.35302167e-02,\n",
       "       1.35414221e-02, 1.35526202e-02, 1.35638111e-02, 1.35749946e-02,\n",
       "       1.35861709e-02, 1.35973399e-02, 1.36085017e-02, 1.36196562e-02,\n",
       "       1.36308035e-02, 1.36419435e-02, 1.36530763e-02, 1.36642018e-02,\n",
       "       1.36753201e-02, 1.36864312e-02, 1.36975350e-02, 1.37086317e-02,\n",
       "       1.37197211e-02, 1.37308033e-02, 1.37418783e-02, 1.37529461e-02,\n",
       "       1.37640067e-02, 1.37750602e-02, 1.37861064e-02, 1.37971455e-02,\n",
       "       1.38081774e-02, 1.38192021e-02, 1.38302196e-02, 1.38412300e-02,\n",
       "       1.38522333e-02, 1.38632294e-02, 1.38742183e-02, 1.38852001e-02,\n",
       "       1.38961747e-02, 1.39071423e-02, 1.39181027e-02, 1.39290559e-02,\n",
       "       1.39400021e-02, 1.39509411e-02, 1.39618730e-02, 1.39727978e-02,\n",
       "       1.39837156e-02, 1.39946262e-02, 1.40055297e-02, 1.40164261e-02,\n",
       "       1.40273155e-02, 1.40381978e-02, 1.40490730e-02, 1.40599411e-02,\n",
       "       1.40708022e-02, 1.40816562e-02, 1.40925032e-02, 1.41033431e-02,\n",
       "       1.41141759e-02, 1.41250017e-02, 1.41358205e-02, 1.41466323e-02,\n",
       "       1.41574370e-02, 1.41682347e-02, 1.41790254e-02, 1.41898091e-02,\n",
       "       1.42005857e-02, 1.42113554e-02, 1.42221180e-02, 1.42328737e-02,\n",
       "       1.42436223e-02, 1.42543640e-02, 1.42650987e-02, 1.42758264e-02,\n",
       "       1.42865472e-02, 1.42972610e-02, 1.43079678e-02, 1.43186676e-02,\n",
       "       1.43293605e-02, 1.43400465e-02, 1.43507255e-02, 1.43613975e-02,\n",
       "       1.43720627e-02, 1.43827209e-02, 1.43933721e-02, 1.44040165e-02,\n",
       "       1.44146539e-02, 1.44252844e-02, 1.44359080e-02, 1.44465247e-02,\n",
       "       1.44571345e-02, 1.44677374e-02, 1.44783334e-02, 1.44889225e-02,\n",
       "       1.44995047e-02, 1.45100801e-02, 1.45206486e-02, 1.45312102e-02,\n",
       "       1.45417649e-02, 1.45523128e-02, 1.45628538e-02, 1.45733880e-02,\n",
       "       1.45839153e-02, 1.45944358e-02, 1.46049495e-02, 1.46154563e-02,\n",
       "       1.46259563e-02, 1.46364494e-02, 1.46469358e-02, 1.46574153e-02,\n",
       "       1.46678880e-02, 1.46783539e-02, 1.46888130e-02, 1.46992653e-02])"
      ]
     },
     "execution_count": 165,
     "metadata": {},
     "output_type": "execute_result"
    }
   ],
   "source": [
    "z"
   ]
  },
  {
   "cell_type": "code",
   "execution_count": 164,
   "metadata": {},
   "outputs": [
    {
     "data": {
      "text/plain": [
       "array([0., 0., 0., 0., 0., 0., 0., 0., 0., 0., 0., 0., 0., 0., 0., 0., 0.,\n",
       "       0., 0., 0., 0., 0., 0., 0., 0., 0., 0., 0., 0., 0., 0., 0., 0., 0.,\n",
       "       0., 0., 0., 0., 0., 0., 0., 0., 0., 0., 0., 0., 0., 0., 0., 0., 0.,\n",
       "       0., 0., 0., 0., 0., 0., 0., 0., 0., 0., 0., 0., 0., 0., 0., 0., 0.,\n",
       "       0., 0., 0., 0., 0., 0., 0., 0., 0., 0., 0., 0., 0., 0., 0., 0., 0.,\n",
       "       0., 0., 0., 0., 0., 0., 0., 0., 0., 0., 0., 0., 0., 0., 0., 0., 0.,\n",
       "       0., 0., 0., 0., 0., 0., 0., 0., 0., 0., 0., 0., 0., 0., 0., 0., 0.,\n",
       "       0., 0., 0., 0., 0., 0., 0., 0., 0., 0., 0., 0., 0., 0., 0., 0., 0.,\n",
       "       0., 0., 0., 0., 0., 0., 0., 0., 0., 0., 0., 0., 0., 0., 0., 0., 0.,\n",
       "       0., 0., 0., 0., 0., 0., 0., 0., 0., 0., 0., 0., 0., 0., 0., 0., 0.,\n",
       "       0., 0., 0., 0., 0., 0., 0., 0., 0., 0., 0., 0., 0., 0., 0., 0., 0.,\n",
       "       0., 0., 0., 0., 0., 0., 0., 0., 0., 0., 0., 0., 0., 0., 0., 0., 0.,\n",
       "       0., 0., 0., 0., 0., 0., 0., 0., 0., 0., 0., 0., 0., 0., 0., 0., 0.,\n",
       "       0., 0., 0., 0., 0., 0., 0., 0., 0., 0., 0., 0., 0., 0., 0., 0., 0.,\n",
       "       0., 0., 0., 0., 0., 0., 0., 0., 0., 0., 0., 0., 0., 0., 0., 0., 0.,\n",
       "       0., 0., 0., 0., 0., 0., 0., 0., 0., 0., 0., 0., 0., 0., 0., 0., 0.,\n",
       "       0., 0., 0., 0., 0., 0., 0., 0., 0., 0., 0., 0., 0., 0., 0., 0., 0.,\n",
       "       0., 0., 0., 0., 0., 0., 0., 0., 0., 0., 0., 0., 0., 0., 0., 0., 0.,\n",
       "       0., 0., 0., 0., 0., 0., 0., 0., 0., 0., 0., 0., 0., 0., 0., 0., 0.,\n",
       "       0., 0., 0., 0., 0., 0., 0., 0., 0., 0., 0., 0., 0., 0., 0., 0., 0.,\n",
       "       0., 0., 0., 0., 0., 0., 0., 0., 0., 0., 0., 0., 0., 0., 0., 0., 0.,\n",
       "       0., 0., 0., 0., 0., 0., 0., 0., 0., 0., 0., 0., 0., 0., 0., 0., 0.,\n",
       "       0., 0., 0., 0., 0., 0., 0., 0., 0., 0., 0., 0., 0., 0., 0., 0., 0.,\n",
       "       0., 0., 0., 0., 0., 0., 0., 0., 0., 0., 0., 0., 0., 0., 0., 0., 0.,\n",
       "       0., 0., 0., 0., 0., 0., 0., 0., 0., 0., 0., 0., 0., 0., 0., 0., 0.,\n",
       "       0., 0., 0., 0., 0., 0., 0., 0., 0., 0., 0., 0., 0., 0., 0., 0., 0.,\n",
       "       0., 0., 0., 0., 0., 0., 0., 0., 0., 0., 0., 0., 0., 0., 0., 0., 0.,\n",
       "       0., 0., 0., 0., 0., 0., 0., 0., 0., 0., 0., 0., 0., 0., 0., 0., 0.,\n",
       "       0., 0., 0., 0., 0., 0., 0., 0., 0., 0., 0., 0., 0., 0., 0., 0., 0.,\n",
       "       0., 0., 0., 0., 0., 0., 0., 0., 0., 0., 0., 0., 0., 0., 0., 0., 0.,\n",
       "       0., 0., 0., 0., 0., 0., 0., 0., 0., 0., 0., 0., 0., 0., 0., 0., 0.,\n",
       "       0., 0., 0., 0., 0., 0., 0., 0., 0., 0., 0., 0., 0., 0., 0., 0., 0.,\n",
       "       0., 0., 0., 0., 0., 0., 0., 0., 0., 0., 0., 0., 0., 0., 0., 0., 0.,\n",
       "       0., 0., 0., 0., 0., 0., 0., 0., 0., 0., 0., 0., 0., 0., 0., 0., 0.,\n",
       "       0., 0., 0., 0., 0., 0., 0., 0., 0., 0., 0., 0., 0., 0., 0., 0., 0.,\n",
       "       0., 0., 0., 0., 0., 0., 0., 0., 0., 0., 0., 0., 0., 0., 0., 0., 0.,\n",
       "       0., 0., 0., 0., 0., 0., 0., 0., 0., 0., 0., 0., 0., 0., 0., 0., 0.,\n",
       "       0., 0., 0., 0., 0., 0., 0., 0., 0., 0., 0., 0., 0., 0., 0., 0., 0.,\n",
       "       0., 0., 0., 0., 0., 0., 0., 0., 0., 0., 0., 0., 0., 0., 0., 0., 0.,\n",
       "       0., 0., 0., 0., 0., 0., 0., 0., 0., 0., 0., 0., 0., 0., 0., 0., 0.,\n",
       "       0., 0., 0., 0., 0., 0., 0., 0., 0., 0., 0., 0., 0., 0., 0., 0., 0.,\n",
       "       0., 0., 0., 0., 0., 0., 0., 0., 0., 0., 0., 0., 0., 0., 0., 0., 0.,\n",
       "       0., 0., 0., 0., 0., 0., 0., 0., 0., 0., 0., 0., 0., 0., 0., 0., 0.,\n",
       "       0., 0., 0., 0., 0., 0., 0., 0., 0., 0., 0., 0., 0., 0., 0., 0., 0.,\n",
       "       0., 0., 0., 0., 0., 0., 0., 0., 0., 0., 0., 0., 0., 0., 0., 0., 0.,\n",
       "       0., 0., 0., 0., 0., 0., 0., 0., 0., 0., 0., 0., 0., 0., 0., 0., 0.,\n",
       "       0., 0., 0., 0., 0., 0., 0., 0., 0., 0., 0., 0., 0., 0., 0., 0., 0.,\n",
       "       0., 0., 0., 0., 0., 0., 0., 0., 0., 0., 0., 0., 0., 0., 0., 0., 0.,\n",
       "       0., 0., 0., 0., 0., 0., 0., 0., 0., 0., 0., 0., 0., 0., 0., 0., 0.,\n",
       "       0., 0., 0., 0., 0., 0., 0., 0., 0., 0., 0., 0., 0., 0., 0., 0., 0.,\n",
       "       0., 0., 0., 0., 0., 0., 0., 0., 0., 0., 0., 0., 0., 0., 0., 0., 0.,\n",
       "       0., 0., 0., 0., 0., 0., 0., 0., 0., 0., 0., 0., 0., 0., 0., 0., 0.,\n",
       "       0., 0., 0., 0., 0., 0., 0., 0., 0., 0., 0., 0., 0., 0., 0., 0., 0.,\n",
       "       0., 0., 0., 0., 0., 0., 0., 0., 0., 0., 0., 0., 0., 0., 0., 0., 0.,\n",
       "       0., 0., 0., 0., 0., 0., 0., 0., 0., 0., 0., 0., 0., 0., 0., 0., 0.,\n",
       "       0., 0., 0., 0., 0., 0., 0., 0., 0., 0., 0., 0., 0., 0., 0., 0., 0.,\n",
       "       0., 0., 0., 0., 0., 0., 0., 0., 0., 0., 0., 0., 0., 0., 0., 0., 0.,\n",
       "       0., 0., 0., 0., 0., 0., 0., 0., 0., 0., 0., 0., 0., 0., 0., 0., 0.,\n",
       "       0., 0., 0., 0., 0., 0., 0., 0., 0., 0., 0., 0., 0., 0.])"
      ]
     },
     "execution_count": 164,
     "metadata": {},
     "output_type": "execute_result"
    }
   ],
   "source": [
    "y"
   ]
  },
  {
   "cell_type": "markdown",
   "metadata": {},
   "source": [
    "(b) Muestra en una gráfica el comportamiento de las soluciones en el tiempo (i.e. grafica $x(t)$, $y(t)$ y $z(t)$)."
   ]
  },
  {
   "cell_type": "code",
   "execution_count": 162,
   "metadata": {},
   "outputs": [
    {
     "data": {
      "text/plain": [
       "[<matplotlib.lines.Line2D at 0x7f6cefe0a040>,\n",
       " <matplotlib.lines.Line2D at 0x7f6cefe0afa0>]"
      ]
     },
     "execution_count": 162,
     "metadata": {},
     "output_type": "execute_result"
    },
    {
     "data": {
      "image/png": "[encoded data removed]",
      "text/plain": [
       "<Figure size 432x288 with 1 Axes>"
      ]
     },
     "metadata": {
      "needs_background": "light"
     },
     "output_type": "display_data"
    }
   ],
   "source": [
    "plt.plot(x,y,z)"
   ]
  },
  {
   "cell_type": "markdown",
   "metadata": {},
   "source": [
    "(c) Muestra como se ve el **atractor de Rössler** en 3D (i.e. en el espacio)."
   ]
  },
  {
   "cell_type": "code",
   "execution_count": 125,
   "metadata": {},
   "outputs": [],
   "source": [
    "from mpl_toolkits.mplot3d import Axes3D"
   ]
  },
  {
   "cell_type": "code",
   "execution_count": 163,
   "metadata": {},
   "outputs": [
    {
     "ename": "ValueError",
     "evalue": "Argument Z must be 2-dimensional.",
     "output_type": "error",
     "traceback": [
      "\u001b[0;31m---------------------------------------------------------------------------\u001b[0m",
      "\u001b[0;31mValueError\u001b[0m                                Traceback (most recent call last)",
      "\u001b[0;32m/tmp/ipykernel_339/2629088138.py\u001b[0m in \u001b[0;36m<module>\u001b[0;34m\u001b[0m\n\u001b[1;32m      9\u001b[0m \u001b[0mX\u001b[0m\u001b[0;34m,\u001b[0m \u001b[0mY\u001b[0m \u001b[0;34m=\u001b[0m \u001b[0mnp\u001b[0m\u001b[0;34m.\u001b[0m\u001b[0mmeshgrid\u001b[0m\u001b[0;34m(\u001b[0m\u001b[0mX\u001b[0m\u001b[0;34m,\u001b[0m \u001b[0mY\u001b[0m\u001b[0;34m)\u001b[0m\u001b[0;34m\u001b[0m\u001b[0;34m\u001b[0m\u001b[0m\n\u001b[1;32m     10\u001b[0m \u001b[0mZ\u001b[0m \u001b[0;34m=\u001b[0m \u001b[0mz\u001b[0m\u001b[0;34m\u001b[0m\u001b[0;34m\u001b[0m\u001b[0m\n\u001b[0;32m---> 11\u001b[0;31m surf = ax.plot_surface(X, Y, Z, rstride=1, cstride=1, cmap=cm.jet,\n\u001b[0m\u001b[1;32m     12\u001b[0m         linewidth=0, antialiased=False)\n\u001b[1;32m     13\u001b[0m \u001b[0max\u001b[0m\u001b[0;34m.\u001b[0m\u001b[0mset_zlim3d\u001b[0m\u001b[0;34m(\u001b[0m\u001b[0;34m-\u001b[0m\u001b[0;36m1.01\u001b[0m\u001b[0;34m,\u001b[0m \u001b[0;36m1.01\u001b[0m\u001b[0;34m)\u001b[0m\u001b[0;34m;\u001b[0m\u001b[0;34m\u001b[0m\u001b[0;34m\u001b[0m\u001b[0m\n",
      "\u001b[0;32m/opt/conda/lib/python3.9/site-packages/matplotlib/_api/deprecation.py\u001b[0m in \u001b[0;36mwrapper\u001b[0;34m(*inner_args, **inner_kwargs)\u001b[0m\n\u001b[1;32m    429\u001b[0m                          \u001b[0;32melse\u001b[0m \u001b[0mdeprecation_addendum\u001b[0m\u001b[0;34m,\u001b[0m\u001b[0;34m\u001b[0m\u001b[0;34m\u001b[0m\u001b[0m\n\u001b[1;32m    430\u001b[0m                 **kwargs)\n\u001b[0;32m--> 431\u001b[0;31m         \u001b[0;32mreturn\u001b[0m \u001b[0mfunc\u001b[0m\u001b[0;34m(\u001b[0m\u001b[0;34m*\u001b[0m\u001b[0minner_args\u001b[0m\u001b[0;34m,\u001b[0m \u001b[0;34m**\u001b[0m\u001b[0minner_kwargs\u001b[0m\u001b[0;34m)\u001b[0m\u001b[0;34m\u001b[0m\u001b[0;34m\u001b[0m\u001b[0m\n\u001b[0m\u001b[1;32m    432\u001b[0m \u001b[0;34m\u001b[0m\u001b[0m\n\u001b[1;32m    433\u001b[0m     \u001b[0;32mreturn\u001b[0m \u001b[0mwrapper\u001b[0m\u001b[0;34m\u001b[0m\u001b[0;34m\u001b[0m\u001b[0m\n",
      "\u001b[0;32m/opt/conda/lib/python3.9/site-packages/mpl_toolkits/mplot3d/axes3d.py\u001b[0m in \u001b[0;36mplot_surface\u001b[0;34m(self, X, Y, Z, norm, vmin, vmax, lightsource, *args, **kwargs)\u001b[0m\n\u001b[1;32m   1656\u001b[0m \u001b[0;34m\u001b[0m\u001b[0m\n\u001b[1;32m   1657\u001b[0m         \u001b[0;32mif\u001b[0m \u001b[0mZ\u001b[0m\u001b[0;34m.\u001b[0m\u001b[0mndim\u001b[0m \u001b[0;34m!=\u001b[0m \u001b[0;36m2\u001b[0m\u001b[0;34m:\u001b[0m\u001b[0;34m\u001b[0m\u001b[0;34m\u001b[0m\u001b[0m\n\u001b[0;32m-> 1658\u001b[0;31m             \u001b[0;32mraise\u001b[0m \u001b[0mValueError\u001b[0m\u001b[0;34m(\u001b[0m\u001b[0;34m\"Argument Z must be 2-dimensional.\"\u001b[0m\u001b[0;34m)\u001b[0m\u001b[0;34m\u001b[0m\u001b[0;34m\u001b[0m\u001b[0m\n\u001b[0m\u001b[1;32m   1659\u001b[0m         \u001b[0;32mif\u001b[0m \u001b[0mnp\u001b[0m\u001b[0;34m.\u001b[0m\u001b[0many\u001b[0m\u001b[0;34m(\u001b[0m\u001b[0mnp\u001b[0m\u001b[0;34m.\u001b[0m\u001b[0misnan\u001b[0m\u001b[0;34m(\u001b[0m\u001b[0mZ\u001b[0m\u001b[0;34m)\u001b[0m\u001b[0;34m)\u001b[0m\u001b[0;34m:\u001b[0m\u001b[0;34m\u001b[0m\u001b[0;34m\u001b[0m\u001b[0m\n\u001b[1;32m   1660\u001b[0m             _api.warn_external(\n",
      "\u001b[0;31mValueError\u001b[0m: Argument Z must be 2-dimensional."
     ]
    },
    {
     "data": {
      "image/png": "[encoded data removed]",
      "text/plain": [
       "<Figure size 432x288 with 1 Axes>"
      ]
     },
     "metadata": {
      "needs_background": "light"
     },
     "output_type": "display_data"
    }
   ],
   "source": [
    "from mpl_toolkits.mplot3d.axes3d import Axes3D\n",
    "from matplotlib import cm\n",
    "\n",
    "fig = plt.figure()\n",
    "ax = fig.add_subplot(1, 1, 1, projection='3d')\n",
    "X = x\n",
    "Y = x\n",
    "\n",
    "X, Y = np.meshgrid(X, Y)\n",
    "Z = z\n",
    "surf = ax.plot_surface(X, Y, Z, rstride=1, cstride=1, cmap=cm.jet,\n",
    "        linewidth=0, antialiased=False)\n",
    "ax.set_zlim3d(-1.01, 1.01);"
   ]
  }
 ],
 "metadata": {
  "kernelspec": {
   "display_name": "Python 3 (ipykernel)",
   "language": "python",
   "name": "python3"
  },
  "language_info": {
   "codemirror_mode": {
    "name": "ipython",
    "version": 3
   },
   "file_extension": ".py",
   "mimetype": "text/x-python",
   "name": "python",
   "nbconvert_exporter": "python",
   "pygments_lexer": "ipython3",
   "version": "3.9.6"
  }
 },
 "nbformat": 4,
 "nbformat_minor": 1
}
