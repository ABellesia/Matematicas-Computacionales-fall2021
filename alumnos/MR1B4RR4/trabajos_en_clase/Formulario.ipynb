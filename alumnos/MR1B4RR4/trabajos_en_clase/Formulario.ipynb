{
 "cells": [
  {
   "cell_type": "markdown",
   "id": "272342a6",
   "metadata": {},
   "source": [
    "# Widgets y otras cosas de jupyter"
   ]
  },
  {
   "cell_type": "code",
   "execution_count": null,
   "id": "d3403401",
   "metadata": {},
   "outputs": [],
   "source": [
    "from ipywidgets import interact, fixed, widgets"
   ]
  },
  {
   "cell_type": "code",
   "execution_count": null,
   "id": "8c0be700",
   "metadata": {},
   "outputs": [],
   "source": [
    "interact(funcion, x=10);"
   ]
  },
  {
   "cell_type": "markdown",
   "id": "0dad4948",
   "metadata": {},
   "source": [
    "### Guardar archivos"
   ]
  },
  {
   "cell_type": "code",
   "execution_count": null,
   "id": "ce641425",
   "metadata": {},
   "outputs": [],
   "source": [
    "%%file utilerias.py\n",
    "def sort_string(s):\n",
    "    s = sorted(s)\n",
    "    print(''.join(s))"
   ]
  },
  {
   "cell_type": "code",
   "execution_count": null,
   "id": "c3834eef",
   "metadata": {},
   "outputs": [],
   "source": [
    "%load utilerias.py\n"
   ]
  },
  {
   "cell_type": "markdown",
   "id": "b30d5afd",
   "metadata": {},
   "source": [
    "# Sympy "
   ]
  },
  {
   "cell_type": "code",
   "execution_count": 1,
   "id": "96d22882",
   "metadata": {},
   "outputs": [
    {
     "data": {
      "text/latex": [
       "$\\displaystyle 2 y + 3 z$"
      ],
      "text/plain": [
       "2*y + 3*z"
      ]
     },
     "execution_count": 1,
     "metadata": {},
     "output_type": "execute_result"
    }
   ],
   "source": [
    "import sympy as sym\n",
    "x,y,z = sym.symbols('x,y,z')\n",
    "x + 2*y + 3*z -x"
   ]
  },
  {
   "cell_type": "code",
   "execution_count": 2,
   "id": "1f2d210e",
   "metadata": {},
   "outputs": [],
   "source": [
    "from sympy.interactive import printing\n",
    "printing.init_printing(use_latex=True)"
   ]
  },
  {
   "cell_type": "code",
   "execution_count": 3,
   "id": "9bea746d",
   "metadata": {},
   "outputs": [],
   "source": [
    "from sympy import *"
   ]
  },
  {
   "cell_type": "markdown",
   "id": "28929026",
   "metadata": {},
   "source": [
    "ocupar diff para diferenciar"
   ]
  },
  {
   "cell_type": "markdown",
   "id": "d4717d8d",
   "metadata": {},
   "source": [
    "ocupar integrate para integrar de manera simbolica \n"
   ]
  },
  {
   "cell_type": "markdown",
   "id": "53a5c73a",
   "metadata": {},
   "source": [
    "dsolve puede resolver ecuaciones de manera simbolica"
   ]
  },
  {
   "cell_type": "markdown",
   "id": "c51e5407",
   "metadata": {},
   "source": [
    "# Numpy"
   ]
  },
  {
   "cell_type": "code",
   "execution_count": 2,
   "id": "a43c3d89",
   "metadata": {},
   "outputs": [],
   "source": [
    "import numpy as np"
   ]
  },
  {
   "cell_type": "code",
   "execution_count": 18,
   "id": "01f4f60c",
   "metadata": {},
   "outputs": [
    {
     "data": {
      "text/plain": [
       "array([0.9669561 , 0.16252711, 0.19422925])"
      ]
     },
     "execution_count": 18,
     "metadata": {},
     "output_type": "execute_result"
    }
   ],
   "source": [
    "arr = np.random.rand(3)\n",
    "arr"
   ]
  },
  {
   "cell_type": "code",
   "execution_count": 20,
   "id": "85118089",
   "metadata": {},
   "outputs": [
    {
     "data": {
      "image/png": "[encoded data removed]",
      "text/latex": [
       "$\\displaystyle \\left( 3,\\right)$"
      ],
      "text/plain": [
       "(3,)"
      ]
     },
     "execution_count": 20,
     "metadata": {},
     "output_type": "execute_result"
    }
   ],
   "source": [
    "\n",
    "arr.T #transpone el arreglo\n",
    "arr.T.shape"
   ]
  },
  {
   "cell_type": "code",
   "execution_count": null,
   "id": "af41f43a",
   "metadata": {},
   "outputs": [],
   "source": [
    "np.add(arr, arr2)"
   ]
  },
  {
   "cell_type": "code",
   "execution_count": null,
   "id": "dff05cf5",
   "metadata": {},
   "outputs": [],
   "source": [
    "np.multiply(arr, arr2)"
   ]
  },
  {
   "cell_type": "markdown",
   "id": "e8a76019",
   "metadata": {},
   "source": [
    "# Matplotlib"
   ]
  },
  {
   "cell_type": "code",
   "execution_count": 3,
   "id": "a089b747",
   "metadata": {},
   "outputs": [],
   "source": [
    "import numpy as np\n",
    "import matplotlib.pyplot as plt"
   ]
  },
  {
   "cell_type": "markdown",
   "id": "9de4870a",
   "metadata": {},
   "source": [
    "### Normal"
   ]
  },
  {
   "cell_type": "code",
   "execution_count": 22,
   "id": "9bfcf2ed",
   "metadata": {},
   "outputs": [
    {
     "data": {
      "image/png": "[encoded data removed]",
      "text/plain": [
       "<Figure size 720x432 with 4 Axes>"
      ]
     },
     "metadata": {
      "needs_background": "light"
     },
     "output_type": "display_data"
    }
   ],
   "source": [
    "x = np.linspace(0., 5.)\n",
    "y = np.exp(-x)\n",
    "\n",
    "# Una figura con cuatro subgráficas\n",
    "fig, ax = plt.subplots(2,2, figsize=(10,6))\n",
    "\n",
    "# Dibuja cada eje con diferentes escalas\n",
    "ax[0,0].plot(x,y) # Normal\n",
    "ax[0,1].loglog(x,y) #Log en x, Log en y\n",
    "ax[1,0].semilogx(x,y) # Sólo log en x\n",
    "ax[1,1].semilogy(x,y); # Sólo log en y"
   ]
  },
  {
   "cell_type": "markdown",
   "id": "c6cedd8d",
   "metadata": {},
   "source": [
    "### 3d"
   ]
  },
  {
   "cell_type": "code",
   "execution_count": null,
   "id": "5c654f5b",
   "metadata": {},
   "outputs": [],
   "source": [
    "from mpl_toolkits.mplot3d import Axes3D"
   ]
  },
  {
   "cell_type": "code",
   "execution_count": null,
   "id": "49026308",
   "metadata": {},
   "outputs": [],
   "source": [
    "from mpl_toolkits.mplot3d.axes3d import Axes3D\n",
    "from matplotlib import cm\n",
    "\n",
    "fig = plt.figure()\n",
    "ax = fig.add_subplot(1, 1, 1, projection='3d')\n",
    "X = np.arange(-5, 5, 0.25)\n",
    "Y = np.arange(-5, 5, 0.25)\n",
    "\n",
    "X, Y = np.meshgrid(X, Y)\n",
    "R = np.sqrt(X**2 + Y**2)\n",
    "Z = np.sin(R)\n",
    "surf = ax.plot_surface(X, Y, Z, rstride=1, cstride=1, cmap=cm.jet,\n",
    "        linewidth=0, antialiased=False)\n",
    "ax.set_zlim3d(-1.01, 1.01);"
   ]
  },
  {
   "cell_type": "markdown",
   "id": "d53517c2",
   "metadata": {},
   "source": [
    "### Contorno"
   ]
  },
  {
   "cell_type": "code",
   "execution_count": null,
   "id": "4d5a8998",
   "metadata": {},
   "outputs": [],
   "source": [
    "# Representa gráficos 3D pero en contornos...\n",
    "levels = np.arange(-8, 8,0.1 )\n",
    "plt.contour(x,y,V,levels ,linewidths=4,cmap=cm.coolwarm);"
   ]
  },
  {
   "cell_type": "markdown",
   "id": "a6c4d09e",
   "metadata": {},
   "source": [
    "# Algebra Lineal"
   ]
  },
  {
   "cell_type": "code",
   "execution_count": null,
   "id": "27101868",
   "metadata": {},
   "outputs": [],
   "source": [
    "from scipy import linalg# Biblioteca para algebra lineal"
   ]
  },
  {
   "cell_type": "code",
   "execution_count": null,
   "id": "ddff7497",
   "metadata": {},
   "outputs": [],
   "source": [
    "x = linalg.solve(A,b)"
   ]
  },
  {
   "cell_type": "code",
   "execution_count": null,
   "id": "da8f9645",
   "metadata": {},
   "outputs": [],
   "source": [
    "linalg.det(A)"
   ]
  },
  {
   "cell_type": "code",
   "execution_count": null,
   "id": "24ce578b",
   "metadata": {},
   "outputs": [],
   "source": [
    "B = np.arange(1,10).reshape(3,3)\n",
    "det(B)"
   ]
  },
  {
   "cell_type": "markdown",
   "id": "dff6303f",
   "metadata": {},
   "source": [
    "# Regresion Lineal"
   ]
  },
  {
   "cell_type": "code",
   "execution_count": null,
   "id": "f1c217aa",
   "metadata": {},
   "outputs": [],
   "source": [
    "class RegresionLineal:\n",
    "    def __init__(self, alpha=0.03, max_iters=10000, tols=0.00001):\n",
    "        \"\"\"\n",
    "        Parámetros.\n",
    "        ---------------\n",
    "        alpha = Learning rate\n",
    "        max_iters = Número máximo de iteraciones\n",
    "        tols = definición de convergencia\n",
    "        \"\"\"\n",
    "        self.alpha = alpha\n",
    "        self.max_iters = max_iters\n",
    "        self.tols = tols\n",
    "        self.breaking_iteration = None\n",
    "        self.historia = {'costo':[], 'beta':[]}  # Con fines de graficación\n",
    "        \n",
    "    def gradientDescent(self, x, y):\n",
    "        \"\"\"\n",
    "        Parámetros:\n",
    "        ---------------\n",
    "        x = vector de entrenamiento de features\n",
    "        y = vector de entrenamiento de variable a predecir (target)\n",
    "        \"\"\"    \n",
    "        \n",
    "        # ajustamos el vector de features\n",
    "        unos = np.ones((x.shape[0], 1))\n",
    "        Xt = x.reshape(x.shape[0], 1)\n",
    "        Xt = np.concatenate((unos, Xt), axis=1)\n",
    "        \n",
    "        i = 0\n",
    "        prep_J = 0\n",
    "        m, n = Xt.shape\n",
    "        self.beta = np.zeros(n) \n",
    "        \n",
    "        while i < self.max_iters:     \n",
    "            # Actualizamos beta\n",
    "            self.beta = self.beta - self.alpha * self.gradiente(Xt, y)\n",
    "            \n",
    "            J = self.costo(Xt, y)\n",
    "            \n",
    "            if abs(J - prep_J) <= self.tols:\n",
    "                print('La función convergió con beta: %s en la iteración %i' % ( str(self.beta), i ))\n",
    "                self.breaking_iteration = i\n",
    "                break\n",
    "            else:\n",
    "                prep_J = J\n",
    "            \n",
    "            self.historia['costo'].append(J)\n",
    "            self.historia['beta'].append(self.beta)                \n",
    "            i += 1\n",
    "    \n",
    "    def hipotesis(self, x):\n",
    "        return np.dot(x, self.beta)\n",
    "    \n",
    "    def costo(self, x, y):\n",
    "        m = x.shape[0]\n",
    "        error = self.hipotesis(x) - y\n",
    "        return np.dot(error.T, error) / (2 * m) \n",
    "    \n",
    "    def gradiente(self, x, y):\n",
    "        m = x.shape[0]\n",
    "        error = self.hipotesis(x) - y        \n",
    "        return np.dot(x.T, error) / m    "
   ]
  },
  {
   "cell_type": "code",
   "execution_count": null,
   "id": "7c726c8e",
   "metadata": {},
   "outputs": [],
   "source": [
    "def plotGuess(x, y, interceptor, pendiente):\n",
    "    \n",
    "    modelo = lambda x,b,m: b + m*x # función para graficar el modelo\n",
    "    \n",
    "    plt.scatter(X,Y, label=\"data\")\n",
    "    plt.plot(X, modelo(X, interceptor, pendiente), label='Guess')\n",
    "    plt.xlabel('Edad (yr)')\n",
    "    plt.ylabel('Altura (m)')\n",
    "    plt.legend(loc=\"best\")"
   ]
  },
  {
   "cell_type": "code",
   "execution_count": null,
   "id": "22ec2b72",
   "metadata": {},
   "outputs": [],
   "source": [
    "r = RegresionLineal(alpha=0.03, max_iters=10000, tols=0.0000001)\n",
    "r.gradientDescent(X, Y)"
   ]
  },
  {
   "cell_type": "code",
   "execution_count": null,
   "id": "b4353b23",
   "metadata": {},
   "outputs": [],
   "source": [
    "def plotModelo(x,y,rl,iteracion):\n",
    "    modelo = lambda x,b,m: b + m*x # función para graficar el modelo\n",
    "    \n",
    "    _beta = rl.historia['beta'][iteracion]\n",
    "\n",
    "    fig, ax = plt.subplots(1,2, figsize=(10,6))\n",
    "    ax[0].scatter(x,y, label=\"datos\")\n",
    "    ax[0].plot(x, modelo(x, _beta[0], _beta[1]), label=\"int: %1.2f, pen: %1.2f\" % (_beta[0], _beta[1]))\n",
    "    ax[0].set_xlabel('Edad (yr)')\n",
    "    ax[0].set_ylabel('Altura (m)')\n",
    "    ax[0].legend(loc=\"best\")\n",
    "    #ax[0].set_xlim(0, max(x))\n",
    "    #ax[0].set_ylim(0, max(y))\n",
    "    \n",
    "    costo  = rl.historia['costo']\n",
    "    \n",
    "    iteraciones = [i for i in range(0, len(costo))]\n",
    "    ax[1].plot(iteraciones, costo, 'g', label=\"costo\")\n",
    "    ax[1].plot(iteracion, costo[iteracion], 'or', label=\"iteracion\")\n",
    "    ax[1].set_xlabel('Iteraciones')\n",
    "    ax[1].set_ylabel('Costo')\n",
    "    ax[1].legend(loc=\"best\")"
   ]
  },
  {
   "cell_type": "code",
   "execution_count": null,
   "id": "9215d3bd",
   "metadata": {},
   "outputs": [],
   "source": [
    "plotModelo(X,Y, r, 3)"
   ]
  },
  {
   "cell_type": "markdown",
   "id": "50cff8d3",
   "metadata": {},
   "source": [
    "# Metodos Montecarlo "
   ]
  },
  {
   "cell_type": "markdown",
   "id": "b1cb24bb",
   "metadata": {},
   "source": [
    "### Volumen Esfera"
   ]
  },
  {
   "cell_type": "code",
   "execution_count": null,
   "id": "7657afed",
   "metadata": {},
   "outputs": [],
   "source": [
    "volumen_cubo = 2 * 2 * 2 \n",
    "\n",
    "N = 100000\n",
    "count = 0\n",
    "for j in range(N):\n",
    "    point = np.array([2*random.random()-1, 2*random.random()-1, 2*random.random()-1])  # Un punto al azar, random() genera valores entre 0-1\n",
    "    if sum(point**2) < 1:  # x^2 + y^2 + z^2 < 1 ¿Esta dentro?\n",
    "        count = count + 1\n",
    "        \n",
    "fraccion = float(count)/float(N)\n",
    "\n",
    "volumen = fraccion * volumen_cubo\n",
    "\n",
    "volumen_esfera = volumen"
   ]
  },
  {
   "cell_type": "markdown",
   "id": "9b914540",
   "metadata": {},
   "source": [
    "### Integral 0 a pi de senx"
   ]
  },
  {
   "cell_type": "code",
   "execution_count": null,
   "id": "e9fc1c79",
   "metadata": {},
   "outputs": [],
   "source": [
    "area_cubo = 1 * np.pi\n",
    "\n",
    "N = 1000000\n",
    "count = 0\n",
    "for j in range(N):\n",
    "    point = np.array([random.random()*np.pi, random.random()])  # Un punto al azar, random() genera valores entre 0-1\n",
    "    if np.sin(point[0]) > point[1]:  # x^2 + y^2 + z^2 < 1 ¿Esta dentro?\n",
    "        count = count + 1\n",
    "        \n",
    "fraccion = float(count)/float(N)\n",
    "\n",
    "area = fraccion * area_cubo\n",
    "\n",
    "area "
   ]
  },
  {
   "cell_type": "markdown",
   "id": "96d11048",
   "metadata": {},
   "source": [
    "# Metodos Estocásticos"
   ]
  },
  {
   "cell_type": "markdown",
   "id": "b9b91d26",
   "metadata": {},
   "source": [
    "### Caminata Aleatoria"
   ]
  },
  {
   "cell_type": "code",
   "execution_count": 23,
   "id": "d51e9413",
   "metadata": {},
   "outputs": [
    {
     "name": "stdout",
     "output_type": "stream",
     "text": [
      "Populating the interactive namespace from numpy and matplotlib\n"
     ]
    },
    {
     "name": "stderr",
     "output_type": "stream",
     "text": [
      "/opt/conda/lib/python3.9/site-packages/IPython/core/magics/pylab.py:159: UserWarning: pylab import has clobbered these variables: ['sinc', 'var', 'Polygon', 'invert', 'beta', 'product', 'fft', 'eye', 'sinh', 'tan', 'Line2D', 'log', 'binomial', 'trunc', 'partition', 'source', 'cbrt', 'solve', 'gcd', 'Circle', 'exp', 'zeros', 'sin', 'vectorize', 'conjugate', 'roots', 'cosh', 'diag', 'interactive', 'gamma', 'sqrt', 'ones', 'maximum', 'lcm', 'sign', 'cos', 'floor', 'shape', 'prod', 're', 'ifft', 'flatten', 'seterr', 'minimum', 'diff', 'det', 'plot', 'transpose', 'plotting', 'trace', 'nan', 'take', 'pi', 'tanh', 'reshape', 'Number', 'poly']\n",
      "`%matplotlib` prevents importing * from pylab and numpy\n",
      "  warn(\"pylab import has clobbered these variables: %s\"  % clobbered +\n"
     ]
    }
   ],
   "source": [
    "%pylab inline\n",
    "import numpy as np\n",
    "import matplotlib.pyplot as plt\n",
    "import random"
   ]
  },
  {
   "cell_type": "code",
   "execution_count": 30,
   "id": "dac3b3ce",
   "metadata": {},
   "outputs": [],
   "source": [
    "# Inicialización\n",
    "\n",
    "pasos = 200\n",
    "borrachos = 2000\n",
    "\n",
    "posicion = np.zeros([borrachos, pasos])  # todos empiezan en ceros\n",
    "tiempo = range(steps)\n",
    "\n",
    "for borracho in range(borrachos):\n",
    "    for paso in range(1, pasos):\n",
    "        if random.choice(['adelante', u'atrás']) == u'atrás':\n",
    "            posicion[borracho, paso] = posicion[borracho,paso - 1] - 1\n",
    "        else:\n",
    "            posicion[borracho, paso] = posicion[borracho,paso - 1] + 1\n",
    "            \n",
    "\n",
    "promedio = np.mean(posicion, axis=0) # promedio\n",
    "rms = np.sqrt(np.mean(np.square(posicion), axis=0)) # media cuadrática \n",
    "        "
   ]
  },
  {
   "cell_type": "code",
   "execution_count": 32,
   "id": "9bed1492",
   "metadata": {},
   "outputs": [
    {
     "data": {
      "text/plain": [
       "<matplotlib.legend.Legend at 0x7f010b4c4d00>"
      ]
     },
     "execution_count": 32,
     "metadata": {},
     "output_type": "execute_result"
    },
    {
     "data": {
      "image/png": "[encoded data removed]",
      "text/plain": [
       "<Figure size 432x288 with 1 Axes>"
      ]
     },
     "metadata": {
      "needs_background": "light"
     },
     "output_type": "display_data"
    }
   ],
   "source": [
    "plt.plot(tiempo, promedio, label='Avg')\n",
    "plt.plot(tiempo, rms, label='RMS')\n",
    "plt.xlabel('tiempo')\n",
    "plt.ylabel('Promedio, RMS')\n",
    "plt.legend(loc='best')"
   ]
  },
  {
   "cell_type": "code",
   "execution_count": 33,
   "id": "aa532bb5",
   "metadata": {},
   "outputs": [],
   "source": [
    "from scipy.optimize import curve_fit\n",
    "\n",
    "power_law = lambda x, a, b: a*x**b\n",
    "\n",
    "popt, pcov = curve_fit(power_law, tiempo, rms)"
   ]
  },
  {
   "cell_type": "code",
   "execution_count": 37,
   "id": "e5171c12",
   "metadata": {},
   "outputs": [
    {
     "name": "stdout",
     "output_type": "stream",
     "text": [
      "A = 1.003103 +/- 0.003775.\n",
      "B = 0.501685 +/- 0.000780.\n"
     ]
    }
   ],
   "source": [
    "print (\"A = %f +/- %f.\" % (popt[0], sqrt(pcov[0,0])))\n",
    "print (\"B = %f +/- %f.\" % (popt[1], sqrt(pcov[1,1])))"
   ]
  },
  {
   "cell_type": "code",
   "execution_count": 34,
   "id": "950a3a04",
   "metadata": {},
   "outputs": [
    {
     "data": {
      "text/plain": [
       "<matplotlib.legend.Legend at 0x7f0109d990d0>"
      ]
     },
     "execution_count": 34,
     "metadata": {},
     "output_type": "execute_result"
    },
    {
     "data": {
      "image/png": "[encoded data removed]",
      "text/plain": [
       "<Figure size 432x288 with 1 Axes>"
      ]
     },
     "metadata": {
      "needs_background": "light"
     },
     "output_type": "display_data"
    }
   ],
   "source": [
    "plt.plot(tiempo, rms, label=\"RMS\")\n",
    "plt.plot(tiempo,power_law(tiempo, popt[0], popt[1]), label=r\"$y(t) = %f t ^{%f}$\" % (popt[0], popt[1]))\n",
    "plt.xlabel('tiempo')\n",
    "plt.ylabel(r'RMS, Ajuste')\n",
    "plt.legend(loc='best')"
   ]
  },
  {
   "cell_type": "markdown",
   "id": "c2bdabb6",
   "metadata": {},
   "source": [
    "# Metodo de Euler"
   ]
  },
  {
   "cell_type": "code",
   "execution_count": null,
   "id": "b0fcff5b",
   "metadata": {},
   "outputs": [],
   "source": [
    "def euler(y, t, dt, derivadas):        # y=posicion y, t=tiempo del intervalo, dt = tamaño del paso(tau/N-1)\n",
    "    y_next = y + derivadas(y, t)*dt    # derivadas = depende del sistema, hacer funcion que devuelva un arreglo con \n",
    "    return y_next                      # la primera entrada como la primera derivada y segunda entrada como la segunda. "
   ]
  },
  {
   "cell_type": "code",
   "execution_count": null,
   "id": "ab2a636e",
   "metadata": {},
   "outputs": [],
   "source": [
    "def caida_libre(estado, sistema):\n",
    "    g0 = estado[1]\n",
    "    g1 = -9.8\n",
    "    \n",
    "    return np.array([g0, g1])"
   ]
  },
  {
   "cell_type": "code",
   "execution_count": null,
   "id": "26d91d44",
   "metadata": {},
   "outputs": [],
   "source": [
    "def pendulo_lineal(estado, tiempo, g=g, l=longitud):\n",
    "    g0 = estado[1]\n",
    "    g1 = -g/l*estado[0]\n",
    "    return np.array([g0, g1])"
   ]
  },
  {
   "cell_type": "code",
   "execution_count": null,
   "id": "34165917",
   "metadata": {},
   "outputs": [],
   "source": [
    "N = 1000 # número de pasos\n",
    "\n",
    "x0 = 0.0  # posición inicial\n",
    "\n",
    "v0 = 0.0  # velocidad inicial\n",
    "\n",
    "g = -9.8 # aceleración de la gravedad en la tierra\n",
    "\n",
    "tau = 3.0 # tiempo de la simulación\n",
    " \n",
    "dt = tau/(float)(N-1)  # tamaño del paso"
   ]
  },
  {
   "cell_type": "code",
   "execution_count": null,
   "id": "74c51264",
   "metadata": {},
   "outputs": [],
   "source": [
    "time = np.linspace(0, tau, N)"
   ]
  },
  {
   "cell_type": "code",
   "execution_count": null,
   "id": "5ce8da24",
   "metadata": {},
   "outputs": [],
   "source": [
    "y = np.zeros([N,2])\n",
    "\n",
    "y[0,0] = x0\n",
    "y[0,1] = v0"
   ]
  },
  {
   "cell_type": "code",
   "execution_count": null,
   "id": "f1952278",
   "metadata": {},
   "outputs": [],
   "source": [
    "for j in range(N-1):\n",
    "    y[j+1] = euler(y[j], time[j], dt, caida_libre)"
   ]
  },
  {
   "cell_type": "markdown",
   "id": "da104555",
   "metadata": {},
   "source": [
    "# Métodos de Runge-Kutta"
   ]
  },
  {
   "cell_type": "code",
   "execution_count": null,
   "id": "fe12c4c9",
   "metadata": {},
   "outputs": [],
   "source": [
    "def RK2(y, t, dt, derivadas):\n",
    "    k0 = dt*derivadas(y, t)\n",
    "    k1 = dt*derivadas(y + k0, t + dt)\n",
    "    y_next = y + 0.5*(k0 + k1)\n",
    "    \n",
    "    return y_next"
   ]
  },
  {
   "cell_type": "markdown",
   "id": "d7da0e37",
   "metadata": {},
   "source": [
    "# Metodo de Scipy"
   ]
  },
  {
   "cell_type": "code",
   "execution_count": null,
   "id": "662c8af1",
   "metadata": {},
   "outputs": [],
   "source": [
    "import numpy as np\n",
    "import matplotlib.pyplot as plt\n",
    "from scipy.integrate import odeint"
   ]
  },
  {
   "cell_type": "code",
   "execution_count": null,
   "id": "2a72c04a",
   "metadata": {},
   "outputs": [],
   "source": [
    "solucion = odeint(func=pendulo_con_resorte, y0 = y, t = time)"
   ]
  },
  {
   "cell_type": "code",
   "execution_count": null,
   "id": "45b13c0e",
   "metadata": {},
   "outputs": [],
   "source": [
    "time = np.linspace(0,25,N)"
   ]
  },
  {
   "cell_type": "code",
   "execution_count": null,
   "id": "230af88f",
   "metadata": {},
   "outputs": [],
   "source": []
  }
 ],
 "metadata": {
  "kernelspec": {
   "display_name": "Python 3 (ipykernel)",
   "language": "python",
   "name": "python3"
  },
  "language_info": {
   "codemirror_mode": {
    "name": "ipython",
    "version": 3
   },
   "file_extension": ".py",
   "mimetype": "text/x-python",
   "name": "python",
   "nbconvert_exporter": "python",
   "pygments_lexer": "ipython3",
   "version": "3.9.6"
  }
 },
 "nbformat": 4,
 "nbformat_minor": 5
}
